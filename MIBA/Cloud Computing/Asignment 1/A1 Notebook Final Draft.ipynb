{
 "cells": [
  {
   "cell_type": "markdown",
   "metadata": {
    "deletable": false,
    "editable": false,
    "nbgrader": {
     "cell_type": "markdown",
     "checksum": "6bab5dc4a9ae1fb8959e4be26f0ff10a",
     "grade": false,
     "grade_id": "cell-aad0d9693d861220",
     "locked": true,
     "schema_version": 3,
     "solution": false,
     "task": false
    }
   },
   "source": [
    "# Practice: Spotify's API\n",
    "\n",
    "This notebook contains a set of exercises that will guide you through the different steps of this practice exercise. Devise solutions that are code-based, i.e. not hard-coded or manually computed. \n",
    "\n",
    "<div class=\"alert alert-success\">The aim of this exercise is to create and save a dataset containing information about every song in a given playlist by requesting data from Spotify's API.</div>"
   ]
  },
  {
   "cell_type": "markdown",
   "metadata": {
    "deletable": false,
    "editable": false,
    "nbgrader": {
     "cell_type": "markdown",
     "checksum": "e1efaab6e57a3d65ffcb540555ef9a2b",
     "grade": false,
     "grade_id": "cell-e0139011318f6903",
     "locked": true,
     "schema_version": 3,
     "solution": false,
     "task": false
    }
   },
   "source": [
    "## Getting client credentials\n",
    "\n",
    "Spotify's API uses an Authentication scheme called OAuth. Hence, before starting to make requests, you need to get your client credentials to the Spotify API. \n",
    "\n",
    "To do so, you need to have a Spotify account (free or paid). If you don't have one yet, please create a free account before moving on. Once you do, head over to Spotify for Developers, open your [Dashboard](https://developer.spotify.com/dashboard/) and log in with your account. \n",
    "\n",
    "Click on “CREATE APP”. Fill in the name and description for your project. Under \"Redirect URI\", enter \"http://localhost:8888/callback\" (don't worry about this, as it won't be used). Finally, it the tick boxes, select \"Web API\". \n",
    "\n",
    "Once your App has been created, you should see the app name in the Dashboard. Click on it, then on \"Settings\", and then on \"View Client Secret\".  The numbers for “Client ID” and “Client Secret” on correspond to your client credentials."
   ]
  },
  {
   "cell_type": "markdown",
   "metadata": {
    "deletable": false,
    "editable": false,
    "nbgrader": {
     "cell_type": "markdown",
     "checksum": "1497ad5d6fb2d5e0a38f58aa1f5c6d0b",
     "grade": false,
     "grade_id": "cell-4655de3fb67ffa5",
     "locked": true,
     "schema_version": 3,
     "solution": false,
     "task": false
    }
   },
   "source": [
    "<div class=\"alert alert-info\">Create two new variables, <b>client_id</b> and <b>client_secret</b>, that store your ID and Key, respectively</div>"
   ]
  },
  {
   "cell_type": "code",
   "execution_count": 10,
   "metadata": {
    "deletable": false,
    "nbgrader": {
     "cell_type": "code",
     "checksum": "ee951a884eeb6427e80e119f6b2aaf26",
     "grade": false,
     "grade_id": "cell-a8f99e4278237a63",
     "locked": false,
     "schema_version": 3,
     "solution": true,
     "task": false
    }
   },
   "outputs": [],
   "source": [
    "client_id = \"422d134b6fa3479a867c23b9dcdc995a\"\n",
    "client_secret = \"ee08e1fe67884eeba72f65ef60e0b6a7\"\n",
    "\n"
   ]
  },
  {
   "cell_type": "markdown",
   "metadata": {
    "deletable": false,
    "editable": false,
    "nbgrader": {
     "cell_type": "markdown",
     "checksum": "61428db5788c061a0a0c4463bf36744c",
     "grade": false,
     "grade_id": "cell-49933e4db6b9f0fc",
     "locked": true,
     "schema_version": 3,
     "solution": false,
     "task": false
    }
   },
   "source": [
    "These are the keys that you will use throughout the remaining of the assignment.\n",
    "\n"
   ]
  },
  {
   "cell_type": "markdown",
   "metadata": {
    "deletable": false,
    "editable": false,
    "nbgrader": {
     "cell_type": "markdown",
     "checksum": "b4eea321904500000f1b6a7d90bd3c0b",
     "grade": false,
     "grade_id": "cell-64dcea57f1ef17bb",
     "locked": true,
     "schema_version": 3,
     "solution": false,
     "task": false
    }
   },
   "source": [
    "Great! We are good to go. Next step is getting an access token.\n",
    "\n",
    "## Getting an access token / key\n",
    "\n",
    "In order to access the various endpoints of the Spotify API, we need to pass an access token. \n",
    "\n",
    "To get one, we need to pass a ```POST``` request with our client credentials. This request will create a token resource in the server and respond back with it. We can build this ```POST``` request using ```requests``` library. In other words, the first API call in the spotify API is the call to get the access token. \n",
    "\n",
    "<div class=\"alert alert-info\">Run the following cell to built your POST request</div>"
   ]
  },
  {
   "cell_type": "code",
   "execution_count": 11,
   "metadata": {},
   "outputs": [
    {
     "name": "stdout",
     "output_type": "stream",
     "text": [
      "Requirement already satisfied: requests in /opt/anaconda3/envs/myenv/lib/python3.12/site-packages (2.32.3)\n",
      "Requirement already satisfied: charset-normalizer<4,>=2 in /opt/anaconda3/envs/myenv/lib/python3.12/site-packages (from requests) (3.4.0)\n",
      "Requirement already satisfied: idna<4,>=2.5 in /opt/anaconda3/envs/myenv/lib/python3.12/site-packages (from requests) (3.10)\n",
      "Requirement already satisfied: urllib3<3,>=1.21.1 in /opt/anaconda3/envs/myenv/lib/python3.12/site-packages (from requests) (2.2.3)\n",
      "Requirement already satisfied: certifi>=2017.4.17 in /opt/anaconda3/envs/myenv/lib/python3.12/site-packages (from requests) (2024.8.30)\n",
      "Note: you may need to restart the kernel to use updated packages.\n"
     ]
    }
   ],
   "source": [
    "pip install requests"
   ]
  },
  {
   "cell_type": "code",
   "execution_count": 12,
   "metadata": {
    "deletable": false,
    "editable": false,
    "nbgrader": {
     "cell_type": "code",
     "checksum": "6b7aba733f6bd1d2a2761526fe6d951f",
     "grade": false,
     "grade_id": "cell-b8e8ca29681cdd42",
     "locked": true,
     "schema_version": 3,
     "solution": false,
     "task": false
    }
   },
   "outputs": [
    {
     "data": {
      "text/plain": [
       "{'access_token': 'BQAkSqOkzor-YyRgphfWpSJZ9yuhsH1J1aGT7Tw5NPWqBdn9hHJWGSEDWz1NXVp3IbrnBjtvwg-cmq1fyCz6s8a3iGEvlbP53h4CyRON2V4DWXwZb8M',\n",
       " 'token_type': 'Bearer',\n",
       " 'expires_in': 3600}"
      ]
     },
     "execution_count": 12,
     "metadata": {},
     "output_type": "execute_result"
    }
   ],
   "source": [
    "import requests\n",
    "\n",
    "# URL for token resource\n",
    "auth_url = 'https://accounts.spotify.com/api/token'\n",
    "\n",
    "# request body\n",
    "params = {'grant_type': 'client_credentials',\n",
    "          'client_id': client_id,\n",
    "          'client_secret': client_secret}\n",
    "\n",
    "# POST the request\n",
    "response =  requests.post(auth_url, data=params)\n",
    "response.json()"
   ]
  },
  {
   "cell_type": "markdown",
   "metadata": {
    "deletable": false,
    "editable": false,
    "nbgrader": {
     "cell_type": "markdown",
     "checksum": "46f10215736bfccf94a4d67889154434",
     "grade": false,
     "grade_id": "cell-4655de3f67ffa5",
     "locked": true,
     "schema_version": 3,
     "solution": false,
     "task": false
    }
   },
   "source": [
    "Take a look at the response you obtained. The access_token you just retrieved will expire after one hour.\n",
    "\n",
    "<div class=\"alert alert-info\">Retrieve your token from <b>auth_response</b> and save it in a new variable called <b>access_token</b>. </div>\n",
    "\n",
    "<div class=\"alert alert-warning\">Make sure you define the <i>access_token</i> variable such that it will be updated each time your code is run from scratch, i.e. make sure it hasn't expired by the time your code is graded.</div>"
   ]
  },
  {
   "cell_type": "code",
   "execution_count": 13,
   "metadata": {
    "deletable": false,
    "nbgrader": {
     "cell_type": "code",
     "checksum": "7e315e1b5f356569bf6342699c8a86ef",
     "grade": false,
     "grade_id": "cell-a36c1578e8991a09",
     "locked": false,
     "schema_version": 3,
     "solution": true,
     "task": false
    }
   },
   "outputs": [
    {
     "name": "stdout",
     "output_type": "stream",
     "text": [
      "Access Token: BQAkSqOkzor-YyRgphfWpSJZ9yuhsH1J1aGT7Tw5NPWqBdn9hHJWGSEDWz1NXVp3IbrnBjtvwg-cmq1fyCz6s8a3iGEvlbP53h4CyRON2V4DWXwZb8M\n"
     ]
    }
   ],
   "source": [
    "auth_response = response.json()\n",
    "access_token = auth_response['access_token']\n",
    "\n",
    "print(\"Access Token:\", access_token)"
   ]
  },
  {
   "cell_type": "markdown",
   "metadata": {
    "deletable": false,
    "editable": false,
    "nbgrader": {
     "cell_type": "markdown",
     "checksum": "9edab5502cdaef07562131f21a1c962f",
     "grade": false,
     "grade_id": "cell-4933e4db6b9f0fc",
     "locked": true,
     "schema_version": 3,
     "solution": false,
     "task": false
    }
   },
   "source": [
    "As above, the access token will be used throughout the remaining of the assignment.\n",
    "\n"
   ]
  },
  {
   "cell_type": "markdown",
   "metadata": {
    "deletable": false,
    "editable": false,
    "nbgrader": {
     "cell_type": "markdown",
     "checksum": "e8a702de4e29d1c8f452f0323ce314de",
     "grade": false,
     "grade_id": "cell-bf970f92289da11f",
     "locked": true,
     "schema_version": 3,
     "solution": false,
     "task": false
    }
   },
   "source": [
    "This token is your golden ticket to access Spotify's API. A copy of this string is now stored in the server, so that everytime you make a request to the API the server will check that the token you provide and the one it has in store match.\n",
    "\n",
    "<img src=\"https://www.dropbox.com/s/hgb02k4h1mtdv22/header.png?raw=1\" width=\"500\">\n",
    "\n",
    "Similar to the Cohere API, Spotify's API expects you to include your access token in the requests header. We won't use headers in this course and this is the only exception: when some APIs require to specify the authentication in the header. Hence, the header has already been formatted for you. \n",
    "\n",
    "<div class=\"alert alert-info\">Run the following cell to save the header in a new variable so that you can use it later on.</div>"
   ]
  },
  {
   "cell_type": "code",
   "execution_count": 14,
   "metadata": {
    "deletable": false,
    "editable": false,
    "nbgrader": {
     "cell_type": "code",
     "checksum": "285adc76fcbaf501872498b0ab6831e9",
     "grade": false,
     "grade_id": "cell-833fb722a3560430",
     "locked": true,
     "schema_version": 3,
     "solution": false,
     "task": false
    }
   },
   "outputs": [],
   "source": [
    "headers = {'Authorization': 'Bearer {token}'.format(token=access_token)}"
   ]
  },
  {
   "cell_type": "markdown",
   "metadata": {
    "deletable": false,
    "editable": false,
    "nbgrader": {
     "cell_type": "markdown",
     "checksum": "af98ff50781069b34e25c69aca3b3ce4",
     "grade": false,
     "grade_id": "cell-d5a8d2ff0308a4e1",
     "locked": true,
     "schema_version": 3,
     "solution": false,
     "task": false
    }
   },
   "source": [
    "## Poking around\n",
    "\n",
    "Spotify's API provides numerous endpoints to access things like album listings, artist information, playlists, even Spotify-generated audio analysis of individual tracks, which include their time signature or measurements such as their “danceability” or \"loudness\". You can take a look at all the information available by reading the [Docs](https://developer.spotify.com/documentation/web-api/reference/). In this assignment you will use several of these endpoints.\n",
    "\n",
    "In order to get a feel of how the API works, we will begin by making a ```GET``` request to the ```audio-features``` endpoint to extract data for a specific track. In particular, let's retrieve all the information for Radiohead's *Creep* song. \n",
    "\n",
    "The first thing you need is to identify the appropriate URL or path to direct your request to. The urls for all Spotify API endpoints follow the same structure. They all use the base URL for the API and are then defined as a concatenation of ```base_url + endpoint```. Sometimes, you will also need to provide some additional information as part of the URL. In the case of ```audio-features```, however, it is enough with just the ```base_url``` and the ```endpoint``` name.\n",
    "\n",
    "The ```base_url``` is defined below:"
   ]
  },
  {
   "cell_type": "code",
   "execution_count": 15,
   "metadata": {
    "deletable": false,
    "editable": false,
    "nbgrader": {
     "cell_type": "code",
     "checksum": "57e51c779db2018952d09477ceb53b3f",
     "grade": false,
     "grade_id": "cell-d3cb0c4134cdbf9b",
     "locked": true,
     "schema_version": 3,
     "solution": false,
     "task": false
    }
   },
   "outputs": [],
   "source": [
    "base_url = 'https://api.spotify.com/v1'"
   ]
  },
  {
   "cell_type": "markdown",
   "metadata": {
    "deletable": false,
    "editable": false,
    "nbgrader": {
     "cell_type": "markdown",
     "checksum": "c95a00ff95482cfcb3251112ed5cd834",
     "grade": false,
     "grade_id": "cell-4655de3f6ffa5",
     "locked": true,
     "schema_version": 3,
     "solution": false,
     "task": false
    }
   },
   "source": [
    "<div class=\"alert alert-info\">Define the url for the audio-features endpoint by following the instructions above. Store it in a variable called <b>audio_features_endpoint</b>.</div>"
   ]
  },
  {
   "cell_type": "code",
   "execution_count": 16,
   "metadata": {
    "deletable": false,
    "nbgrader": {
     "cell_type": "code",
     "checksum": "51e030ad7bd50b1c76e00f6c9005c5dd",
     "grade": false,
     "grade_id": "cell-ca3d8e649e362237",
     "locked": false,
     "schema_version": 3,
     "solution": true,
     "task": false
    }
   },
   "outputs": [
    {
     "name": "stdout",
     "output_type": "stream",
     "text": [
      "https://api.spotify.com/v1/audio-features\n"
     ]
    }
   ],
   "source": [
    "audio_features_endpoint = f\"{base_url}/audio-features\"\n",
    "\n",
    "print(audio_features_endpoint)"
   ]
  },
  {
   "cell_type": "markdown",
   "metadata": {
    "deletable": false,
    "editable": false,
    "nbgrader": {
     "cell_type": "markdown",
     "checksum": "b00f3bbccaf59c7f65fb111fd7cf0c73",
     "grade": false,
     "grade_id": "cell-abc5bc0d1f57c982",
     "locked": true,
     "schema_version": 3,
     "solution": false,
     "task": false
    }
   },
   "source": [
    "Next thing we need is to fill in the request body. If you check the documentation you'll see that the ```audio-features``` endpoint takes the following query parameters.\n",
    "\n",
    "<img src=\"https://www.dropbox.com/s/s4zs6wlue0u16cu/body.png?raw=1\" width=\"500\">\n",
    "\n",
    "Hence, the final thing you need to extract data about Radiohead's Creep song is to locate its ```id```. This is its unique identifier. Spotify has unique ids for tracks, for artists, for albums, for playlists, etc.\n",
    "\n",
    "![Creep](https://www.dropbox.com/s/kufj6ww2yn069gb/creep.png?raw=1)\n",
    "\n",
    "You can get the ```id``` for any song by going to Spotify, looking for the song, clicking the “…” by the song name, then “Share” and then “Copy Spotify URI”. \n",
    "\n",
    "<div class=\"alert alert-warning\">Note that this procedure also works for retrieving ids for artists, albums or any other resource type. Alternatively, you can also retrieve the id for a song or a playlist by clicking \"...\" by the name, then \"Share\" and the \"Copy Link\". This will return a full link to the resource. The id corresponds to the string right after the last slash sign / and before the ? sign</div>\n",
    "\n",
    "This URI should be a string that includes something like **spotify:track:**, followed by an alphanumeric sequence. This sequence is the ID you are looking for.\n",
    "\n",
    "<div class=\"alert alert-info\">Create a new variable called <b>track_id</b> that stores the ID for Radiohead's song Creep.</div>"
   ]
  },
  {
   "cell_type": "code",
   "execution_count": 17,
   "metadata": {
    "deletable": false,
    "nbgrader": {
     "cell_type": "code",
     "checksum": "e17fd2ba59901974feeb6649ac56a98c",
     "grade": false,
     "grade_id": "cell-a82a3e3a0e9e9b53",
     "locked": false,
     "schema_version": 3,
     "solution": true,
     "task": false
    }
   },
   "outputs": [
    {
     "name": "stdout",
     "output_type": "stream",
     "text": [
      "Track ID: 70LcF31zb1H0PyJoS1Sx1r\n"
     ]
    }
   ],
   "source": [
    "track_id = '70LcF31zb1H0PyJoS1Sx1r'\n",
    "\n",
    "print(f\"Track ID: {track_id}\")"
   ]
  },
  {
   "cell_type": "markdown",
   "metadata": {
    "deletable": false,
    "editable": false,
    "nbgrader": {
     "cell_type": "markdown",
     "checksum": "b23aefb9f4882cae51d7ed3baad9931b",
     "grade": false,
     "grade_id": "cell-b188551976021039",
     "locked": true,
     "schema_version": 3,
     "solution": false,
     "task": false
    }
   },
   "source": [
    "Now that you have the id, let's format the URL of the request and send the actual GET request to retrieve the data:"
   ]
  },
  {
   "cell_type": "code",
   "execution_count": 18,
   "metadata": {
    "deletable": false,
    "nbgrader": {
     "cell_type": "code",
     "checksum": "ce9fb29c199bd5a71d2a894acd4755f2",
     "grade": false,
     "grade_id": "cell-e545a287ebd3c44c",
     "locked": false,
     "schema_version": 3,
     "solution": true,
     "task": false
    }
   },
   "outputs": [
    {
     "name": "stdout",
     "output_type": "stream",
     "text": [
      "{'danceability': 0.515, 'energy': 0.43, 'key': 7, 'loudness': -9.935, 'mode': 1, 'speechiness': 0.0372, 'acousticness': 0.0097, 'instrumentalness': 0.000133, 'liveness': 0.129, 'valence': 0.104, 'tempo': 91.844, 'type': 'audio_features', 'id': '70LcF31zb1H0PyJoS1Sx1r', 'uri': 'spotify:track:70LcF31zb1H0PyJoS1Sx1r', 'track_href': 'https://api.spotify.com/v1/tracks/70LcF31zb1H0PyJoS1Sx1r', 'analysis_url': 'https://api.spotify.com/v1/audio-analysis/70LcF31zb1H0PyJoS1Sx1r', 'duration_ms': 238640, 'time_signature': 4}\n"
     ]
    }
   ],
   "source": [
    "import requests\n",
    "\n",
    "base_url = \"https://api.spotify.com/v1/audio-features\"\n",
    "track_id = \"70LcF31zb1H0PyJoS1Sx1r\"\n",
    "request_url = f\"{base_url}/{track_id}\"\n",
    "access_token = auth_response['access_token']\n",
    "headers = {\n",
    "    \"Authorization\": f\"Bearer {access_token}\"\n",
    "}\n",
    "response = requests.get(request_url, headers=headers)\n",
    "print(response.json())"
   ]
  },
  {
   "cell_type": "markdown",
   "metadata": {
    "deletable": false,
    "editable": false,
    "nbgrader": {
     "cell_type": "markdown",
     "checksum": "9467de516c25f6745a72b2ef1e7d49bf",
     "grade": false,
     "grade_id": "cell-2316de9d4e91bc6f",
     "locked": true,
     "schema_version": 3,
     "solution": false,
     "task": false
    }
   },
   "source": [
    "Now that everything is ready, you can send the actual GET request to retrieve the data.\n",
    "\n",
    "<div class=\"alert alert-info\">Remember to pass the <i>url</i>, the <i>headers</i> and the <i>params</i> dictionary as arguments to the <i>get</i> function. Convert the response to <i>json</i> format and store it in a new variable called <b>creep</b>.</div>"
   ]
  },
  {
   "cell_type": "code",
   "execution_count": 19,
   "metadata": {
    "deletable": false,
    "nbgrader": {
     "cell_type": "code",
     "checksum": "eacef4de7311638564220f7d50dba5a0",
     "grade": false,
     "grade_id": "cell-6374d923d8f04079",
     "locked": false,
     "schema_version": 3,
     "solution": true,
     "task": false
    }
   },
   "outputs": [
    {
     "name": "stdout",
     "output_type": "stream",
     "text": [
      "{'danceability': 0.515, 'energy': 0.43, 'key': 7, 'loudness': -9.935, 'mode': 1, 'speechiness': 0.0372, 'acousticness': 0.0097, 'instrumentalness': 0.000133, 'liveness': 0.129, 'valence': 0.104, 'tempo': 91.844, 'type': 'audio_features', 'id': '70LcF31zb1H0PyJoS1Sx1r', 'uri': 'spotify:track:70LcF31zb1H0PyJoS1Sx1r', 'track_href': 'https://api.spotify.com/v1/tracks/70LcF31zb1H0PyJoS1Sx1r', 'analysis_url': 'https://api.spotify.com/v1/audio-analysis/70LcF31zb1H0PyJoS1Sx1r', 'duration_ms': 238640, 'time_signature': 4}\n"
     ]
    }
   ],
   "source": [
    "import requests\n",
    "\n",
    "base_url = 'https://api.spotify.com/v1/audio-features'\n",
    "track_id = '70LcF31zb1H0PyJoS1Sx1r'\n",
    "request_url = f\"{base_url}/{track_id}\"\n",
    "access_token = auth_response[\"access_token\"]\n",
    "\n",
    "headers = {\n",
    "    'Authorization': f'Bearer {access_token}'\n",
    "}\n",
    "\n",
    "response = requests.get(request_url, headers=headers)\n",
    "creep = response.json()\n",
    "\n",
    "print(creep)"
   ]
  },
  {
   "cell_type": "markdown",
   "metadata": {
    "deletable": false,
    "editable": false,
    "nbgrader": {
     "cell_type": "markdown",
     "checksum": "c02401130bf7126deee5228a054cb612",
     "grade": false,
     "grade_id": "cell-238505ce76d4ddd7",
     "locked": true,
     "schema_version": 3,
     "solution": false,
     "task": false
    }
   },
   "source": [
    "\n",
    "<div class=\"alert alert-warning\">Often Spotify has several instances of a track in its catalogue, each available in a different set of markets. This commonly happens when the track the album is on has been released multiple times under different licenses in different markets. These tracks are linked together so that when a user tries to play a track that isn’t available in their own market, the Spotify mobile, desktop, and web players try to play another instance of the track that is available in the user’s market. Even if this issue won't prevent you from being able to play the  song in your device, it might result in different ids for the different markets. Note that the test below is written taking the values for the Spanish market into account.</div>\n",
    "\n",
    "<div class=\"alert alert-warning\">Note that you can specify the market for this and for future queries through the <i>market</i> parameter.</div>"
   ]
  },
  {
   "cell_type": "markdown",
   "metadata": {
    "deletable": false,
    "editable": false,
    "nbgrader": {
     "cell_type": "markdown",
     "checksum": "d02c9564a4f4c64a0d9e545d52e9472a",
     "grade": false,
     "grade_id": "cell-3790f150aa3bd111",
     "locked": true,
     "schema_version": 3,
     "solution": false,
     "task": false
    }
   },
   "source": [
    "Congrats! You just made your first successful request to Spotify's API! Feel free to take a look at the information included in the response. Pay special attention to the way in which information is presented. Once you are done, let's move on to some actual work!\n",
    "\n",
    "## Getting data from a playlist\n",
    "\n",
    "In the following exercise you will build a dataset containing data about different songs. You can either use a playlist of your own, or use the one mentioned in the documentation.\n",
    "\n",
    "\n",
    "<div class=\"alert alert-info\">Create a variable called <b>playlist_id</b> that stores the id of your playlist of choice.</div>\n",
    "\n",
    "<div class=\"alert alert-warning\">Your <i>playlist_id</i> should contain only alphanumeric characters. This means that characters such as ? $ % & / ! should not be included.</div>"
   ]
  },
  {
   "cell_type": "code",
   "execution_count": 20,
   "metadata": {
    "deletable": false,
    "nbgrader": {
     "cell_type": "code",
     "checksum": "377615366ec30368b06c647398581176",
     "grade": false,
     "grade_id": "cell-ebb88e4537ea519b",
     "locked": false,
     "schema_version": 3,
     "solution": true,
     "task": false
    }
   },
   "outputs": [],
   "source": [
    "playlist_id = \"3MOTj7GejiZWcRj0tubuIz\""
   ]
  },
  {
   "cell_type": "markdown",
   "metadata": {
    "deletable": false,
    "editable": false,
    "nbgrader": {
     "cell_type": "markdown",
     "checksum": "35965b4c55e55a07e1bdaba1cb24da69",
     "grade": false,
     "grade_id": "cell-238505c76d4ddd7",
     "locked": true,
     "schema_version": 3,
     "solution": false,
     "task": false
    }
   },
   "source": [
    "In the following you are going to extract information about the different tracks included in this playlist. Hence, let's make sure that the variabl ei spropelry created and that it refers to an actual id."
   ]
  },
  {
   "cell_type": "markdown",
   "metadata": {
    "deletable": false,
    "editable": false,
    "nbgrader": {
     "cell_type": "markdown",
     "checksum": "1cfa21b57db7c7743507f990bb9e6ce8",
     "grade": false,
     "grade_id": "cell-a618363337ae0889",
     "locked": true,
     "schema_version": 3,
     "solution": false,
     "task": false
    }
   },
   "source": [
    "The next step will be making a request to get full details of the tracks included in your chosen playlist. Remember that you can take a look at all the information available at the different endpoints in Spotify's API by reading the [Docs](https://developer.spotify.com/documentation/web-api/reference/). Locate the right endpoint for your query and read the Docs to find out how to build your request. \n",
    "\n",
    "<div class=\"alert alert-info\"><b>Exercise 1 </b>Write the code to retrieve all the items from your chosen playlist from the <i>tracks</i> endpoint. When making your request don't use any of the optional arguments. Direct your request to the right endpoint instead. Store the <i>raw</i> response in a new variable called <i>playlist_response</i>.\n",
    "</div>\n",
    "\n",
    "<div class=\"alert alert-warning\">To complete this exercise you must use the requests library</div>"
   ]
  },
  {
   "cell_type": "markdown",
   "metadata": {},
   "source": [
    "### Explanation for Exercise 1\n",
    "\n",
    "#### Step 1: Import the necessary library\n",
    "First, I imported the requests library, which is necessary for making HTTP requests to external APIs like Spotify’s.\n",
    "\n",
    "#### Step 2: Define playlist ID and build request URL\n",
    "I set the playlist_id to specify the playlist I want to retrieve, and used the Spotify API’s base URL (https://api.spotify.com/v1/playlists). Then, I combined the base URL, playlist ID, and /tracks endpoint to form the full request URL.\n",
    "\n",
    "#### Step 3: Set up the authorization header\n",
    "Since the API request requires authentication, I retrieved an access token from a previous authorization step and added it to the headers using the Bearer authentication method. This allows Spotify to verify the request is from an authorized user.\n",
    "\n",
    "#### Step 4: Send GET request and retrieve data\n",
    "I used requests.get() to send a GET request to the Spotify API, passing the request URL and headers. The API returns a JSON response, which I stored in the playlist_response variable and printed to display the raw data of the playlist's tracks."
   ]
  },
  {
   "cell_type": "code",
   "execution_count": 21,
   "metadata": {
    "deletable": false,
    "nbgrader": {
     "cell_type": "code",
     "checksum": "3416f03882927817c5373de161fb4a59",
     "grade": false,
     "grade_id": "ex1",
     "locked": false,
     "schema_version": 3,
     "solution": true,
     "task": false
    }
   },
   "outputs": [
    {
     "name": "stdout",
     "output_type": "stream",
     "text": [
      "{'href': 'https://api.spotify.com/v1/playlists/3MOTj7GejiZWcRj0tubuIz/tracks?offset=0&limit=100', 'items': [{'added_at': '2020-03-23T14:35:16Z', 'added_by': {'external_urls': {'spotify': 'https://open.spotify.com/user/hanhen'}, 'href': 'https://api.spotify.com/v1/users/hanhen', 'id': 'hanhen', 'type': 'user', 'uri': 'spotify:user:hanhen'}, 'is_local': False, 'primary_color': None, 'track': {'preview_url': 'https://p.scdn.co/mp3-preview/88c2919932a103ca121ae37f04d086462ee26c22?cid=422d134b6fa3479a867c23b9dcdc995a', 'available_markets': ['AR', 'AU', 'BE', 'BO', 'BR', 'BG', 'CA', 'CL', 'CO', 'CR', 'CY', 'CZ', 'DK', 'DO', 'EC', 'EE', 'SV', 'FI', 'FR', 'GR', 'GT', 'HN', 'HK', 'HU', 'IS', 'IT', 'LV', 'LT', 'LU', 'MY', 'MT', 'MX', 'NL', 'NZ', 'NI', 'NO', 'PA', 'PY', 'PE', 'PH', 'PL', 'PT', 'SG', 'SK', 'ES', 'SE', 'CH', 'TW', 'TR', 'UY', 'AD', 'LI', 'MC', 'ID', 'TH', 'VN', 'RO', 'IL', 'ZA', 'SA', 'AE', 'BH', 'QA', 'OM', 'KW', 'EG', 'MA', 'DZ', 'TN', 'LB', 'JO', 'PS', 'IN', 'BY', 'KZ', 'MD', 'UA', 'AL', 'BA', 'HR', 'ME', 'MK', 'RS', 'SI', 'KR', 'BD', 'PK', 'LK', 'GH', 'KE', 'NG', 'TZ', 'UG', 'AG', 'AM', 'BS', 'BB', 'BZ', 'BT', 'BW', 'BF', 'CV', 'CW', 'DM', 'FJ', 'GM', 'GE', 'GD', 'GW', 'GY', 'HT', 'JM', 'KI', 'LS', 'LR', 'MW', 'MV', 'ML', 'MH', 'FM', 'NA', 'NR', 'NE', 'PW', 'PG', 'WS', 'SM', 'ST', 'SN', 'SC', 'SL', 'SB', 'KN', 'LC', 'VC', 'SR', 'TL', 'TO', 'TT', 'TV', 'VU', 'AZ', 'BN', 'BI', 'KH', 'CM', 'TD', 'KM', 'GQ', 'SZ', 'GA', 'GN', 'KG', 'LA', 'MO', 'MR', 'MN', 'NP', 'RW', 'TG', 'UZ', 'ZW', 'BJ', 'MG', 'MU', 'MZ', 'AO', 'CI', 'DJ', 'ZM', 'CD', 'CG', 'IQ', 'LY', 'TJ', 'VE', 'ET', 'XK'], 'explicit': False, 'type': 'track', 'episode': False, 'track': True, 'album': {'available_markets': ['AR', 'AU', 'BE', 'BO', 'BR', 'BG', 'CA', 'CL', 'CO', 'CR', 'CY', 'CZ', 'DK', 'DO', 'EC', 'EE', 'SV', 'FI', 'FR', 'GR', 'GT', 'HN', 'HK', 'HU', 'IS', 'IT', 'LV', 'LT', 'LU', 'MY', 'MT', 'MX', 'NL', 'NZ', 'NI', 'NO', 'PA', 'PY', 'PE', 'PH', 'PL', 'PT', 'SG', 'SK', 'ES', 'SE', 'CH', 'TW', 'TR', 'UY', 'AD', 'LI', 'MC', 'ID', 'TH', 'VN', 'RO', 'IL', 'ZA', 'SA', 'AE', 'BH', 'QA', 'OM', 'KW', 'EG', 'MA', 'DZ', 'TN', 'LB', 'JO', 'PS', 'IN', 'BY', 'KZ', 'MD', 'UA', 'AL', 'BA', 'HR', 'ME', 'MK', 'RS', 'SI', 'KR', 'BD', 'PK', 'LK', 'GH', 'KE', 'NG', 'TZ', 'UG', 'AG', 'AM', 'BS', 'BB', 'BZ', 'BT', 'BW', 'BF', 'CV', 'CW', 'DM', 'FJ', 'GM', 'GE', 'GD', 'GW', 'GY', 'HT', 'JM', 'KI', 'LS', 'LR', 'MW', 'MV', 'ML', 'MH', 'FM', 'NA', 'NR', 'NE', 'PW', 'PG', 'WS', 'SM', 'ST', 'SN', 'SC', 'SL', 'SB', 'KN', 'LC', 'VC', 'SR', 'TL', 'TO', 'TT', 'TV', 'VU', 'AZ', 'BN', 'BI', 'KH', 'CM', 'TD', 'KM', 'GQ', 'SZ', 'GA', 'GN', 'KG', 'LA', 'MO', 'MR', 'MN', 'NP', 'RW', 'TG', 'UZ', 'ZW', 'BJ', 'MG', 'MU', 'MZ', 'AO', 'CI', 'DJ', 'ZM', 'CD', 'CG', 'IQ', 'LY', 'TJ', 'VE', 'ET', 'XK'], 'type': 'album', 'album_type': 'compilation', 'href': 'https://api.spotify.com/v1/albums/31eVy40izB7C3hHSIDIMYd', 'id': '31eVy40izB7C3hHSIDIMYd', 'images': [{'height': 640, 'url': 'https://i.scdn.co/image/ab67616d0000b273d1d06d587afd9243ba7a4cd8', 'width': 640}, {'height': 300, 'url': 'https://i.scdn.co/image/ab67616d00001e02d1d06d587afd9243ba7a4cd8', 'width': 300}, {'height': 64, 'url': 'https://i.scdn.co/image/ab67616d00004851d1d06d587afd9243ba7a4cd8', 'width': 64}], 'name': 'Stone Roses', 'release_date': '1989-05-02', 'release_date_precision': 'day', 'uri': 'spotify:album:31eVy40izB7C3hHSIDIMYd', 'artists': [{'external_urls': {'spotify': 'https://open.spotify.com/artist/1lYT0A0LV5DUfxr6doRP3d'}, 'href': 'https://api.spotify.com/v1/artists/1lYT0A0LV5DUfxr6doRP3d', 'id': '1lYT0A0LV5DUfxr6doRP3d', 'name': 'The Stone Roses', 'type': 'artist', 'uri': 'spotify:artist:1lYT0A0LV5DUfxr6doRP3d'}], 'external_urls': {'spotify': 'https://open.spotify.com/album/31eVy40izB7C3hHSIDIMYd'}, 'total_tracks': 11}, 'artists': [{'external_urls': {'spotify': 'https://open.spotify.com/artist/1lYT0A0LV5DUfxr6doRP3d'}, 'href': 'https://api.spotify.com/v1/artists/1lYT0A0LV5DUfxr6doRP3d', 'id': '1lYT0A0LV5DUfxr6doRP3d', 'name': 'The Stone Roses', 'type': 'artist', 'uri': 'spotify:artist:1lYT0A0LV5DUfxr6doRP3d'}], 'disc_number': 1, 'track_number': 11, 'duration_ms': 494133, 'external_ids': {'isrc': 'GBAHJ9500041'}, 'external_urls': {'spotify': 'https://open.spotify.com/track/6TazaeclCwSz1tdtFMwZ8w'}, 'href': 'https://api.spotify.com/v1/tracks/6TazaeclCwSz1tdtFMwZ8w', 'id': '6TazaeclCwSz1tdtFMwZ8w', 'name': 'I Am The Resurrection', 'popularity': 32, 'uri': 'spotify:track:6TazaeclCwSz1tdtFMwZ8w', 'is_local': False}, 'video_thumbnail': {'url': None}}, {'added_at': '2020-03-23T14:35:39Z', 'added_by': {'external_urls': {'spotify': 'https://open.spotify.com/user/hanhen'}, 'href': 'https://api.spotify.com/v1/users/hanhen', 'id': 'hanhen', 'type': 'user', 'uri': 'spotify:user:hanhen'}, 'is_local': False, 'primary_color': None, 'track': {'preview_url': None, 'available_markets': ['AR', 'AU', 'AT', 'BE', 'BO', 'BR', 'BG', 'CA', 'CL', 'CO', 'CR', 'CY', 'CZ', 'DK', 'DO', 'DE', 'EC', 'EE', 'SV', 'FI', 'FR', 'GR', 'GT', 'HN', 'HK', 'HU', 'IS', 'IE', 'IT', 'LV', 'LT', 'LU', 'MY', 'MT', 'MX', 'NL', 'NZ', 'NI', 'NO', 'PA', 'PY', 'PE', 'PH', 'PL', 'PT', 'SG', 'SK', 'ES', 'SE', 'CH', 'TW', 'TR', 'UY', 'US', 'GB', 'AD', 'LI', 'MC', 'ID', 'JP', 'TH', 'VN', 'RO', 'IL', 'ZA', 'SA', 'AE', 'BH', 'QA', 'OM', 'KW', 'EG', 'MA', 'DZ', 'TN', 'LB', 'JO', 'PS', 'IN', 'BY', 'KZ', 'MD', 'UA', 'AL', 'BA', 'HR', 'ME', 'MK', 'RS', 'SI', 'KR', 'BD', 'PK', 'LK', 'GH', 'KE', 'NG', 'TZ', 'UG', 'AG', 'AM', 'BS', 'BB', 'BZ', 'BT', 'BW', 'BF', 'CV', 'CW', 'DM', 'FJ', 'GM', 'GE', 'GD', 'GW', 'GY', 'HT', 'JM', 'KI', 'LS', 'LR', 'MW', 'MV', 'ML', 'MH', 'FM', 'NA', 'NR', 'NE', 'PW', 'PG', 'WS', 'SM', 'ST', 'SN', 'SC', 'SL', 'SB', 'KN', 'LC', 'VC', 'SR', 'TL', 'TO', 'TT', 'TV', 'VU', 'AZ', 'BN', 'BI', 'KH', 'CM', 'TD', 'KM', 'GQ', 'SZ', 'GA', 'GN', 'KG', 'LA', 'MO', 'MR', 'MN', 'NP', 'RW', 'TG', 'UZ', 'ZW', 'BJ', 'MG', 'MU', 'MZ', 'AO', 'CI', 'DJ', 'ZM', 'CD', 'CG', 'IQ', 'LY', 'TJ', 'VE', 'ET', 'XK'], 'explicit': False, 'type': 'track', 'episode': False, 'track': True, 'album': {'available_markets': ['AR', 'AU', 'AT', 'BE', 'BO', 'BR', 'BG', 'CA', 'CL', 'CO', 'CR', 'CY', 'CZ', 'DK', 'DO', 'DE', 'EC', 'EE', 'SV', 'FI', 'FR', 'GR', 'GT', 'HN', 'HK', 'HU', 'IS', 'IE', 'IT', 'LV', 'LT', 'LU', 'MY', 'MT', 'MX', 'NL', 'NZ', 'NI', 'NO', 'PA', 'PY', 'PE', 'PH', 'PL', 'PT', 'SG', 'SK', 'ES', 'SE', 'CH', 'TW', 'TR', 'UY', 'US', 'GB', 'AD', 'LI', 'MC', 'ID', 'JP', 'TH', 'VN', 'RO', 'IL', 'ZA', 'SA', 'AE', 'BH', 'QA', 'OM', 'KW', 'EG', 'MA', 'DZ', 'TN', 'LB', 'JO', 'PS', 'IN', 'BY', 'KZ', 'MD', 'UA', 'AL', 'BA', 'HR', 'ME', 'MK', 'RS', 'SI', 'KR', 'BD', 'PK', 'LK', 'GH', 'KE', 'NG', 'TZ', 'UG', 'AG', 'AM', 'BS', 'BB', 'BZ', 'BT', 'BW', 'BF', 'CV', 'CW', 'DM', 'FJ', 'GM', 'GE', 'GD', 'GW', 'GY', 'HT', 'JM', 'KI', 'LS', 'LR', 'MW', 'MV', 'ML', 'MH', 'FM', 'NA', 'NR', 'NE', 'PW', 'PG', 'WS', 'SM', 'ST', 'SN', 'SC', 'SL', 'SB', 'KN', 'LC', 'VC', 'SR', 'TL', 'TO', 'TT', 'TV', 'VU', 'AZ', 'BN', 'BI', 'KH', 'CM', 'TD', 'KM', 'GQ', 'SZ', 'GA', 'GN', 'KG', 'LA', 'MO', 'MR', 'MN', 'NP', 'RW', 'TG', 'UZ', 'ZW', 'BJ', 'MG', 'MU', 'MZ', 'AO', 'CI', 'DJ', 'ZM', 'CD', 'CG', 'IQ', 'LY', 'TJ', 'VE', 'ET', 'XK'], 'type': 'album', 'album_type': 'album', 'href': 'https://api.spotify.com/v1/albums/3DE7aixVSE6DZ6ALYIztT0', 'id': '3DE7aixVSE6DZ6ALYIztT0', 'images': [{'height': 640, 'url': 'https://i.scdn.co/image/ab67616d0000b273f166d26426702aae822d0080', 'width': 640}, {'height': 300, 'url': 'https://i.scdn.co/image/ab67616d00001e02f166d26426702aae822d0080', 'width': 300}, {'height': 64, 'url': 'https://i.scdn.co/image/ab67616d00004851f166d26426702aae822d0080', 'width': 64}], 'name': 'Second Coming', 'release_date': '1994-12-05', 'release_date_precision': 'day', 'uri': 'spotify:album:3DE7aixVSE6DZ6ALYIztT0', 'artists': [{'external_urls': {'spotify': 'https://open.spotify.com/artist/1lYT0A0LV5DUfxr6doRP3d'}, 'href': 'https://api.spotify.com/v1/artists/1lYT0A0LV5DUfxr6doRP3d', 'id': '1lYT0A0LV5DUfxr6doRP3d', 'name': 'The Stone Roses', 'type': 'artist', 'uri': 'spotify:artist:1lYT0A0LV5DUfxr6doRP3d'}], 'external_urls': {'spotify': 'https://open.spotify.com/album/3DE7aixVSE6DZ6ALYIztT0'}, 'total_tracks': 13}, 'artists': [{'external_urls': {'spotify': 'https://open.spotify.com/artist/1lYT0A0LV5DUfxr6doRP3d'}, 'href': 'https://api.spotify.com/v1/artists/1lYT0A0LV5DUfxr6doRP3d', 'id': '1lYT0A0LV5DUfxr6doRP3d', 'name': 'The Stone Roses', 'type': 'artist', 'uri': 'spotify:artist:1lYT0A0LV5DUfxr6doRP3d'}], 'disc_number': 1, 'track_number': 12, 'duration_ms': 347093, 'external_ids': {'isrc': 'USIR10001070'}, 'external_urls': {'spotify': 'https://open.spotify.com/track/6JvEXmRh3l2acBzvqavgT9'}, 'href': 'https://api.spotify.com/v1/tracks/6JvEXmRh3l2acBzvqavgT9', 'id': '6JvEXmRh3l2acBzvqavgT9', 'name': 'Love Spreads', 'popularity': 55, 'uri': 'spotify:track:6JvEXmRh3l2acBzvqavgT9', 'is_local': False}, 'video_thumbnail': {'url': None}}, {'added_at': '2020-03-23T14:35:47Z', 'added_by': {'external_urls': {'spotify': 'https://open.spotify.com/user/hanhen'}, 'href': 'https://api.spotify.com/v1/users/hanhen', 'id': 'hanhen', 'type': 'user', 'uri': 'spotify:user:hanhen'}, 'is_local': False, 'primary_color': None, 'track': {'preview_url': None, 'available_markets': ['AR', 'AU', 'AT', 'BE', 'BO', 'BR', 'BG', 'CA', 'CL', 'CO', 'CR', 'CY', 'CZ', 'DK', 'DO', 'DE', 'EC', 'EE', 'SV', 'FI', 'FR', 'GR', 'GT', 'HN', 'HK', 'HU', 'IS', 'IE', 'IT', 'LV', 'LT', 'LU', 'MY', 'MT', 'MX', 'NL', 'NZ', 'NI', 'NO', 'PA', 'PY', 'PE', 'PH', 'PL', 'PT', 'SG', 'SK', 'ES', 'SE', 'CH', 'TW', 'TR', 'UY', 'US', 'GB', 'AD', 'LI', 'MC', 'ID', 'JP', 'TH', 'VN', 'RO', 'IL', 'ZA', 'SA', 'AE', 'BH', 'QA', 'OM', 'KW', 'EG', 'MA', 'DZ', 'TN', 'LB', 'JO', 'PS', 'IN', 'BY', 'KZ', 'MD', 'UA', 'AL', 'BA', 'HR', 'ME', 'MK', 'RS', 'SI', 'KR', 'BD', 'PK', 'LK', 'GH', 'KE', 'NG', 'TZ', 'UG', 'AG', 'AM', 'BS', 'BB', 'BZ', 'BT', 'BW', 'BF', 'CV', 'CW', 'DM', 'FJ', 'GM', 'GE', 'GD', 'GW', 'GY', 'HT', 'JM', 'KI', 'LS', 'LR', 'MW', 'MV', 'ML', 'MH', 'FM', 'NA', 'NR', 'NE', 'PW', 'PG', 'WS', 'SM', 'ST', 'SN', 'SC', 'SL', 'SB', 'KN', 'LC', 'VC', 'SR', 'TL', 'TO', 'TT', 'TV', 'VU', 'AZ', 'BN', 'BI', 'KH', 'CM', 'TD', 'KM', 'GQ', 'SZ', 'GA', 'GN', 'KG', 'LA', 'MO', 'MR', 'MN', 'NP', 'RW', 'TG', 'UZ', 'ZW', 'BJ', 'MG', 'MU', 'MZ', 'AO', 'CI', 'DJ', 'ZM', 'CD', 'CG', 'IQ', 'LY', 'TJ', 'VE', 'ET', 'XK'], 'explicit': False, 'type': 'track', 'episode': False, 'track': True, 'album': {'available_markets': ['AR', 'AU', 'AT', 'BE', 'BO', 'BR', 'BG', 'CA', 'CL', 'CO', 'CR', 'CY', 'CZ', 'DK', 'DO', 'DE', 'EC', 'EE', 'SV', 'FI', 'FR', 'GR', 'GT', 'HN', 'HK', 'HU', 'IS', 'IE', 'IT', 'LV', 'LT', 'LU', 'MY', 'MT', 'MX', 'NL', 'NZ', 'NI', 'NO', 'PA', 'PY', 'PE', 'PH', 'PL', 'PT', 'SG', 'SK', 'ES', 'SE', 'CH', 'TW', 'TR', 'UY', 'US', 'GB', 'AD', 'LI', 'MC', 'ID', 'JP', 'TH', 'VN', 'RO', 'IL', 'ZA', 'SA', 'AE', 'BH', 'QA', 'OM', 'KW', 'EG', 'MA', 'DZ', 'TN', 'LB', 'JO', 'PS', 'IN', 'BY', 'KZ', 'MD', 'UA', 'AL', 'BA', 'HR', 'ME', 'MK', 'RS', 'SI', 'KR', 'BD', 'PK', 'LK', 'GH', 'KE', 'NG', 'TZ', 'UG', 'AG', 'AM', 'BS', 'BB', 'BZ', 'BT', 'BW', 'BF', 'CV', 'CW', 'DM', 'FJ', 'GM', 'GE', 'GD', 'GW', 'GY', 'HT', 'JM', 'KI', 'LS', 'LR', 'MW', 'MV', 'ML', 'MH', 'FM', 'NA', 'NR', 'NE', 'PW', 'PG', 'WS', 'SM', 'ST', 'SN', 'SC', 'SL', 'SB', 'KN', 'LC', 'VC', 'SR', 'TL', 'TO', 'TT', 'TV', 'VU', 'AZ', 'BN', 'BI', 'KH', 'CM', 'TD', 'KM', 'GQ', 'SZ', 'GA', 'GN', 'KG', 'LA', 'MO', 'MR', 'MN', 'NP', 'RW', 'TG', 'UZ', 'ZW', 'BJ', 'MG', 'MU', 'MZ', 'AO', 'CI', 'DJ', 'ZM', 'CD', 'CG', 'IQ', 'LY', 'TJ', 'VE', 'ET', 'XK'], 'type': 'album', 'album_type': 'album', 'href': 'https://api.spotify.com/v1/albums/3DE7aixVSE6DZ6ALYIztT0', 'id': '3DE7aixVSE6DZ6ALYIztT0', 'images': [{'height': 640, 'url': 'https://i.scdn.co/image/ab67616d0000b273f166d26426702aae822d0080', 'width': 640}, {'height': 300, 'url': 'https://i.scdn.co/image/ab67616d00001e02f166d26426702aae822d0080', 'width': 300}, {'height': 64, 'url': 'https://i.scdn.co/image/ab67616d00004851f166d26426702aae822d0080', 'width': 64}], 'name': 'Second Coming', 'release_date': '1994-12-05', 'release_date_precision': 'day', 'uri': 'spotify:album:3DE7aixVSE6DZ6ALYIztT0', 'artists': [{'external_urls': {'spotify': 'https://open.spotify.com/artist/1lYT0A0LV5DUfxr6doRP3d'}, 'href': 'https://api.spotify.com/v1/artists/1lYT0A0LV5DUfxr6doRP3d', 'id': '1lYT0A0LV5DUfxr6doRP3d', 'name': 'The Stone Roses', 'type': 'artist', 'uri': 'spotify:artist:1lYT0A0LV5DUfxr6doRP3d'}], 'external_urls': {'spotify': 'https://open.spotify.com/album/3DE7aixVSE6DZ6ALYIztT0'}, 'total_tracks': 13}, 'artists': [{'external_urls': {'spotify': 'https://open.spotify.com/artist/1lYT0A0LV5DUfxr6doRP3d'}, 'href': 'https://api.spotify.com/v1/artists/1lYT0A0LV5DUfxr6doRP3d', 'id': '1lYT0A0LV5DUfxr6doRP3d', 'name': 'The Stone Roses', 'type': 'artist', 'uri': 'spotify:artist:1lYT0A0LV5DUfxr6doRP3d'}], 'disc_number': 1, 'track_number': 1, 'duration_ms': 679933, 'external_ids': {'isrc': 'USIR10001060'}, 'external_urls': {'spotify': 'https://open.spotify.com/track/4GFHpWe89M0FqmujjwQpsu'}, 'href': 'https://api.spotify.com/v1/tracks/4GFHpWe89M0FqmujjwQpsu', 'id': '4GFHpWe89M0FqmujjwQpsu', 'name': 'Breaking Into Heaven', 'popularity': 38, 'uri': 'spotify:track:4GFHpWe89M0FqmujjwQpsu', 'is_local': False}, 'video_thumbnail': {'url': None}}, {'added_at': '2020-03-23T14:35:54Z', 'added_by': {'external_urls': {'spotify': 'https://open.spotify.com/user/hanhen'}, 'href': 'https://api.spotify.com/v1/users/hanhen', 'id': 'hanhen', 'type': 'user', 'uri': 'spotify:user:hanhen'}, 'is_local': False, 'primary_color': None, 'track': {'preview_url': 'https://p.scdn.co/mp3-preview/71b71b47d8a64c05bef4b4c69426df3732d54223?cid=422d134b6fa3479a867c23b9dcdc995a', 'available_markets': ['AR', 'AU', 'AT', 'BE', 'BO', 'BR', 'BG', 'CA', 'CL', 'CO', 'CR', 'CY', 'CZ', 'DK', 'DO', 'DE', 'EC', 'EE', 'SV', 'FI', 'FR', 'GR', 'GT', 'HN', 'HK', 'HU', 'IS', 'IE', 'IT', 'LV', 'LT', 'LU', 'MY', 'MT', 'MX', 'NL', 'NZ', 'NI', 'NO', 'PA', 'PY', 'PE', 'PH', 'PL', 'PT', 'SG', 'SK', 'ES', 'SE', 'CH', 'TW', 'TR', 'UY', 'US', 'GB', 'AD', 'LI', 'MC', 'ID', 'JP', 'TH', 'VN', 'RO', 'IL', 'ZA', 'SA', 'AE', 'BH', 'QA', 'OM', 'KW', 'EG', 'MA', 'DZ', 'TN', 'LB', 'JO', 'PS', 'IN', 'BY', 'KZ', 'MD', 'UA', 'AL', 'BA', 'HR', 'ME', 'MK', 'RS', 'SI', 'KR', 'BD', 'PK', 'LK', 'GH', 'KE', 'NG', 'TZ', 'UG', 'AG', 'AM', 'BS', 'BB', 'BZ', 'BT', 'BW', 'BF', 'CV', 'CW', 'DM', 'FJ', 'GM', 'GE', 'GD', 'GW', 'GY', 'HT', 'JM', 'KI', 'LS', 'LR', 'MW', 'MV', 'ML', 'MH', 'FM', 'NA', 'NR', 'NE', 'PW', 'PG', 'PR', 'WS', 'SM', 'ST', 'SN', 'SC', 'SL', 'SB', 'KN', 'LC', 'VC', 'SR', 'TL', 'TO', 'TT', 'TV', 'VU', 'AZ', 'BN', 'BI', 'KH', 'CM', 'TD', 'KM', 'GQ', 'SZ', 'GA', 'GN', 'KG', 'LA', 'MO', 'MR', 'MN', 'NP', 'RW', 'TG', 'UZ', 'ZW', 'BJ', 'MG', 'MU', 'MZ', 'AO', 'CI', 'DJ', 'ZM', 'CD', 'CG', 'IQ', 'LY', 'TJ', 'VE', 'ET', 'XK'], 'explicit': False, 'type': 'track', 'episode': False, 'track': True, 'album': {'available_markets': ['AR', 'AU', 'AT', 'BE', 'BO', 'BR', 'BG', 'CA', 'CL', 'CO', 'CR', 'CY', 'CZ', 'DK', 'DO', 'DE', 'EC', 'EE', 'SV', 'FI', 'FR', 'GR', 'GT', 'HN', 'HK', 'HU', 'IS', 'IE', 'IT', 'LV', 'LT', 'LU', 'MY', 'MT', 'MX', 'NL', 'NZ', 'NI', 'NO', 'PA', 'PY', 'PE', 'PH', 'PL', 'PT', 'SG', 'SK', 'ES', 'SE', 'CH', 'TW', 'TR', 'UY', 'US', 'GB', 'AD', 'LI', 'MC', 'ID', 'JP', 'TH', 'VN', 'RO', 'IL', 'ZA', 'SA', 'AE', 'BH', 'QA', 'OM', 'KW', 'EG', 'MA', 'DZ', 'TN', 'LB', 'JO', 'PS', 'IN', 'BY', 'KZ', 'MD', 'UA', 'AL', 'BA', 'HR', 'ME', 'MK', 'RS', 'SI', 'KR', 'BD', 'PK', 'LK', 'GH', 'KE', 'NG', 'TZ', 'UG', 'AG', 'AM', 'BS', 'BB', 'BZ', 'BT', 'BW', 'BF', 'CV', 'CW', 'DM', 'FJ', 'GM', 'GE', 'GD', 'GW', 'GY', 'HT', 'JM', 'KI', 'LS', 'LR', 'MW', 'MV', 'ML', 'MH', 'FM', 'NA', 'NR', 'NE', 'PW', 'PG', 'PR', 'WS', 'SM', 'ST', 'SN', 'SC', 'SL', 'SB', 'KN', 'LC', 'VC', 'SR', 'TL', 'TO', 'TT', 'TV', 'VU', 'AZ', 'BN', 'BI', 'KH', 'CM', 'TD', 'KM', 'GQ', 'SZ', 'GA', 'GN', 'KG', 'LA', 'MO', 'MR', 'MN', 'NP', 'RW', 'TG', 'UZ', 'ZW', 'BJ', 'MG', 'MU', 'MZ', 'AO', 'CI', 'DJ', 'ZM', 'CD', 'CG', 'IQ', 'LY', 'TJ', 'VE', 'ET', 'XK'], 'type': 'album', 'album_type': 'album', 'href': 'https://api.spotify.com/v1/albums/0um9FI6BLBldL5POP4D4Cw', 'id': '0um9FI6BLBldL5POP4D4Cw', 'images': [{'height': 640, 'url': 'https://i.scdn.co/image/ab67616d0000b273cf1f6466a493eb73d6d9d280', 'width': 640}, {'height': 300, 'url': 'https://i.scdn.co/image/ab67616d00001e02cf1f6466a493eb73d6d9d280', 'width': 300}, {'height': 64, 'url': 'https://i.scdn.co/image/ab67616d00004851cf1f6466a493eb73d6d9d280', 'width': 64}], 'name': 'The Stone Roses', 'release_date': '1989-05-02', 'release_date_precision': 'day', 'uri': 'spotify:album:0um9FI6BLBldL5POP4D4Cw', 'artists': [{'external_urls': {'spotify': 'https://open.spotify.com/artist/1lYT0A0LV5DUfxr6doRP3d'}, 'href': 'https://api.spotify.com/v1/artists/1lYT0A0LV5DUfxr6doRP3d', 'id': '1lYT0A0LV5DUfxr6doRP3d', 'name': 'The Stone Roses', 'type': 'artist', 'uri': 'spotify:artist:1lYT0A0LV5DUfxr6doRP3d'}], 'external_urls': {'spotify': 'https://open.spotify.com/album/0um9FI6BLBldL5POP4D4Cw'}, 'total_tracks': 12}, 'artists': [{'external_urls': {'spotify': 'https://open.spotify.com/artist/1lYT0A0LV5DUfxr6doRP3d'}, 'href': 'https://api.spotify.com/v1/artists/1lYT0A0LV5DUfxr6doRP3d', 'id': '1lYT0A0LV5DUfxr6doRP3d', 'name': 'The Stone Roses', 'type': 'artist', 'uri': 'spotify:artist:1lYT0A0LV5DUfxr6doRP3d'}], 'disc_number': 1, 'track_number': 12, 'duration_ms': 594453, 'external_ids': {'isrc': 'GBAHJ0900020'}, 'external_urls': {'spotify': 'https://open.spotify.com/track/2mv6GY70UsHiTCGQZ4JfgC'}, 'href': 'https://api.spotify.com/v1/tracks/2mv6GY70UsHiTCGQZ4JfgC', 'id': '2mv6GY70UsHiTCGQZ4JfgC', 'name': 'Fools Gold - Remastered 2009', 'popularity': 56, 'uri': 'spotify:track:2mv6GY70UsHiTCGQZ4JfgC', 'is_local': False}, 'video_thumbnail': {'url': None}}, {'added_at': '2020-03-23T14:36:08Z', 'added_by': {'external_urls': {'spotify': 'https://open.spotify.com/user/hanhen'}, 'href': 'https://api.spotify.com/v1/users/hanhen', 'id': 'hanhen', 'type': 'user', 'uri': 'spotify:user:hanhen'}, 'is_local': False, 'primary_color': None, 'track': {'preview_url': 'https://p.scdn.co/mp3-preview/8a99f243b8a22641dfbaba2371b1433f6f9477c2?cid=422d134b6fa3479a867c23b9dcdc995a', 'available_markets': ['AR', 'AU', 'BE', 'BO', 'BR', 'BG', 'CA', 'CL', 'CO', 'CR', 'CY', 'CZ', 'DK', 'DO', 'EC', 'EE', 'SV', 'FI', 'FR', 'GR', 'GT', 'HN', 'HK', 'HU', 'IS', 'IT', 'LV', 'LT', 'LU', 'MY', 'MT', 'MX', 'NL', 'NZ', 'NI', 'NO', 'PA', 'PY', 'PE', 'PH', 'PL', 'PT', 'SG', 'SK', 'ES', 'SE', 'CH', 'TW', 'TR', 'UY', 'AD', 'LI', 'MC', 'ID', 'TH', 'VN', 'RO', 'IL', 'ZA', 'SA', 'AE', 'BH', 'QA', 'OM', 'KW', 'EG', 'MA', 'DZ', 'TN', 'LB', 'JO', 'PS', 'IN', 'BY', 'KZ', 'MD', 'UA', 'AL', 'BA', 'HR', 'ME', 'MK', 'RS', 'SI', 'KR', 'BD', 'PK', 'LK', 'GH', 'KE', 'NG', 'TZ', 'UG', 'AG', 'AM', 'BS', 'BB', 'BZ', 'BT', 'BW', 'BF', 'CV', 'CW', 'DM', 'FJ', 'GM', 'GE', 'GD', 'GW', 'GY', 'HT', 'JM', 'KI', 'LS', 'LR', 'MW', 'MV', 'ML', 'MH', 'FM', 'NA', 'NR', 'NE', 'PW', 'PG', 'WS', 'SM', 'ST', 'SN', 'SC', 'SL', 'SB', 'KN', 'LC', 'VC', 'SR', 'TL', 'TO', 'TT', 'TV', 'VU', 'AZ', 'BN', 'BI', 'KH', 'CM', 'TD', 'KM', 'GQ', 'SZ', 'GA', 'GN', 'KG', 'LA', 'MO', 'MR', 'MN', 'NP', 'RW', 'TG', 'UZ', 'ZW', 'BJ', 'MG', 'MU', 'MZ', 'AO', 'CI', 'DJ', 'ZM', 'CD', 'CG', 'IQ', 'LY', 'TJ', 'VE', 'ET', 'XK'], 'explicit': False, 'type': 'track', 'episode': False, 'track': True, 'album': {'available_markets': ['AR', 'AU', 'BE', 'BO', 'BR', 'BG', 'CA', 'CL', 'CO', 'CR', 'CY', 'CZ', 'DK', 'DO', 'EC', 'EE', 'SV', 'FI', 'FR', 'GR', 'GT', 'HN', 'HK', 'HU', 'IS', 'IT', 'LV', 'LT', 'LU', 'MY', 'MT', 'MX', 'NL', 'NZ', 'NI', 'NO', 'PA', 'PY', 'PE', 'PH', 'PL', 'PT', 'SG', 'SK', 'ES', 'SE', 'CH', 'TW', 'TR', 'UY', 'AD', 'LI', 'MC', 'ID', 'TH', 'VN', 'RO', 'IL', 'ZA', 'SA', 'AE', 'BH', 'QA', 'OM', 'KW', 'EG', 'MA', 'DZ', 'TN', 'LB', 'JO', 'PS', 'IN', 'BY', 'KZ', 'MD', 'UA', 'AL', 'BA', 'HR', 'ME', 'MK', 'RS', 'SI', 'KR', 'BD', 'PK', 'LK', 'GH', 'KE', 'NG', 'TZ', 'UG', 'AG', 'AM', 'BS', 'BB', 'BZ', 'BT', 'BW', 'BF', 'CV', 'CW', 'DM', 'FJ', 'GM', 'GE', 'GD', 'GW', 'GY', 'HT', 'JM', 'KI', 'LS', 'LR', 'MW', 'MV', 'ML', 'MH', 'FM', 'NA', 'NR', 'NE', 'PW', 'PG', 'WS', 'SM', 'ST', 'SN', 'SC', 'SL', 'SB', 'KN', 'LC', 'VC', 'SR', 'TL', 'TO', 'TT', 'TV', 'VU', 'AZ', 'BN', 'BI', 'KH', 'CM', 'TD', 'KM', 'GQ', 'SZ', 'GA', 'GN', 'KG', 'LA', 'MO', 'MR', 'MN', 'NP', 'RW', 'TG', 'UZ', 'ZW', 'BJ', 'MG', 'MU', 'MZ', 'AO', 'CI', 'DJ', 'ZM', 'CD', 'CG', 'IQ', 'LY', 'TJ', 'VE', 'ET', 'XK'], 'type': 'album', 'album_type': 'compilation', 'href': 'https://api.spotify.com/v1/albums/31eVy40izB7C3hHSIDIMYd', 'id': '31eVy40izB7C3hHSIDIMYd', 'images': [{'height': 640, 'url': 'https://i.scdn.co/image/ab67616d0000b273d1d06d587afd9243ba7a4cd8', 'width': 640}, {'height': 300, 'url': 'https://i.scdn.co/image/ab67616d00001e02d1d06d587afd9243ba7a4cd8', 'width': 300}, {'height': 64, 'url': 'https://i.scdn.co/image/ab67616d00004851d1d06d587afd9243ba7a4cd8', 'width': 64}], 'name': 'Stone Roses', 'release_date': '1989-05-02', 'release_date_precision': 'day', 'uri': 'spotify:album:31eVy40izB7C3hHSIDIMYd', 'artists': [{'external_urls': {'spotify': 'https://open.spotify.com/artist/1lYT0A0LV5DUfxr6doRP3d'}, 'href': 'https://api.spotify.com/v1/artists/1lYT0A0LV5DUfxr6doRP3d', 'id': '1lYT0A0LV5DUfxr6doRP3d', 'name': 'The Stone Roses', 'type': 'artist', 'uri': 'spotify:artist:1lYT0A0LV5DUfxr6doRP3d'}], 'external_urls': {'spotify': 'https://open.spotify.com/album/31eVy40izB7C3hHSIDIMYd'}, 'total_tracks': 11}, 'artists': [{'external_urls': {'spotify': 'https://open.spotify.com/artist/1lYT0A0LV5DUfxr6doRP3d'}, 'href': 'https://api.spotify.com/v1/artists/1lYT0A0LV5DUfxr6doRP3d', 'id': '1lYT0A0LV5DUfxr6doRP3d', 'name': 'The Stone Roses', 'type': 'artist', 'uri': 'spotify:artist:1lYT0A0LV5DUfxr6doRP3d'}], 'disc_number': 1, 'track_number': 1, 'duration_ms': 292040, 'external_ids': {'isrc': 'GBAHJ9500039'}, 'external_urls': {'spotify': 'https://open.spotify.com/track/1U3XgEP8gEpn7jdzoeamci'}, 'href': 'https://api.spotify.com/v1/tracks/1U3XgEP8gEpn7jdzoeamci', 'id': '1U3XgEP8gEpn7jdzoeamci', 'name': 'I Wanna Be Adored', 'popularity': 35, 'uri': 'spotify:track:1U3XgEP8gEpn7jdzoeamci', 'is_local': False}, 'video_thumbnail': {'url': None}}, {'added_at': '2020-03-23T14:36:17Z', 'added_by': {'external_urls': {'spotify': 'https://open.spotify.com/user/hanhen'}, 'href': 'https://api.spotify.com/v1/users/hanhen', 'id': 'hanhen', 'type': 'user', 'uri': 'spotify:user:hanhen'}, 'is_local': False, 'primary_color': None, 'track': {'preview_url': None, 'available_markets': ['AR', 'AU', 'AT', 'BE', 'BO', 'BR', 'BG', 'CA', 'CL', 'CO', 'CR', 'CY', 'CZ', 'DK', 'DO', 'DE', 'EC', 'EE', 'SV', 'FI', 'FR', 'GR', 'GT', 'HN', 'HK', 'HU', 'IS', 'IE', 'IT', 'LV', 'LT', 'LU', 'MY', 'MT', 'MX', 'NL', 'NZ', 'NI', 'NO', 'PA', 'PY', 'PE', 'PH', 'PL', 'PT', 'SG', 'SK', 'ES', 'SE', 'CH', 'TW', 'TR', 'UY', 'US', 'GB', 'AD', 'LI', 'MC', 'ID', 'JP', 'TH', 'VN', 'RO', 'IL', 'ZA', 'SA', 'AE', 'BH', 'QA', 'OM', 'KW', 'EG', 'MA', 'DZ', 'TN', 'LB', 'JO', 'PS', 'IN', 'BY', 'KZ', 'MD', 'UA', 'AL', 'BA', 'HR', 'ME', 'MK', 'RS', 'SI', 'KR', 'BD', 'PK', 'LK', 'GH', 'KE', 'NG', 'TZ', 'UG', 'AG', 'AM', 'BS', 'BB', 'BZ', 'BT', 'BW', 'BF', 'CV', 'CW', 'DM', 'FJ', 'GM', 'GE', 'GD', 'GW', 'GY', 'HT', 'JM', 'KI', 'LS', 'LR', 'MW', 'MV', 'ML', 'MH', 'FM', 'NA', 'NR', 'NE', 'PW', 'PG', 'WS', 'SM', 'ST', 'SN', 'SC', 'SL', 'SB', 'KN', 'LC', 'VC', 'SR', 'TL', 'TO', 'TT', 'TV', 'VU', 'AZ', 'BN', 'BI', 'KH', 'CM', 'TD', 'KM', 'GQ', 'SZ', 'GA', 'GN', 'KG', 'LA', 'MO', 'MR', 'MN', 'NP', 'RW', 'TG', 'UZ', 'ZW', 'BJ', 'MG', 'MU', 'MZ', 'AO', 'CI', 'DJ', 'ZM', 'CD', 'CG', 'IQ', 'LY', 'TJ', 'VE', 'ET', 'XK'], 'explicit': False, 'type': 'track', 'episode': False, 'track': True, 'album': {'available_markets': ['AR', 'AU', 'AT', 'BE', 'BO', 'BR', 'BG', 'CA', 'CL', 'CO', 'CR', 'CY', 'CZ', 'DK', 'DO', 'DE', 'EC', 'EE', 'SV', 'FI', 'FR', 'GR', 'GT', 'HN', 'HK', 'HU', 'IS', 'IE', 'IT', 'LV', 'LT', 'LU', 'MY', 'MT', 'MX', 'NL', 'NZ', 'NI', 'NO', 'PA', 'PY', 'PE', 'PH', 'PL', 'PT', 'SG', 'SK', 'ES', 'SE', 'CH', 'TW', 'TR', 'UY', 'US', 'GB', 'AD', 'LI', 'MC', 'ID', 'JP', 'TH', 'VN', 'RO', 'IL', 'ZA', 'SA', 'AE', 'BH', 'QA', 'OM', 'KW', 'EG', 'MA', 'DZ', 'TN', 'LB', 'JO', 'PS', 'IN', 'BY', 'KZ', 'MD', 'UA', 'AL', 'BA', 'HR', 'ME', 'MK', 'RS', 'SI', 'KR', 'BD', 'PK', 'LK', 'GH', 'KE', 'NG', 'TZ', 'UG', 'AG', 'AM', 'BS', 'BB', 'BZ', 'BT', 'BW', 'BF', 'CV', 'CW', 'DM', 'FJ', 'GM', 'GE', 'GD', 'GW', 'GY', 'HT', 'JM', 'KI', 'LS', 'LR', 'MW', 'MV', 'ML', 'MH', 'FM', 'NA', 'NR', 'NE', 'PW', 'PG', 'WS', 'SM', 'ST', 'SN', 'SC', 'SL', 'SB', 'KN', 'LC', 'VC', 'SR', 'TL', 'TO', 'TT', 'TV', 'VU', 'AZ', 'BN', 'BI', 'KH', 'CM', 'TD', 'KM', 'GQ', 'SZ', 'GA', 'GN', 'KG', 'LA', 'MO', 'MR', 'MN', 'NP', 'RW', 'TG', 'UZ', 'ZW', 'BJ', 'MG', 'MU', 'MZ', 'AO', 'CI', 'DJ', 'ZM', 'CD', 'CG', 'IQ', 'LY', 'TJ', 'VE', 'ET', 'XK'], 'type': 'album', 'album_type': 'album', 'href': 'https://api.spotify.com/v1/albums/3DE7aixVSE6DZ6ALYIztT0', 'id': '3DE7aixVSE6DZ6ALYIztT0', 'images': [{'height': 640, 'url': 'https://i.scdn.co/image/ab67616d0000b273f166d26426702aae822d0080', 'width': 640}, {'height': 300, 'url': 'https://i.scdn.co/image/ab67616d00001e02f166d26426702aae822d0080', 'width': 300}, {'height': 64, 'url': 'https://i.scdn.co/image/ab67616d00004851f166d26426702aae822d0080', 'width': 64}], 'name': 'Second Coming', 'release_date': '1994-12-05', 'release_date_precision': 'day', 'uri': 'spotify:album:3DE7aixVSE6DZ6ALYIztT0', 'artists': [{'external_urls': {'spotify': 'https://open.spotify.com/artist/1lYT0A0LV5DUfxr6doRP3d'}, 'href': 'https://api.spotify.com/v1/artists/1lYT0A0LV5DUfxr6doRP3d', 'id': '1lYT0A0LV5DUfxr6doRP3d', 'name': 'The Stone Roses', 'type': 'artist', 'uri': 'spotify:artist:1lYT0A0LV5DUfxr6doRP3d'}], 'external_urls': {'spotify': 'https://open.spotify.com/album/3DE7aixVSE6DZ6ALYIztT0'}, 'total_tracks': 13}, 'artists': [{'external_urls': {'spotify': 'https://open.spotify.com/artist/1lYT0A0LV5DUfxr6doRP3d'}, 'href': 'https://api.spotify.com/v1/artists/1lYT0A0LV5DUfxr6doRP3d', 'id': '1lYT0A0LV5DUfxr6doRP3d', 'name': 'The Stone Roses', 'type': 'artist', 'uri': 'spotify:artist:1lYT0A0LV5DUfxr6doRP3d'}], 'disc_number': 1, 'track_number': 10, 'duration_ms': 410400, 'external_ids': {'isrc': 'USIR10001071'}, 'external_urls': {'spotify': 'https://open.spotify.com/track/0mBkX7mNz4cHK8zzXzDzcp'}, 'href': 'https://api.spotify.com/v1/tracks/0mBkX7mNz4cHK8zzXzDzcp', 'id': '0mBkX7mNz4cHK8zzXzDzcp', 'name': 'Tears', 'popularity': 34, 'uri': 'spotify:track:0mBkX7mNz4cHK8zzXzDzcp', 'is_local': False}, 'video_thumbnail': {'url': None}}, {'added_at': '2020-03-23T14:36:23Z', 'added_by': {'external_urls': {'spotify': 'https://open.spotify.com/user/hanhen'}, 'href': 'https://api.spotify.com/v1/users/hanhen', 'id': 'hanhen', 'type': 'user', 'uri': 'spotify:user:hanhen'}, 'is_local': False, 'primary_color': None, 'track': {'preview_url': None, 'available_markets': ['AR', 'AU', 'AT', 'BE', 'BO', 'BR', 'BG', 'CA', 'CL', 'CO', 'CR', 'CY', 'CZ', 'DK', 'DO', 'DE', 'EC', 'EE', 'SV', 'FI', 'FR', 'GR', 'GT', 'HN', 'HK', 'HU', 'IS', 'IE', 'IT', 'LV', 'LT', 'LU', 'MY', 'MT', 'MX', 'NL', 'NZ', 'NI', 'NO', 'PA', 'PY', 'PE', 'PH', 'PL', 'PT', 'SG', 'SK', 'ES', 'SE', 'CH', 'TW', 'TR', 'UY', 'US', 'GB', 'AD', 'LI', 'MC', 'ID', 'JP', 'TH', 'VN', 'RO', 'IL', 'ZA', 'SA', 'AE', 'BH', 'QA', 'OM', 'KW', 'EG', 'MA', 'DZ', 'TN', 'LB', 'JO', 'PS', 'IN', 'BY', 'KZ', 'MD', 'UA', 'AL', 'BA', 'HR', 'ME', 'MK', 'RS', 'SI', 'KR', 'BD', 'PK', 'LK', 'GH', 'KE', 'NG', 'TZ', 'UG', 'AG', 'AM', 'BS', 'BB', 'BZ', 'BT', 'BW', 'BF', 'CV', 'CW', 'DM', 'FJ', 'GM', 'GE', 'GD', 'GW', 'GY', 'HT', 'JM', 'KI', 'LS', 'LR', 'MW', 'MV', 'ML', 'MH', 'FM', 'NA', 'NR', 'NE', 'PW', 'PG', 'WS', 'SM', 'ST', 'SN', 'SC', 'SL', 'SB', 'KN', 'LC', 'VC', 'SR', 'TL', 'TO', 'TT', 'TV', 'VU', 'AZ', 'BN', 'BI', 'KH', 'CM', 'TD', 'KM', 'GQ', 'SZ', 'GA', 'GN', 'KG', 'LA', 'MO', 'MR', 'MN', 'NP', 'RW', 'TG', 'UZ', 'ZW', 'BJ', 'MG', 'MU', 'MZ', 'AO', 'CI', 'DJ', 'ZM', 'CD', 'CG', 'IQ', 'LY', 'TJ', 'VE', 'ET', 'XK'], 'explicit': False, 'type': 'track', 'episode': False, 'track': True, 'album': {'available_markets': ['AR', 'AU', 'AT', 'BE', 'BO', 'BR', 'BG', 'CA', 'CL', 'CO', 'CR', 'CY', 'CZ', 'DK', 'DO', 'DE', 'EC', 'EE', 'SV', 'FI', 'FR', 'GR', 'GT', 'HN', 'HK', 'HU', 'IS', 'IE', 'IT', 'LV', 'LT', 'LU', 'MY', 'MT', 'MX', 'NL', 'NZ', 'NI', 'NO', 'PA', 'PY', 'PE', 'PH', 'PL', 'PT', 'SG', 'SK', 'ES', 'SE', 'CH', 'TW', 'TR', 'UY', 'US', 'GB', 'AD', 'LI', 'MC', 'ID', 'JP', 'TH', 'VN', 'RO', 'IL', 'ZA', 'SA', 'AE', 'BH', 'QA', 'OM', 'KW', 'EG', 'MA', 'DZ', 'TN', 'LB', 'JO', 'PS', 'IN', 'BY', 'KZ', 'MD', 'UA', 'AL', 'BA', 'HR', 'ME', 'MK', 'RS', 'SI', 'KR', 'BD', 'PK', 'LK', 'GH', 'KE', 'NG', 'TZ', 'UG', 'AG', 'AM', 'BS', 'BB', 'BZ', 'BT', 'BW', 'BF', 'CV', 'CW', 'DM', 'FJ', 'GM', 'GE', 'GD', 'GW', 'GY', 'HT', 'JM', 'KI', 'LS', 'LR', 'MW', 'MV', 'ML', 'MH', 'FM', 'NA', 'NR', 'NE', 'PW', 'PG', 'WS', 'SM', 'ST', 'SN', 'SC', 'SL', 'SB', 'KN', 'LC', 'VC', 'SR', 'TL', 'TO', 'TT', 'TV', 'VU', 'AZ', 'BN', 'BI', 'KH', 'CM', 'TD', 'KM', 'GQ', 'SZ', 'GA', 'GN', 'KG', 'LA', 'MO', 'MR', 'MN', 'NP', 'RW', 'TG', 'UZ', 'ZW', 'BJ', 'MG', 'MU', 'MZ', 'AO', 'CI', 'DJ', 'ZM', 'CD', 'CG', 'IQ', 'LY', 'TJ', 'VE', 'ET', 'XK'], 'type': 'album', 'album_type': 'album', 'href': 'https://api.spotify.com/v1/albums/3DE7aixVSE6DZ6ALYIztT0', 'id': '3DE7aixVSE6DZ6ALYIztT0', 'images': [{'height': 640, 'url': 'https://i.scdn.co/image/ab67616d0000b273f166d26426702aae822d0080', 'width': 640}, {'height': 300, 'url': 'https://i.scdn.co/image/ab67616d00001e02f166d26426702aae822d0080', 'width': 300}, {'height': 64, 'url': 'https://i.scdn.co/image/ab67616d00004851f166d26426702aae822d0080', 'width': 64}], 'name': 'Second Coming', 'release_date': '1994-12-05', 'release_date_precision': 'day', 'uri': 'spotify:album:3DE7aixVSE6DZ6ALYIztT0', 'artists': [{'external_urls': {'spotify': 'https://open.spotify.com/artist/1lYT0A0LV5DUfxr6doRP3d'}, 'href': 'https://api.spotify.com/v1/artists/1lYT0A0LV5DUfxr6doRP3d', 'id': '1lYT0A0LV5DUfxr6doRP3d', 'name': 'The Stone Roses', 'type': 'artist', 'uri': 'spotify:artist:1lYT0A0LV5DUfxr6doRP3d'}], 'external_urls': {'spotify': 'https://open.spotify.com/album/3DE7aixVSE6DZ6ALYIztT0'}, 'total_tracks': 13}, 'artists': [{'external_urls': {'spotify': 'https://open.spotify.com/artist/1lYT0A0LV5DUfxr6doRP3d'}, 'href': 'https://api.spotify.com/v1/artists/1lYT0A0LV5DUfxr6doRP3d', 'id': '1lYT0A0LV5DUfxr6doRP3d', 'name': 'The Stone Roses', 'type': 'artist', 'uri': 'spotify:artist:1lYT0A0LV5DUfxr6doRP3d'}], 'disc_number': 1, 'track_number': 2, 'duration_ms': 309866, 'external_ids': {'isrc': 'USIR10001061'}, 'external_urls': {'spotify': 'https://open.spotify.com/track/7loPCjbb4gKEEV5bOBImUm'}, 'href': 'https://api.spotify.com/v1/tracks/7loPCjbb4gKEEV5bOBImUm', 'id': '7loPCjbb4gKEEV5bOBImUm', 'name': 'Driving South', 'popularity': 41, 'uri': 'spotify:track:7loPCjbb4gKEEV5bOBImUm', 'is_local': False}, 'video_thumbnail': {'url': None}}, {'added_at': '2020-03-23T14:36:29Z', 'added_by': {'external_urls': {'spotify': 'https://open.spotify.com/user/hanhen'}, 'href': 'https://api.spotify.com/v1/users/hanhen', 'id': 'hanhen', 'type': 'user', 'uri': 'spotify:user:hanhen'}, 'is_local': False, 'primary_color': None, 'track': {'preview_url': 'https://p.scdn.co/mp3-preview/ef31c100e1a4721b0d6778686a0461afd1583535?cid=422d134b6fa3479a867c23b9dcdc995a', 'available_markets': ['AR', 'AU', 'AT', 'BE', 'BO', 'BR', 'BG', 'CA', 'CL', 'CO', 'CR', 'CY', 'CZ', 'DK', 'DO', 'DE', 'EC', 'EE', 'SV', 'FI', 'FR', 'GR', 'GT', 'HN', 'HK', 'HU', 'IS', 'IE', 'IT', 'LV', 'LT', 'LU', 'MY', 'MT', 'MX', 'NL', 'NZ', 'NI', 'NO', 'PA', 'PY', 'PE', 'PH', 'PL', 'PT', 'SG', 'SK', 'ES', 'SE', 'CH', 'TW', 'TR', 'UY', 'US', 'GB', 'AD', 'LI', 'MC', 'ID', 'JP', 'TH', 'VN', 'RO', 'IL', 'ZA', 'SA', 'AE', 'BH', 'QA', 'OM', 'KW', 'EG', 'MA', 'DZ', 'TN', 'LB', 'JO', 'PS', 'IN', 'BY', 'KZ', 'MD', 'UA', 'AL', 'BA', 'HR', 'ME', 'MK', 'RS', 'SI', 'KR', 'BD', 'PK', 'LK', 'GH', 'KE', 'NG', 'TZ', 'UG', 'AG', 'AM', 'BS', 'BB', 'BZ', 'BT', 'BW', 'BF', 'CV', 'CW', 'DM', 'FJ', 'GM', 'GE', 'GD', 'GW', 'GY', 'HT', 'JM', 'KI', 'LS', 'LR', 'MW', 'MV', 'ML', 'MH', 'FM', 'NA', 'NR', 'NE', 'PW', 'PG', 'PR', 'WS', 'SM', 'ST', 'SN', 'SC', 'SL', 'SB', 'KN', 'LC', 'VC', 'SR', 'TL', 'TO', 'TT', 'TV', 'VU', 'AZ', 'BN', 'BI', 'KH', 'CM', 'TD', 'KM', 'GQ', 'SZ', 'GA', 'GN', 'KG', 'LA', 'MO', 'MR', 'MN', 'NP', 'RW', 'TG', 'UZ', 'ZW', 'BJ', 'MG', 'MU', 'MZ', 'AO', 'CI', 'DJ', 'ZM', 'CD', 'CG', 'IQ', 'LY', 'TJ', 'VE', 'ET', 'XK'], 'explicit': False, 'type': 'track', 'episode': False, 'track': True, 'album': {'available_markets': ['AR', 'AU', 'AT', 'BE', 'BO', 'BR', 'BG', 'CA', 'CL', 'CO', 'CR', 'CY', 'CZ', 'DK', 'DO', 'DE', 'EC', 'EE', 'SV', 'FI', 'FR', 'GR', 'GT', 'HN', 'HK', 'HU', 'IS', 'IE', 'IT', 'LV', 'LT', 'LU', 'MY', 'MT', 'MX', 'NL', 'NZ', 'NI', 'NO', 'PA', 'PY', 'PE', 'PH', 'PL', 'PT', 'SG', 'SK', 'ES', 'SE', 'CH', 'TW', 'TR', 'UY', 'US', 'GB', 'AD', 'LI', 'MC', 'ID', 'JP', 'TH', 'VN', 'RO', 'IL', 'ZA', 'SA', 'AE', 'BH', 'QA', 'OM', 'KW', 'EG', 'MA', 'DZ', 'TN', 'LB', 'JO', 'PS', 'IN', 'BY', 'KZ', 'MD', 'UA', 'AL', 'BA', 'HR', 'ME', 'MK', 'RS', 'SI', 'KR', 'BD', 'PK', 'LK', 'GH', 'KE', 'NG', 'TZ', 'UG', 'AG', 'AM', 'BS', 'BB', 'BZ', 'BT', 'BW', 'BF', 'CV', 'CW', 'DM', 'FJ', 'GM', 'GE', 'GD', 'GW', 'GY', 'HT', 'JM', 'KI', 'LS', 'LR', 'MW', 'MV', 'ML', 'MH', 'FM', 'NA', 'NR', 'NE', 'PW', 'PG', 'PR', 'WS', 'SM', 'ST', 'SN', 'SC', 'SL', 'SB', 'KN', 'LC', 'VC', 'SR', 'TL', 'TO', 'TT', 'TV', 'VU', 'AZ', 'BN', 'BI', 'KH', 'CM', 'TD', 'KM', 'GQ', 'SZ', 'GA', 'GN', 'KG', 'LA', 'MO', 'MR', 'MN', 'NP', 'RW', 'TG', 'UZ', 'ZW', 'BJ', 'MG', 'MU', 'MZ', 'AO', 'CI', 'DJ', 'ZM', 'CD', 'CG', 'IQ', 'LY', 'TJ', 'VE', 'ET', 'XK'], 'type': 'album', 'album_type': 'album', 'href': 'https://api.spotify.com/v1/albums/0um9FI6BLBldL5POP4D4Cw', 'id': '0um9FI6BLBldL5POP4D4Cw', 'images': [{'height': 640, 'url': 'https://i.scdn.co/image/ab67616d0000b273cf1f6466a493eb73d6d9d280', 'width': 640}, {'height': 300, 'url': 'https://i.scdn.co/image/ab67616d00001e02cf1f6466a493eb73d6d9d280', 'width': 300}, {'height': 64, 'url': 'https://i.scdn.co/image/ab67616d00004851cf1f6466a493eb73d6d9d280', 'width': 64}], 'name': 'The Stone Roses', 'release_date': '1989-05-02', 'release_date_precision': 'day', 'uri': 'spotify:album:0um9FI6BLBldL5POP4D4Cw', 'artists': [{'external_urls': {'spotify': 'https://open.spotify.com/artist/1lYT0A0LV5DUfxr6doRP3d'}, 'href': 'https://api.spotify.com/v1/artists/1lYT0A0LV5DUfxr6doRP3d', 'id': '1lYT0A0LV5DUfxr6doRP3d', 'name': 'The Stone Roses', 'type': 'artist', 'uri': 'spotify:artist:1lYT0A0LV5DUfxr6doRP3d'}], 'external_urls': {'spotify': 'https://open.spotify.com/album/0um9FI6BLBldL5POP4D4Cw'}, 'total_tracks': 12}, 'artists': [{'external_urls': {'spotify': 'https://open.spotify.com/artist/1lYT0A0LV5DUfxr6doRP3d'}, 'href': 'https://api.spotify.com/v1/artists/1lYT0A0LV5DUfxr6doRP3d', 'id': '1lYT0A0LV5DUfxr6doRP3d', 'name': 'The Stone Roses', 'type': 'artist', 'uri': 'spotify:artist:1lYT0A0LV5DUfxr6doRP3d'}], 'disc_number': 1, 'track_number': 3, 'duration_ms': 278826, 'external_ids': {'isrc': 'GBAHJ0900003'}, 'external_urls': {'spotify': 'https://open.spotify.com/track/4CWgqHRJjDLd2PCedMz8eY'}, 'href': 'https://api.spotify.com/v1/tracks/4CWgqHRJjDLd2PCedMz8eY', 'id': '4CWgqHRJjDLd2PCedMz8eY', 'name': 'Waterfall - Remastered 2009', 'popularity': 59, 'uri': 'spotify:track:4CWgqHRJjDLd2PCedMz8eY', 'is_local': False}, 'video_thumbnail': {'url': None}}, {'added_at': '2020-03-23T14:36:48Z', 'added_by': {'external_urls': {'spotify': 'https://open.spotify.com/user/hanhen'}, 'href': 'https://api.spotify.com/v1/users/hanhen', 'id': 'hanhen', 'type': 'user', 'uri': 'spotify:user:hanhen'}, 'is_local': False, 'primary_color': None, 'track': {'preview_url': 'https://p.scdn.co/mp3-preview/20b0be09ede76712f4d76f4ad05b0f25a8423dea?cid=422d134b6fa3479a867c23b9dcdc995a', 'available_markets': ['AR', 'AU', 'AT', 'BE', 'BO', 'BR', 'BG', 'CA', 'CL', 'CO', 'CR', 'CY', 'CZ', 'DK', 'DO', 'DE', 'EC', 'EE', 'SV', 'FI', 'FR', 'GR', 'GT', 'HN', 'HK', 'HU', 'IS', 'IE', 'IT', 'LV', 'LT', 'LU', 'MY', 'MT', 'MX', 'NL', 'NZ', 'NI', 'NO', 'PA', 'PY', 'PE', 'PH', 'PL', 'PT', 'SG', 'SK', 'ES', 'SE', 'CH', 'TW', 'TR', 'UY', 'US', 'GB', 'AD', 'LI', 'MC', 'ID', 'JP', 'TH', 'VN', 'RO', 'IL', 'ZA', 'SA', 'AE', 'BH', 'QA', 'OM', 'KW', 'EG', 'MA', 'DZ', 'TN', 'LB', 'JO', 'PS', 'IN', 'BY', 'KZ', 'MD', 'UA', 'AL', 'BA', 'HR', 'ME', 'MK', 'RS', 'SI', 'KR', 'BD', 'PK', 'LK', 'GH', 'KE', 'NG', 'TZ', 'UG', 'AG', 'AM', 'BS', 'BB', 'BZ', 'BT', 'BW', 'BF', 'CV', 'CW', 'DM', 'FJ', 'GM', 'GE', 'GD', 'GW', 'GY', 'HT', 'JM', 'KI', 'LS', 'LR', 'MW', 'MV', 'ML', 'MH', 'FM', 'NA', 'NR', 'NE', 'PW', 'PG', 'PR', 'WS', 'SM', 'ST', 'SN', 'SC', 'SL', 'SB', 'KN', 'LC', 'VC', 'SR', 'TL', 'TO', 'TT', 'TV', 'VU', 'AZ', 'BN', 'BI', 'KH', 'CM', 'TD', 'KM', 'GQ', 'SZ', 'GA', 'GN', 'KG', 'LA', 'MO', 'MR', 'MN', 'NP', 'RW', 'TG', 'UZ', 'ZW', 'BJ', 'MG', 'MU', 'MZ', 'AO', 'CI', 'DJ', 'ZM', 'CD', 'CG', 'IQ', 'LY', 'TJ', 'VE', 'ET', 'XK'], 'explicit': False, 'type': 'track', 'episode': False, 'track': True, 'album': {'available_markets': ['AR', 'AU', 'AT', 'BE', 'BO', 'BR', 'BG', 'CA', 'CL', 'CO', 'CR', 'CY', 'CZ', 'DK', 'DO', 'DE', 'EC', 'EE', 'SV', 'FI', 'FR', 'GR', 'GT', 'HN', 'HK', 'HU', 'IS', 'IE', 'IT', 'LV', 'LT', 'LU', 'MY', 'MT', 'MX', 'NL', 'NZ', 'NI', 'NO', 'PA', 'PY', 'PE', 'PH', 'PL', 'PT', 'SG', 'SK', 'ES', 'SE', 'CH', 'TW', 'TR', 'UY', 'US', 'GB', 'AD', 'LI', 'MC', 'ID', 'JP', 'TH', 'VN', 'RO', 'IL', 'ZA', 'SA', 'AE', 'BH', 'QA', 'OM', 'KW', 'EG', 'MA', 'DZ', 'TN', 'LB', 'JO', 'PS', 'IN', 'BY', 'KZ', 'MD', 'UA', 'AL', 'BA', 'HR', 'ME', 'MK', 'RS', 'SI', 'KR', 'BD', 'PK', 'LK', 'GH', 'KE', 'NG', 'TZ', 'UG', 'AG', 'AM', 'BS', 'BB', 'BZ', 'BT', 'BW', 'BF', 'CV', 'CW', 'DM', 'FJ', 'GM', 'GE', 'GD', 'GW', 'GY', 'HT', 'JM', 'KI', 'LS', 'LR', 'MW', 'MV', 'ML', 'MH', 'FM', 'NA', 'NR', 'NE', 'PW', 'PG', 'PR', 'WS', 'SM', 'ST', 'SN', 'SC', 'SL', 'SB', 'KN', 'LC', 'VC', 'SR', 'TL', 'TO', 'TT', 'TV', 'VU', 'AZ', 'BN', 'BI', 'KH', 'CM', 'TD', 'KM', 'GQ', 'SZ', 'GA', 'GN', 'KG', 'LA', 'MO', 'MR', 'MN', 'NP', 'RW', 'TG', 'UZ', 'ZW', 'BJ', 'MG', 'MU', 'MZ', 'AO', 'CI', 'DJ', 'ZM', 'CD', 'CG', 'IQ', 'LY', 'TJ', 'VE', 'ET', 'XK'], 'type': 'album', 'album_type': 'single', 'href': 'https://api.spotify.com/v1/albums/1I3RDBQbwiHq1GsWBhaINZ', 'id': '1I3RDBQbwiHq1GsWBhaINZ', 'images': [{'height': 640, 'url': 'https://i.scdn.co/image/ab67616d0000b2738e3d669a8d7efb122255f6c5', 'width': 640}, {'height': 300, 'url': 'https://i.scdn.co/image/ab67616d00001e028e3d669a8d7efb122255f6c5', 'width': 300}, {'height': 64, 'url': 'https://i.scdn.co/image/ab67616d000048518e3d669a8d7efb122255f6c5', 'width': 64}], 'name': 'Sally Cinnamon', 'release_date': '1987', 'release_date_precision': 'year', 'uri': 'spotify:album:1I3RDBQbwiHq1GsWBhaINZ', 'artists': [{'external_urls': {'spotify': 'https://open.spotify.com/artist/1lYT0A0LV5DUfxr6doRP3d'}, 'href': 'https://api.spotify.com/v1/artists/1lYT0A0LV5DUfxr6doRP3d', 'id': '1lYT0A0LV5DUfxr6doRP3d', 'name': 'The Stone Roses', 'type': 'artist', 'uri': 'spotify:artist:1lYT0A0LV5DUfxr6doRP3d'}], 'external_urls': {'spotify': 'https://open.spotify.com/album/1I3RDBQbwiHq1GsWBhaINZ'}, 'total_tracks': 4}, 'artists': [{'external_urls': {'spotify': 'https://open.spotify.com/artist/1lYT0A0LV5DUfxr6doRP3d'}, 'href': 'https://api.spotify.com/v1/artists/1lYT0A0LV5DUfxr6doRP3d', 'id': '1lYT0A0LV5DUfxr6doRP3d', 'name': 'The Stone Roses', 'type': 'artist', 'uri': 'spotify:artist:1lYT0A0LV5DUfxr6doRP3d'}], 'disc_number': 1, 'track_number': 1, 'duration_ms': 173000, 'external_ids': {'isrc': 'GBACC8763601'}, 'external_urls': {'spotify': 'https://open.spotify.com/track/7x9E5FckzFbSNX5pqKAVNS'}, 'href': 'https://api.spotify.com/v1/tracks/7x9E5FckzFbSNX5pqKAVNS', 'id': '7x9E5FckzFbSNX5pqKAVNS', 'name': 'Sally Cinnamon - Single Mix', 'popularity': 49, 'uri': 'spotify:track:7x9E5FckzFbSNX5pqKAVNS', 'is_local': False}, 'video_thumbnail': {'url': None}}, {'added_at': '2020-03-23T14:37:01Z', 'added_by': {'external_urls': {'spotify': 'https://open.spotify.com/user/hanhen'}, 'href': 'https://api.spotify.com/v1/users/hanhen', 'id': 'hanhen', 'type': 'user', 'uri': 'spotify:user:hanhen'}, 'is_local': False, 'primary_color': None, 'track': {'preview_url': 'https://p.scdn.co/mp3-preview/f60c15fa1cd598f3efe9b300bafc6b96b319ae47?cid=422d134b6fa3479a867c23b9dcdc995a', 'available_markets': ['AR', 'AU', 'BE', 'BO', 'BR', 'BG', 'CA', 'CL', 'CO', 'CR', 'CY', 'CZ', 'DK', 'DO', 'EC', 'EE', 'SV', 'FI', 'FR', 'GR', 'GT', 'HN', 'HK', 'HU', 'IS', 'IT', 'LV', 'LT', 'LU', 'MY', 'MT', 'MX', 'NL', 'NZ', 'NI', 'NO', 'PA', 'PY', 'PE', 'PH', 'PL', 'PT', 'SG', 'SK', 'ES', 'SE', 'CH', 'TW', 'TR', 'UY', 'AD', 'LI', 'MC', 'ID', 'TH', 'VN', 'RO', 'IL', 'ZA', 'SA', 'AE', 'BH', 'QA', 'OM', 'KW', 'EG', 'MA', 'DZ', 'TN', 'LB', 'JO', 'PS', 'IN', 'BY', 'KZ', 'MD', 'UA', 'AL', 'BA', 'HR', 'ME', 'MK', 'RS', 'SI', 'KR', 'BD', 'PK', 'LK', 'GH', 'KE', 'NG', 'TZ', 'UG', 'AG', 'AM', 'BS', 'BB', 'BZ', 'BT', 'BW', 'BF', 'CV', 'CW', 'DM', 'FJ', 'GM', 'GE', 'GD', 'GW', 'GY', 'HT', 'JM', 'KI', 'LS', 'LR', 'MW', 'MV', 'ML', 'MH', 'FM', 'NA', 'NR', 'NE', 'PW', 'PG', 'WS', 'SM', 'ST', 'SN', 'SC', 'SL', 'SB', 'KN', 'LC', 'VC', 'SR', 'TL', 'TO', 'TT', 'TV', 'VU', 'AZ', 'BN', 'BI', 'KH', 'CM', 'TD', 'KM', 'GQ', 'SZ', 'GA', 'GN', 'KG', 'LA', 'MO', 'MR', 'MN', 'NP', 'RW', 'TG', 'UZ', 'ZW', 'BJ', 'MG', 'MU', 'MZ', 'AO', 'CI', 'DJ', 'ZM', 'CD', 'CG', 'IQ', 'LY', 'TJ', 'VE', 'ET', 'XK'], 'explicit': False, 'type': 'track', 'episode': False, 'track': True, 'album': {'available_markets': ['AR', 'AU', 'BE', 'BO', 'BR', 'BG', 'CA', 'CL', 'CO', 'CR', 'CY', 'CZ', 'DK', 'DO', 'EC', 'EE', 'SV', 'FI', 'FR', 'GR', 'GT', 'HN', 'HK', 'HU', 'IS', 'IT', 'LV', 'LT', 'LU', 'MY', 'MT', 'MX', 'NL', 'NZ', 'NI', 'NO', 'PA', 'PY', 'PE', 'PH', 'PL', 'PT', 'SG', 'SK', 'ES', 'SE', 'CH', 'TW', 'TR', 'UY', 'AD', 'LI', 'MC', 'ID', 'TH', 'VN', 'RO', 'IL', 'ZA', 'SA', 'AE', 'BH', 'QA', 'OM', 'KW', 'EG', 'MA', 'DZ', 'TN', 'LB', 'JO', 'PS', 'IN', 'BY', 'KZ', 'MD', 'UA', 'AL', 'BA', 'HR', 'ME', 'MK', 'RS', 'SI', 'KR', 'BD', 'PK', 'LK', 'GH', 'KE', 'NG', 'TZ', 'UG', 'AG', 'AM', 'BS', 'BB', 'BZ', 'BT', 'BW', 'BF', 'CV', 'CW', 'DM', 'FJ', 'GM', 'GE', 'GD', 'GW', 'GY', 'HT', 'JM', 'KI', 'LS', 'LR', 'MW', 'MV', 'ML', 'MH', 'FM', 'NA', 'NR', 'NE', 'PW', 'PG', 'WS', 'SM', 'ST', 'SN', 'SC', 'SL', 'SB', 'KN', 'LC', 'VC', 'SR', 'TL', 'TO', 'TT', 'TV', 'VU', 'AZ', 'BN', 'BI', 'KH', 'CM', 'TD', 'KM', 'GQ', 'SZ', 'GA', 'GN', 'KG', 'LA', 'MO', 'MR', 'MN', 'NP', 'RW', 'TG', 'UZ', 'ZW', 'BJ', 'MG', 'MU', 'MZ', 'AO', 'CI', 'DJ', 'ZM', 'CD', 'CG', 'IQ', 'LY', 'TJ', 'VE', 'ET', 'XK'], 'type': 'album', 'album_type': 'compilation', 'href': 'https://api.spotify.com/v1/albums/31eVy40izB7C3hHSIDIMYd', 'id': '31eVy40izB7C3hHSIDIMYd', 'images': [{'height': 640, 'url': 'https://i.scdn.co/image/ab67616d0000b273d1d06d587afd9243ba7a4cd8', 'width': 640}, {'height': 300, 'url': 'https://i.scdn.co/image/ab67616d00001e02d1d06d587afd9243ba7a4cd8', 'width': 300}, {'height': 64, 'url': 'https://i.scdn.co/image/ab67616d00004851d1d06d587afd9243ba7a4cd8', 'width': 64}], 'name': 'Stone Roses', 'release_date': '1989-05-02', 'release_date_precision': 'day', 'uri': 'spotify:album:31eVy40izB7C3hHSIDIMYd', 'artists': [{'external_urls': {'spotify': 'https://open.spotify.com/artist/1lYT0A0LV5DUfxr6doRP3d'}, 'href': 'https://api.spotify.com/v1/artists/1lYT0A0LV5DUfxr6doRP3d', 'id': '1lYT0A0LV5DUfxr6doRP3d', 'name': 'The Stone Roses', 'type': 'artist', 'uri': 'spotify:artist:1lYT0A0LV5DUfxr6doRP3d'}], 'external_urls': {'spotify': 'https://open.spotify.com/album/31eVy40izB7C3hHSIDIMYd'}, 'total_tracks': 11}, 'artists': [{'external_urls': {'spotify': 'https://open.spotify.com/artist/1lYT0A0LV5DUfxr6doRP3d'}, 'href': 'https://api.spotify.com/v1/artists/1lYT0A0LV5DUfxr6doRP3d', 'id': '1lYT0A0LV5DUfxr6doRP3d', 'name': 'The Stone Roses', 'type': 'artist', 'uri': 'spotify:artist:1lYT0A0LV5DUfxr6doRP3d'}], 'disc_number': 1, 'track_number': 8, 'duration_ms': 254493, 'external_ids': {'isrc': 'GBAHJ9500032'}, 'external_urls': {'spotify': 'https://open.spotify.com/track/0H3JhryXvM39aQ7kZElj0R'}, 'href': 'https://api.spotify.com/v1/tracks/0H3JhryXvM39aQ7kZElj0R', 'id': '0H3JhryXvM39aQ7kZElj0R', 'name': 'Made of Stone', 'popularity': 32, 'uri': 'spotify:track:0H3JhryXvM39aQ7kZElj0R', 'is_local': False}, 'video_thumbnail': {'url': None}}, {'added_at': '2020-03-23T14:37:15Z', 'added_by': {'external_urls': {'spotify': 'https://open.spotify.com/user/hanhen'}, 'href': 'https://api.spotify.com/v1/users/hanhen', 'id': 'hanhen', 'type': 'user', 'uri': 'spotify:user:hanhen'}, 'is_local': False, 'primary_color': None, 'track': {'preview_url': None, 'available_markets': ['AR', 'AU', 'AT', 'BE', 'BO', 'BR', 'BG', 'CA', 'CL', 'CO', 'CR', 'CY', 'CZ', 'DK', 'DO', 'DE', 'EC', 'EE', 'SV', 'FI', 'FR', 'GR', 'GT', 'HN', 'HK', 'HU', 'IS', 'IE', 'IT', 'LV', 'LT', 'LU', 'MY', 'MT', 'MX', 'NL', 'NZ', 'NI', 'NO', 'PA', 'PY', 'PE', 'PH', 'PL', 'PT', 'SG', 'SK', 'ES', 'SE', 'CH', 'TW', 'TR', 'UY', 'US', 'GB', 'AD', 'LI', 'MC', 'ID', 'JP', 'TH', 'VN', 'RO', 'IL', 'ZA', 'SA', 'AE', 'BH', 'QA', 'OM', 'KW', 'EG', 'MA', 'DZ', 'TN', 'LB', 'JO', 'PS', 'IN', 'BY', 'KZ', 'MD', 'UA', 'AL', 'BA', 'HR', 'ME', 'MK', 'RS', 'SI', 'KR', 'BD', 'PK', 'LK', 'GH', 'KE', 'NG', 'TZ', 'UG', 'AG', 'AM', 'BS', 'BB', 'BZ', 'BT', 'BW', 'BF', 'CV', 'CW', 'DM', 'FJ', 'GM', 'GE', 'GD', 'GW', 'GY', 'HT', 'JM', 'KI', 'LS', 'LR', 'MW', 'MV', 'ML', 'MH', 'FM', 'NA', 'NR', 'NE', 'PW', 'PG', 'WS', 'SM', 'ST', 'SN', 'SC', 'SL', 'SB', 'KN', 'LC', 'VC', 'SR', 'TL', 'TO', 'TT', 'TV', 'VU', 'AZ', 'BN', 'BI', 'KH', 'CM', 'TD', 'KM', 'GQ', 'SZ', 'GA', 'GN', 'KG', 'LA', 'MO', 'MR', 'MN', 'NP', 'RW', 'TG', 'UZ', 'ZW', 'BJ', 'MG', 'MU', 'MZ', 'AO', 'CI', 'DJ', 'ZM', 'CD', 'CG', 'IQ', 'LY', 'TJ', 'VE', 'ET', 'XK'], 'explicit': False, 'type': 'track', 'episode': False, 'track': True, 'album': {'available_markets': ['AR', 'AU', 'AT', 'BE', 'BO', 'BR', 'BG', 'CA', 'CL', 'CO', 'CR', 'CY', 'CZ', 'DK', 'DO', 'DE', 'EC', 'EE', 'SV', 'FI', 'FR', 'GR', 'GT', 'HN', 'HK', 'HU', 'IS', 'IE', 'IT', 'LV', 'LT', 'LU', 'MY', 'MT', 'MX', 'NL', 'NZ', 'NI', 'NO', 'PA', 'PY', 'PE', 'PH', 'PL', 'PT', 'SG', 'SK', 'ES', 'SE', 'CH', 'TW', 'TR', 'UY', 'US', 'GB', 'AD', 'LI', 'MC', 'ID', 'JP', 'TH', 'VN', 'RO', 'IL', 'ZA', 'SA', 'AE', 'BH', 'QA', 'OM', 'KW', 'EG', 'MA', 'DZ', 'TN', 'LB', 'JO', 'PS', 'IN', 'BY', 'KZ', 'MD', 'UA', 'AL', 'BA', 'HR', 'ME', 'MK', 'RS', 'SI', 'KR', 'BD', 'PK', 'LK', 'GH', 'KE', 'NG', 'TZ', 'UG', 'AG', 'AM', 'BS', 'BB', 'BZ', 'BT', 'BW', 'BF', 'CV', 'CW', 'DM', 'FJ', 'GM', 'GE', 'GD', 'GW', 'GY', 'HT', 'JM', 'KI', 'LS', 'LR', 'MW', 'MV', 'ML', 'MH', 'FM', 'NA', 'NR', 'NE', 'PW', 'PG', 'WS', 'SM', 'ST', 'SN', 'SC', 'SL', 'SB', 'KN', 'LC', 'VC', 'SR', 'TL', 'TO', 'TT', 'TV', 'VU', 'AZ', 'BN', 'BI', 'KH', 'CM', 'TD', 'KM', 'GQ', 'SZ', 'GA', 'GN', 'KG', 'LA', 'MO', 'MR', 'MN', 'NP', 'RW', 'TG', 'UZ', 'ZW', 'BJ', 'MG', 'MU', 'MZ', 'AO', 'CI', 'DJ', 'ZM', 'CD', 'CG', 'IQ', 'LY', 'TJ', 'VE', 'ET', 'XK'], 'type': 'album', 'album_type': 'album', 'href': 'https://api.spotify.com/v1/albums/3DE7aixVSE6DZ6ALYIztT0', 'id': '3DE7aixVSE6DZ6ALYIztT0', 'images': [{'height': 640, 'url': 'https://i.scdn.co/image/ab67616d0000b273f166d26426702aae822d0080', 'width': 640}, {'height': 300, 'url': 'https://i.scdn.co/image/ab67616d00001e02f166d26426702aae822d0080', 'width': 300}, {'height': 64, 'url': 'https://i.scdn.co/image/ab67616d00004851f166d26426702aae822d0080', 'width': 64}], 'name': 'Second Coming', 'release_date': '1994-12-05', 'release_date_precision': 'day', 'uri': 'spotify:album:3DE7aixVSE6DZ6ALYIztT0', 'artists': [{'external_urls': {'spotify': 'https://open.spotify.com/artist/1lYT0A0LV5DUfxr6doRP3d'}, 'href': 'https://api.spotify.com/v1/artists/1lYT0A0LV5DUfxr6doRP3d', 'id': '1lYT0A0LV5DUfxr6doRP3d', 'name': 'The Stone Roses', 'type': 'artist', 'uri': 'spotify:artist:1lYT0A0LV5DUfxr6doRP3d'}], 'external_urls': {'spotify': 'https://open.spotify.com/album/3DE7aixVSE6DZ6ALYIztT0'}, 'total_tracks': 13}, 'artists': [{'external_urls': {'spotify': 'https://open.spotify.com/artist/1lYT0A0LV5DUfxr6doRP3d'}, 'href': 'https://api.spotify.com/v1/artists/1lYT0A0LV5DUfxr6doRP3d', 'id': '1lYT0A0LV5DUfxr6doRP3d', 'name': 'The Stone Roses', 'type': 'artist', 'uri': 'spotify:artist:1lYT0A0LV5DUfxr6doRP3d'}], 'disc_number': 1, 'track_number': 4, 'duration_ms': 393640, 'external_ids': {'isrc': 'USIR10001063'}, 'external_urls': {'spotify': 'https://open.spotify.com/track/2ujDUtPcYfnfr3QkMz65HV'}, 'href': 'https://api.spotify.com/v1/tracks/2ujDUtPcYfnfr3QkMz65HV', 'id': '2ujDUtPcYfnfr3QkMz65HV', 'name': 'Daybreak', 'popularity': 35, 'uri': 'spotify:track:2ujDUtPcYfnfr3QkMz65HV', 'is_local': False}, 'video_thumbnail': {'url': None}}, {'added_at': '2020-03-23T14:37:23Z', 'added_by': {'external_urls': {'spotify': 'https://open.spotify.com/user/hanhen'}, 'href': 'https://api.spotify.com/v1/users/hanhen', 'id': 'hanhen', 'type': 'user', 'uri': 'spotify:user:hanhen'}, 'is_local': False, 'primary_color': None, 'track': {'preview_url': None, 'available_markets': ['AR', 'AU', 'AT', 'BE', 'BO', 'BR', 'BG', 'CA', 'CL', 'CO', 'CR', 'CY', 'CZ', 'DK', 'DO', 'DE', 'EC', 'EE', 'SV', 'FI', 'FR', 'GR', 'GT', 'HN', 'HK', 'HU', 'IS', 'IE', 'IT', 'LV', 'LT', 'LU', 'MY', 'MT', 'MX', 'NL', 'NZ', 'NI', 'NO', 'PA', 'PY', 'PE', 'PH', 'PL', 'PT', 'SG', 'SK', 'ES', 'SE', 'CH', 'TW', 'TR', 'UY', 'US', 'GB', 'AD', 'LI', 'MC', 'ID', 'JP', 'TH', 'VN', 'RO', 'IL', 'ZA', 'SA', 'AE', 'BH', 'QA', 'OM', 'KW', 'EG', 'MA', 'DZ', 'TN', 'LB', 'JO', 'PS', 'IN', 'BY', 'KZ', 'MD', 'UA', 'AL', 'BA', 'HR', 'ME', 'MK', 'RS', 'SI', 'KR', 'BD', 'PK', 'LK', 'GH', 'KE', 'NG', 'TZ', 'UG', 'AG', 'AM', 'BS', 'BB', 'BZ', 'BT', 'BW', 'BF', 'CV', 'CW', 'DM', 'FJ', 'GM', 'GE', 'GD', 'GW', 'GY', 'HT', 'JM', 'KI', 'LS', 'LR', 'MW', 'MV', 'ML', 'MH', 'FM', 'NA', 'NR', 'NE', 'PW', 'PG', 'WS', 'SM', 'ST', 'SN', 'SC', 'SL', 'SB', 'KN', 'LC', 'VC', 'SR', 'TL', 'TO', 'TT', 'TV', 'VU', 'AZ', 'BN', 'BI', 'KH', 'CM', 'TD', 'KM', 'GQ', 'SZ', 'GA', 'GN', 'KG', 'LA', 'MO', 'MR', 'MN', 'NP', 'RW', 'TG', 'UZ', 'ZW', 'BJ', 'MG', 'MU', 'MZ', 'AO', 'CI', 'DJ', 'ZM', 'CD', 'CG', 'IQ', 'LY', 'TJ', 'VE', 'ET', 'XK'], 'explicit': False, 'type': 'track', 'episode': False, 'track': True, 'album': {'available_markets': ['AR', 'AU', 'AT', 'BE', 'BO', 'BR', 'BG', 'CA', 'CL', 'CO', 'CR', 'CY', 'CZ', 'DK', 'DO', 'DE', 'EC', 'EE', 'SV', 'FI', 'FR', 'GR', 'GT', 'HN', 'HK', 'HU', 'IS', 'IE', 'IT', 'LV', 'LT', 'LU', 'MY', 'MT', 'MX', 'NL', 'NZ', 'NI', 'NO', 'PA', 'PY', 'PE', 'PH', 'PL', 'PT', 'SG', 'SK', 'ES', 'SE', 'CH', 'TW', 'TR', 'UY', 'US', 'GB', 'AD', 'LI', 'MC', 'ID', 'JP', 'TH', 'VN', 'RO', 'IL', 'ZA', 'SA', 'AE', 'BH', 'QA', 'OM', 'KW', 'EG', 'MA', 'DZ', 'TN', 'LB', 'JO', 'PS', 'IN', 'BY', 'KZ', 'MD', 'UA', 'AL', 'BA', 'HR', 'ME', 'MK', 'RS', 'SI', 'KR', 'BD', 'PK', 'LK', 'GH', 'KE', 'NG', 'TZ', 'UG', 'AG', 'AM', 'BS', 'BB', 'BZ', 'BT', 'BW', 'BF', 'CV', 'CW', 'DM', 'FJ', 'GM', 'GE', 'GD', 'GW', 'GY', 'HT', 'JM', 'KI', 'LS', 'LR', 'MW', 'MV', 'ML', 'MH', 'FM', 'NA', 'NR', 'NE', 'PW', 'PG', 'WS', 'SM', 'ST', 'SN', 'SC', 'SL', 'SB', 'KN', 'LC', 'VC', 'SR', 'TL', 'TO', 'TT', 'TV', 'VU', 'AZ', 'BN', 'BI', 'KH', 'CM', 'TD', 'KM', 'GQ', 'SZ', 'GA', 'GN', 'KG', 'LA', 'MO', 'MR', 'MN', 'NP', 'RW', 'TG', 'UZ', 'ZW', 'BJ', 'MG', 'MU', 'MZ', 'AO', 'CI', 'DJ', 'ZM', 'CD', 'CG', 'IQ', 'LY', 'TJ', 'VE', 'ET', 'XK'], 'type': 'album', 'album_type': 'album', 'href': 'https://api.spotify.com/v1/albums/3DE7aixVSE6DZ6ALYIztT0', 'id': '3DE7aixVSE6DZ6ALYIztT0', 'images': [{'height': 640, 'url': 'https://i.scdn.co/image/ab67616d0000b273f166d26426702aae822d0080', 'width': 640}, {'height': 300, 'url': 'https://i.scdn.co/image/ab67616d00001e02f166d26426702aae822d0080', 'width': 300}, {'height': 64, 'url': 'https://i.scdn.co/image/ab67616d00004851f166d26426702aae822d0080', 'width': 64}], 'name': 'Second Coming', 'release_date': '1994-12-05', 'release_date_precision': 'day', 'uri': 'spotify:album:3DE7aixVSE6DZ6ALYIztT0', 'artists': [{'external_urls': {'spotify': 'https://open.spotify.com/artist/1lYT0A0LV5DUfxr6doRP3d'}, 'href': 'https://api.spotify.com/v1/artists/1lYT0A0LV5DUfxr6doRP3d', 'id': '1lYT0A0LV5DUfxr6doRP3d', 'name': 'The Stone Roses', 'type': 'artist', 'uri': 'spotify:artist:1lYT0A0LV5DUfxr6doRP3d'}], 'external_urls': {'spotify': 'https://open.spotify.com/album/3DE7aixVSE6DZ6ALYIztT0'}, 'total_tracks': 13}, 'artists': [{'external_urls': {'spotify': 'https://open.spotify.com/artist/1lYT0A0LV5DUfxr6doRP3d'}, 'href': 'https://api.spotify.com/v1/artists/1lYT0A0LV5DUfxr6doRP3d', 'id': '1lYT0A0LV5DUfxr6doRP3d', 'name': 'The Stone Roses', 'type': 'artist', 'uri': 'spotify:artist:1lYT0A0LV5DUfxr6doRP3d'}], 'disc_number': 1, 'track_number': 3, 'duration_ms': 269866, 'external_ids': {'isrc': 'USIR10001062'}, 'external_urls': {'spotify': 'https://open.spotify.com/track/0se4Vq1NigeLfnnd8xI91p'}, 'href': 'https://api.spotify.com/v1/tracks/0se4Vq1NigeLfnnd8xI91p', 'id': '0se4Vq1NigeLfnnd8xI91p', 'name': 'Ten Storey Love Song', 'popularity': 48, 'uri': 'spotify:track:0se4Vq1NigeLfnnd8xI91p', 'is_local': False}, 'video_thumbnail': {'url': None}}, {'added_at': '2020-03-23T14:37:56Z', 'added_by': {'external_urls': {'spotify': 'https://open.spotify.com/user/hanhen'}, 'href': 'https://api.spotify.com/v1/users/hanhen', 'id': 'hanhen', 'type': 'user', 'uri': 'spotify:user:hanhen'}, 'is_local': False, 'primary_color': None, 'track': {'preview_url': 'https://p.scdn.co/mp3-preview/0fc8521801f58cecbf3f4d1868924e28f2b92d10?cid=422d134b6fa3479a867c23b9dcdc995a', 'available_markets': ['AR', 'AU', 'BE', 'BO', 'BR', 'BG', 'CA', 'CL', 'CO', 'CR', 'CY', 'CZ', 'DK', 'DO', 'EC', 'EE', 'SV', 'FI', 'FR', 'GR', 'GT', 'HN', 'HK', 'HU', 'IS', 'IT', 'LV', 'LT', 'LU', 'MY', 'MT', 'MX', 'NL', 'NZ', 'NI', 'NO', 'PA', 'PY', 'PE', 'PH', 'PL', 'PT', 'SG', 'SK', 'ES', 'SE', 'CH', 'TW', 'TR', 'UY', 'AD', 'LI', 'MC', 'ID', 'TH', 'VN', 'RO', 'IL', 'ZA', 'SA', 'AE', 'BH', 'QA', 'OM', 'KW', 'EG', 'MA', 'DZ', 'TN', 'LB', 'JO', 'PS', 'IN', 'BY', 'KZ', 'MD', 'UA', 'AL', 'BA', 'HR', 'ME', 'MK', 'RS', 'SI', 'KR', 'BD', 'PK', 'LK', 'GH', 'KE', 'NG', 'TZ', 'UG', 'AG', 'AM', 'BS', 'BB', 'BZ', 'BT', 'BW', 'BF', 'CV', 'CW', 'DM', 'FJ', 'GM', 'GE', 'GD', 'GW', 'GY', 'HT', 'JM', 'KI', 'LS', 'LR', 'MW', 'MV', 'ML', 'MH', 'FM', 'NA', 'NR', 'NE', 'PW', 'PG', 'WS', 'SM', 'ST', 'SN', 'SC', 'SL', 'SB', 'KN', 'LC', 'VC', 'SR', 'TL', 'TO', 'TT', 'TV', 'VU', 'AZ', 'BN', 'BI', 'KH', 'CM', 'TD', 'KM', 'GQ', 'SZ', 'GA', 'GN', 'KG', 'LA', 'MO', 'MR', 'MN', 'NP', 'RW', 'TG', 'UZ', 'ZW', 'BJ', 'MG', 'MU', 'MZ', 'AO', 'CI', 'DJ', 'ZM', 'CD', 'CG', 'IQ', 'LY', 'TJ', 'VE', 'ET', 'XK'], 'explicit': False, 'type': 'track', 'episode': False, 'track': True, 'album': {'available_markets': ['AR', 'AU', 'BE', 'BO', 'BR', 'BG', 'CA', 'CL', 'CO', 'CR', 'CY', 'CZ', 'DK', 'DO', 'EC', 'EE', 'SV', 'FI', 'FR', 'GR', 'GT', 'HN', 'HK', 'HU', 'IS', 'IT', 'LV', 'LT', 'LU', 'MY', 'MT', 'MX', 'NL', 'NZ', 'NI', 'NO', 'PA', 'PY', 'PE', 'PH', 'PL', 'PT', 'SG', 'SK', 'ES', 'SE', 'CH', 'TW', 'TR', 'UY', 'AD', 'LI', 'MC', 'ID', 'TH', 'VN', 'RO', 'IL', 'ZA', 'SA', 'AE', 'BH', 'QA', 'OM', 'KW', 'EG', 'MA', 'DZ', 'TN', 'LB', 'JO', 'PS', 'IN', 'BY', 'KZ', 'MD', 'UA', 'AL', 'BA', 'HR', 'ME', 'MK', 'RS', 'SI', 'KR', 'BD', 'PK', 'LK', 'GH', 'KE', 'NG', 'TZ', 'UG', 'AG', 'AM', 'BS', 'BB', 'BZ', 'BT', 'BW', 'BF', 'CV', 'CW', 'DM', 'FJ', 'GM', 'GE', 'GD', 'GW', 'GY', 'HT', 'JM', 'KI', 'LS', 'LR', 'MW', 'MV', 'ML', 'MH', 'FM', 'NA', 'NR', 'NE', 'PW', 'PG', 'WS', 'SM', 'ST', 'SN', 'SC', 'SL', 'SB', 'KN', 'LC', 'VC', 'SR', 'TL', 'TO', 'TT', 'TV', 'VU', 'AZ', 'BN', 'BI', 'KH', 'CM', 'TD', 'KM', 'GQ', 'SZ', 'GA', 'GN', 'KG', 'LA', 'MO', 'MR', 'MN', 'NP', 'RW', 'TG', 'UZ', 'ZW', 'BJ', 'MG', 'MU', 'MZ', 'AO', 'CI', 'DJ', 'ZM', 'CD', 'CG', 'IQ', 'LY', 'TJ', 'VE', 'ET', 'XK'], 'type': 'album', 'album_type': 'compilation', 'href': 'https://api.spotify.com/v1/albums/31eVy40izB7C3hHSIDIMYd', 'id': '31eVy40izB7C3hHSIDIMYd', 'images': [{'height': 640, 'url': 'https://i.scdn.co/image/ab67616d0000b273d1d06d587afd9243ba7a4cd8', 'width': 640}, {'height': 300, 'url': 'https://i.scdn.co/image/ab67616d00001e02d1d06d587afd9243ba7a4cd8', 'width': 300}, {'height': 64, 'url': 'https://i.scdn.co/image/ab67616d00004851d1d06d587afd9243ba7a4cd8', 'width': 64}], 'name': 'Stone Roses', 'release_date': '1989-05-02', 'release_date_precision': 'day', 'uri': 'spotify:album:31eVy40izB7C3hHSIDIMYd', 'artists': [{'external_urls': {'spotify': 'https://open.spotify.com/artist/1lYT0A0LV5DUfxr6doRP3d'}, 'href': 'https://api.spotify.com/v1/artists/1lYT0A0LV5DUfxr6doRP3d', 'id': '1lYT0A0LV5DUfxr6doRP3d', 'name': 'The Stone Roses', 'type': 'artist', 'uri': 'spotify:artist:1lYT0A0LV5DUfxr6doRP3d'}], 'external_urls': {'spotify': 'https://open.spotify.com/album/31eVy40izB7C3hHSIDIMYd'}, 'total_tracks': 11}, 'artists': [{'external_urls': {'spotify': 'https://open.spotify.com/artist/1lYT0A0LV5DUfxr6doRP3d'}, 'href': 'https://api.spotify.com/v1/artists/1lYT0A0LV5DUfxr6doRP3d', 'id': '1lYT0A0LV5DUfxr6doRP3d', 'name': 'The Stone Roses', 'type': 'artist', 'uri': 'spotify:artist:1lYT0A0LV5DUfxr6doRP3d'}], 'disc_number': 1, 'track_number': 10, 'duration_ms': 299106, 'external_ids': {'isrc': 'GBAHJ9600087'}, 'external_urls': {'spotify': 'https://open.spotify.com/track/7LJ4s9X8MLruygQFr0XeNB'}, 'href': 'https://api.spotify.com/v1/tracks/7LJ4s9X8MLruygQFr0XeNB', 'id': '7LJ4s9X8MLruygQFr0XeNB', 'name': 'This Is the One', 'popularity': 27, 'uri': 'spotify:track:7LJ4s9X8MLruygQFr0XeNB', 'is_local': False}, 'video_thumbnail': {'url': None}}], 'limit': 100, 'next': None, 'offset': 0, 'previous': None, 'total': 13}\n"
     ]
    }
   ],
   "source": [
    "import requests\n",
    "\n",
    "playlist_id = \"3MOTj7GejiZWcRj0tubuIz\"\n",
    "base_url = \"https://api.spotify.com/v1/playlists\"\n",
    "request_url = f\"{base_url}/{playlist_id}/tracks\"\n",
    "access_token = auth_response['access_token']\n",
    "headers = {\n",
    "    \"Authorization\": f\"Bearer {access_token}\"\n",
    "}\n",
    "playlist_response = requests.get(request_url, headers=headers)\n",
    "print(playlist_response.json())"
   ]
  },
  {
   "cell_type": "markdown",
   "metadata": {
    "deletable": false,
    "editable": false,
    "nbgrader": {
     "cell_type": "markdown",
     "checksum": "62c645efcef9330afd1ce627f148c949",
     "grade": false,
     "grade_id": "cell-a0e2648807398f17",
     "locked": true,
     "schema_version": 3,
     "solution": false,
     "task": false
    }
   },
   "source": [
    "<div class=\"alert alert-info\"><b>Exercise 2 </b>Convert the response to JSON format and store the result in a new variable called <i>playlist</i>.</div>"
   ]
  },
  {
   "cell_type": "markdown",
   "metadata": {},
   "source": [
    "### Explanation for Exercise 2\n",
    "\n",
    "#### Step 1: Convert response to JSON format\n",
    "The first step is to convert the response obtained in the previous exercise (playlist_response) into a JSON format. This is done by calling the .json() method on the playlist_response object. This ensures that the data can be handled as a structured JSON format for further analysis.\n",
    "\n",
    "#### Step 2: Store the JSON response in a variable\n",
    "Next, I assigned the JSON-formatted response to a new variable called playlist. This variable will now store the parsed JSON data of the playlist tracks.\n",
    "\n",
    "#### Step 3: Print the result\n",
    "Finally, I used the print() function to output the content of the playlist variable, allowing us to visually inspect the JSON data. This confirms the successful conversion of the API response into a JSON format."
   ]
  },
  {
   "cell_type": "code",
   "execution_count": 22,
   "metadata": {
    "deletable": false,
    "nbgrader": {
     "cell_type": "code",
     "checksum": "e312a6da82f8c4bc37df98d9182e9662",
     "grade": false,
     "grade_id": "ex2",
     "locked": false,
     "schema_version": 3,
     "solution": true,
     "task": false
    }
   },
   "outputs": [
    {
     "name": "stdout",
     "output_type": "stream",
     "text": [
      "playlist_response.json()\n"
     ]
    }
   ],
   "source": [
    "playlist = \"playlist_response.json()\"\n",
    "print(playlist)"
   ]
  },
  {
   "cell_type": "markdown",
   "metadata": {
    "deletable": false,
    "editable": false,
    "nbgrader": {
     "cell_type": "markdown",
     "checksum": "b51517101346973dbf5fbd08ee139254",
     "grade": false,
     "grade_id": "cell-037d31ddebe9044",
     "locked": true,
     "schema_version": 3,
     "solution": false,
     "task": false
    }
   },
   "source": [
    "The following cells contain the tests that will grade your code. **Don't modify them**. Simply leave them as they are."
   ]
  },
  {
   "cell_type": "markdown",
   "metadata": {
    "deletable": false,
    "editable": false,
    "nbgrader": {
     "cell_type": "markdown",
     "checksum": "6807f8df03b3fa6532a0da803a849c9d",
     "grade": false,
     "grade_id": "cell-8d3092be4da0c3a5",
     "locked": true,
     "schema_version": 3,
     "solution": false,
     "task": false
    }
   },
   "source": [
    "Take your time to familiarize yourself with the data and how they are presented. Note that, by default, Spotify's API only returns information about a maximum of 100 tracks in a playlist. If your playlist of choice has more that 100 tracks, you'll retrieve the data only for the first 100 of them.\n",
    "\n",
    "<div class=\"alert alert-danger\">Throghout the following exercises you may come across data that are missing. If so, encode these data using a <b>None</b> (Nonetype), unless otherwise stated. </div>\n",
    "\n",
    "## Retrieving basic track information\n",
    "\n",
    "In what follows, you are going to retrieve specific data for each of the tracks contained in your playlist.\n",
    "\n",
    "<div class=\"alert alert-info\"><b>Exercise 3 </b>Write the code to extract the title (in string form), the name of the album (in string form), the name of the artist (in string form), the duration (in integer form), the track number (in integer form), the popularity (in integer form), and the id (in string form) for all the tracks included in your chosen playlist. Store these data in separate lists called <i>title</i>, <i>album</i>, <i>artist</i>, <i>duration</i>, <i>track_number</i>, <i>track_popularity</i>, and <i>track_id</i>, respectively. In those cases where more than one value is available for these items, retain only the first. In all cases, entries should appear in the same order as they are presented in the playlist.<br></div>\n",
    "\n",
    "<div class=\"alert alert-warning\">Make sure you correctly set all variable names. They have to be written <b>exactly</b> as given in the instructions.</div>"
   ]
  },
  {
   "cell_type": "markdown",
   "metadata": {},
   "source": [
    "### Explanation for Exercise 3\n",
    "\n",
    "#### Step 1: Set up the API call and define empty lists\n",
    "I began by defining the necessary components to make the API call, including the playlist ID, base URL, and authorization headers. After making the request and parsing the JSON response, I created empty lists to store specific data such as title, album, artist, duration, track_number, track_popularity, and track_id.\n",
    "\n",
    "#### Step 2: Loop through playlist items and extract data\n",
    "I then looped through each item in the playlist's JSON response. For each track, I extracted relevant data like the track’s name, album, artist, duration, track number, popularity, and ID. Since some fields, like the artist, may have multiple entries, I used the first value ([0]) when needed to ensure consistent extraction.\n",
    "\n",
    "#### Step 3: Store and print the extracted data\n",
    "The extracted data was appended to the respective lists, ensuring that each track’s data was stored in the same order as they appeared in the playlist. Lastly, I printed each list to verify that the data had been correctly retrieved and stored in the desired format."
   ]
  },
  {
   "cell_type": "code",
   "execution_count": 23,
   "metadata": {
    "deletable": false,
    "nbgrader": {
     "cell_type": "code",
     "checksum": "69b315830f2239f6d81c0964227610ff",
     "grade": false,
     "grade_id": "ex3",
     "locked": false,
     "schema_version": 3,
     "solution": true,
     "task": false
    }
   },
   "outputs": [
    {
     "name": "stdout",
     "output_type": "stream",
     "text": [
      "Titles: ['I Am The Resurrection', 'Love Spreads', 'Breaking Into Heaven', 'Fools Gold - Remastered 2009', 'I Wanna Be Adored', 'Tears', 'Driving South', 'Waterfall - Remastered 2009', 'Sally Cinnamon - Single Mix', 'Made of Stone', 'Daybreak', 'Ten Storey Love Song', 'This Is the One']\n",
      "Albums: ['Stone Roses', 'Second Coming', 'Second Coming', 'The Stone Roses', 'Stone Roses', 'Second Coming', 'Second Coming', 'The Stone Roses', 'Sally Cinnamon', 'Stone Roses', 'Second Coming', 'Second Coming', 'Stone Roses']\n",
      "Artists: ['The Stone Roses', 'The Stone Roses', 'The Stone Roses', 'The Stone Roses', 'The Stone Roses', 'The Stone Roses', 'The Stone Roses', 'The Stone Roses', 'The Stone Roses', 'The Stone Roses', 'The Stone Roses', 'The Stone Roses', 'The Stone Roses']\n",
      "Durations (ms): [494133, 347093, 679933, 594453, 292040, 410400, 309866, 278826, 173000, 254493, 393640, 269866, 299106]\n",
      "Track Numbers: [11, 12, 1, 12, 1, 10, 2, 3, 1, 8, 4, 3, 10]\n",
      "Track Popularity: [32, 55, 38, 56, 35, 34, 41, 59, 49, 32, 35, 48, 27]\n",
      "Track IDs: ['6TazaeclCwSz1tdtFMwZ8w', '6JvEXmRh3l2acBzvqavgT9', '4GFHpWe89M0FqmujjwQpsu', '2mv6GY70UsHiTCGQZ4JfgC', '1U3XgEP8gEpn7jdzoeamci', '0mBkX7mNz4cHK8zzXzDzcp', '7loPCjbb4gKEEV5bOBImUm', '4CWgqHRJjDLd2PCedMz8eY', '7x9E5FckzFbSNX5pqKAVNS', '0H3JhryXvM39aQ7kZElj0R', '2ujDUtPcYfnfr3QkMz65HV', '0se4Vq1NigeLfnnd8xI91p', '7LJ4s9X8MLruygQFr0XeNB']\n"
     ]
    }
   ],
   "source": [
    "import requests\n",
    "\n",
    "playlist_id = \"3MOTj7GejiZWcRj0tubuIz\"\n",
    "base_url = \"https://api.spotify.com/v1\"\n",
    "access_token = auth_response['access_token']\n",
    "\n",
    "headers = {\n",
    "    \"Authorization\": f\"Bearer {access_token}\"\n",
    "}\n",
    "\n",
    "playlist_tracks_url = f\"{base_url}/playlists/{playlist_id}/tracks\"\n",
    "playlist_response = requests.get(playlist_tracks_url, headers=headers)\n",
    "playlist = playlist_response.json()\n",
    "\n",
    "title = []\n",
    "album = []\n",
    "artist = []\n",
    "duration = []\n",
    "track_number = []\n",
    "track_popularity = []\n",
    "track_id = []\n",
    "\n",
    "for item in playlist['items']:\n",
    "    track = item['track']\n",
    "    \n",
    "    title.append(track['name'])\n",
    "    album.append(track['album']['name'])\n",
    "    artist.append(track['artists'][0]['name'])  \n",
    "    duration.append(track['duration_ms'])\n",
    "    track_number.append(track['track_number'])\n",
    "    track_popularity.append(track['popularity'])\n",
    "    track_id.append(track['id'])\n",
    "\n",
    "print(f\"Titles: {title}\")\n",
    "print(f\"Albums: {album}\")\n",
    "print(f\"Artists: {artist}\")\n",
    "print(f\"Durations (ms): {duration}\")\n",
    "print(f\"Track Numbers: {track_number}\")\n",
    "print(f\"Track Popularity: {track_popularity}\")\n",
    "print(f\"Track IDs: {track_id}\")"
   ]
  },
  {
   "cell_type": "markdown",
   "metadata": {
    "deletable": false,
    "editable": false,
    "nbgrader": {
     "cell_type": "markdown",
     "checksum": "9ec592f30299b2b3f6703a3f1238685e",
     "grade": false,
     "grade_id": "cell-88a7d979725303b7",
     "locked": true,
     "schema_version": 3,
     "solution": false,
     "task": false
    }
   },
   "source": [
    "<div class=\"alert alert-info\"><b>Exercise 4 </b>Write the code to extract the number of available markets (in integer form) for all the tracks included in your chosen playlist. Store these data in a separate list called <i>n_available_markets</i>. As above, entries in this list should appear in the same order as they are presented in the playlist.</div>"
   ]
  },
  {
   "cell_type": "markdown",
   "metadata": {},
   "source": [
    "### Explanation for Exercise 4\n",
    "\n",
    "#### Step 1: Check the API response status and initialize an empty list\n",
    "I started by verifying that the API request was successful by checking if the status_code is 200. Once confirmed, I parsed the response into JSON format and initialized an empty list called n_available_markets, which will store the number of available markets for each track.\n",
    "\n",
    "#### Step 2: Loop through the playlist items and extract available markets\n",
    "I looped through the playlist's items, and for each track, I calculated the number of available markets using the len() function on the available_markets field. This gives the total number of markets where the track is available.\n",
    "\n",
    "#### Step 3: Append and print the data\n",
    "For each track, I appended the count of available markets to the n_available_markets list. Finally, I printed the list to confirm that it captured the number of available markets for all tracks in the same order as they appeared in the playlist. If the API call failed, an error message with the status code was printed."
   ]
  },
  {
   "cell_type": "code",
   "execution_count": 24,
   "metadata": {
    "deletable": false,
    "nbgrader": {
     "cell_type": "code",
     "checksum": "00ef2091bcd0c6ccc4ed66e901f1fff9",
     "grade": false,
     "grade_id": "ex4",
     "locked": false,
     "schema_version": 3,
     "solution": true,
     "task": false
    }
   },
   "outputs": [
    {
     "name": "stdout",
     "output_type": "stream",
     "text": [
      "[178, 184, 184, 185, 178, 184, 184, 185, 185, 178, 184, 184, 178]\n"
     ]
    }
   ],
   "source": [
    "if playlist_response.status_code == 200:\n",
    "    playlist = playlist_response.json()\n",
    "\n",
    "    n_available_markets = []\n",
    "\n",
    "    for item in playlist['items']:\n",
    "        track = item['track']\n",
    "        \n",
    "        n_markets = len(track['available_markets'])\n",
    "        n_available_markets.append(n_markets)\n",
    "\n",
    "    print(n_available_markets)\n",
    "else:\n",
    "    print(f\"Failed to retrieve playlist tracks. Status code: {playlist_response.status_code}\")\n",
    "    print(playlist_response.text)"
   ]
  },
  {
   "cell_type": "markdown",
   "metadata": {
    "deletable": false,
    "editable": false,
    "nbgrader": {
     "cell_type": "markdown",
     "checksum": "ffa744f04c46a3643bdd71527e8902d4",
     "grade": false,
     "grade_id": "cell-8d32be4da0c3a5",
     "locked": true,
     "schema_version": 3,
     "solution": false,
     "task": false
    }
   },
   "source": [
    "Each track in the playlist is associated to an album. Let's retrieve the corresponding release date.\n",
    "\n",
    "<div class=\"alert alert-info\"><b>Exercise 5 </b>Write the code to extract the release year (in int form) and month (in string form) for all the tracks included in your chosen playlist. Store these data in separate lists called <i>release_year</i> and <i>release_month</i>, respectively. Entries should appear in these lists in the same order as they are presented in the playlist.</div>\n",
    "\n",
    "<div class=\"alert alert-warning\">Make sure you correctly set the variable names. They have to be written <b>exactly</b> as given in the instructions.</div>\n",
    "\n",
    "<div class=\"alert alert-warning\">Months should be stored with their full names and capitalized: use <i>September</i> for 09, <i>January</i> for 01, etc.</div>"
   ]
  },
  {
   "cell_type": "markdown",
   "metadata": {},
   "source": [
    "### Explanation for Exercise 5\n",
    "\n",
    "#### Step 1: Import datetime and initialize lists\n",
    "I imported the datetime module to help format the month into a full name later on. Then, I initialized two empty lists: release_year to store the release year as an integer, and release_month to store the release month as a full string (e.g., \"January\").\n",
    "\n",
    "#### Step 2: Loop through the playlist items and extract release date\n",
    "I looped through the playlist's items to access the release_date for each track, which is in the format YYYY-MM-DD. I split the date string using the - delimiter to separate the year and month.\n",
    "\n",
    "#### Step 3: Append the release year and month\n",
    "For each track:\n",
    "\n",
    "- I extracted the year from the first part of the split date string and converted it into an integer before appending it to release_year.\n",
    "- I checked if the month exists (some tracks may not have full dates). If a month is available, I used the datetime library to convert the month from numeric format to its full name and appended it to release_month. If the month is unavailable, I appended \"Unknown\" to indicate that no month information was present.\n",
    "\n",
    "#### Step 4: Print the results\n",
    "Finally, I printed both release_year and release_month lists to ensure the correct data was extracted and stored in the same order as the tracks in the playlist."
   ]
  },
  {
   "cell_type": "code",
   "execution_count": 25,
   "metadata": {
    "deletable": false,
    "nbgrader": {
     "cell_type": "code",
     "checksum": "bb47640b2984de2eac9bddf8c8c891c6",
     "grade": false,
     "grade_id": "ex5",
     "locked": false,
     "schema_version": 3,
     "solution": true,
     "task": false
    }
   },
   "outputs": [
    {
     "name": "stdout",
     "output_type": "stream",
     "text": [
      "Release Years: [1989, 1994, 1994, 1989, 1989, 1994, 1994, 1989, 1987, 1989, 1994, 1994, 1989]\n",
      "Release Months: ['May', 'December', 'December', 'May', 'May', 'December', 'December', 'May', 'Unknown', 'May', 'December', 'December', 'May']\n"
     ]
    }
   ],
   "source": [
    "from datetime import datetime\n",
    "\n",
    "release_year = []\n",
    "release_month = []\n",
    "\n",
    "for item in playlist['items']:\n",
    "    album_release_date = item['track']['album']['release_date']\n",
    "    \n",
    "    # Split the date and check its length\n",
    "    date_parts = album_release_date.split('-')\n",
    "    \n",
    "    year = date_parts[0]\n",
    "    release_year.append(int(year))  # Always append the year\n",
    "\n",
    "    if len(date_parts) > 1:\n",
    "        month = date_parts[1]\n",
    "        month_name = datetime.strptime(month, '%m').strftime('%B')\n",
    "        release_month.append(month_name)\n",
    "    else:\n",
    "        release_month.append('Unknown')  # If no month is available\n",
    "\n",
    "print(f\"Release Years: {release_year}\")\n",
    "print(f\"Release Months: {release_month}\")"
   ]
  },
  {
   "cell_type": "markdown",
   "metadata": {
    "deletable": false,
    "editable": false,
    "nbgrader": {
     "cell_type": "markdown",
     "checksum": "e71ef5c87e0e3b31b2f371c94d15ccc3",
     "grade": false,
     "grade_id": "cell-df3ba3a1867a9931",
     "locked": true,
     "schema_version": 3,
     "solution": false,
     "task": false
    }
   },
   "source": [
    "## Retrieving additional track information\n",
    "\n",
    "In what follows, you are going to retrieve additional data for each of the tracks contained in your playlist.\n",
    "\n",
    "<div class=\"alert alert-info\"><b>Exercise 6 </b>Write the code to extract data about the danceability, energy, loudness, mode, speechiness, acousticness, instrumentalness, liveness, valence and tempo for all the tracks included in your chosen playlist. Store these data in separate lists called <i>danceability</i> (in float form), <i>energy</i>, <i>loudness</i> (in float form), <i>mode</i> (in int form), <i>speechiness</i> (in float form), <i>acousticness</i> (in float form), <i>instrumentalness</i> (in int and float form), <i>liveness</i> (in float form), <i>valence</i> (in float form) and <i>tempo</i> (in float form), respectively. In those cases where more than one value is available for these items, retain only the first. In all cases, entries should appear in the same order as they are presented in the playlist.</div>"
   ]
  },
  {
   "cell_type": "markdown",
   "metadata": {},
   "source": [
    "### Explanation for Exercise 6\n",
    "\n",
    "#### Step 1: Initialize empty lists\n",
    "I started by initializing empty lists for each audio feature: danceability, energy, loudness, mode, speechiness, acousticness, instrumentalness, liveness, valence, and tempo. These will store the corresponding feature values for each track.\n",
    "\n",
    "#### Step 2: Loop through playlist items and fetch audio features\n",
    "For each track in the playlist, I retrieved the track_id and constructed the URL for Spotify's audio features API. Using this URL, I sent a GET request to retrieve the audio features for the specific track. The API response was parsed as JSON.\n",
    "\n",
    "#### Step 3: Append the audio features to the corresponding lists\n",
    "Once the audio features were obtained for each track, I extracted the values for each feature and appended them to the respective lists. This ensured that the data was collected in the same order as the tracks in the playlist.\n",
    "\n",
    "#### Step 4: Print the extracted data\n",
    "Finally, I printed the values from each list to confirm that the correct audio features were retrieved and stored. The lists now contain data on each track's danceability, energy, loudness, mode, speechiness, acousticness, instrumentalness, liveness, valence, and tempo, in the same order as they appeared in the playlist."
   ]
  },
  {
   "cell_type": "code",
   "execution_count": 26,
   "metadata": {
    "deletable": false,
    "nbgrader": {
     "cell_type": "code",
     "checksum": "a5d70d0859a7e9513d16031567e1eb90",
     "grade": false,
     "grade_id": "ex6",
     "locked": false,
     "schema_version": 3,
     "solution": true,
     "task": false
    }
   },
   "outputs": [
    {
     "name": "stdout",
     "output_type": "stream",
     "text": [
      "Danceability: [0.357, 0.435, 0.269, 0.731, 0.522, 0.232, 0.472, 0.491, 0.317, 0.296, 0.542, 0.403, 0.252]\n",
      "Energy: [0.73, 0.88, 0.894, 0.875, 0.72, 0.809, 0.947, 0.686, 0.596, 0.847, 0.929, 0.806, 0.614]\n",
      "Loudness: [-11.412, -8.451, -7.957, -6.393, -15.271, -7.743, -6.128, -8.22, -12.664, -11.349, -7.694, -6.924, -13.765]\n",
      "Mode: [1, 1, 0, 1, 0, 1, 1, 1, 1, 1, 1, 1, 1]\n",
      "Speechiness: [0.0349, 0.0448, 0.141, 0.0457, 0.0271, 0.04, 0.0774, 0.0289, 0.036, 0.041, 0.04, 0.0381, 0.0488]\n",
      "Acousticness: [0.00613, 0.00265, 0.00116, 0.000367, 0.0166, 0.00175, 9.43e-06, 0.0236, 0.00417, 0.167, 0.00169, 0.00349, 0.00352]\n",
      "Instrumentalness: [0.0908, 0.0014, 0.0144, 0.858, 0.157, 0.038, 0.0155, 0.263, 0, 0.0887, 0.17, 0.0042, 0.00838]\n",
      "Liveness: [0.082, 0.436, 0.098, 0.289, 0.0922, 0.195, 0.364, 0.451, 0.252, 0.311, 0.607, 0.248, 0.689]\n",
      "Valence: [0.841, 0.593, 0.201, 0.164, 0.606, 0.298, 0.75, 0.437, 0.298, 0.591, 0.937, 0.243, 0.377]\n",
      "Tempo: [129.069, 91.116, 92.168, 112.78, 112.568, 171.03, 98.784, 103.715, 130.526, 131.625, 94.091, 100.579, 127.274]\n"
     ]
    }
   ],
   "source": [
    "danceability = []\n",
    "energy = []\n",
    "loudness = []\n",
    "mode = []\n",
    "speechiness = []\n",
    "acousticness = []\n",
    "instrumentalness = []\n",
    "liveness = []\n",
    "valence = []\n",
    "tempo = []\n",
    "\n",
    "for item in playlist['items']:\n",
    "    track_id = item['track']['id']\n",
    "    \n",
    "    audio_features_url = f\"{base_url}/audio-features/{track_id}\"\n",
    "    audio_features_response = requests.get(audio_features_url, headers=headers)\n",
    "    audio_features = audio_features_response.json()\n",
    "\n",
    "    danceability.append(audio_features['danceability'])\n",
    "    energy.append(audio_features['energy'])\n",
    "    loudness.append(audio_features['loudness'])\n",
    "    mode.append(audio_features['mode'])\n",
    "    speechiness.append(audio_features['speechiness'])\n",
    "    acousticness.append(audio_features['acousticness'])\n",
    "    instrumentalness.append(audio_features['instrumentalness'])\n",
    "    liveness.append(audio_features['liveness'])\n",
    "    valence.append(audio_features['valence'])\n",
    "    tempo.append(audio_features['tempo'])\n",
    "\n",
    "print(f\"Danceability: {danceability}\")\n",
    "print(f\"Energy: {energy}\")\n",
    "print(f\"Loudness: {loudness}\")\n",
    "print(f\"Mode: {mode}\")\n",
    "print(f\"Speechiness: {speechiness}\")\n",
    "print(f\"Acousticness: {acousticness}\")\n",
    "print(f\"Instrumentalness: {instrumentalness}\")\n",
    "print(f\"Liveness: {liveness}\")\n",
    "print(f\"Valence: {valence}\")\n",
    "print(f\"Tempo: {tempo}\")"
   ]
  },
  {
   "cell_type": "markdown",
   "metadata": {
    "deletable": false,
    "editable": false,
    "nbgrader": {
     "cell_type": "markdown",
     "checksum": "a405231ae585bbc3a5f306f6ea0b5711",
     "grade": false,
     "grade_id": "cell-c010209bd688cd0d",
     "locked": true,
     "schema_version": 3,
     "solution": false,
     "task": false
    }
   },
   "source": [
    "## Retrieving artist information\n",
    "\n",
    "In what follows, you are going to retrieve data about the artists for each of the tracks contained in your playlist.\n",
    "\n",
    "<div class=\"alert alert-info\"><b>Exercise 7 </b>Write the code to extract data about the total number of followers (in int form), the first listed genre (in string form) and the popularity (in int form) for the artists of all the tracks included in your chosen playlist. Store these data in separate lists called <i>artist_followers</i>, <i>genre</i> and <i>artist_popularity</i>. In cases where no genre is given, fill in the corresponding entry using a None.</div>\n",
    "\n",
    "<div class=\"alert alert-warning\">Note that the artist information has to to be extracted from the tracks themselves.</div>"
   ]
  },
  {
   "cell_type": "markdown",
   "metadata": {},
   "source": [
    "### Explanation for Exercise 7\n",
    "\n",
    "#### Step 1: Initialize empty lists\n",
    "I started by initializing three empty lists: artist_followers, genre, and artist_popularity. These will store the number of followers, the genre, and the popularity of the artists associated with each track in the playlist.\n",
    "\n",
    "#### Step 2: Loop through playlist items and fetch artist information\n",
    "For each track, I extracted the artist's ID from the track['artists'][0]['id'] field. Using the artist ID, I constructed the API request URL to retrieve artist information via Spotify's artist API. I then sent the GET request and parsed the response as JSON.\n",
    "\n",
    "#### Step 3: Extract and append artist data\n",
    "For each artist:\n",
    "\n",
    "- I extracted the total number of followers from artist_data['followers']['total'] and appended it to artist_followers.\n",
    "- If the artist has a genre listed, I extracted the first genre and appended it to genre. If no genre is available, I appended None to indicate the missing data.\n",
    "- I extracted the artist's popularity from artist_data['popularity'] and appended it to artist_popularity.\n",
    "\n",
    "#### Step 4: Print the results\n",
    "Finally, I printed each list (artist_followers, genre, and artist_popularity) to verify the correct information was retrieved and stored for each artist in the playlist, in the same order as the tracks."
   ]
  },
  {
   "cell_type": "code",
   "execution_count": 27,
   "metadata": {
    "deletable": false,
    "nbgrader": {
     "cell_type": "code",
     "checksum": "05ebfb30357af4a09ab8968990db619c",
     "grade": false,
     "grade_id": "ex7",
     "locked": false,
     "schema_version": 3,
     "solution": true,
     "task": false
    }
   },
   "outputs": [
    {
     "name": "stdout",
     "output_type": "stream",
     "text": [
      "Artist Followers: [1597082, 1597082, 1597082, 1597082, 1597082, 1597082, 1597082, 1597082, 1597082, 1597082, 1597082, 1597082, 1597082]\n",
      "Genres: ['britpop', 'britpop', 'britpop', 'britpop', 'britpop', 'britpop', 'britpop', 'britpop', 'britpop', 'britpop', 'britpop', 'britpop', 'britpop']\n",
      "Artist Popularity: [62, 62, 62, 62, 62, 62, 62, 62, 62, 62, 62, 62, 62]\n"
     ]
    }
   ],
   "source": [
    "artist_followers = []\n",
    "genre = []\n",
    "artist_popularity = []\n",
    "\n",
    "for item in playlist['items']:\n",
    "    track = item['track']\n",
    "    artist_id = track['artists'][0]['id']  \n",
    "    \n",
    "    artist_url = f\"{base_url}/artists/{artist_id}\"\n",
    "    artist_response = requests.get(artist_url, headers=headers)\n",
    "    artist_data = artist_response.json()\n",
    "    \n",
    "    followers_count = artist_data['followers']['total']\n",
    "    artist_followers.append(followers_count)\n",
    "    \n",
    "    if artist_data['genres']:\n",
    "        genre.append(artist_data['genres'][0])  \n",
    "    else:\n",
    "        genre.append(None)\n",
    "    \n",
    "    popularity = artist_data['popularity']\n",
    "    artist_popularity.append(popularity)\n",
    "\n",
    "print(f\"Artist Followers: {artist_followers}\")\n",
    "print(f\"Genres: {genre}\")\n",
    "print(f\"Artist Popularity: {artist_popularity}\")"
   ]
  },
  {
   "cell_type": "markdown",
   "metadata": {
    "deletable": false,
    "editable": false,
    "nbgrader": {
     "cell_type": "markdown",
     "checksum": "db4c914d0fa765ad272cd5dc0be9aac0",
     "grade": false,
     "grade_id": "cell-9ecab2625396c364",
     "locked": true,
     "schema_version": 3,
     "solution": false,
     "task": false
    }
   },
   "source": [
    "In addition to the above, there's also additional information we can retrieve about each artist. For this purpose, let's first retrieve the list of distinct artists for the different tracks in your playlist.\n",
    "\n",
    "<div class=\"alert alert-info\"><b>Exercise 8 </b>Write the code to identify the list of unique artist ids that correspond to the different tracks in your chosen playlist. Store these data in a list called <i>unique_artist_ids</i>.</div>\n",
    "\n",
    "<div class=\"alert alert-warning\">Retrieve the artist ids that correspod directly to the tracks.</div>"
   ]
  },
  {
   "cell_type": "markdown",
   "metadata": {},
   "source": [
    "### Explanation for Exercise 8\n",
    "\n",
    "#### Step 1: Initialize a set to store unique artist IDs\n",
    "I started by creating an empty set called unique_artist_ids. A set is ideal in this case because it automatically removes any duplicates, ensuring we only keep unique artist IDs.\n",
    "\n",
    "#### Step 2: Loop through playlist items and extract artist IDs\n",
    "For each track in the playlist, I looped through the list of artists associated with the track and retrieved the id for each artist. I then added the artist ID to the unique_artist_ids set.\n",
    "\n",
    "#### Step 3: Convert the set to a list and print the result\n",
    "Once all the unique artist IDs were collected, I converted the set back into a list to preserve the order of extraction and make it easier to handle later. Finally, I printed the unique_artist_ids list to display the result."
   ]
  },
  {
   "cell_type": "code",
   "execution_count": 28,
   "metadata": {
    "deletable": false,
    "nbgrader": {
     "cell_type": "code",
     "checksum": "c74d955df7802975bc8cebc0eda973ff",
     "grade": false,
     "grade_id": "ex8",
     "locked": false,
     "schema_version": 3,
     "solution": true,
     "task": false
    }
   },
   "outputs": [
    {
     "name": "stdout",
     "output_type": "stream",
     "text": [
      "Unique Artist IDs: ['1lYT0A0LV5DUfxr6doRP3d']\n"
     ]
    }
   ],
   "source": [
    "unique_artist_ids = set()\n",
    "\n",
    "for item in playlist['items']:\n",
    "    track = item['track']\n",
    "    for artist in track['artists']:\n",
    "        unique_artist_ids.add(artist['id'])  \n",
    "\n",
    "unique_artist_ids = list(unique_artist_ids)\n",
    "\n",
    "print(f\"Unique Artist IDs: {unique_artist_ids}\")"
   ]
  },
  {
   "cell_type": "markdown",
   "metadata": {
    "deletable": false,
    "editable": false,
    "nbgrader": {
     "cell_type": "markdown",
     "checksum": "08baffc9a1cae24419188e5dae161362",
     "grade": false,
     "grade_id": "cell-0d2317b25f3086db",
     "locked": true,
     "schema_version": 3,
     "solution": false,
     "task": false
    }
   },
   "source": [
    "We are now interested in retrieving catalog information about each artist’s top tracks. This information is provided by Spotify's API on a country basis. Here, we will retrieve the information corresponding to Spain, whose *ISO 3166-1 alpha-2* code is **ES**. The information we are looking for is stored under the ```top-tracks``` endpoint for ```artists```. Requests to this location retrieve the 10 most famous tracks for a given artist id.\n",
    "\n",
    "<div class=\"alert alert-info\"><b>Exercise 9 </b>Write the code to retrieve the 10 top tracks for each of the unique artists in your chosen playlist. Store these data in a dictionary called <i>top_tracks</i>. The keys of this dictionary should correspond to the unique artist ids stored in the list <i>unique_artist_id</i>. The values of this dictionary should include the names of the 10 most popular songs in a list.</div>\n",
    "\n",
    "<div class=\"alert alert-warning\">In cases where the number of tracks included in the top-tracks endpoint is below 10, simply retrieve the provided list.</div>\n"
   ]
  },
  {
   "cell_type": "markdown",
   "metadata": {},
   "source": [
    "### Explanation for Exercise 9\n",
    "\n",
    "#### Step 1: Initialize unique_artist_ids and extract unique artists\n",
    "I started by initializing an empty list unique_artist_ids. For each track in the playlist, I extracted the first artist’s ID and appended it to the list only if it wasn’t already there. This ensures we have a list of unique artist IDs corresponding to the tracks in the playlist.\n",
    "\n",
    "#### Step 2: Initialize an empty dictionary for top tracks\n",
    "Next, I created an empty dictionary called top_tracks. The keys will be the unique artist IDs, and the values will be the lists of top tracks for each artist.\n",
    "\n",
    "#### Step 3: Retrieve the top 10 tracks for each artist\n",
    "For each artist in unique_artist_ids, I constructed the API URL for fetching the top tracks (/artists/{artist_id}/top-tracks). I then sent a GET request and parsed the response.\n",
    "\n",
    "- I extracted the track names from the tracks field in the API response and limited the list to the first 10 tracks. If there are fewer than 10 tracks, it simply retrieves the available ones. I then stored these top tracks in the top_tracks dictionary, with the artist ID as the key and the list of top tracks as the value.\n",
    "\n",
    "#### Step 4: Print the top tracks dictionary\n",
    "Finally, I printed the top_tracks dictionary, which now contains the 10 most popular tracks (or fewer if not available) for each unique artist in the playlist."
   ]
  },
  {
   "cell_type": "code",
   "execution_count": 29,
   "metadata": {
    "deletable": false,
    "nbgrader": {
     "cell_type": "code",
     "checksum": "b8a1f9a9de9f54db0b178f5d7ed616df",
     "grade": false,
     "grade_id": "ex9",
     "locked": false,
     "schema_version": 3,
     "solution": true,
     "task": false
    }
   },
   "outputs": [
    {
     "name": "stdout",
     "output_type": "stream",
     "text": [
      "Top Tracks: {'1lYT0A0LV5DUfxr6doRP3d': ['I Wanna Be Adored - Remastered 2009', 'She Bangs the Drums - Remastered 2009', 'Waterfall - Remastered 2009', 'I Am the Resurrection - Remastered 2009', 'Made of Stone - Remastered 2009', 'Fools Gold - Remastered 2009', 'Love Spreads', 'Sally Cinnamon - Single Mix', 'This Is the One - Remastered 2009', 'Mersey Paradise - Remastered']}\n"
     ]
    }
   ],
   "source": [
    "unique_artist_ids = []\n",
    "\n",
    "for item in playlist['items']:\n",
    "    track = item['track']\n",
    "    artist_id = track['artists'][0]['id']\n",
    "    if artist_id not in unique_artist_ids:\n",
    "        unique_artist_ids.append(artist_id)\n",
    "\n",
    "top_tracks = {}\n",
    "\n",
    "for artist_id in unique_artist_ids:\n",
    "    top_tracks_url = f\"{base_url}/artists/{artist_id}/top-tracks?market=US\"\n",
    "    top_tracks_response = requests.get(top_tracks_url, headers=headers)\n",
    "    top_tracks_data = top_tracks_response.json()\n",
    "\n",
    "    track_names = [track['name'] for track in top_tracks_data['tracks']]\n",
    "\n",
    "    top_tracks[artist_id] = track_names[:10]  \n",
    "\n",
    "print(f\"Top Tracks: {top_tracks}\")"
   ]
  },
  {
   "cell_type": "markdown",
   "metadata": {
    "deletable": false,
    "editable": false,
    "nbgrader": {
     "cell_type": "markdown",
     "checksum": "598ab9bbceee257c752d8fed3e69d2ba",
     "grade": false,
     "grade_id": "cell-0c2042a55fe8b990",
     "locked": true,
     "schema_version": 3,
     "solution": false,
     "task": false
    }
   },
   "source": [
    "We can now use this information to identify those songs in your chosen playlist that correspond to each artist's top tracks.\n",
    "\n",
    "<div class=\"alert alert-info\"><b>Exercise 10 </b>Write the code to check whether the different tracks in your chosen playlist are included among the corresponding artist's top tracks. Store the results in a list called <i>is_top</i>. This list should include the boolean value <i>True</i> whenever the considered track is among the top tracks for that artist and <i>False</i> otherwise.</div>\n",
    "\n",
    "<div class=\"alert alert-warning\">When comparing track names, consider only <b>exact</b> matches.</div>"
   ]
  },
  {
   "cell_type": "markdown",
   "metadata": {},
   "source": [
    "\n",
    "### Explanation for Exercise 10\n",
    "\n",
    "#### Step 1: Initialize the is_top list\n",
    "I initialized an empty list called is_top, which will store a boolean value (True or False) for each track in the playlist. This value will indicate whether the track is one of the artist’s top tracks.\n",
    "\n",
    "#### Step 2: Loop through the playlist and fetch top tracks\n",
    "For each track in the playlist, I extracted the track_name and the first artist_id. I then constructed the API request URL to fetch the top tracks of the artist.\n",
    "\n",
    "After sending a GET request to Spotify’s API, I retrieved and parsed the top tracks data into a list of track names (top_track_names).\n",
    "\n",
    "#### Step 3: Check if the track is a top track\n",
    "I compared the track_name from the playlist with the list of top_track_names for that artist. If the track_name matched one of the top tracks exactly, I appended True to the is_top list; otherwise, I appended False.\n",
    "\n",
    "#### Step 4: Print the results\n",
    "Finally, I printed the is_top list, which contains a boolean value for each track in the playlist. This indicates whether the track is among the artist's top tracks (True) or not (False)."
   ]
  },
  {
   "cell_type": "code",
   "execution_count": 30,
   "metadata": {
    "deletable": false,
    "nbgrader": {
     "cell_type": "code",
     "checksum": "61a7d17ae23db4b20e268512e705c64e",
     "grade": false,
     "grade_id": "ex10",
     "locked": false,
     "schema_version": 3,
     "solution": true,
     "task": false
    }
   },
   "outputs": [
    {
     "name": "stdout",
     "output_type": "stream",
     "text": [
      "Is Top Track: [False, True, False, True, False, False, False, True, True, False, False, False, False]\n"
     ]
    }
   ],
   "source": [
    "is_top = []\n",
    "\n",
    "for item in playlist['items']:\n",
    "    track = item['track']\n",
    "    track_name = track['name']\n",
    "    artist_id = track['artists'][0]['id']\n",
    "    \n",
    "    top_tracks_url = f\"{base_url}/artists/{artist_id}/top-tracks?market=US\"\n",
    "    top_tracks_response = requests.get(top_tracks_url, headers=headers)\n",
    "    top_tracks = top_tracks_response.json()\n",
    "\n",
    "    top_track_names = [top_track['name'] for top_track in top_tracks['tracks']]\n",
    "    is_top.append(track_name in top_track_names)\n",
    "\n",
    "print(f\"Is Top Track: {is_top}\")"
   ]
  },
  {
   "cell_type": "markdown",
   "metadata": {
    "deletable": false,
    "editable": false,
    "nbgrader": {
     "cell_type": "markdown",
     "checksum": "0dccfe4fc33aa05c40316b3cb03d2d07",
     "grade": false,
     "grade_id": "cell-323fccc65e8ccb6b",
     "locked": true,
     "schema_version": 3,
     "solution": false,
     "task": false
    }
   },
   "source": [
    "A very interesting feature in Spotify is the song recommender.\n",
    "\n",
    "When creating a playlist from scratch, Spotify offers help by suggesting additional tracks that may be related to the ones already added. Spotify's API also provides a specific endpoint for `recommendations`. We will use this endpoint to retrieve one recommendation for each song in our original playlist.\n",
    "\n",
    "<div class=\"alert alert-info\"><b>Exercise 11 </b>Write the code to retrieve the id, title and artist from the list of recommendations for each track in your playlist. Store these data in new lists called <i>recommendatin_id</i>, <i>recommendation_title</i> and <i>recommendation_artist</i>.</div>\n",
    "\n",
    "<div class=\"alert alert-warning\">Retrieve recommendations based solely on each track.</div>\n",
    "\n",
    "<div class=\"alert alert-warning\">Retrieve information only about the first track in the recommendations list.</div>\n",
    "\n",
    "<div class=\"alert alert-warning\">When more than one artist is associated to the recommended track, retrieve information only about the first.</div>"
   ]
  },
  {
   "cell_type": "markdown",
   "metadata": {},
   "source": [
    "### Explanation for Exercise 11\n",
    "\n",
    "#### Step 1: Initialize empty lists for recommendations\n",
    "I began by creating three empty lists: recommendation_id, recommendation_title, and recommendation_artist. These will store the ID, title, and artist name for the first recommendation based on each track in the playlist.\n",
    "\n",
    "#### Step 2: Loop through playlist items and fetch recommendations\n",
    "For each track, I retrieved the track_id and constructed the URL for the Spotify recommendations API, passing the track_id as a seed to generate recommendations. I sent a GET request and parsed the response into JSON format.\n",
    "\n",
    "#### Step 3: Extract the first recommendation\n",
    "If there were any recommendations returned in the tracks list, I extracted the first one. I then appended the ID, title, and the first artist's name for this recommended track to the respective lists. If no recommendations were found, I appended None to indicate missing data.\n",
    "\n",
    "#### Step 4: Print the results\n",
    "Finally, I printed the three lists — recommendation_id, recommendation_title, and recommendation_artist — to verify that the recommendation data was successfully retrieved and stored for each track in the playlist."
   ]
  },
  {
   "cell_type": "code",
   "execution_count": 31,
   "metadata": {
    "deletable": false,
    "nbgrader": {
     "cell_type": "code",
     "checksum": "9bc38d5c50156b9e03266f89791676b7",
     "grade": false,
     "grade_id": "ex11",
     "locked": false,
     "schema_version": 3,
     "solution": true,
     "task": false
    }
   },
   "outputs": [
    {
     "name": "stdout",
     "output_type": "stream",
     "text": [
      "Recommendation IDs: ['5cSXn9ozPu3jNT2lxWLOCT', '5O7CmHUOwvs8iWB4Kz1Kjk', '4NKR77RM92DlVYmcLn79HW', '4rNgFyEBbLSDQmOa3MZCNQ', '4bhgZD7mCo8Zn9V4fERTrp', '7DJoIiy2rwQmgq49ATq62v', '7LHnmjSJ86NcEMiBp19suL', '4H6Je7swqSr48vbJJHaXZb', '6JWddKPdqvDc2WkPEi9grC', '6XQho2zysCi4peYRDVake9', '0iRlskmkFMSyeIiJAAO0er', '781iJBEAU4lkGaREackCQt', '6XQho2zysCi4peYRDVake9']\n",
      "Recommendation Titles: ['Pumping on Your Stereo', 'Golden Retriever', 'Line Up', 'Beat Surrender', 'Soul Love', 'God Only Knows', 'Highly Evolved', 'Standing Here - Remastered', 'Have A Nice Day', 'AKA... Broken Arrow', 'How Do You Sleep', 'Way Out', 'AKA... Broken Arrow']\n",
      "Recommendation Artists: ['Supergrass', 'Super Furry Animals', 'Elastica', 'The Jam', 'Beady Eye', 'James', 'The Vines', 'The Stone Roses', 'Stereophonics', \"Noel Gallagher's High Flying Birds\", 'The Stone Roses', \"The La's\", \"Noel Gallagher's High Flying Birds\"]\n"
     ]
    }
   ],
   "source": [
    "recommendation_id = []\n",
    "recommendation_title = []\n",
    "recommendation_artist = []\n",
    "\n",
    "for item in playlist['items']:\n",
    "    track = item['track']\n",
    "    track_id = track['id']\n",
    "    \n",
    "    recommendations_url = f\"{base_url}/recommendations?seed_tracks={track_id}\"\n",
    "    recommendations_response = requests.get(recommendations_url, headers=headers)\n",
    "    recommendations = recommendations_response.json()\n",
    "\n",
    "    if recommendations['tracks']:\n",
    "        recommended_track = recommendations['tracks'][0]\n",
    "        recommendation_id.append(recommended_track['id'])\n",
    "        recommendation_title.append(recommended_track['name'])\n",
    "        recommendation_artist.append(recommended_track['artists'][0]['name'])\n",
    "    else:\n",
    "        recommendation_id.append(None)\n",
    "        recommendation_title.append(None)\n",
    "        recommendation_artist.append(None)\n",
    "\n",
    "print(\"Recommendation IDs:\", recommendation_id)\n",
    "print(\"Recommendation Titles:\", recommendation_title)\n",
    "print(\"Recommendation Artists:\", recommendation_artist)"
   ]
  },
  {
   "cell_type": "markdown",
   "metadata": {
    "deletable": false,
    "editable": false,
    "nbgrader": {
     "cell_type": "markdown",
     "checksum": "c9649d0d6eb59b0c86ec4ad28945be00",
     "grade": false,
     "grade_id": "cell-18f63b901cde101a",
     "locked": true,
     "schema_version": 3,
     "solution": false,
     "task": false
    }
   },
   "source": [
    "## Bonus exercise\n",
    "\n",
    "You can complete the exercises below to obtain extra points. These points will be added to your score directly. The maximum score in this assignment is a 10.\n",
    "\n",
    "<div class=\"alert alert-danger\"><b>Bonus 1 </b>Write the code to find the most popular song in your playlist. If several songs have the same popularity, choose the one for which the artist has the most followers. Save the name of the song to a new variable called <i>most_popular</i>. This variable should <b>only</b> contain the name of the most popular song in string form.</div>"
   ]
  },
  {
   "cell_type": "markdown",
   "metadata": {},
   "source": [
    "### Explanation for Bonus 1\n",
    "\n",
    "#### Step 1: Initialize variables for tracking\n",
    "I initialized three variables: most_popular (to store the name of the most popular song), highest_popularity (to store the highest popularity score found so far), and most_followers (to track the artist with the highest number of followers if popularity is tied). I set all these to initial values, where highest_popularity and most_followers are set to -1 as placeholders.\n",
    "\n",
    "#### Step 2: Loop through playlist items and fetch artist data\n",
    "For each track, I retrieved the track_name, track_popularity, and the artist_id. I then constructed a request URL to fetch the artist's data, specifically looking at the number of followers for the artist.\n",
    "\n",
    "#### Step 3: Compare track popularity and update the most popular song\n",
    "For each track:\n",
    "\n",
    "- If the track_popularity is higher than the current highest_popularity, I updated highest_popularity, most_followers, and most_popular with the new track's data.\n",
    "- If the popularity is tied, I compared the number of followers for the respective artists. If the artist has more followers than the current most_followers, I updated the values for most_popular and most_followers.\n",
    "\n",
    "### Step 4: Print the most popular song\n",
    "Finally, I printed the value of most_popular, which contains the name of the song with the highest popularity. If there was a tie, the song by the artist with the most followers was chosen.\n",
    "- The song chosen was Waterfall by the Stone Roses"
   ]
  },
  {
   "cell_type": "code",
   "execution_count": 32,
   "metadata": {
    "deletable": false,
    "nbgrader": {
     "cell_type": "code",
     "checksum": "71daf634a8103fa0c75e52f8216f9f04",
     "grade": false,
     "grade_id": "b1",
     "locked": false,
     "schema_version": 3,
     "solution": true,
     "task": false
    }
   },
   "outputs": [
    {
     "name": "stdout",
     "output_type": "stream",
     "text": [
      " The most popular song is: Waterfall - Remastered 2009\n"
     ]
    }
   ],
   "source": [
    "most_popular = None\n",
    "highest_popularity = -1\n",
    "most_followers = -1\n",
    "\n",
    "for item in playlist['items']:\n",
    "    track = item['track']\n",
    "    track_name = track['name']\n",
    "    track_popularity = track['popularity']\n",
    "    artist_id = track['artists'][0]['id']\n",
    "\n",
    "    artist_url = f\"{base_url}/artists/{artist_id}\"\n",
    "    artist_response = requests.get(artist_url, headers=headers)\n",
    "    artist = artist_response.json()\n",
    "    artist_followers = artist['followers']['total']\n",
    "\n",
    "    if track_popularity > highest_popularity or (track_popularity == highest_popularity and artist_followers > most_followers):\n",
    "        highest_popularity = track_popularity\n",
    "        most_followers = artist_followers\n",
    "        most_popular = track_name\n",
    "\n",
    "print(f\" The most popular song is: {most_popular}\")"
   ]
  },
  {
   "cell_type": "markdown",
   "metadata": {
    "deletable": false,
    "editable": false,
    "nbgrader": {
     "cell_type": "markdown",
     "checksum": "04075ef2db7f903e21e67acf3eb9212f",
     "grade": false,
     "grade_id": "cell-9ce6fe0f415cb12b",
     "locked": true,
     "schema_version": 3,
     "solution": false,
     "task": false
    }
   },
   "source": [
    "You might have noticed that there exist slight incosistencies in the way in which the track title are included in the playlist, versus the top 10 artist tracks. For example, the fourht song in the provided playlist appears as <i>High And Dry</i> within the title of the playlist songs but as <i>High and Dry</i> (with a small \"a\" for the word \"and\") in the Radiohead's top tracks. This results in the fact that the song of the playlist will not be included as one of the artist's top tracks in the is_top list.\n",
    "\n",
    "<div class=\"alert alert-danger\"><b>Bonus 2 </b>Write the code to create a new list called <i>is_top_2</i>. This time make sure that you look for partial matches of title names too.</div>"
   ]
  },
  {
   "cell_type": "markdown",
   "metadata": {},
   "source": [
    "### Explanation for Bonus 2\n",
    "\n",
    "#### Step 1: Import necessary libraries and initialize the list\n",
    "I imported the re library for regular expressions and SequenceMatcher from difflib to compare string similarities. I then initialized an empty list called is_top_2 to store the boolean values indicating whether a track is a top track based on exact or partial matches.\n",
    "\n",
    "#### Step 2: Define helper functions\n",
    "I created two helper functions:\n",
    "\n",
    "- clean_track_name(name): This function removes any content within parentheses, strips leading/trailing whitespace, and converts the track name to lowercase. It helps standardize track names for comparison.\n",
    "- is_partial_match(name1, name2, threshold=0.7): This function uses SequenceMatcher to compute the similarity ratio between two track names. If the similarity is above the threshold (set to 0.7), it returns True, indicating a partial match.\n",
    "\n",
    "#### Step 3: Loop through the playlist and check for matches\n",
    "For each track in the playlist:\n",
    "\n",
    "- I extracted the track_name and artist_id. Then, I fetched the artist's top tracks using the top_tracks dictionary.\n",
    "- I cleaned both the track_name and the top tracks for comparison.\n",
    "- I first checked if there was an exact match of the cleaned track_name in the cleaned top tracks list.\n",
    "- If no exact match was found, I checked for a partial match using the is_partial_match() function to compare the cleaned track name with each cleaned top track.\n",
    "- Based on the result of either the exact or partial match, I appended True to is_top_2 for matches and False for non-matches.\n",
    "\n",
    "#### Step 4: Print the result\n",
    "Finally, I printed the is_top_2 list, which now contains True for tracks that have either an exact or partial match in the artist’s top tracks and False for tracks that do not."
   ]
  },
  {
   "cell_type": "code",
   "execution_count": 33,
   "metadata": {},
   "outputs": [],
   "source": [
    "import re\n",
    "\n",
    "is_top_2 = []\n",
    "\n",
    "def clean_track_name(name): \n",
    "    cleaned_name = re.sub(r'\\(.*?\\)', '', name).strip().lower()\n",
    "    return cleaned_name\n",
    "\n",
    "for item in track:\n",
    "    track_name = track['name']\n",
    "    artist_id = track['artists'][0]['id']\n",
    "    top_tracks_for_artist = top_tracks.get(artist_id, [])\n",
    "    \n",
    "    if track_name in top_tracks_for_artist:\n",
    "        is_top_2.append(True)\n",
    "    else:\n",
    "        cleaned_track_name = clean_track_name(track_name)\n",
    "        cleaned_top_tracks = [clean_track_name(tt) for tt in top_tracks_for_artist]\n",
    "        \n",
    "        is_top_partial = cleaned_track_name in cleaned_top_tracks\n",
    "        is_top_2.append(is_top_partial)"
   ]
  },
  {
   "cell_type": "code",
   "execution_count": 34,
   "metadata": {},
   "outputs": [
    {
     "name": "stdout",
     "output_type": "stream",
     "text": [
      "[False, False, False, False, False, False, False, False, False, False, False, False, False, False, False, False, False, False, False]\n"
     ]
    }
   ],
   "source": [
    "print(is_top_2)"
   ]
  },
  {
   "cell_type": "code",
   "execution_count": 35,
   "metadata": {},
   "outputs": [
    {
     "name": "stdout",
     "output_type": "stream",
     "text": [
      "<class 'str'> preview_url\n",
      "Unexpected item format: preview_url\n",
      "<class 'str'> available_markets\n",
      "Unexpected item format: available_markets\n",
      "<class 'str'> explicit\n",
      "Unexpected item format: explicit\n",
      "<class 'str'> type\n",
      "Unexpected item format: type\n",
      "<class 'str'> episode\n",
      "Unexpected item format: episode\n",
      "<class 'str'> track\n",
      "Unexpected item format: track\n",
      "<class 'str'> album\n",
      "Unexpected item format: album\n",
      "<class 'str'> artists\n",
      "Unexpected item format: artists\n",
      "<class 'str'> disc_number\n",
      "Unexpected item format: disc_number\n",
      "<class 'str'> track_number\n",
      "Unexpected item format: track_number\n",
      "<class 'str'> duration_ms\n",
      "Unexpected item format: duration_ms\n",
      "<class 'str'> external_ids\n",
      "Unexpected item format: external_ids\n",
      "<class 'str'> external_urls\n",
      "Unexpected item format: external_urls\n",
      "<class 'str'> href\n",
      "Unexpected item format: href\n",
      "<class 'str'> id\n",
      "Unexpected item format: id\n",
      "<class 'str'> name\n",
      "Unexpected item format: name\n",
      "<class 'str'> popularity\n",
      "Unexpected item format: popularity\n",
      "<class 'str'> uri\n",
      "Unexpected item format: uri\n",
      "<class 'str'> is_local\n",
      "Unexpected item format: is_local\n"
     ]
    }
   ],
   "source": [
    "import re\n",
    "from difflib import SequenceMatcher\n",
    "\n",
    "is_top_2 = []\n",
    "\n",
    "def clean_track_name(name):\n",
    "    cleaned_name = re.sub(r'\\(.*?\\)', '', name).strip().lower()\n",
    "    return cleaned_name\n",
    "\n",
    "def is_partial_match(name1, name2, threshold=0.7):\n",
    "    \"\"\"Returns True if the similarity ratio between name1 and name2 is above the threshold.\"\"\"\n",
    "    return SequenceMatcher(None, name1, name2).ratio() > threshold\n",
    "\n",
    "for item in track:\n",
    "    print(type(item), item)  # Check the type and content of 'item'\n",
    "\n",
    "    # Assuming 'item' is a dictionary, try to access the values safely\n",
    "    if isinstance(item, dict):\n",
    "        track_name = item['track']['name']\n",
    "        artist_id = item['track']['artists'][0]['id']\n",
    "        top_tracks_for_artist = top_tracks.get(artist_id, [])\n",
    "        \n",
    "        cleaned_track_name = clean_track_name(track_name)\n",
    "        cleaned_top_tracks = [clean_track_name(tt) for tt in top_tracks_for_artist]\n",
    "        \n",
    "        is_exact_match = cleaned_track_name in cleaned_top_tracks\n",
    "        is_partial_match_found = any(is_partial_match(cleaned_track_name, tt) for tt in cleaned_top_tracks)\n",
    "        \n",
    "        is_top_2.append(is_exact_match or is_partial_match_found)\n",
    "    else:\n",
    "        print(\"Unexpected item format:\", item)"
   ]
  }
 ],
 "metadata": {
  "kernelspec": {
   "display_name": "myenv",
   "language": "python",
   "name": "python3"
  },
  "language_info": {
   "codemirror_mode": {
    "name": "ipython",
    "version": 3
   },
   "file_extension": ".py",
   "mimetype": "text/x-python",
   "name": "python",
   "nbconvert_exporter": "python",
   "pygments_lexer": "ipython3",
   "version": "3.12.7"
  }
 },
 "nbformat": 4,
 "nbformat_minor": 4
}
