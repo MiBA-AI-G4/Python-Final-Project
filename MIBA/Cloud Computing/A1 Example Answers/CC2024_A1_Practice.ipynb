{
 "cells": [
  {
   "cell_type": "markdown",
   "metadata": {
    "deletable": false,
    "editable": false,
    "nbgrader": {
     "cell_type": "markdown",
     "checksum": "6bab5dc4a9ae1fb8959e4be26f0ff10a",
     "grade": false,
     "grade_id": "cell-aad0d9693d861220",
     "locked": true,
     "schema_version": 3,
     "solution": false,
     "task": false
    }
   },
   "source": [
    "# Practice: Spotify's API\n",
    "\n",
    "This notebook contains a set of exercises that will guide you through the different steps of this practice exercise. Devise solutions that are code-based, i.e. not hard-coded or manually computed. \n",
    "\n",
    "<div class=\"alert alert-success\">The aim of this exercise is to create and save a dataset containing information about every song in a given playlist by requesting data from Spotify's API.</div>"
   ]
  },
  {
   "cell_type": "markdown",
   "metadata": {
    "deletable": false,
    "editable": false,
    "nbgrader": {
     "cell_type": "markdown",
     "checksum": "e1efaab6e57a3d65ffcb540555ef9a2b",
     "grade": false,
     "grade_id": "cell-e0139011318f6903",
     "locked": true,
     "schema_version": 3,
     "solution": false,
     "task": false
    }
   },
   "source": [
    "## Getting client credentials\n",
    "\n",
    "Spotify's API uses an Authentication scheme called OAuth. Hence, before starting to make requests, you need to get your client credentials to the Spotify API. \n",
    "\n",
    "To do so, you need to have a Spotify account (free or paid). If you don't have one yet, please create a free account before moving on. Once you do, head over to Spotify for Developers, open your [Dashboard](https://developer.spotify.com/dashboard/) and log in with your account. \n",
    "\n",
    "Click on “CREATE APP”. Fill in the name and description for your project. Under \"Redirect URI\", enter \"http://localhost:8888/callback\" (don't worry about this, as it won't be used). Finally, it the tick boxes, select \"Web API\". \n",
    "\n",
    "Once your App has been created, you should see the app name in the Dashboard. Click on it, then on \"Settings\", and then on \"View Client Secret\".  The numbers for “Client ID” and “Client Secret” on correspond to your client credentials."
   ]
  },
  {
   "cell_type": "markdown",
   "metadata": {
    "deletable": false,
    "editable": false,
    "nbgrader": {
     "cell_type": "markdown",
     "checksum": "1497ad5d6fb2d5e0a38f58aa1f5c6d0b",
     "grade": false,
     "grade_id": "cell-4655de3fb67ffa5",
     "locked": true,
     "schema_version": 3,
     "solution": false,
     "task": false
    }
   },
   "source": [
    "<div class=\"alert alert-info\">Create two new variables, <b>client_id</b> and <b>client_secret</b>, that store your ID and Key, respectively</div>"
   ]
  },
  {
   "cell_type": "code",
   "execution_count": 1,
   "metadata": {
    "deletable": false,
    "nbgrader": {
     "cell_type": "code",
     "checksum": "ee951a884eeb6427e80e119f6b2aaf26",
     "grade": false,
     "grade_id": "cell-a8f99e4278237a63",
     "locked": false,
     "schema_version": 3,
     "solution": true,
     "task": false
    }
   },
   "outputs": [],
   "source": [
    "client_id = \"5236f001113d42aa982409f077a7d5a7\"\n",
    "client_secret = \"648c84f93dfc4588b53b6197d410cd40\"\n"
   ]
  },
  {
   "cell_type": "markdown",
   "metadata": {
    "deletable": false,
    "editable": false,
    "nbgrader": {
     "cell_type": "markdown",
     "checksum": "61428db5788c061a0a0c4463bf36744c",
     "grade": false,
     "grade_id": "cell-49933e4db6b9f0fc",
     "locked": true,
     "schema_version": 3,
     "solution": false,
     "task": false
    }
   },
   "source": [
    "These are the keys that you will use throughout the remaining of the assignment.\n",
    "\n"
   ]
  },
  {
   "cell_type": "markdown",
   "metadata": {
    "deletable": false,
    "editable": false,
    "nbgrader": {
     "cell_type": "markdown",
     "checksum": "b4eea321904500000f1b6a7d90bd3c0b",
     "grade": false,
     "grade_id": "cell-64dcea57f1ef17bb",
     "locked": true,
     "schema_version": 3,
     "solution": false,
     "task": false
    }
   },
   "source": [
    "Great! We are good to go. Next step is getting an access token.\n",
    "\n",
    "## Getting an access token / key\n",
    "\n",
    "In order to access the various endpoints of the Spotify API, we need to pass an access token. \n",
    "\n",
    "To get one, we need to pass a ```POST``` request with our client credentials. This request will create a token resource in the server and respond back with it. We can build this ```POST``` request using ```requests``` library. In other words, the first API call in the spotify API is the call to get the access token. \n",
    "\n",
    "<div class=\"alert alert-info\">Run the following cell to built your POST request</div>"
   ]
  },
  {
   "cell_type": "code",
   "execution_count": 2,
   "metadata": {},
   "outputs": [
    {
     "name": "stdout",
     "output_type": "stream",
     "text": [
      "Requirement already satisfied: requests in /Library/Frameworks/Python.framework/Versions/3.12/lib/python3.12/site-packages (2.32.3)\n",
      "Requirement already satisfied: charset-normalizer<4,>=2 in /Library/Frameworks/Python.framework/Versions/3.12/lib/python3.12/site-packages (from requests) (3.4.0)\n",
      "Requirement already satisfied: idna<4,>=2.5 in /Library/Frameworks/Python.framework/Versions/3.12/lib/python3.12/site-packages (from requests) (3.10)\n",
      "Requirement already satisfied: urllib3<3,>=1.21.1 in /Library/Frameworks/Python.framework/Versions/3.12/lib/python3.12/site-packages (from requests) (2.2.3)\n",
      "Requirement already satisfied: certifi>=2017.4.17 in /Library/Frameworks/Python.framework/Versions/3.12/lib/python3.12/site-packages (from requests) (2024.8.30)\n",
      "Note: you may need to restart the kernel to use updated packages.\n"
     ]
    }
   ],
   "source": [
    "pip install requests"
   ]
  },
  {
   "cell_type": "code",
   "execution_count": 3,
   "metadata": {
    "deletable": false,
    "editable": false,
    "nbgrader": {
     "cell_type": "code",
     "checksum": "6b7aba733f6bd1d2a2761526fe6d951f",
     "grade": false,
     "grade_id": "cell-b8e8ca29681cdd42",
     "locked": true,
     "schema_version": 3,
     "solution": false,
     "task": false
    }
   },
   "outputs": [
    {
     "data": {
      "text/plain": [
       "{'access_token': 'BQBWetEdmBkAFFEqkiitkFoLgiV5GnaK4skaYIngTbYWKMLGUWxvT0WDtqoctGpCYCS1-iViSKM-k87T1dDihmSFnFpmEkcRmz-u1qd7n-Q5WA2RUgQ',\n",
       " 'token_type': 'Bearer',\n",
       " 'expires_in': 3600}"
      ]
     },
     "execution_count": 3,
     "metadata": {},
     "output_type": "execute_result"
    }
   ],
   "source": [
    "import requests\n",
    "\n",
    "# URL for token resource\n",
    "auth_url = 'https://accounts.spotify.com/api/token'\n",
    "\n",
    "# request body\n",
    "params = {'grant_type': 'client_credentials',\n",
    "          'client_id': client_id,\n",
    "          'client_secret': client_secret}\n",
    "\n",
    "# POST the request\n",
    "response =  requests.post(auth_url, data=params)\n",
    "response.json()\n"
   ]
  },
  {
   "cell_type": "markdown",
   "metadata": {
    "deletable": false,
    "editable": false,
    "nbgrader": {
     "cell_type": "markdown",
     "checksum": "46f10215736bfccf94a4d67889154434",
     "grade": false,
     "grade_id": "cell-4655de3f67ffa5",
     "locked": true,
     "schema_version": 3,
     "solution": false,
     "task": false
    }
   },
   "source": [
    "Take a look at the response you obtained. The access_token you just retrieved will expire after one hour.\n",
    "\n",
    "<div class=\"alert alert-info\">Retrieve your token from <b>auth_response</b> and save it in a new variable called <b>access_token</b>. </div>\n",
    "\n",
    "<div class=\"alert alert-warning\">Make sure you define the <i>access_token</i> variable such that it will be updated each time your code is run from scratch, i.e. make sure it hasn't expired by the time your code is graded.</div>"
   ]
  },
  {
   "cell_type": "code",
   "execution_count": 4,
   "metadata": {
    "deletable": false,
    "nbgrader": {
     "cell_type": "code",
     "checksum": "7e315e1b5f356569bf6342699c8a86ef",
     "grade": false,
     "grade_id": "cell-a36c1578e8991a09",
     "locked": false,
     "schema_version": 3,
     "solution": true,
     "task": false
    }
   },
   "outputs": [
    {
     "name": "stdout",
     "output_type": "stream",
     "text": [
      "Access Token: BQBWetEdmBkAFFEqkiitkFoLgiV5GnaK4skaYIngTbYWKMLGUWxvT0WDtqoctGpCYCS1-iViSKM-k87T1dDihmSFnFpmEkcRmz-u1qd7n-Q5WA2RUgQ\n"
     ]
    }
   ],
   "source": [
    "auth_response = response.json()\n",
    "access_token = auth_response['access_token']\n",
    "\n",
    "print(\"Access Token:\", access_token)"
   ]
  },
  {
   "cell_type": "markdown",
   "metadata": {
    "deletable": false,
    "editable": false,
    "nbgrader": {
     "cell_type": "markdown",
     "checksum": "9edab5502cdaef07562131f21a1c962f",
     "grade": false,
     "grade_id": "cell-4933e4db6b9f0fc",
     "locked": true,
     "schema_version": 3,
     "solution": false,
     "task": false
    }
   },
   "source": [
    "As above, the access token will be used throughout the remaining of the assignment.\n",
    "\n"
   ]
  },
  {
   "cell_type": "markdown",
   "metadata": {
    "deletable": false,
    "editable": false,
    "nbgrader": {
     "cell_type": "markdown",
     "checksum": "e8a702de4e29d1c8f452f0323ce314de",
     "grade": false,
     "grade_id": "cell-bf970f92289da11f",
     "locked": true,
     "schema_version": 3,
     "solution": false,
     "task": false
    }
   },
   "source": [
    "This token is your golden ticket to access Spotify's API. A copy of this string is now stored in the server, so that everytime you make a request to the API the server will check that the token you provide and the one it has in store match.\n",
    "\n",
    "<img src=\"https://www.dropbox.com/s/hgb02k4h1mtdv22/header.png?raw=1\" width=\"500\">\n",
    "\n",
    "Similar to the Cohere API, Spotify's API expects you to include your access token in the requests header. We won't use headers in this course and this is the only exception: when some APIs require to specify the authentication in the header. Hence, the header has already been formatted for you. \n",
    "\n",
    "<div class=\"alert alert-info\">Run the following cell to save the header in a new variable so that you can use it later on.</div>"
   ]
  },
  {
   "cell_type": "code",
   "execution_count": 5,
   "metadata": {
    "deletable": false,
    "editable": false,
    "nbgrader": {
     "cell_type": "code",
     "checksum": "285adc76fcbaf501872498b0ab6831e9",
     "grade": false,
     "grade_id": "cell-833fb722a3560430",
     "locked": true,
     "schema_version": 3,
     "solution": false,
     "task": false
    }
   },
   "outputs": [],
   "source": [
    "headers = {'Authorization': 'Bearer {token}'.format(token=access_token)}"
   ]
  },
  {
   "cell_type": "markdown",
   "metadata": {
    "deletable": false,
    "editable": false,
    "nbgrader": {
     "cell_type": "markdown",
     "checksum": "af98ff50781069b34e25c69aca3b3ce4",
     "grade": false,
     "grade_id": "cell-d5a8d2ff0308a4e1",
     "locked": true,
     "schema_version": 3,
     "solution": false,
     "task": false
    }
   },
   "source": [
    "## Poking around\n",
    "\n",
    "Spotify's API provides numerous endpoints to access things like album listings, artist information, playlists, even Spotify-generated audio analysis of individual tracks, which include their time signature or measurements such as their “danceability” or \"loudness\". You can take a look at all the information available by reading the [Docs](https://developer.spotify.com/documentation/web-api/reference/). In this assignment you will use several of these endpoints.\n",
    "\n",
    "In order to get a feel of how the API works, we will begin by making a ```GET``` request to the ```audio-features``` endpoint to extract data for a specific track. In particular, let's retrieve all the information for Radiohead's *Creep* song. \n",
    "\n",
    "The first thing you need is to identify the appropriate URL or path to direct your request to. The urls for all Spotify API endpoints follow the same structure. They all use the base URL for the API and are then defined as a concatenation of ```base_url + endpoint```. Sometimes, you will also need to provide some additional information as part of the URL. In the case of ```audio-features```, however, it is enough with just the ```base_url``` and the ```endpoint``` name.\n",
    "\n",
    "The ```base_url``` is defined below:"
   ]
  },
  {
   "cell_type": "code",
   "execution_count": 6,
   "metadata": {
    "deletable": false,
    "editable": false,
    "nbgrader": {
     "cell_type": "code",
     "checksum": "57e51c779db2018952d09477ceb53b3f",
     "grade": false,
     "grade_id": "cell-d3cb0c4134cdbf9b",
     "locked": true,
     "schema_version": 3,
     "solution": false,
     "task": false
    }
   },
   "outputs": [],
   "source": [
    "base_url = 'https://api.spotify.com/v1'"
   ]
  },
  {
   "cell_type": "markdown",
   "metadata": {
    "deletable": false,
    "editable": false,
    "nbgrader": {
     "cell_type": "markdown",
     "checksum": "c95a00ff95482cfcb3251112ed5cd834",
     "grade": false,
     "grade_id": "cell-4655de3f6ffa5",
     "locked": true,
     "schema_version": 3,
     "solution": false,
     "task": false
    }
   },
   "source": [
    "<div class=\"alert alert-info\">Define the url for the audio-features endpoint by following the instructions above. Store it in a variable called <b>audio_features_endpoint</b>.</div>"
   ]
  },
  {
   "cell_type": "code",
   "execution_count": 7,
   "metadata": {
    "deletable": false,
    "nbgrader": {
     "cell_type": "code",
     "checksum": "51e030ad7bd50b1c76e00f6c9005c5dd",
     "grade": false,
     "grade_id": "cell-ca3d8e649e362237",
     "locked": false,
     "schema_version": 3,
     "solution": true,
     "task": false
    }
   },
   "outputs": [
    {
     "name": "stdout",
     "output_type": "stream",
     "text": [
      "https://api.spotify.com/v1/audio-features\n"
     ]
    }
   ],
   "source": [
    "\n",
    "\n",
    "audio_features_endpoint = f\"{base_url}/audio-features\"\n",
    "\n",
    "print(audio_features_endpoint)\n"
   ]
  },
  {
   "cell_type": "markdown",
   "metadata": {
    "deletable": false,
    "editable": false,
    "nbgrader": {
     "cell_type": "markdown",
     "checksum": "b00f3bbccaf59c7f65fb111fd7cf0c73",
     "grade": false,
     "grade_id": "cell-abc5bc0d1f57c982",
     "locked": true,
     "schema_version": 3,
     "solution": false,
     "task": false
    }
   },
   "source": [
    "Next thing we need is to fill in the request body. If you check the documentation you'll see that the ```audio-features``` endpoint takes the following query parameters.\n",
    "\n",
    "<img src=\"https://www.dropbox.com/s/s4zs6wlue0u16cu/body.png?raw=1\" width=\"500\">\n",
    "\n",
    "Hence, the final thing you need to extract data about Radiohead's Creep song is to locate its ```id```. This is its unique identifier. Spotify has unique ids for tracks, for artists, for albums, for playlists, etc.\n",
    "\n",
    "![Creep](https://www.dropbox.com/s/kufj6ww2yn069gb/creep.png?raw=1)\n",
    "\n",
    "You can get the ```id``` for any song by going to Spotify, looking for the song, clicking the “…” by the song name, then “Share” and then “Copy Spotify URI”. \n",
    "\n",
    "<div class=\"alert alert-warning\">Note that this procedure also works for retrieving ids for artists, albums or any other resource type. Alternatively, you can also retrieve the id for a song or a playlist by clicking \"...\" by the name, then \"Share\" and the \"Copy Link\". This will return a full link to the resource. The id corresponds to the string right after the last slash sign / and before the ? sign</div>\n",
    "\n",
    "This URI should be a string that includes something like **spotify:track:**, followed by an alphanumeric sequence. This sequence is the ID you are looking for.\n",
    "\n",
    "<div class=\"alert alert-info\">Create a new variable called <b>track_id</b> that stores the ID for Radiohead's song Creep.</div>"
   ]
  },
  {
   "cell_type": "code",
   "execution_count": 8,
   "metadata": {
    "deletable": false,
    "nbgrader": {
     "cell_type": "code",
     "checksum": "e17fd2ba59901974feeb6649ac56a98c",
     "grade": false,
     "grade_id": "cell-a82a3e3a0e9e9b53",
     "locked": false,
     "schema_version": 3,
     "solution": true,
     "task": false
    }
   },
   "outputs": [
    {
     "name": "stdout",
     "output_type": "stream",
     "text": [
      "Track ID: 70LcF31zb1H0PyJoS1Sx1r\n"
     ]
    }
   ],
   "source": [
    "track_id = '70LcF31zb1H0PyJoS1Sx1r'\n",
    "\n",
    "print(f\"Track ID: {track_id}\")"
   ]
  },
  {
   "cell_type": "markdown",
   "metadata": {
    "deletable": false,
    "editable": false,
    "nbgrader": {
     "cell_type": "markdown",
     "checksum": "b23aefb9f4882cae51d7ed3baad9931b",
     "grade": false,
     "grade_id": "cell-b188551976021039",
     "locked": true,
     "schema_version": 3,
     "solution": false,
     "task": false
    }
   },
   "source": [
    "Now that you have the id, let's format the URL of the request and send the actual GET request to retrieve the data:"
   ]
  },
  {
   "cell_type": "code",
   "execution_count": 9,
   "metadata": {
    "deletable": false,
    "nbgrader": {
     "cell_type": "code",
     "checksum": "ce9fb29c199bd5a71d2a894acd4755f2",
     "grade": false,
     "grade_id": "cell-e545a287ebd3c44c",
     "locked": false,
     "schema_version": 3,
     "solution": true,
     "task": false
    }
   },
   "outputs": [
    {
     "name": "stdout",
     "output_type": "stream",
     "text": [
      "{'danceability': 0.515, 'energy': 0.43, 'key': 7, 'loudness': -9.935, 'mode': 1, 'speechiness': 0.0372, 'acousticness': 0.0097, 'instrumentalness': 0.000133, 'liveness': 0.129, 'valence': 0.104, 'tempo': 91.844, 'type': 'audio_features', 'id': '70LcF31zb1H0PyJoS1Sx1r', 'uri': 'spotify:track:70LcF31zb1H0PyJoS1Sx1r', 'track_href': 'https://api.spotify.com/v1/tracks/70LcF31zb1H0PyJoS1Sx1r', 'analysis_url': 'https://api.spotify.com/v1/audio-analysis/70LcF31zb1H0PyJoS1Sx1r', 'duration_ms': 238640, 'time_signature': 4}\n"
     ]
    }
   ],
   "source": [
    "# YOUR CODE HERE\n",
    "import requests\n",
    "\n",
    "base_url = \"https://api.spotify.com/v1/audio-features\"\n",
    "track_id = \"70LcF31zb1H0PyJoS1Sx1r\"\n",
    "request_url = f\"{base_url}/{track_id}\"\n",
    "access_token = auth_response['access_token']\n",
    "headers = {\n",
    "    \"Authorization\": f\"Bearer {access_token}\"\n",
    "}\n",
    "response = requests.get(request_url, headers=headers)\n",
    "print(response.json())"
   ]
  },
  {
   "cell_type": "markdown",
   "metadata": {
    "deletable": false,
    "editable": false,
    "nbgrader": {
     "cell_type": "markdown",
     "checksum": "9467de516c25f6745a72b2ef1e7d49bf",
     "grade": false,
     "grade_id": "cell-2316de9d4e91bc6f",
     "locked": true,
     "schema_version": 3,
     "solution": false,
     "task": false
    }
   },
   "source": [
    "Now that everything is ready, you can send the actual GET request to retrieve the data.\n",
    "\n",
    "<div class=\"alert alert-info\">Remember to pass the <i>url</i>, the <i>headers</i> and the <i>params</i> dictionary as arguments to the <i>get</i> function. Convert the response to <i>json</i> format and store it in a new variable called <b>creep</b>.</div>"
   ]
  },
  {
   "cell_type": "code",
   "execution_count": 10,
   "metadata": {
    "deletable": false,
    "nbgrader": {
     "cell_type": "code",
     "checksum": "eacef4de7311638564220f7d50dba5a0",
     "grade": false,
     "grade_id": "cell-6374d923d8f04079",
     "locked": false,
     "schema_version": 3,
     "solution": true,
     "task": false
    }
   },
   "outputs": [
    {
     "name": "stdout",
     "output_type": "stream",
     "text": [
      "{'danceability': 0.515, 'energy': 0.43, 'key': 7, 'loudness': -9.935, 'mode': 1, 'speechiness': 0.0372, 'acousticness': 0.0097, 'instrumentalness': 0.000133, 'liveness': 0.129, 'valence': 0.104, 'tempo': 91.844, 'type': 'audio_features', 'id': '70LcF31zb1H0PyJoS1Sx1r', 'uri': 'spotify:track:70LcF31zb1H0PyJoS1Sx1r', 'track_href': 'https://api.spotify.com/v1/tracks/70LcF31zb1H0PyJoS1Sx1r', 'analysis_url': 'https://api.spotify.com/v1/audio-analysis/70LcF31zb1H0PyJoS1Sx1r', 'duration_ms': 238640, 'time_signature': 4}\n"
     ]
    }
   ],
   "source": [
    "import requests\n",
    "\n",
    "base_url = 'https://api.spotify.com/v1/audio-features'\n",
    "track_id = '70LcF31zb1H0PyJoS1Sx1r'\n",
    "request_url = f\"{base_url}/{track_id}\"\n",
    "access_token = auth_response[\"access_token\"]\n",
    "\n",
    "headers = {\n",
    "    'Authorization': f'Bearer {access_token}'\n",
    "}\n",
    "\n",
    "response = requests.get(request_url, headers=headers)\n",
    "creep = response.json()\n",
    "\n",
    "print(creep)"
   ]
  },
  {
   "cell_type": "markdown",
   "metadata": {
    "deletable": false,
    "editable": false,
    "nbgrader": {
     "cell_type": "markdown",
     "checksum": "c02401130bf7126deee5228a054cb612",
     "grade": false,
     "grade_id": "cell-238505ce76d4ddd7",
     "locked": true,
     "schema_version": 3,
     "solution": false,
     "task": false
    }
   },
   "source": [
    "\n",
    "<div class=\"alert alert-warning\">Often Spotify has several instances of a track in its catalogue, each available in a different set of markets. This commonly happens when the track the album is on has been released multiple times under different licenses in different markets. These tracks are linked together so that when a user tries to play a track that isn’t available in their own market, the Spotify mobile, desktop, and web players try to play another instance of the track that is available in the user’s market. Even if this issue won't prevent you from being able to play the  song in your device, it might result in different ids for the different markets. Note that the test below is written taking the values for the Spanish market into account.</div>\n",
    "\n",
    "<div class=\"alert alert-warning\">Note that you can specify the market for this and for future queries through the <i>market</i> parameter.</div>"
   ]
  },
  {
   "cell_type": "markdown",
   "metadata": {
    "deletable": false,
    "editable": false,
    "nbgrader": {
     "cell_type": "markdown",
     "checksum": "d02c9564a4f4c64a0d9e545d52e9472a",
     "grade": false,
     "grade_id": "cell-3790f150aa3bd111",
     "locked": true,
     "schema_version": 3,
     "solution": false,
     "task": false
    }
   },
   "source": [
    "Congrats! You just made your first successful request to Spotify's API! Feel free to take a look at the information included in the response. Pay special attention to the way in which information is presented. Once you are done, let's move on to some actual work!\n",
    "\n",
    "## Getting data from a playlist\n",
    "\n",
    "In the following exercise you will build a dataset containing data about different songs. You can either use a playlist of your own, or use the one mentioned in the documentation.\n",
    "\n",
    "\n",
    "<div class=\"alert alert-info\">Create a variable called <b>playlist_id</b> that stores the id of your playlist of choice.</div>\n",
    "\n",
    "<div class=\"alert alert-warning\">Your <i>playlist_id</i> should contain only alphanumeric characters. This means that characters such as ? $ % & / ! should not be included.</div>"
   ]
  },
  {
   "cell_type": "code",
   "execution_count": 11,
   "metadata": {
    "deletable": false,
    "nbgrader": {
     "cell_type": "code",
     "checksum": "377615366ec30368b06c647398581176",
     "grade": false,
     "grade_id": "cell-ebb88e4537ea519b",
     "locked": false,
     "schema_version": 3,
     "solution": true,
     "task": false
    }
   },
   "outputs": [],
   "source": [
    "playlist_id = \"37i9dQZF1DZ06evO0hrh28\"\n"
   ]
  },
  {
   "cell_type": "markdown",
   "metadata": {
    "deletable": false,
    "editable": false,
    "nbgrader": {
     "cell_type": "markdown",
     "checksum": "35965b4c55e55a07e1bdaba1cb24da69",
     "grade": false,
     "grade_id": "cell-238505c76d4ddd7",
     "locked": true,
     "schema_version": 3,
     "solution": false,
     "task": false
    }
   },
   "source": [
    "In the following you are going to extract information about the different tracks included in this playlist. Hence, let's make sure that the variabl ei spropelry created and that it refers to an actual id."
   ]
  },
  {
   "cell_type": "markdown",
   "metadata": {
    "deletable": false,
    "editable": false,
    "nbgrader": {
     "cell_type": "markdown",
     "checksum": "1cfa21b57db7c7743507f990bb9e6ce8",
     "grade": false,
     "grade_id": "cell-a618363337ae0889",
     "locked": true,
     "schema_version": 3,
     "solution": false,
     "task": false
    }
   },
   "source": [
    "The next step will be making a request to get full details of the tracks included in your chosen playlist. Remember that you can take a look at all the information available at the different endpoints in Spotify's API by reading the [Docs](https://developer.spotify.com/documentation/web-api/reference/). Locate the right endpoint for your query and read the Docs to find out how to build your request. \n",
    "\n",
    "<div class=\"alert alert-info\"><b>Exercise 1 </b>Write the code to retrieve all the items from your chosen playlist from the <i>tracks</i> endpoint. When making your request don't use any of the optional arguments. Direct your request to the right endpoint instead. Store the <i>raw</i> response in a new variable called <i>playlist_response</i>.\n",
    "</div>\n",
    "\n",
    "<div class=\"alert alert-warning\">To complete this exercise you must use the requests library</div>"
   ]
  },
  {
   "cell_type": "code",
   "execution_count": 12,
   "metadata": {
    "deletable": false,
    "nbgrader": {
     "cell_type": "code",
     "checksum": "3416f03882927817c5373de161fb4a59",
     "grade": false,
     "grade_id": "ex1",
     "locked": false,
     "schema_version": 3,
     "solution": true,
     "task": false
    }
   },
   "outputs": [
    {
     "name": "stdout",
     "output_type": "stream",
     "text": [
      "{'href': 'https://api.spotify.com/v1/playlists/37i9dQZF1DZ06evO0hrh28/tracks?offset=0&limit=100', 'items': [{'added_at': '1970-01-01T00:00:00Z', 'added_by': {'external_urls': {'spotify': 'https://open.spotify.com/user/'}, 'href': 'https://api.spotify.com/v1/users/', 'id': '', 'type': 'user', 'uri': 'spotify:user:'}, 'is_local': False, 'primary_color': None, 'track': {'preview_url': 'https://p.scdn.co/mp3-preview/6b173d09175867ad5af627076c9ec1986365c384?cid=5236f001113d42aa982409f077a7d5a7', 'available_markets': ['AR', 'AU', 'AT', 'BE', 'BO', 'BR', 'BG', 'CA', 'CL', 'CO', 'CR', 'CY', 'CZ', 'DK', 'DO', 'DE', 'EC', 'EE', 'SV', 'FI', 'FR', 'GR', 'GT', 'HN', 'HK', 'HU', 'IS', 'IE', 'IT', 'LV', 'LT', 'LU', 'MY', 'MT', 'MX', 'NL', 'NZ', 'NI', 'NO', 'PA', 'PY', 'PE', 'PH', 'PL', 'PT', 'SG', 'SK', 'ES', 'SE', 'CH', 'TW', 'TR', 'UY', 'US', 'GB', 'AD', 'LI', 'MC', 'ID', 'JP', 'TH', 'VN', 'RO', 'IL', 'ZA', 'SA', 'AE', 'BH', 'QA', 'OM', 'KW', 'EG', 'MA', 'DZ', 'TN', 'LB', 'JO', 'PS', 'IN', 'BY', 'KZ', 'MD', 'UA', 'AL', 'BA', 'HR', 'ME', 'MK', 'RS', 'SI', 'KR', 'BD', 'PK', 'LK', 'GH', 'KE', 'NG', 'TZ', 'UG', 'AG', 'AM', 'BS', 'BB', 'BZ', 'BT', 'BW', 'BF', 'CV', 'CW', 'DM', 'FJ', 'GM', 'GE', 'GD', 'GW', 'GY', 'HT', 'JM', 'KI', 'LS', 'LR', 'MW', 'MV', 'ML', 'MH', 'FM', 'NA', 'NR', 'NE', 'PW', 'PG', 'PR', 'WS', 'SM', 'ST', 'SN', 'SC', 'SL', 'SB', 'KN', 'LC', 'VC', 'SR', 'TL', 'TO', 'TT', 'TV', 'VU', 'AZ', 'BN', 'BI', 'KH', 'CM', 'TD', 'KM', 'GQ', 'SZ', 'GA', 'GN', 'KG', 'LA', 'MO', 'MR', 'MN', 'NP', 'RW', 'TG', 'UZ', 'ZW', 'BJ', 'MG', 'MU', 'MZ', 'AO', 'CI', 'DJ', 'ZM', 'CD', 'CG', 'IQ', 'LY', 'TJ', 'VE', 'ET', 'XK'], 'explicit': False, 'type': 'track', 'episode': False, 'track': True, 'album': {'available_markets': ['AR', 'AU', 'AT', 'BE', 'BO', 'BR', 'BG', 'CA', 'CL', 'CO', 'CR', 'CY', 'CZ', 'DK', 'DO', 'DE', 'EC', 'EE', 'SV', 'FI', 'FR', 'GR', 'GT', 'HN', 'HK', 'HU', 'IS', 'IE', 'IT', 'LV', 'LT', 'LU', 'MY', 'MT', 'MX', 'NL', 'NZ', 'NI', 'NO', 'PA', 'PY', 'PE', 'PH', 'PL', 'PT', 'SG', 'SK', 'ES', 'SE', 'CH', 'TW', 'TR', 'UY', 'US', 'GB', 'AD', 'LI', 'MC', 'ID', 'JP', 'TH', 'VN', 'RO', 'IL', 'ZA', 'SA', 'AE', 'BH', 'QA', 'OM', 'KW', 'EG', 'MA', 'DZ', 'TN', 'LB', 'JO', 'PS', 'IN', 'BY', 'KZ', 'MD', 'UA', 'AL', 'BA', 'HR', 'ME', 'MK', 'RS', 'SI', 'KR', 'BD', 'PK', 'LK', 'GH', 'KE', 'NG', 'TZ', 'UG', 'AG', 'AM', 'BS', 'BB', 'BZ', 'BT', 'BW', 'BF', 'CV', 'CW', 'DM', 'FJ', 'GM', 'GE', 'GD', 'GW', 'GY', 'HT', 'JM', 'KI', 'LS', 'LR', 'MW', 'MV', 'ML', 'MH', 'FM', 'NA', 'NR', 'NE', 'PW', 'PG', 'PR', 'WS', 'SM', 'ST', 'SN', 'SC', 'SL', 'SB', 'KN', 'LC', 'VC', 'SR', 'TL', 'TO', 'TT', 'TV', 'VU', 'AZ', 'BN', 'BI', 'KH', 'CM', 'TD', 'KM', 'GQ', 'SZ', 'GA', 'GN', 'KG', 'LA', 'MO', 'MR', 'MN', 'NP', 'RW', 'TG', 'UZ', 'ZW', 'BJ', 'MG', 'MU', 'MZ', 'AO', 'CI', 'DJ', 'ZM', 'CD', 'CG', 'IQ', 'LY', 'TJ', 'VE', 'ET', 'XK'], 'type': 'album', 'album_type': 'single', 'href': 'https://api.spotify.com/v1/albums/0Oe35eRgVyLthOLW1vurye', 'id': '0Oe35eRgVyLthOLW1vurye', 'images': [{'height': 640, 'url': 'https://i.scdn.co/image/ab67616d0000b273d21ee3e4fb77b130dce99d6e', 'width': 640}, {'height': 300, 'url': 'https://i.scdn.co/image/ab67616d00001e02d21ee3e4fb77b130dce99d6e', 'width': 300}, {'height': 64, 'url': 'https://i.scdn.co/image/ab67616d00004851d21ee3e4fb77b130dce99d6e', 'width': 64}], 'name': 'intoxicao', 'release_date': '2022-05-30', 'release_date_precision': 'day', 'uri': 'spotify:album:0Oe35eRgVyLthOLW1vurye', 'artists': [{'external_urls': {'spotify': 'https://open.spotify.com/artist/0AqlFI0tz2DsEoJlKSIiT9'}, 'href': 'https://api.spotify.com/v1/artists/0AqlFI0tz2DsEoJlKSIiT9', 'id': '0AqlFI0tz2DsEoJlKSIiT9', 'name': 'Emilia', 'type': 'artist', 'uri': 'spotify:artist:0AqlFI0tz2DsEoJlKSIiT9'}, {'external_urls': {'spotify': 'https://open.spotify.com/artist/2UZIAOlrnyZmyzt1nuXr9y'}, 'href': 'https://api.spotify.com/v1/artists/2UZIAOlrnyZmyzt1nuXr9y', 'id': '2UZIAOlrnyZmyzt1nuXr9y', 'name': 'Nicki Nicole', 'type': 'artist', 'uri': 'spotify:artist:2UZIAOlrnyZmyzt1nuXr9y'}], 'external_urls': {'spotify': 'https://open.spotify.com/album/0Oe35eRgVyLthOLW1vurye'}, 'total_tracks': 1}, 'artists': [{'external_urls': {'spotify': 'https://open.spotify.com/artist/0AqlFI0tz2DsEoJlKSIiT9'}, 'href': 'https://api.spotify.com/v1/artists/0AqlFI0tz2DsEoJlKSIiT9', 'id': '0AqlFI0tz2DsEoJlKSIiT9', 'name': 'Emilia', 'type': 'artist', 'uri': 'spotify:artist:0AqlFI0tz2DsEoJlKSIiT9'}, {'external_urls': {'spotify': 'https://open.spotify.com/artist/2UZIAOlrnyZmyzt1nuXr9y'}, 'href': 'https://api.spotify.com/v1/artists/2UZIAOlrnyZmyzt1nuXr9y', 'id': '2UZIAOlrnyZmyzt1nuXr9y', 'name': 'Nicki Nicole', 'type': 'artist', 'uri': 'spotify:artist:2UZIAOlrnyZmyzt1nuXr9y'}], 'disc_number': 1, 'track_number': 1, 'duration_ms': 168508, 'external_ids': {'isrc': 'USSD12200284'}, 'external_urls': {'spotify': 'https://open.spotify.com/track/2Znff2J1fAgQhXXEMW7y5V'}, 'href': 'https://api.spotify.com/v1/tracks/2Znff2J1fAgQhXXEMW7y5V', 'id': '2Znff2J1fAgQhXXEMW7y5V', 'name': 'intoxicao', 'popularity': 61, 'uri': 'spotify:track:2Znff2J1fAgQhXXEMW7y5V', 'is_local': False}, 'video_thumbnail': {'url': None}}, {'added_at': '1970-01-01T00:00:00Z', 'added_by': {'external_urls': {'spotify': 'https://open.spotify.com/user/'}, 'href': 'https://api.spotify.com/v1/users/', 'id': '', 'type': 'user', 'uri': 'spotify:user:'}, 'is_local': False, 'primary_color': None, 'track': {'preview_url': 'https://p.scdn.co/mp3-preview/5bbdd15509b10d1b62cf5aa43500255754e2096b?cid=5236f001113d42aa982409f077a7d5a7', 'available_markets': ['AR', 'AU', 'AT', 'BE', 'BO', 'BR', 'BG', 'CA', 'CL', 'CO', 'CR', 'CY', 'CZ', 'DK', 'DO', 'DE', 'EC', 'EE', 'SV', 'FI', 'FR', 'GR', 'GT', 'HN', 'HK', 'HU', 'IS', 'IE', 'IT', 'LV', 'LT', 'LU', 'MY', 'MT', 'MX', 'NL', 'NZ', 'NI', 'NO', 'PA', 'PY', 'PE', 'PH', 'PL', 'PT', 'SG', 'SK', 'ES', 'SE', 'CH', 'TW', 'TR', 'UY', 'US', 'GB', 'AD', 'LI', 'MC', 'ID', 'JP', 'TH', 'VN', 'RO', 'IL', 'ZA', 'SA', 'AE', 'BH', 'QA', 'OM', 'KW', 'EG', 'MA', 'DZ', 'TN', 'LB', 'JO', 'PS', 'IN', 'KZ', 'MD', 'UA', 'AL', 'BA', 'HR', 'ME', 'MK', 'RS', 'SI', 'KR', 'BD', 'PK', 'LK', 'GH', 'KE', 'NG', 'TZ', 'UG', 'AG', 'AM', 'BS', 'BB', 'BZ', 'BT', 'BW', 'BF', 'CV', 'CW', 'DM', 'FJ', 'GM', 'GE', 'GD', 'GW', 'GY', 'HT', 'JM', 'KI', 'LS', 'LR', 'MW', 'MV', 'ML', 'MH', 'FM', 'NA', 'NR', 'NE', 'PW', 'PG', 'PR', 'WS', 'SM', 'ST', 'SN', 'SC', 'SL', 'SB', 'KN', 'LC', 'VC', 'SR', 'TL', 'TO', 'TT', 'TV', 'VU', 'AZ', 'BN', 'BI', 'KH', 'CM', 'TD', 'KM', 'GQ', 'SZ', 'GA', 'GN', 'KG', 'LA', 'MO', 'MR', 'MN', 'NP', 'RW', 'TG', 'UZ', 'ZW', 'BJ', 'MG', 'MU', 'MZ', 'AO', 'CI', 'DJ', 'ZM', 'CD', 'CG', 'IQ', 'LY', 'TJ', 'VE', 'ET', 'XK'], 'explicit': False, 'type': 'track', 'episode': False, 'track': True, 'album': {'available_markets': ['AR', 'AU', 'AT', 'BE', 'BO', 'BR', 'BG', 'CA', 'CL', 'CO', 'CR', 'CY', 'CZ', 'DK', 'DO', 'DE', 'EC', 'EE', 'SV', 'FI', 'FR', 'GR', 'GT', 'HN', 'HK', 'HU', 'IS', 'IE', 'IT', 'LV', 'LT', 'LU', 'MY', 'MT', 'MX', 'NL', 'NZ', 'NI', 'NO', 'PA', 'PY', 'PE', 'PH', 'PL', 'PT', 'SG', 'SK', 'ES', 'SE', 'CH', 'TW', 'TR', 'UY', 'US', 'GB', 'AD', 'LI', 'MC', 'ID', 'JP', 'TH', 'VN', 'RO', 'IL', 'ZA', 'SA', 'AE', 'BH', 'QA', 'OM', 'KW', 'EG', 'MA', 'DZ', 'TN', 'LB', 'JO', 'PS', 'IN', 'KZ', 'MD', 'UA', 'AL', 'BA', 'HR', 'ME', 'MK', 'RS', 'SI', 'KR', 'BD', 'PK', 'LK', 'GH', 'KE', 'NG', 'TZ', 'UG', 'AG', 'AM', 'BS', 'BB', 'BZ', 'BT', 'BW', 'BF', 'CV', 'CW', 'DM', 'FJ', 'GM', 'GE', 'GD', 'GW', 'GY', 'HT', 'JM', 'KI', 'LS', 'LR', 'MW', 'MV', 'ML', 'MH', 'FM', 'NA', 'NR', 'NE', 'PW', 'PG', 'PR', 'WS', 'SM', 'ST', 'SN', 'SC', 'SL', 'SB', 'KN', 'LC', 'VC', 'SR', 'TL', 'TO', 'TT', 'TV', 'VU', 'AZ', 'BN', 'BI', 'KH', 'CM', 'TD', 'KM', 'GQ', 'SZ', 'GA', 'GN', 'KG', 'LA', 'MO', 'MR', 'MN', 'NP', 'RW', 'TG', 'UZ', 'ZW', 'BJ', 'MG', 'MU', 'MZ', 'AO', 'CI', 'DJ', 'ZM', 'CD', 'CG', 'IQ', 'LY', 'TJ', 'VE', 'ET', 'XK'], 'type': 'album', 'album_type': 'single', 'href': 'https://api.spotify.com/v1/albums/6DVg3IJPFr7JZDDXYcyPbU', 'id': '6DVg3IJPFr7JZDDXYcyPbU', 'images': [{'height': 640, 'url': 'https://i.scdn.co/image/ab67616d0000b27352a52eac3761e2133bd0f57a', 'width': 640}, {'height': 300, 'url': 'https://i.scdn.co/image/ab67616d00001e0252a52eac3761e2133bd0f57a', 'width': 300}, {'height': 64, 'url': 'https://i.scdn.co/image/ab67616d0000485152a52eac3761e2133bd0f57a', 'width': 64}], 'name': 'Los del Espacio', 'release_date': '2023-06-01', 'release_date_precision': 'day', 'uri': 'spotify:album:6DVg3IJPFr7JZDDXYcyPbU', 'artists': [{'external_urls': {'spotify': 'https://open.spotify.com/artist/1vqR17Iv8VFdzure1TAXEq'}, 'href': 'https://api.spotify.com/v1/artists/1vqR17Iv8VFdzure1TAXEq', 'id': '1vqR17Iv8VFdzure1TAXEq', 'name': 'LIT killah', 'type': 'artist', 'uri': 'spotify:artist:1vqR17Iv8VFdzure1TAXEq'}], 'external_urls': {'spotify': 'https://open.spotify.com/album/6DVg3IJPFr7JZDDXYcyPbU'}, 'total_tracks': 1}, 'artists': [{'external_urls': {'spotify': 'https://open.spotify.com/artist/1vqR17Iv8VFdzure1TAXEq'}, 'href': 'https://api.spotify.com/v1/artists/1vqR17Iv8VFdzure1TAXEq', 'id': '1vqR17Iv8VFdzure1TAXEq', 'name': 'LIT killah', 'type': 'artist', 'uri': 'spotify:artist:1vqR17Iv8VFdzure1TAXEq'}, {'external_urls': {'spotify': 'https://open.spotify.com/artist/5Y3MV9DZ0d87NnVm56qSY1'}, 'href': 'https://api.spotify.com/v1/artists/5Y3MV9DZ0d87NnVm56qSY1', 'id': '5Y3MV9DZ0d87NnVm56qSY1', 'name': 'Tiago PZK', 'type': 'artist', 'uri': 'spotify:artist:5Y3MV9DZ0d87NnVm56qSY1'}, {'external_urls': {'spotify': 'https://open.spotify.com/artist/1DxLCyH42yaHKGK3cl5bvG'}, 'href': 'https://api.spotify.com/v1/artists/1DxLCyH42yaHKGK3cl5bvG', 'id': '1DxLCyH42yaHKGK3cl5bvG', 'name': 'Maria Becerra', 'type': 'artist', 'uri': 'spotify:artist:1DxLCyH42yaHKGK3cl5bvG'}, {'external_urls': {'spotify': 'https://open.spotify.com/artist/1bAftSH8umNcGZ0uyV7LMg'}, 'href': 'https://api.spotify.com/v1/artists/1bAftSH8umNcGZ0uyV7LMg', 'id': '1bAftSH8umNcGZ0uyV7LMg', 'name': 'Duki', 'type': 'artist', 'uri': 'spotify:artist:1bAftSH8umNcGZ0uyV7LMg'}, {'external_urls': {'spotify': 'https://open.spotify.com/artist/0AqlFI0tz2DsEoJlKSIiT9'}, 'href': 'https://api.spotify.com/v1/artists/0AqlFI0tz2DsEoJlKSIiT9', 'id': '0AqlFI0tz2DsEoJlKSIiT9', 'name': 'Emilia', 'type': 'artist', 'uri': 'spotify:artist:0AqlFI0tz2DsEoJlKSIiT9'}, {'external_urls': {'spotify': 'https://open.spotify.com/artist/3Apb2lGmGJaBmr0TTBJvIZ'}, 'href': 'https://api.spotify.com/v1/artists/3Apb2lGmGJaBmr0TTBJvIZ', 'id': '3Apb2lGmGJaBmr0TTBJvIZ', 'name': 'Rusherking', 'type': 'artist', 'uri': 'spotify:artist:3Apb2lGmGJaBmr0TTBJvIZ'}, {'external_urls': {'spotify': 'https://open.spotify.com/artist/2OhUNb01gLwygOizYvTm0e'}, 'href': 'https://api.spotify.com/v1/artists/2OhUNb01gLwygOizYvTm0e', 'id': '2OhUNb01gLwygOizYvTm0e', 'name': 'Big One', 'type': 'artist', 'uri': 'spotify:artist:2OhUNb01gLwygOizYvTm0e'}, {'external_urls': {'spotify': 'https://open.spotify.com/artist/0dUyjgCyjfj5eMx6bX2TWf'}, 'href': 'https://api.spotify.com/v1/artists/0dUyjgCyjfj5eMx6bX2TWf', 'id': '0dUyjgCyjfj5eMx6bX2TWf', 'name': 'FMK', 'type': 'artist', 'uri': 'spotify:artist:0dUyjgCyjfj5eMx6bX2TWf'}], 'disc_number': 1, 'track_number': 1, 'duration_ms': 338000, 'external_ids': {'isrc': 'USWL12300725'}, 'external_urls': {'spotify': 'https://open.spotify.com/track/1Hs1uUl8o2VtDp1DABFq0O'}, 'href': 'https://api.spotify.com/v1/tracks/1Hs1uUl8o2VtDp1DABFq0O', 'id': '1Hs1uUl8o2VtDp1DABFq0O', 'name': 'Los del Espacio', 'popularity': 74, 'uri': 'spotify:track:1Hs1uUl8o2VtDp1DABFq0O', 'is_local': False}, 'video_thumbnail': {'url': None}}, {'added_at': '1970-01-01T00:00:00Z', 'added_by': {'external_urls': {'spotify': 'https://open.spotify.com/user/'}, 'href': 'https://api.spotify.com/v1/users/', 'id': '', 'type': 'user', 'uri': 'spotify:user:'}, 'is_local': False, 'primary_color': None, 'track': {'preview_url': 'https://p.scdn.co/mp3-preview/a57508c1153176d97502957cb410be2f6906fb12?cid=5236f001113d42aa982409f077a7d5a7', 'available_markets': ['AR', 'AU', 'AT', 'BE', 'BO', 'BR', 'BG', 'CA', 'CL', 'CO', 'CR', 'CY', 'CZ', 'DK', 'DO', 'DE', 'EC', 'EE', 'SV', 'FI', 'FR', 'GR', 'GT', 'HN', 'HK', 'HU', 'IS', 'IE', 'IT', 'LV', 'LT', 'LU', 'MY', 'MT', 'MX', 'NL', 'NZ', 'NI', 'NO', 'PA', 'PY', 'PE', 'PH', 'PL', 'PT', 'SG', 'SK', 'ES', 'SE', 'CH', 'TW', 'TR', 'UY', 'US', 'GB', 'AD', 'LI', 'MC', 'ID', 'JP', 'TH', 'VN', 'RO', 'IL', 'ZA', 'SA', 'AE', 'BH', 'QA', 'OM', 'KW', 'EG', 'MA', 'DZ', 'TN', 'LB', 'JO', 'PS', 'IN', 'BY', 'KZ', 'MD', 'UA', 'AL', 'BA', 'HR', 'ME', 'MK', 'RS', 'SI', 'KR', 'BD', 'PK', 'LK', 'GH', 'KE', 'NG', 'TZ', 'UG', 'AG', 'AM', 'BS', 'BB', 'BZ', 'BT', 'BW', 'BF', 'CV', 'CW', 'DM', 'FJ', 'GM', 'GE', 'GD', 'GW', 'GY', 'HT', 'JM', 'KI', 'LS', 'LR', 'MW', 'MV', 'ML', 'MH', 'FM', 'NA', 'NR', 'NE', 'PW', 'PG', 'PR', 'WS', 'SM', 'ST', 'SN', 'SC', 'SL', 'SB', 'KN', 'LC', 'VC', 'SR', 'TL', 'TO', 'TT', 'TV', 'VU', 'AZ', 'BN', 'BI', 'KH', 'CM', 'TD', 'KM', 'GQ', 'SZ', 'GA', 'GN', 'KG', 'LA', 'MO', 'MR', 'MN', 'NP', 'RW', 'TG', 'UZ', 'ZW', 'BJ', 'MG', 'MU', 'MZ', 'AO', 'CI', 'DJ', 'ZM', 'CD', 'CG', 'IQ', 'LY', 'TJ', 'VE', 'ET', 'XK'], 'explicit': True, 'type': 'track', 'episode': False, 'track': True, 'album': {'available_markets': ['AR', 'AU', 'AT', 'BE', 'BO', 'BR', 'BG', 'CA', 'CL', 'CO', 'CR', 'CY', 'CZ', 'DK', 'DO', 'DE', 'EC', 'EE', 'SV', 'FI', 'FR', 'GR', 'GT', 'HN', 'HK', 'HU', 'IS', 'IE', 'IT', 'LV', 'LT', 'LU', 'MY', 'MT', 'MX', 'NL', 'NZ', 'NI', 'NO', 'PA', 'PY', 'PE', 'PH', 'PL', 'PT', 'SG', 'SK', 'ES', 'SE', 'CH', 'TW', 'TR', 'UY', 'US', 'GB', 'AD', 'LI', 'MC', 'ID', 'JP', 'TH', 'VN', 'RO', 'IL', 'ZA', 'SA', 'AE', 'BH', 'QA', 'OM', 'KW', 'EG', 'MA', 'DZ', 'TN', 'LB', 'JO', 'PS', 'IN', 'BY', 'KZ', 'MD', 'UA', 'AL', 'BA', 'HR', 'ME', 'MK', 'RS', 'SI', 'KR', 'BD', 'PK', 'LK', 'GH', 'KE', 'NG', 'TZ', 'UG', 'AG', 'AM', 'BS', 'BB', 'BZ', 'BT', 'BW', 'BF', 'CV', 'CW', 'DM', 'FJ', 'GM', 'GE', 'GD', 'GW', 'GY', 'HT', 'JM', 'KI', 'LS', 'LR', 'MW', 'MV', 'ML', 'MH', 'FM', 'NA', 'NR', 'NE', 'PW', 'PG', 'PR', 'WS', 'SM', 'ST', 'SN', 'SC', 'SL', 'SB', 'KN', 'LC', 'VC', 'SR', 'TL', 'TO', 'TT', 'TV', 'VU', 'AZ', 'BN', 'BI', 'KH', 'CM', 'TD', 'KM', 'GQ', 'SZ', 'GA', 'GN', 'KG', 'LA', 'MO', 'MR', 'MN', 'NP', 'RW', 'TG', 'UZ', 'ZW', 'BJ', 'MG', 'MU', 'MZ', 'AO', 'CI', 'DJ', 'ZM', 'CD', 'CG', 'IQ', 'LY', 'TJ', 'VE', 'ET', 'XK'], 'type': 'album', 'album_type': 'single', 'href': 'https://api.spotify.com/v1/albums/0qLXwwUPYR7o3ZcVQFdKlQ', 'id': '0qLXwwUPYR7o3ZcVQFdKlQ', 'images': [{'height': 640, 'url': 'https://i.scdn.co/image/ab67616d0000b273f628e15cfcbd25c9bdced0e3', 'width': 640}, {'height': 300, 'url': 'https://i.scdn.co/image/ab67616d00001e02f628e15cfcbd25c9bdced0e3', 'width': 300}, {'height': 64, 'url': 'https://i.scdn.co/image/ab67616d00004851f628e15cfcbd25c9bdced0e3', 'width': 64}], 'name': 'noviogangsta <3', 'release_date': '2024-10-12', 'release_date_precision': 'day', 'uri': 'spotify:album:0qLXwwUPYR7o3ZcVQFdKlQ', 'artists': [{'external_urls': {'spotify': 'https://open.spotify.com/artist/0AqlFI0tz2DsEoJlKSIiT9'}, 'href': 'https://api.spotify.com/v1/artists/0AqlFI0tz2DsEoJlKSIiT9', 'id': '0AqlFI0tz2DsEoJlKSIiT9', 'name': 'Emilia', 'type': 'artist', 'uri': 'spotify:artist:0AqlFI0tz2DsEoJlKSIiT9'}], 'external_urls': {'spotify': 'https://open.spotify.com/album/0qLXwwUPYR7o3ZcVQFdKlQ'}, 'total_tracks': 1}, 'artists': [{'external_urls': {'spotify': 'https://open.spotify.com/artist/0AqlFI0tz2DsEoJlKSIiT9'}, 'href': 'https://api.spotify.com/v1/artists/0AqlFI0tz2DsEoJlKSIiT9', 'id': '0AqlFI0tz2DsEoJlKSIiT9', 'name': 'Emilia', 'type': 'artist', 'uri': 'spotify:artist:0AqlFI0tz2DsEoJlKSIiT9'}], 'disc_number': 1, 'track_number': 1, 'duration_ms': 157209, 'external_ids': {'isrc': 'USSD12400635'}, 'external_urls': {'spotify': 'https://open.spotify.com/track/7yrTny7FLWLbfIzsxoicWj'}, 'href': 'https://api.spotify.com/v1/tracks/7yrTny7FLWLbfIzsxoicWj', 'id': '7yrTny7FLWLbfIzsxoicWj', 'name': 'noviogangsta <3', 'popularity': 62, 'uri': 'spotify:track:7yrTny7FLWLbfIzsxoicWj', 'is_local': False}, 'video_thumbnail': {'url': None}}, {'added_at': '1970-01-01T00:00:00Z', 'added_by': {'external_urls': {'spotify': 'https://open.spotify.com/user/'}, 'href': 'https://api.spotify.com/v1/users/', 'id': '', 'type': 'user', 'uri': 'spotify:user:'}, 'is_local': False, 'primary_color': None, 'track': {'preview_url': 'https://p.scdn.co/mp3-preview/05adc065b8b74e79d602eed843bcd90fdd2a270c?cid=5236f001113d42aa982409f077a7d5a7', 'available_markets': ['AR', 'AU', 'AT', 'BE', 'BO', 'BR', 'BG', 'CA', 'CL', 'CO', 'CR', 'CY', 'CZ', 'DK', 'DO', 'DE', 'EC', 'EE', 'SV', 'FI', 'FR', 'GR', 'GT', 'HN', 'HK', 'HU', 'IS', 'IE', 'IT', 'LV', 'LT', 'LU', 'MY', 'MT', 'MX', 'NL', 'NZ', 'NI', 'NO', 'PA', 'PY', 'PE', 'PH', 'PL', 'PT', 'SG', 'SK', 'ES', 'SE', 'CH', 'TW', 'TR', 'UY', 'GB', 'AD', 'LI', 'MC', 'ID', 'JP', 'TH', 'VN', 'RO', 'IL', 'ZA', 'SA', 'AE', 'BH', 'QA', 'OM', 'KW', 'EG', 'MA', 'DZ', 'TN', 'LB', 'JO', 'PS', 'IN', 'BY', 'KZ', 'MD', 'UA', 'AL', 'BA', 'HR', 'ME', 'MK', 'RS', 'SI', 'KR', 'BD', 'PK', 'LK', 'GH', 'KE', 'NG', 'TZ', 'UG', 'AG', 'AM', 'BS', 'BB', 'BZ', 'BT', 'BW', 'BF', 'CV', 'CW', 'DM', 'FJ', 'GM', 'GE', 'GD', 'GW', 'GY', 'HT', 'JM', 'KI', 'LS', 'LR', 'MW', 'MV', 'ML', 'MH', 'FM', 'NA', 'NR', 'NE', 'PW', 'PG', 'WS', 'SM', 'ST', 'SN', 'SC', 'SL', 'SB', 'KN', 'LC', 'VC', 'SR', 'TL', 'TO', 'TT', 'TV', 'VU', 'AZ', 'BN', 'BI', 'KH', 'CM', 'TD', 'KM', 'GQ', 'SZ', 'GA', 'GN', 'KG', 'LA', 'MO', 'MR', 'MN', 'NP', 'RW', 'TG', 'UZ', 'ZW', 'BJ', 'MG', 'MU', 'MZ', 'AO', 'CI', 'DJ', 'ZM', 'CD', 'CG', 'IQ', 'LY', 'TJ', 'VE', 'ET', 'XK'], 'explicit': False, 'type': 'track', 'episode': False, 'track': True, 'album': {'available_markets': ['AR', 'AU', 'AT', 'BE', 'BO', 'BR', 'BG', 'CA', 'CL', 'CO', 'CR', 'CY', 'CZ', 'DK', 'DO', 'DE', 'EC', 'EE', 'SV', 'FI', 'FR', 'GR', 'GT', 'HN', 'HK', 'HU', 'IS', 'IE', 'IT', 'LV', 'LT', 'LU', 'MY', 'MT', 'MX', 'NL', 'NZ', 'NI', 'NO', 'PA', 'PY', 'PE', 'PH', 'PL', 'PT', 'SG', 'SK', 'ES', 'SE', 'CH', 'TW', 'TR', 'UY', 'GB', 'AD', 'LI', 'MC', 'ID', 'JP', 'TH', 'VN', 'RO', 'IL', 'ZA', 'SA', 'AE', 'BH', 'QA', 'OM', 'KW', 'EG', 'MA', 'DZ', 'TN', 'LB', 'JO', 'PS', 'IN', 'BY', 'KZ', 'MD', 'UA', 'AL', 'BA', 'HR', 'ME', 'MK', 'RS', 'SI', 'KR', 'BD', 'PK', 'LK', 'GH', 'KE', 'NG', 'TZ', 'UG', 'AG', 'AM', 'BS', 'BB', 'BZ', 'BT', 'BW', 'BF', 'CV', 'CW', 'DM', 'FJ', 'GM', 'GE', 'GD', 'GW', 'GY', 'HT', 'JM', 'KI', 'LS', 'LR', 'MW', 'MV', 'ML', 'MH', 'FM', 'NA', 'NR', 'NE', 'PW', 'PG', 'WS', 'SM', 'ST', 'SN', 'SC', 'SL', 'SB', 'KN', 'LC', 'VC', 'SR', 'TL', 'TO', 'TT', 'TV', 'VU', 'AZ', 'BN', 'BI', 'KH', 'CM', 'TD', 'KM', 'GQ', 'SZ', 'GA', 'GN', 'KG', 'LA', 'MO', 'MR', 'MN', 'NP', 'RW', 'TG', 'UZ', 'ZW', 'BJ', 'MG', 'MU', 'MZ', 'AO', 'CI', 'DJ', 'ZM', 'CD', 'CG', 'IQ', 'LY', 'TJ', 'VE', 'ET', 'XK'], 'type': 'album', 'album_type': 'single', 'href': 'https://api.spotify.com/v1/albums/1fXZxmn9aUIo5Zjx8zQFol', 'id': '1fXZxmn9aUIo5Zjx8zQFol', 'images': [{'height': 640, 'url': 'https://i.scdn.co/image/ab67616d0000b273f975282219ded7470e667000', 'width': 640}, {'height': 300, 'url': 'https://i.scdn.co/image/ab67616d00001e02f975282219ded7470e667000', 'width': 300}, {'height': 64, 'url': 'https://i.scdn.co/image/ab67616d00004851f975282219ded7470e667000', 'width': 64}], 'name': 'Perdonarte, ¿Para Qué?', 'release_date': '2024-05-23', 'release_date_precision': 'day', 'uri': 'spotify:album:1fXZxmn9aUIo5Zjx8zQFol', 'artists': [{'external_urls': {'spotify': 'https://open.spotify.com/artist/0ZCO8oVkMj897cKgFH7fRW'}, 'href': 'https://api.spotify.com/v1/artists/0ZCO8oVkMj897cKgFH7fRW', 'id': '0ZCO8oVkMj897cKgFH7fRW', 'name': 'Los Ángeles Azules', 'type': 'artist', 'uri': 'spotify:artist:0ZCO8oVkMj897cKgFH7fRW'}, {'external_urls': {'spotify': 'https://open.spotify.com/artist/0AqlFI0tz2DsEoJlKSIiT9'}, 'href': 'https://api.spotify.com/v1/artists/0AqlFI0tz2DsEoJlKSIiT9', 'id': '0AqlFI0tz2DsEoJlKSIiT9', 'name': 'Emilia', 'type': 'artist', 'uri': 'spotify:artist:0AqlFI0tz2DsEoJlKSIiT9'}], 'external_urls': {'spotify': 'https://open.spotify.com/album/1fXZxmn9aUIo5Zjx8zQFol'}, 'total_tracks': 1}, 'artists': [{'external_urls': {'spotify': 'https://open.spotify.com/artist/0ZCO8oVkMj897cKgFH7fRW'}, 'href': 'https://api.spotify.com/v1/artists/0ZCO8oVkMj897cKgFH7fRW', 'id': '0ZCO8oVkMj897cKgFH7fRW', 'name': 'Los Ángeles Azules', 'type': 'artist', 'uri': 'spotify:artist:0ZCO8oVkMj897cKgFH7fRW'}, {'external_urls': {'spotify': 'https://open.spotify.com/artist/0AqlFI0tz2DsEoJlKSIiT9'}, 'href': 'https://api.spotify.com/v1/artists/0AqlFI0tz2DsEoJlKSIiT9', 'id': '0AqlFI0tz2DsEoJlKSIiT9', 'name': 'Emilia', 'type': 'artist', 'uri': 'spotify:artist:0AqlFI0tz2DsEoJlKSIiT9'}], 'disc_number': 1, 'track_number': 1, 'duration_ms': 193933, 'external_ids': {'isrc': 'MX1722401778'}, 'external_urls': {'spotify': 'https://open.spotify.com/track/4dLLdfiniBhDP9dlJQIOi4'}, 'href': 'https://api.spotify.com/v1/tracks/4dLLdfiniBhDP9dlJQIOi4', 'id': '4dLLdfiniBhDP9dlJQIOi4', 'name': 'Perdonarte, ¿Para Qué?', 'popularity': 81, 'uri': 'spotify:track:4dLLdfiniBhDP9dlJQIOi4', 'is_local': False}, 'video_thumbnail': {'url': None}}, {'added_at': '1970-01-01T00:00:00Z', 'added_by': {'external_urls': {'spotify': 'https://open.spotify.com/user/'}, 'href': 'https://api.spotify.com/v1/users/', 'id': '', 'type': 'user', 'uri': 'spotify:user:'}, 'is_local': False, 'primary_color': None, 'track': {'preview_url': 'https://p.scdn.co/mp3-preview/481bfc885494bc41d01803f22a75792d1b8ec5a7?cid=5236f001113d42aa982409f077a7d5a7', 'available_markets': ['AR', 'AU', 'AT', 'BE', 'BO', 'BR', 'BG', 'CA', 'CL', 'CO', 'CR', 'CY', 'CZ', 'DK', 'DO', 'DE', 'EC', 'EE', 'SV', 'FI', 'FR', 'GR', 'GT', 'HN', 'HK', 'HU', 'IS', 'IE', 'IT', 'LV', 'LT', 'LU', 'MY', 'MT', 'MX', 'NL', 'NZ', 'NI', 'NO', 'PA', 'PY', 'PE', 'PH', 'PL', 'PT', 'SG', 'SK', 'ES', 'SE', 'CH', 'TW', 'TR', 'UY', 'US', 'GB', 'AD', 'LI', 'MC', 'ID', 'JP', 'TH', 'VN', 'RO', 'IL', 'ZA', 'SA', 'AE', 'BH', 'QA', 'OM', 'KW', 'EG', 'MA', 'DZ', 'TN', 'LB', 'JO', 'PS', 'IN', 'KZ', 'MD', 'UA', 'AL', 'BA', 'HR', 'ME', 'MK', 'RS', 'SI', 'KR', 'BD', 'PK', 'LK', 'GH', 'KE', 'NG', 'TZ', 'UG', 'AG', 'AM', 'BS', 'BB', 'BZ', 'BT', 'BW', 'BF', 'CV', 'CW', 'DM', 'FJ', 'GM', 'GE', 'GD', 'GW', 'GY', 'HT', 'JM', 'KI', 'LS', 'LR', 'MW', 'MV', 'ML', 'MH', 'FM', 'NA', 'NR', 'NE', 'PW', 'PG', 'PR', 'WS', 'SM', 'ST', 'SN', 'SC', 'SL', 'SB', 'KN', 'LC', 'VC', 'SR', 'TL', 'TO', 'TT', 'TV', 'VU', 'AZ', 'BN', 'BI', 'KH', 'CM', 'TD', 'KM', 'GQ', 'SZ', 'GA', 'GN', 'KG', 'LA', 'MO', 'MR', 'MN', 'NP', 'RW', 'TG', 'UZ', 'ZW', 'BJ', 'MG', 'MU', 'MZ', 'AO', 'CI', 'DJ', 'ZM', 'CD', 'CG', 'IQ', 'LY', 'TJ', 'VE', 'ET', 'XK'], 'explicit': False, 'type': 'track', 'episode': False, 'track': True, 'album': {'available_markets': ['AR', 'AU', 'AT', 'BE', 'BO', 'BR', 'BG', 'CA', 'CL', 'CO', 'CR', 'CY', 'CZ', 'DK', 'DO', 'DE', 'EC', 'EE', 'SV', 'FI', 'FR', 'GR', 'GT', 'HN', 'HK', 'HU', 'IS', 'IE', 'IT', 'LV', 'LT', 'LU', 'MY', 'MT', 'MX', 'NL', 'NZ', 'NI', 'NO', 'PA', 'PY', 'PE', 'PH', 'PL', 'PT', 'SG', 'SK', 'ES', 'SE', 'CH', 'TW', 'TR', 'UY', 'US', 'GB', 'AD', 'LI', 'MC', 'ID', 'JP', 'TH', 'VN', 'RO', 'IL', 'ZA', 'SA', 'AE', 'BH', 'QA', 'OM', 'KW', 'EG', 'MA', 'DZ', 'TN', 'LB', 'JO', 'PS', 'IN', 'KZ', 'MD', 'UA', 'AL', 'BA', 'HR', 'ME', 'MK', 'RS', 'SI', 'KR', 'BD', 'PK', 'LK', 'GH', 'KE', 'NG', 'TZ', 'UG', 'AG', 'AM', 'BS', 'BB', 'BZ', 'BT', 'BW', 'BF', 'CV', 'CW', 'DM', 'FJ', 'GM', 'GE', 'GD', 'GW', 'GY', 'HT', 'JM', 'KI', 'LS', 'LR', 'MW', 'MV', 'ML', 'MH', 'FM', 'NA', 'NR', 'NE', 'PW', 'PG', 'PR', 'WS', 'SM', 'ST', 'SN', 'SC', 'SL', 'SB', 'KN', 'LC', 'VC', 'SR', 'TL', 'TO', 'TT', 'TV', 'VU', 'AZ', 'BN', 'BI', 'KH', 'CM', 'TD', 'KM', 'GQ', 'SZ', 'GA', 'GN', 'KG', 'LA', 'MO', 'MR', 'MN', 'NP', 'RW', 'TG', 'UZ', 'ZW', 'BJ', 'MG', 'MU', 'MZ', 'AO', 'CI', 'DJ', 'ZM', 'CD', 'CG', 'IQ', 'LY', 'TJ', 'VE', 'ET', 'XK'], 'type': 'album', 'album_type': 'single', 'href': 'https://api.spotify.com/v1/albums/0jEGAl1Uz2PAE6XQyRGBtq', 'id': '0jEGAl1Uz2PAE6XQyRGBtq', 'images': [{'height': 640, 'url': 'https://i.scdn.co/image/ab67616d0000b2731298e171477186c8eb392fea', 'width': 640}, {'height': 300, 'url': 'https://i.scdn.co/image/ab67616d00001e021298e171477186c8eb392fea', 'width': 300}, {'height': 64, 'url': 'https://i.scdn.co/image/ab67616d000048511298e171477186c8eb392fea', 'width': 64}], 'name': 'Alegría', 'release_date': '2024-08-08', 'release_date_precision': 'day', 'uri': 'spotify:album:0jEGAl1Uz2PAE6XQyRGBtq', 'artists': [{'external_urls': {'spotify': 'https://open.spotify.com/artist/5Y3MV9DZ0d87NnVm56qSY1'}, 'href': 'https://api.spotify.com/v1/artists/5Y3MV9DZ0d87NnVm56qSY1', 'id': '5Y3MV9DZ0d87NnVm56qSY1', 'name': 'Tiago PZK', 'type': 'artist', 'uri': 'spotify:artist:5Y3MV9DZ0d87NnVm56qSY1'}, {'external_urls': {'spotify': 'https://open.spotify.com/artist/7FNnA9vBm6EKceENgCGRMb'}, 'href': 'https://api.spotify.com/v1/artists/7FNnA9vBm6EKceENgCGRMb', 'id': '7FNnA9vBm6EKceENgCGRMb', 'name': 'Anitta', 'type': 'artist', 'uri': 'spotify:artist:7FNnA9vBm6EKceENgCGRMb'}, {'external_urls': {'spotify': 'https://open.spotify.com/artist/0AqlFI0tz2DsEoJlKSIiT9'}, 'href': 'https://api.spotify.com/v1/artists/0AqlFI0tz2DsEoJlKSIiT9', 'id': '0AqlFI0tz2DsEoJlKSIiT9', 'name': 'Emilia', 'type': 'artist', 'uri': 'spotify:artist:0AqlFI0tz2DsEoJlKSIiT9'}], 'external_urls': {'spotify': 'https://open.spotify.com/album/0jEGAl1Uz2PAE6XQyRGBtq'}, 'total_tracks': 1}, 'artists': [{'external_urls': {'spotify': 'https://open.spotify.com/artist/5Y3MV9DZ0d87NnVm56qSY1'}, 'href': 'https://api.spotify.com/v1/artists/5Y3MV9DZ0d87NnVm56qSY1', 'id': '5Y3MV9DZ0d87NnVm56qSY1', 'name': 'Tiago PZK', 'type': 'artist', 'uri': 'spotify:artist:5Y3MV9DZ0d87NnVm56qSY1'}, {'external_urls': {'spotify': 'https://open.spotify.com/artist/7FNnA9vBm6EKceENgCGRMb'}, 'href': 'https://api.spotify.com/v1/artists/7FNnA9vBm6EKceENgCGRMb', 'id': '7FNnA9vBm6EKceENgCGRMb', 'name': 'Anitta', 'type': 'artist', 'uri': 'spotify:artist:7FNnA9vBm6EKceENgCGRMb'}, {'external_urls': {'spotify': 'https://open.spotify.com/artist/0AqlFI0tz2DsEoJlKSIiT9'}, 'href': 'https://api.spotify.com/v1/artists/0AqlFI0tz2DsEoJlKSIiT9', 'id': '0AqlFI0tz2DsEoJlKSIiT9', 'name': 'Emilia', 'type': 'artist', 'uri': 'spotify:artist:0AqlFI0tz2DsEoJlKSIiT9'}], 'disc_number': 1, 'track_number': 1, 'duration_ms': 165054, 'external_ids': {'isrc': 'USWL12401900'}, 'external_urls': {'spotify': 'https://open.spotify.com/track/5v9LMshhQsNtkUkcXRGO7i'}, 'href': 'https://api.spotify.com/v1/tracks/5v9LMshhQsNtkUkcXRGO7i', 'id': '5v9LMshhQsNtkUkcXRGO7i', 'name': 'Alegría', 'popularity': 78, 'uri': 'spotify:track:5v9LMshhQsNtkUkcXRGO7i', 'is_local': False}, 'video_thumbnail': {'url': None}}, {'added_at': '1970-01-01T00:00:00Z', 'added_by': {'external_urls': {'spotify': 'https://open.spotify.com/user/'}, 'href': 'https://api.spotify.com/v1/users/', 'id': '', 'type': 'user', 'uri': 'spotify:user:'}, 'is_local': False, 'primary_color': None, 'track': {'preview_url': 'https://p.scdn.co/mp3-preview/348d0217a1c3becd19fd0f24eb9fd809fb174b27?cid=5236f001113d42aa982409f077a7d5a7', 'available_markets': ['AR', 'AU', 'AT', 'BE', 'BO', 'BR', 'BG', 'CA', 'CL', 'CO', 'CR', 'CY', 'CZ', 'DK', 'DO', 'DE', 'EC', 'EE', 'SV', 'FI', 'FR', 'GR', 'GT', 'HN', 'HK', 'HU', 'IS', 'IE', 'IT', 'LV', 'LT', 'LU', 'MY', 'MT', 'MX', 'NL', 'NZ', 'NI', 'NO', 'PA', 'PY', 'PE', 'PH', 'PL', 'PT', 'SG', 'SK', 'ES', 'SE', 'CH', 'TW', 'TR', 'UY', 'US', 'GB', 'AD', 'LI', 'MC', 'ID', 'JP', 'TH', 'VN', 'RO', 'IL', 'ZA', 'SA', 'AE', 'BH', 'QA', 'OM', 'KW', 'EG', 'MA', 'DZ', 'TN', 'LB', 'JO', 'PS', 'IN', 'BY', 'KZ', 'MD', 'UA', 'AL', 'BA', 'HR', 'ME', 'MK', 'RS', 'SI', 'KR', 'BD', 'PK', 'LK', 'GH', 'KE', 'NG', 'TZ', 'UG', 'AG', 'AM', 'BS', 'BB', 'BZ', 'BT', 'BW', 'BF', 'CV', 'CW', 'DM', 'FJ', 'GM', 'GE', 'GD', 'GW', 'GY', 'HT', 'JM', 'KI', 'LS', 'LR', 'MW', 'MV', 'ML', 'MH', 'FM', 'NA', 'NR', 'NE', 'PW', 'PG', 'PR', 'WS', 'SM', 'ST', 'SN', 'SC', 'SL', 'SB', 'KN', 'LC', 'VC', 'SR', 'TL', 'TO', 'TT', 'TV', 'VU', 'AZ', 'BN', 'BI', 'KH', 'CM', 'TD', 'KM', 'GQ', 'SZ', 'GA', 'GN', 'KG', 'LA', 'MO', 'MR', 'MN', 'NP', 'RW', 'TG', 'UZ', 'ZW', 'BJ', 'MG', 'MU', 'MZ', 'AO', 'CI', 'DJ', 'ZM', 'CD', 'CG', 'IQ', 'LY', 'TJ', 'VE', 'ET', 'XK'], 'explicit': False, 'type': 'track', 'episode': False, 'track': True, 'album': {'available_markets': ['AR', 'AU', 'AT', 'BE', 'BO', 'BR', 'BG', 'CA', 'CL', 'CO', 'CR', 'CY', 'CZ', 'DK', 'DO', 'DE', 'EC', 'EE', 'SV', 'FI', 'FR', 'GR', 'GT', 'HN', 'HK', 'HU', 'IS', 'IE', 'IT', 'LV', 'LT', 'LU', 'MY', 'MT', 'MX', 'NL', 'NZ', 'NI', 'NO', 'PA', 'PY', 'PE', 'PH', 'PL', 'PT', 'SG', 'SK', 'ES', 'SE', 'CH', 'TW', 'TR', 'UY', 'US', 'GB', 'AD', 'LI', 'MC', 'ID', 'JP', 'TH', 'VN', 'RO', 'IL', 'ZA', 'SA', 'AE', 'BH', 'QA', 'OM', 'KW', 'EG', 'MA', 'DZ', 'TN', 'LB', 'JO', 'PS', 'IN', 'BY', 'KZ', 'MD', 'UA', 'AL', 'BA', 'HR', 'ME', 'MK', 'RS', 'SI', 'KR', 'BD', 'PK', 'LK', 'GH', 'KE', 'NG', 'TZ', 'UG', 'AG', 'AM', 'BS', 'BB', 'BZ', 'BT', 'BW', 'BF', 'CV', 'CW', 'DM', 'FJ', 'GM', 'GE', 'GD', 'GW', 'GY', 'HT', 'JM', 'KI', 'LS', 'LR', 'MW', 'MV', 'ML', 'MH', 'FM', 'NA', 'NR', 'NE', 'PW', 'PG', 'PR', 'WS', 'SM', 'ST', 'SN', 'SC', 'SL', 'SB', 'KN', 'LC', 'VC', 'SR', 'TL', 'TO', 'TT', 'TV', 'VU', 'AZ', 'BN', 'BI', 'KH', 'CM', 'TD', 'KM', 'GQ', 'SZ', 'GA', 'GN', 'KG', 'LA', 'MO', 'MR', 'MN', 'NP', 'RW', 'TG', 'UZ', 'ZW', 'BJ', 'MG', 'MU', 'MZ', 'AO', 'CI', 'DJ', 'ZM', 'CD', 'CG', 'IQ', 'LY', 'TJ', 'VE', 'ET', 'XK'], 'type': 'album', 'album_type': 'single', 'href': 'https://api.spotify.com/v1/albums/6TRRRmLdBwtELfN4EYeYSM', 'id': '6TRRRmLdBwtELfN4EYeYSM', 'images': [{'height': 640, 'url': 'https://i.scdn.co/image/ab67616d0000b273ebd1f4fb61032559a12f494e', 'width': 640}, {'height': 300, 'url': 'https://i.scdn.co/image/ab67616d00001e02ebd1f4fb61032559a12f494e', 'width': 300}, {'height': 64, 'url': 'https://i.scdn.co/image/ab67616d00004851ebd1f4fb61032559a12f494e', 'width': 64}], 'name': 'CARITA TRISTE', 'release_date': '2024-08-30', 'release_date_precision': 'day', 'uri': 'spotify:album:6TRRRmLdBwtELfN4EYeYSM', 'artists': [{'external_urls': {'spotify': 'https://open.spotify.com/artist/6k8mwkKJKKjBILo7ypBspl'}, 'href': 'https://api.spotify.com/v1/artists/6k8mwkKJKKjBILo7ypBspl', 'id': '6k8mwkKJKKjBILo7ypBspl', 'name': 'Ana Mena', 'type': 'artist', 'uri': 'spotify:artist:6k8mwkKJKKjBILo7ypBspl'}, {'external_urls': {'spotify': 'https://open.spotify.com/artist/0AqlFI0tz2DsEoJlKSIiT9'}, 'href': 'https://api.spotify.com/v1/artists/0AqlFI0tz2DsEoJlKSIiT9', 'id': '0AqlFI0tz2DsEoJlKSIiT9', 'name': 'Emilia', 'type': 'artist', 'uri': 'spotify:artist:0AqlFI0tz2DsEoJlKSIiT9'}], 'external_urls': {'spotify': 'https://open.spotify.com/album/6TRRRmLdBwtELfN4EYeYSM'}, 'total_tracks': 1}, 'artists': [{'external_urls': {'spotify': 'https://open.spotify.com/artist/6k8mwkKJKKjBILo7ypBspl'}, 'href': 'https://api.spotify.com/v1/artists/6k8mwkKJKKjBILo7ypBspl', 'id': '6k8mwkKJKKjBILo7ypBspl', 'name': 'Ana Mena', 'type': 'artist', 'uri': 'spotify:artist:6k8mwkKJKKjBILo7ypBspl'}, {'external_urls': {'spotify': 'https://open.spotify.com/artist/0AqlFI0tz2DsEoJlKSIiT9'}, 'href': 'https://api.spotify.com/v1/artists/0AqlFI0tz2DsEoJlKSIiT9', 'id': '0AqlFI0tz2DsEoJlKSIiT9', 'name': 'Emilia', 'type': 'artist', 'uri': 'spotify:artist:0AqlFI0tz2DsEoJlKSIiT9'}], 'disc_number': 1, 'track_number': 1, 'duration_ms': 175296, 'external_ids': {'isrc': 'ES5022401457'}, 'external_urls': {'spotify': 'https://open.spotify.com/track/2mYlSgPvC5Np4mDg9DU5Mc'}, 'href': 'https://api.spotify.com/v1/tracks/2mYlSgPvC5Np4mDg9DU5Mc', 'id': '2mYlSgPvC5Np4mDg9DU5Mc', 'name': 'CARITA TRISTE', 'popularity': 77, 'uri': 'spotify:track:2mYlSgPvC5Np4mDg9DU5Mc', 'is_local': False}, 'video_thumbnail': {'url': None}}, {'added_at': '1970-01-01T00:00:00Z', 'added_by': {'external_urls': {'spotify': 'https://open.spotify.com/user/'}, 'href': 'https://api.spotify.com/v1/users/', 'id': '', 'type': 'user', 'uri': 'spotify:user:'}, 'is_local': False, 'primary_color': None, 'track': {'preview_url': 'https://p.scdn.co/mp3-preview/acdbf8059a3e0b0e84f1fa1b51b47d708789aba9?cid=5236f001113d42aa982409f077a7d5a7', 'available_markets': ['AR', 'AU', 'AT', 'BE', 'BO', 'BR', 'BG', 'CA', 'CL', 'CO', 'CR', 'CY', 'CZ', 'DK', 'DO', 'DE', 'EC', 'EE', 'SV', 'FI', 'FR', 'GR', 'GT', 'HN', 'HK', 'HU', 'IS', 'IE', 'IT', 'LV', 'LT', 'LU', 'MY', 'MT', 'MX', 'NL', 'NZ', 'NI', 'NO', 'PA', 'PY', 'PE', 'PH', 'PL', 'PT', 'SG', 'SK', 'ES', 'SE', 'CH', 'TW', 'TR', 'UY', 'US', 'GB', 'AD', 'LI', 'MC', 'ID', 'JP', 'TH', 'VN', 'RO', 'IL', 'ZA', 'SA', 'AE', 'BH', 'QA', 'OM', 'KW', 'EG', 'MA', 'DZ', 'TN', 'LB', 'JO', 'PS', 'IN', 'BY', 'KZ', 'MD', 'UA', 'AL', 'BA', 'HR', 'ME', 'MK', 'RS', 'SI', 'KR', 'BD', 'PK', 'LK', 'GH', 'KE', 'NG', 'TZ', 'UG', 'AG', 'AM', 'BS', 'BB', 'BZ', 'BT', 'BW', 'BF', 'CV', 'CW', 'DM', 'FJ', 'GM', 'GE', 'GD', 'GW', 'GY', 'HT', 'JM', 'KI', 'LS', 'LR', 'MW', 'MV', 'ML', 'MH', 'FM', 'NA', 'NR', 'NE', 'PW', 'PG', 'PR', 'WS', 'SM', 'ST', 'SN', 'SC', 'SL', 'SB', 'KN', 'LC', 'VC', 'SR', 'TL', 'TO', 'TT', 'TV', 'VU', 'AZ', 'BN', 'BI', 'KH', 'CM', 'TD', 'KM', 'GQ', 'SZ', 'GA', 'GN', 'KG', 'LA', 'MO', 'MR', 'MN', 'NP', 'RW', 'TG', 'UZ', 'ZW', 'BJ', 'MG', 'MU', 'MZ', 'AO', 'CI', 'DJ', 'ZM', 'CD', 'CG', 'IQ', 'LY', 'TJ', 'VE', 'ET', 'XK'], 'explicit': False, 'type': 'track', 'episode': False, 'track': True, 'album': {'available_markets': ['AR', 'AU', 'AT', 'BE', 'BO', 'BR', 'BG', 'CA', 'CL', 'CO', 'CR', 'CY', 'CZ', 'DK', 'DO', 'DE', 'EC', 'EE', 'SV', 'FI', 'FR', 'GR', 'GT', 'HN', 'HK', 'HU', 'IS', 'IE', 'IT', 'LV', 'LT', 'LU', 'MY', 'MT', 'MX', 'NL', 'NZ', 'NI', 'NO', 'PA', 'PY', 'PE', 'PH', 'PL', 'PT', 'SG', 'SK', 'ES', 'SE', 'CH', 'TW', 'TR', 'UY', 'US', 'GB', 'AD', 'LI', 'MC', 'ID', 'JP', 'TH', 'VN', 'RO', 'IL', 'ZA', 'SA', 'AE', 'BH', 'QA', 'OM', 'KW', 'EG', 'MA', 'DZ', 'TN', 'LB', 'JO', 'PS', 'IN', 'BY', 'KZ', 'MD', 'UA', 'AL', 'BA', 'HR', 'ME', 'MK', 'RS', 'SI', 'KR', 'BD', 'PK', 'LK', 'GH', 'KE', 'NG', 'TZ', 'UG', 'AG', 'AM', 'BS', 'BB', 'BZ', 'BT', 'BW', 'BF', 'CV', 'CW', 'DM', 'FJ', 'GM', 'GE', 'GD', 'GW', 'GY', 'HT', 'JM', 'KI', 'LS', 'LR', 'MW', 'MV', 'ML', 'MH', 'FM', 'NA', 'NR', 'NE', 'PW', 'PG', 'PR', 'WS', 'SM', 'ST', 'SN', 'SC', 'SL', 'SB', 'KN', 'LC', 'VC', 'SR', 'TL', 'TO', 'TT', 'TV', 'VU', 'AZ', 'BN', 'BI', 'KH', 'CM', 'TD', 'KM', 'GQ', 'SZ', 'GA', 'GN', 'KG', 'LA', 'MO', 'MR', 'MN', 'NP', 'RW', 'TG', 'UZ', 'ZW', 'BJ', 'MG', 'MU', 'MZ', 'AO', 'CI', 'DJ', 'ZM', 'CD', 'CG', 'IQ', 'LY', 'TJ', 'VE', 'ET', 'XK'], 'type': 'album', 'album_type': 'single', 'href': 'https://api.spotify.com/v1/albums/4hrs3KFCvbn6OWadD2qio4', 'id': '4hrs3KFCvbn6OWadD2qio4', 'images': [{'height': 640, 'url': 'https://i.scdn.co/image/ab67616d0000b273da84cd82350fffd9ea160fae', 'width': 640}, {'height': 300, 'url': 'https://i.scdn.co/image/ab67616d00001e02da84cd82350fffd9ea160fae', 'width': 300}, {'height': 64, 'url': 'https://i.scdn.co/image/ab67616d00004851da84cd82350fffd9ea160fae', 'width': 64}], 'name': 'La_Playlist.mpeg', 'release_date': '2024-06-20', 'release_date_precision': 'day', 'uri': 'spotify:album:4hrs3KFCvbn6OWadD2qio4', 'artists': [{'external_urls': {'spotify': 'https://open.spotify.com/artist/0AqlFI0tz2DsEoJlKSIiT9'}, 'href': 'https://api.spotify.com/v1/artists/0AqlFI0tz2DsEoJlKSIiT9', 'id': '0AqlFI0tz2DsEoJlKSIiT9', 'name': 'Emilia', 'type': 'artist', 'uri': 'spotify:artist:0AqlFI0tz2DsEoJlKSIiT9'}], 'external_urls': {'spotify': 'https://open.spotify.com/album/4hrs3KFCvbn6OWadD2qio4'}, 'total_tracks': 1}, 'artists': [{'external_urls': {'spotify': 'https://open.spotify.com/artist/0AqlFI0tz2DsEoJlKSIiT9'}, 'href': 'https://api.spotify.com/v1/artists/0AqlFI0tz2DsEoJlKSIiT9', 'id': '0AqlFI0tz2DsEoJlKSIiT9', 'name': 'Emilia', 'type': 'artist', 'uri': 'spotify:artist:0AqlFI0tz2DsEoJlKSIiT9'}], 'disc_number': 1, 'track_number': 1, 'duration_ms': 149571, 'external_ids': {'isrc': 'USSD12400386'}, 'external_urls': {'spotify': 'https://open.spotify.com/track/0Cs2ANiGsCOQLKnCrNJ6hA'}, 'href': 'https://api.spotify.com/v1/tracks/0Cs2ANiGsCOQLKnCrNJ6hA', 'id': '0Cs2ANiGsCOQLKnCrNJ6hA', 'name': 'La_Playlist.mpeg', 'popularity': 74, 'uri': 'spotify:track:0Cs2ANiGsCOQLKnCrNJ6hA', 'is_local': False}, 'video_thumbnail': {'url': None}}, {'added_at': '1970-01-01T00:00:00Z', 'added_by': {'external_urls': {'spotify': 'https://open.spotify.com/user/'}, 'href': 'https://api.spotify.com/v1/users/', 'id': '', 'type': 'user', 'uri': 'spotify:user:'}, 'is_local': False, 'primary_color': None, 'track': {'preview_url': 'https://p.scdn.co/mp3-preview/ef94ea5c61f3ae9bb0f24f8aa11c9bacbdfe5643?cid=5236f001113d42aa982409f077a7d5a7', 'available_markets': ['AR', 'AU', 'AT', 'BE', 'BO', 'BR', 'BG', 'CA', 'CL', 'CO', 'CR', 'CY', 'CZ', 'DK', 'DO', 'DE', 'EC', 'EE', 'SV', 'FI', 'FR', 'GR', 'GT', 'HN', 'HK', 'HU', 'IS', 'IE', 'IT', 'LV', 'LT', 'LU', 'MY', 'MT', 'MX', 'NL', 'NZ', 'NI', 'NO', 'PA', 'PY', 'PE', 'PH', 'PL', 'PT', 'SG', 'SK', 'ES', 'SE', 'CH', 'TW', 'TR', 'UY', 'US', 'GB', 'AD', 'LI', 'MC', 'ID', 'JP', 'TH', 'VN', 'RO', 'IL', 'ZA', 'SA', 'AE', 'BH', 'QA', 'OM', 'KW', 'EG', 'MA', 'DZ', 'TN', 'LB', 'JO', 'PS', 'IN', 'BY', 'KZ', 'MD', 'UA', 'AL', 'BA', 'HR', 'ME', 'MK', 'RS', 'SI', 'KR', 'BD', 'PK', 'LK', 'GH', 'KE', 'NG', 'TZ', 'UG', 'AG', 'AM', 'BS', 'BB', 'BZ', 'BT', 'BW', 'BF', 'CV', 'CW', 'DM', 'FJ', 'GM', 'GE', 'GD', 'GW', 'GY', 'HT', 'JM', 'KI', 'LS', 'LR', 'MW', 'MV', 'ML', 'MH', 'FM', 'NA', 'NR', 'NE', 'PW', 'PG', 'PR', 'WS', 'SM', 'ST', 'SN', 'SC', 'SL', 'SB', 'KN', 'LC', 'VC', 'SR', 'TL', 'TO', 'TT', 'TV', 'VU', 'AZ', 'BN', 'BI', 'KH', 'CM', 'TD', 'KM', 'GQ', 'SZ', 'GA', 'GN', 'KG', 'LA', 'MO', 'MR', 'MN', 'NP', 'RW', 'TG', 'UZ', 'ZW', 'BJ', 'MG', 'MU', 'MZ', 'AO', 'CI', 'DJ', 'ZM', 'CD', 'CG', 'IQ', 'LY', 'TJ', 'VE', 'ET', 'XK'], 'explicit': False, 'type': 'track', 'episode': False, 'track': True, 'album': {'available_markets': ['AR', 'AU', 'AT', 'BE', 'BO', 'BR', 'BG', 'CA', 'CL', 'CO', 'CR', 'CY', 'CZ', 'DK', 'DO', 'DE', 'EC', 'EE', 'SV', 'FI', 'FR', 'GR', 'GT', 'HN', 'HK', 'HU', 'IS', 'IE', 'IT', 'LV', 'LT', 'LU', 'MY', 'MT', 'MX', 'NL', 'NZ', 'NI', 'NO', 'PA', 'PY', 'PE', 'PH', 'PL', 'PT', 'SG', 'SK', 'ES', 'SE', 'CH', 'TW', 'TR', 'UY', 'US', 'GB', 'AD', 'LI', 'MC', 'ID', 'JP', 'TH', 'VN', 'RO', 'IL', 'ZA', 'SA', 'AE', 'BH', 'QA', 'OM', 'KW', 'EG', 'MA', 'DZ', 'TN', 'LB', 'JO', 'PS', 'IN', 'BY', 'KZ', 'MD', 'UA', 'AL', 'BA', 'HR', 'ME', 'MK', 'RS', 'SI', 'KR', 'BD', 'PK', 'LK', 'GH', 'KE', 'NG', 'TZ', 'UG', 'AG', 'AM', 'BS', 'BB', 'BZ', 'BT', 'BW', 'BF', 'CV', 'CW', 'DM', 'FJ', 'GM', 'GE', 'GD', 'GW', 'GY', 'HT', 'JM', 'KI', 'LS', 'LR', 'MW', 'MV', 'ML', 'MH', 'FM', 'NA', 'NR', 'NE', 'PW', 'PG', 'PR', 'WS', 'SM', 'ST', 'SN', 'SC', 'SL', 'SB', 'KN', 'LC', 'VC', 'SR', 'TL', 'TO', 'TT', 'TV', 'VU', 'AZ', 'BN', 'BI', 'KH', 'CM', 'TD', 'KM', 'GQ', 'SZ', 'GA', 'GN', 'KG', 'LA', 'MO', 'MR', 'MN', 'NP', 'RW', 'TG', 'UZ', 'ZW', 'BJ', 'MG', 'MU', 'MZ', 'AO', 'CI', 'DJ', 'ZM', 'CD', 'CG', 'IQ', 'LY', 'TJ', 'VE', 'ET', 'XK'], 'type': 'album', 'album_type': 'album', 'href': 'https://api.spotify.com/v1/albums/2qo8j9yZIsx66yDuUho2jp', 'id': '2qo8j9yZIsx66yDuUho2jp', 'images': [{'height': 640, 'url': 'https://i.scdn.co/image/ab67616d0000b273bfb94590c914538b193f6931', 'width': 640}, {'height': 300, 'url': 'https://i.scdn.co/image/ab67616d00001e02bfb94590c914538b193f6931', 'width': 300}, {'height': 64, 'url': 'https://i.scdn.co/image/ab67616d00004851bfb94590c914538b193f6931', 'width': 64}], 'name': '.mp3', 'release_date': '2023-11-03', 'release_date_precision': 'day', 'uri': 'spotify:album:2qo8j9yZIsx66yDuUho2jp', 'artists': [{'external_urls': {'spotify': 'https://open.spotify.com/artist/0AqlFI0tz2DsEoJlKSIiT9'}, 'href': 'https://api.spotify.com/v1/artists/0AqlFI0tz2DsEoJlKSIiT9', 'id': '0AqlFI0tz2DsEoJlKSIiT9', 'name': 'Emilia', 'type': 'artist', 'uri': 'spotify:artist:0AqlFI0tz2DsEoJlKSIiT9'}], 'external_urls': {'spotify': 'https://open.spotify.com/album/2qo8j9yZIsx66yDuUho2jp'}, 'total_tracks': 13}, 'artists': [{'external_urls': {'spotify': 'https://open.spotify.com/artist/0AqlFI0tz2DsEoJlKSIiT9'}, 'href': 'https://api.spotify.com/v1/artists/0AqlFI0tz2DsEoJlKSIiT9', 'id': '0AqlFI0tz2DsEoJlKSIiT9', 'name': 'Emilia', 'type': 'artist', 'uri': 'spotify:artist:0AqlFI0tz2DsEoJlKSIiT9'}, {'external_urls': {'spotify': 'https://open.spotify.com/artist/7vXDAI8JwjW531ouMGbfcp'}, 'href': 'https://api.spotify.com/v1/artists/7vXDAI8JwjW531ouMGbfcp', 'id': '7vXDAI8JwjW531ouMGbfcp', 'name': 'TINI', 'type': 'artist', 'uri': 'spotify:artist:7vXDAI8JwjW531ouMGbfcp'}], 'disc_number': 1, 'track_number': 5, 'duration_ms': 140625, 'external_ids': {'isrc': 'USSD12300584'}, 'external_urls': {'spotify': 'https://open.spotify.com/track/6Es8Sk3xe1HiJ2MXCfHHwR'}, 'href': 'https://api.spotify.com/v1/tracks/6Es8Sk3xe1HiJ2MXCfHHwR', 'id': '6Es8Sk3xe1HiJ2MXCfHHwR', 'name': 'La_Original.mp3', 'popularity': 75, 'uri': 'spotify:track:6Es8Sk3xe1HiJ2MXCfHHwR', 'is_local': False}, 'video_thumbnail': {'url': None}}, {'added_at': '1970-01-01T00:00:00Z', 'added_by': {'external_urls': {'spotify': 'https://open.spotify.com/user/'}, 'href': 'https://api.spotify.com/v1/users/', 'id': '', 'type': 'user', 'uri': 'spotify:user:'}, 'is_local': False, 'primary_color': None, 'track': {'preview_url': 'https://p.scdn.co/mp3-preview/5d3694f1e27ed860f2d1965857aedfa03b5d2dab?cid=5236f001113d42aa982409f077a7d5a7', 'available_markets': ['AR', 'AU', 'AT', 'BE', 'BO', 'BR', 'BG', 'CA', 'CL', 'CO', 'CR', 'CY', 'CZ', 'DK', 'DO', 'DE', 'EC', 'EE', 'SV', 'FI', 'FR', 'GR', 'GT', 'HN', 'HK', 'HU', 'IS', 'IE', 'IT', 'LV', 'LT', 'LU', 'MY', 'MT', 'MX', 'NL', 'NZ', 'NI', 'NO', 'PA', 'PY', 'PE', 'PH', 'PL', 'PT', 'SG', 'SK', 'ES', 'SE', 'CH', 'TW', 'TR', 'UY', 'US', 'GB', 'AD', 'LI', 'MC', 'ID', 'JP', 'TH', 'VN', 'RO', 'IL', 'ZA', 'SA', 'AE', 'BH', 'QA', 'OM', 'KW', 'EG', 'MA', 'DZ', 'TN', 'LB', 'JO', 'PS', 'IN', 'KZ', 'MD', 'UA', 'AL', 'BA', 'HR', 'ME', 'MK', 'RS', 'SI', 'KR', 'BD', 'PK', 'LK', 'GH', 'KE', 'NG', 'TZ', 'UG', 'AG', 'AM', 'BS', 'BB', 'BZ', 'BT', 'BW', 'BF', 'CV', 'CW', 'DM', 'FJ', 'GM', 'GE', 'GD', 'GW', 'GY', 'HT', 'JM', 'KI', 'LS', 'LR', 'MW', 'MV', 'ML', 'MH', 'FM', 'NA', 'NR', 'NE', 'PW', 'PG', 'PR', 'WS', 'SM', 'ST', 'SN', 'SC', 'SL', 'SB', 'KN', 'LC', 'VC', 'SR', 'TL', 'TO', 'TT', 'TV', 'VU', 'AZ', 'BN', 'BI', 'KH', 'CM', 'TD', 'KM', 'GQ', 'SZ', 'GA', 'GN', 'KG', 'LA', 'MO', 'MR', 'MN', 'NP', 'RW', 'TG', 'UZ', 'ZW', 'BJ', 'MG', 'MU', 'MZ', 'AO', 'CI', 'DJ', 'ZM', 'CD', 'CG', 'IQ', 'LY', 'TJ', 'VE', 'ET', 'XK'], 'explicit': True, 'type': 'track', 'episode': False, 'track': True, 'album': {'available_markets': ['AR', 'AU', 'AT', 'BE', 'BO', 'BR', 'BG', 'CA', 'CL', 'CO', 'CR', 'CY', 'CZ', 'DK', 'DO', 'DE', 'EC', 'EE', 'SV', 'FI', 'FR', 'GR', 'GT', 'HN', 'HK', 'HU', 'IS', 'IE', 'IT', 'LV', 'LT', 'LU', 'MY', 'MT', 'MX', 'NL', 'NZ', 'NI', 'NO', 'PA', 'PY', 'PE', 'PH', 'PL', 'PT', 'SG', 'SK', 'ES', 'SE', 'CH', 'TW', 'TR', 'UY', 'US', 'GB', 'AD', 'LI', 'MC', 'ID', 'JP', 'TH', 'VN', 'RO', 'IL', 'ZA', 'SA', 'AE', 'BH', 'QA', 'OM', 'KW', 'EG', 'MA', 'DZ', 'TN', 'LB', 'JO', 'PS', 'IN', 'KZ', 'MD', 'UA', 'AL', 'BA', 'HR', 'ME', 'MK', 'RS', 'SI', 'KR', 'BD', 'PK', 'LK', 'GH', 'KE', 'NG', 'TZ', 'UG', 'AG', 'AM', 'BS', 'BB', 'BZ', 'BT', 'BW', 'BF', 'CV', 'CW', 'DM', 'FJ', 'GM', 'GE', 'GD', 'GW', 'GY', 'HT', 'JM', 'KI', 'LS', 'LR', 'MW', 'MV', 'ML', 'MH', 'FM', 'NA', 'NR', 'NE', 'PW', 'PG', 'PR', 'WS', 'SM', 'ST', 'SN', 'SC', 'SL', 'SB', 'KN', 'LC', 'VC', 'SR', 'TL', 'TO', 'TT', 'TV', 'VU', 'AZ', 'BN', 'BI', 'KH', 'CM', 'TD', 'KM', 'GQ', 'SZ', 'GA', 'GN', 'KG', 'LA', 'MO', 'MR', 'MN', 'NP', 'RW', 'TG', 'UZ', 'ZW', 'BJ', 'MG', 'MU', 'MZ', 'AO', 'CI', 'DJ', 'ZM', 'CD', 'CG', 'IQ', 'LY', 'TJ', 'VE', 'ET', 'XK'], 'type': 'album', 'album_type': 'single', 'href': 'https://api.spotify.com/v1/albums/4f47mbk3DOWJ16DXLnviMw', 'id': '4f47mbk3DOWJ16DXLnviMw', 'images': [{'height': 640, 'url': 'https://i.scdn.co/image/ab67616d0000b2735657399a68609589f5709e8d', 'width': 640}, {'height': 300, 'url': 'https://i.scdn.co/image/ab67616d00001e025657399a68609589f5709e8d', 'width': 300}, {'height': 64, 'url': 'https://i.scdn.co/image/ab67616d000048515657399a68609589f5709e8d', 'width': 64}], 'name': 'Una Foto Remix (feat. Emilia)', 'release_date': '2024-01-05', 'release_date_precision': 'day', 'uri': 'spotify:album:4f47mbk3DOWJ16DXLnviMw', 'artists': [{'external_urls': {'spotify': 'https://open.spotify.com/artist/2IKdK6PbitvCiXt1t2bPU6'}, 'href': 'https://api.spotify.com/v1/artists/2IKdK6PbitvCiXt1t2bPU6', 'id': '2IKdK6PbitvCiXt1t2bPU6', 'name': 'Mesita', 'type': 'artist', 'uri': 'spotify:artist:2IKdK6PbitvCiXt1t2bPU6'}, {'external_urls': {'spotify': 'https://open.spotify.com/artist/2UZIAOlrnyZmyzt1nuXr9y'}, 'href': 'https://api.spotify.com/v1/artists/2UZIAOlrnyZmyzt1nuXr9y', 'id': '2UZIAOlrnyZmyzt1nuXr9y', 'name': 'Nicki Nicole', 'type': 'artist', 'uri': 'spotify:artist:2UZIAOlrnyZmyzt1nuXr9y'}, {'external_urls': {'spotify': 'https://open.spotify.com/artist/5Y3MV9DZ0d87NnVm56qSY1'}, 'href': 'https://api.spotify.com/v1/artists/5Y3MV9DZ0d87NnVm56qSY1', 'id': '5Y3MV9DZ0d87NnVm56qSY1', 'name': 'Tiago PZK', 'type': 'artist', 'uri': 'spotify:artist:5Y3MV9DZ0d87NnVm56qSY1'}], 'external_urls': {'spotify': 'https://open.spotify.com/album/4f47mbk3DOWJ16DXLnviMw'}, 'total_tracks': 1}, 'artists': [{'external_urls': {'spotify': 'https://open.spotify.com/artist/2IKdK6PbitvCiXt1t2bPU6'}, 'href': 'https://api.spotify.com/v1/artists/2IKdK6PbitvCiXt1t2bPU6', 'id': '2IKdK6PbitvCiXt1t2bPU6', 'name': 'Mesita', 'type': 'artist', 'uri': 'spotify:artist:2IKdK6PbitvCiXt1t2bPU6'}, {'external_urls': {'spotify': 'https://open.spotify.com/artist/2UZIAOlrnyZmyzt1nuXr9y'}, 'href': 'https://api.spotify.com/v1/artists/2UZIAOlrnyZmyzt1nuXr9y', 'id': '2UZIAOlrnyZmyzt1nuXr9y', 'name': 'Nicki Nicole', 'type': 'artist', 'uri': 'spotify:artist:2UZIAOlrnyZmyzt1nuXr9y'}, {'external_urls': {'spotify': 'https://open.spotify.com/artist/5Y3MV9DZ0d87NnVm56qSY1'}, 'href': 'https://api.spotify.com/v1/artists/5Y3MV9DZ0d87NnVm56qSY1', 'id': '5Y3MV9DZ0d87NnVm56qSY1', 'name': 'Tiago PZK', 'type': 'artist', 'uri': 'spotify:artist:5Y3MV9DZ0d87NnVm56qSY1'}, {'external_urls': {'spotify': 'https://open.spotify.com/artist/0AqlFI0tz2DsEoJlKSIiT9'}, 'href': 'https://api.spotify.com/v1/artists/0AqlFI0tz2DsEoJlKSIiT9', 'id': '0AqlFI0tz2DsEoJlKSIiT9', 'name': 'Emilia', 'type': 'artist', 'uri': 'spotify:artist:0AqlFI0tz2DsEoJlKSIiT9'}], 'disc_number': 1, 'track_number': 1, 'duration_ms': 243898, 'external_ids': {'isrc': 'UYS642300003'}, 'external_urls': {'spotify': 'https://open.spotify.com/track/1kqH58eGh2ZTOHwqBIB2tM'}, 'href': 'https://api.spotify.com/v1/tracks/1kqH58eGh2ZTOHwqBIB2tM', 'id': '1kqH58eGh2ZTOHwqBIB2tM', 'name': 'Una Foto Remix (feat. Emilia)', 'popularity': 76, 'uri': 'spotify:track:1kqH58eGh2ZTOHwqBIB2tM', 'is_local': False}, 'video_thumbnail': {'url': None}}, {'added_at': '1970-01-01T00:00:00Z', 'added_by': {'external_urls': {'spotify': 'https://open.spotify.com/user/'}, 'href': 'https://api.spotify.com/v1/users/', 'id': '', 'type': 'user', 'uri': 'spotify:user:'}, 'is_local': False, 'primary_color': None, 'track': {'preview_url': 'https://p.scdn.co/mp3-preview/3bca60d71ee79d31a0f2bf4ca4adf5c70a4c909c?cid=5236f001113d42aa982409f077a7d5a7', 'available_markets': ['AR', 'AU', 'AT', 'BE', 'BO', 'BR', 'BG', 'CA', 'CL', 'CO', 'CR', 'CY', 'CZ', 'DK', 'DO', 'DE', 'EC', 'EE', 'SV', 'FI', 'FR', 'GR', 'GT', 'HN', 'HK', 'HU', 'IS', 'IE', 'IT', 'LV', 'LT', 'LU', 'MY', 'MT', 'MX', 'NL', 'NZ', 'NI', 'NO', 'PA', 'PY', 'PE', 'PH', 'PL', 'PT', 'SG', 'SK', 'ES', 'SE', 'CH', 'TW', 'TR', 'UY', 'US', 'GB', 'AD', 'LI', 'MC', 'ID', 'JP', 'TH', 'VN', 'RO', 'IL', 'ZA', 'SA', 'AE', 'BH', 'QA', 'OM', 'KW', 'EG', 'MA', 'DZ', 'TN', 'LB', 'JO', 'PS', 'IN', 'BY', 'KZ', 'MD', 'UA', 'AL', 'BA', 'HR', 'ME', 'MK', 'RS', 'SI', 'KR', 'BD', 'PK', 'LK', 'GH', 'KE', 'NG', 'TZ', 'UG', 'AG', 'AM', 'BS', 'BB', 'BZ', 'BT', 'BW', 'BF', 'CV', 'CW', 'DM', 'FJ', 'GM', 'GE', 'GD', 'GW', 'GY', 'HT', 'JM', 'KI', 'LS', 'LR', 'MW', 'MV', 'ML', 'MH', 'FM', 'NA', 'NR', 'NE', 'PW', 'PG', 'PR', 'WS', 'SM', 'ST', 'SN', 'SC', 'SL', 'SB', 'KN', 'LC', 'VC', 'SR', 'TL', 'TO', 'TT', 'TV', 'VU', 'AZ', 'BN', 'BI', 'KH', 'CM', 'TD', 'KM', 'GQ', 'SZ', 'GA', 'GN', 'KG', 'LA', 'MO', 'MR', 'MN', 'NP', 'RW', 'TG', 'UZ', 'ZW', 'BJ', 'MG', 'MU', 'MZ', 'AO', 'CI', 'DJ', 'ZM', 'CD', 'CG', 'IQ', 'LY', 'TJ', 'VE', 'ET', 'XK'], 'explicit': True, 'type': 'track', 'episode': False, 'track': True, 'album': {'available_markets': ['AR', 'AU', 'AT', 'BE', 'BO', 'BR', 'BG', 'CA', 'CL', 'CO', 'CR', 'CY', 'CZ', 'DK', 'DO', 'DE', 'EC', 'EE', 'SV', 'FI', 'FR', 'GR', 'GT', 'HN', 'HK', 'HU', 'IS', 'IE', 'IT', 'LV', 'LT', 'LU', 'MY', 'MT', 'MX', 'NL', 'NZ', 'NI', 'NO', 'PA', 'PY', 'PE', 'PH', 'PL', 'PT', 'SG', 'SK', 'ES', 'SE', 'CH', 'TW', 'TR', 'UY', 'US', 'GB', 'AD', 'LI', 'MC', 'ID', 'JP', 'TH', 'VN', 'RO', 'IL', 'ZA', 'SA', 'AE', 'BH', 'QA', 'OM', 'KW', 'EG', 'MA', 'DZ', 'TN', 'LB', 'JO', 'PS', 'IN', 'BY', 'KZ', 'MD', 'UA', 'AL', 'BA', 'HR', 'ME', 'MK', 'RS', 'SI', 'KR', 'BD', 'PK', 'LK', 'GH', 'KE', 'NG', 'TZ', 'UG', 'AG', 'AM', 'BS', 'BB', 'BZ', 'BT', 'BW', 'BF', 'CV', 'CW', 'DM', 'FJ', 'GM', 'GE', 'GD', 'GW', 'GY', 'HT', 'JM', 'KI', 'LS', 'LR', 'MW', 'MV', 'ML', 'MH', 'FM', 'NA', 'NR', 'NE', 'PW', 'PG', 'PR', 'WS', 'SM', 'ST', 'SN', 'SC', 'SL', 'SB', 'KN', 'LC', 'VC', 'SR', 'TL', 'TO', 'TT', 'TV', 'VU', 'AZ', 'BN', 'BI', 'KH', 'CM', 'TD', 'KM', 'GQ', 'SZ', 'GA', 'GN', 'KG', 'LA', 'MO', 'MR', 'MN', 'NP', 'RW', 'TG', 'UZ', 'ZW', 'BJ', 'MG', 'MU', 'MZ', 'AO', 'CI', 'DJ', 'ZM', 'CD', 'CG', 'IQ', 'LY', 'TJ', 'VE', 'ET', 'XK'], 'type': 'album', 'album_type': 'single', 'href': 'https://api.spotify.com/v1/albums/7sAPapzxqBhYuDe7OxldCN', 'id': '7sAPapzxqBhYuDe7OxldCN', 'images': [{'height': 640, 'url': 'https://i.scdn.co/image/ab67616d0000b27332630fe83750d8db0b2b2d5c', 'width': 640}, {'height': 300, 'url': 'https://i.scdn.co/image/ab67616d00001e0232630fe83750d8db0b2b2d5c', 'width': 300}, {'height': 64, 'url': 'https://i.scdn.co/image/ab67616d0000485132630fe83750d8db0b2b2d5c', 'width': 64}], 'name': 'No_se_ve.mp3', 'release_date': '2023-05-03', 'release_date_precision': 'day', 'uri': 'spotify:album:7sAPapzxqBhYuDe7OxldCN', 'artists': [{'external_urls': {'spotify': 'https://open.spotify.com/artist/0AqlFI0tz2DsEoJlKSIiT9'}, 'href': 'https://api.spotify.com/v1/artists/0AqlFI0tz2DsEoJlKSIiT9', 'id': '0AqlFI0tz2DsEoJlKSIiT9', 'name': 'Emilia', 'type': 'artist', 'uri': 'spotify:artist:0AqlFI0tz2DsEoJlKSIiT9'}, {'external_urls': {'spotify': 'https://open.spotify.com/artist/3CDoRporvSjdzTrm99a3gi'}, 'href': 'https://api.spotify.com/v1/artists/3CDoRporvSjdzTrm99a3gi', 'id': '3CDoRporvSjdzTrm99a3gi', 'name': 'LUDMILLA', 'type': 'artist', 'uri': 'spotify:artist:3CDoRporvSjdzTrm99a3gi'}, {'external_urls': {'spotify': 'https://open.spotify.com/artist/2Yia9CwtgcrsN5kVOQ0qRA'}, 'href': 'https://api.spotify.com/v1/artists/2Yia9CwtgcrsN5kVOQ0qRA', 'id': '2Yia9CwtgcrsN5kVOQ0qRA', 'name': 'ZECCA', 'type': 'artist', 'uri': 'spotify:artist:2Yia9CwtgcrsN5kVOQ0qRA'}], 'external_urls': {'spotify': 'https://open.spotify.com/album/7sAPapzxqBhYuDe7OxldCN'}, 'total_tracks': 1}, 'artists': [{'external_urls': {'spotify': 'https://open.spotify.com/artist/0AqlFI0tz2DsEoJlKSIiT9'}, 'href': 'https://api.spotify.com/v1/artists/0AqlFI0tz2DsEoJlKSIiT9', 'id': '0AqlFI0tz2DsEoJlKSIiT9', 'name': 'Emilia', 'type': 'artist', 'uri': 'spotify:artist:0AqlFI0tz2DsEoJlKSIiT9'}, {'external_urls': {'spotify': 'https://open.spotify.com/artist/3CDoRporvSjdzTrm99a3gi'}, 'href': 'https://api.spotify.com/v1/artists/3CDoRporvSjdzTrm99a3gi', 'id': '3CDoRporvSjdzTrm99a3gi', 'name': 'LUDMILLA', 'type': 'artist', 'uri': 'spotify:artist:3CDoRporvSjdzTrm99a3gi'}, {'external_urls': {'spotify': 'https://open.spotify.com/artist/2Yia9CwtgcrsN5kVOQ0qRA'}, 'href': 'https://api.spotify.com/v1/artists/2Yia9CwtgcrsN5kVOQ0qRA', 'id': '2Yia9CwtgcrsN5kVOQ0qRA', 'name': 'ZECCA', 'type': 'artist', 'uri': 'spotify:artist:2Yia9CwtgcrsN5kVOQ0qRA'}], 'disc_number': 1, 'track_number': 1, 'duration_ms': 203636, 'external_ids': {'isrc': 'QM6N22333334'}, 'external_urls': {'spotify': 'https://open.spotify.com/track/2iIBpwP4FyQ95xgVail3yr'}, 'href': 'https://api.spotify.com/v1/tracks/2iIBpwP4FyQ95xgVail3yr', 'id': '2iIBpwP4FyQ95xgVail3yr', 'name': 'No_se_ve.mp3', 'popularity': 71, 'uri': 'spotify:track:2iIBpwP4FyQ95xgVail3yr', 'is_local': False}, 'video_thumbnail': {'url': None}}, {'added_at': '1970-01-01T00:00:00Z', 'added_by': {'external_urls': {'spotify': 'https://open.spotify.com/user/'}, 'href': 'https://api.spotify.com/v1/users/', 'id': '', 'type': 'user', 'uri': 'spotify:user:'}, 'is_local': False, 'primary_color': None, 'track': {'preview_url': 'https://p.scdn.co/mp3-preview/e1aff30c44695bf83d01c25793c87cbe80b9f11a?cid=5236f001113d42aa982409f077a7d5a7', 'available_markets': ['AR', 'AU', 'AT', 'BE', 'BO', 'BR', 'BG', 'CA', 'CL', 'CO', 'CR', 'CY', 'CZ', 'DK', 'DO', 'DE', 'EC', 'EE', 'SV', 'FI', 'FR', 'GR', 'GT', 'HN', 'HK', 'HU', 'IS', 'IE', 'IT', 'LV', 'LT', 'LU', 'MY', 'MT', 'MX', 'NL', 'NZ', 'NI', 'NO', 'PA', 'PY', 'PE', 'PH', 'PL', 'PT', 'SG', 'SK', 'ES', 'SE', 'CH', 'TW', 'TR', 'UY', 'US', 'GB', 'AD', 'LI', 'MC', 'ID', 'JP', 'TH', 'VN', 'RO', 'IL', 'ZA', 'SA', 'AE', 'BH', 'QA', 'OM', 'KW', 'EG', 'MA', 'DZ', 'TN', 'LB', 'JO', 'PS', 'IN', 'BY', 'KZ', 'MD', 'UA', 'AL', 'BA', 'HR', 'ME', 'MK', 'RS', 'SI', 'KR', 'BD', 'PK', 'LK', 'GH', 'KE', 'NG', 'TZ', 'UG', 'AG', 'AM', 'BS', 'BB', 'BZ', 'BT', 'BW', 'BF', 'CV', 'CW', 'DM', 'FJ', 'GM', 'GE', 'GD', 'GW', 'GY', 'HT', 'JM', 'KI', 'LS', 'LR', 'MW', 'MV', 'ML', 'MH', 'FM', 'NA', 'NR', 'NE', 'PW', 'PG', 'PR', 'WS', 'SM', 'ST', 'SN', 'SC', 'SL', 'SB', 'KN', 'LC', 'VC', 'SR', 'TL', 'TO', 'TT', 'TV', 'VU', 'AZ', 'BN', 'BI', 'KH', 'CM', 'TD', 'KM', 'GQ', 'SZ', 'GA', 'GN', 'KG', 'LA', 'MO', 'MR', 'MN', 'NP', 'RW', 'TG', 'UZ', 'ZW', 'BJ', 'MG', 'MU', 'MZ', 'AO', 'CI', 'DJ', 'ZM', 'CD', 'CG', 'IQ', 'LY', 'TJ', 'VE', 'ET', 'XK'], 'explicit': False, 'type': 'track', 'episode': False, 'track': True, 'album': {'available_markets': ['AR', 'AU', 'AT', 'BE', 'BO', 'BR', 'BG', 'CA', 'CL', 'CO', 'CR', 'CY', 'CZ', 'DK', 'DO', 'DE', 'EC', 'EE', 'SV', 'FI', 'FR', 'GR', 'GT', 'HN', 'HK', 'HU', 'IS', 'IE', 'IT', 'LV', 'LT', 'LU', 'MY', 'MT', 'MX', 'NL', 'NZ', 'NI', 'NO', 'PA', 'PY', 'PE', 'PH', 'PL', 'PT', 'SG', 'SK', 'ES', 'SE', 'CH', 'TW', 'TR', 'UY', 'US', 'GB', 'AD', 'LI', 'MC', 'ID', 'JP', 'TH', 'VN', 'RO', 'IL', 'ZA', 'SA', 'AE', 'BH', 'QA', 'OM', 'KW', 'EG', 'MA', 'DZ', 'TN', 'LB', 'JO', 'PS', 'IN', 'BY', 'KZ', 'MD', 'UA', 'AL', 'BA', 'HR', 'ME', 'MK', 'RS', 'SI', 'KR', 'BD', 'PK', 'LK', 'GH', 'KE', 'NG', 'TZ', 'UG', 'AG', 'AM', 'BS', 'BB', 'BZ', 'BT', 'BW', 'BF', 'CV', 'CW', 'DM', 'FJ', 'GM', 'GE', 'GD', 'GW', 'GY', 'HT', 'JM', 'KI', 'LS', 'LR', 'MW', 'MV', 'ML', 'MH', 'FM', 'NA', 'NR', 'NE', 'PW', 'PG', 'PR', 'WS', 'SM', 'ST', 'SN', 'SC', 'SL', 'SB', 'KN', 'LC', 'VC', 'SR', 'TL', 'TO', 'TT', 'TV', 'VU', 'AZ', 'BN', 'BI', 'KH', 'CM', 'TD', 'KM', 'GQ', 'SZ', 'GA', 'GN', 'KG', 'LA', 'MO', 'MR', 'MN', 'NP', 'RW', 'TG', 'UZ', 'ZW', 'BJ', 'MG', 'MU', 'MZ', 'AO', 'CI', 'DJ', 'ZM', 'CD', 'CG', 'IQ', 'LY', 'TJ', 'VE', 'ET', 'XK'], 'type': 'album', 'album_type': 'single', 'href': 'https://api.spotify.com/v1/albums/5OT9JgUd8WVWBJgYog7a82', 'id': '5OT9JgUd8WVWBJgYog7a82', 'images': [{'height': 640, 'url': 'https://i.scdn.co/image/ab67616d0000b273bfc03d005bbc2f7e7abc889b', 'width': 640}, {'height': 300, 'url': 'https://i.scdn.co/image/ab67616d00001e02bfc03d005bbc2f7e7abc889b', 'width': 300}, {'height': 64, 'url': 'https://i.scdn.co/image/ab67616d00004851bfc03d005bbc2f7e7abc889b', 'width': 64}], 'name': 'En La Intimidad | CROSSOVER #1', 'release_date': '2023-02-01', 'release_date_precision': 'day', 'uri': 'spotify:album:5OT9JgUd8WVWBJgYog7a82', 'artists': [{'external_urls': {'spotify': 'https://open.spotify.com/artist/2OhUNb01gLwygOizYvTm0e'}, 'href': 'https://api.spotify.com/v1/artists/2OhUNb01gLwygOizYvTm0e', 'id': '2OhUNb01gLwygOizYvTm0e', 'name': 'Big One', 'type': 'artist', 'uri': 'spotify:artist:2OhUNb01gLwygOizYvTm0e'}, {'external_urls': {'spotify': 'https://open.spotify.com/artist/0AqlFI0tz2DsEoJlKSIiT9'}, 'href': 'https://api.spotify.com/v1/artists/0AqlFI0tz2DsEoJlKSIiT9', 'id': '0AqlFI0tz2DsEoJlKSIiT9', 'name': 'Emilia', 'type': 'artist', 'uri': 'spotify:artist:0AqlFI0tz2DsEoJlKSIiT9'}, {'external_urls': {'spotify': 'https://open.spotify.com/artist/6GRwwWAtmusrgAL5JF9Dfr'}, 'href': 'https://api.spotify.com/v1/artists/6GRwwWAtmusrgAL5JF9Dfr', 'id': '6GRwwWAtmusrgAL5JF9Dfr', 'name': 'Callejero Fino', 'type': 'artist', 'uri': 'spotify:artist:6GRwwWAtmusrgAL5JF9Dfr'}], 'external_urls': {'spotify': 'https://open.spotify.com/album/5OT9JgUd8WVWBJgYog7a82'}, 'total_tracks': 1}, 'artists': [{'external_urls': {'spotify': 'https://open.spotify.com/artist/2OhUNb01gLwygOizYvTm0e'}, 'href': 'https://api.spotify.com/v1/artists/2OhUNb01gLwygOizYvTm0e', 'id': '2OhUNb01gLwygOizYvTm0e', 'name': 'Big One', 'type': 'artist', 'uri': 'spotify:artist:2OhUNb01gLwygOizYvTm0e'}, {'external_urls': {'spotify': 'https://open.spotify.com/artist/0AqlFI0tz2DsEoJlKSIiT9'}, 'href': 'https://api.spotify.com/v1/artists/0AqlFI0tz2DsEoJlKSIiT9', 'id': '0AqlFI0tz2DsEoJlKSIiT9', 'name': 'Emilia', 'type': 'artist', 'uri': 'spotify:artist:0AqlFI0tz2DsEoJlKSIiT9'}, {'external_urls': {'spotify': 'https://open.spotify.com/artist/6GRwwWAtmusrgAL5JF9Dfr'}, 'href': 'https://api.spotify.com/v1/artists/6GRwwWAtmusrgAL5JF9Dfr', 'id': '6GRwwWAtmusrgAL5JF9Dfr', 'name': 'Callejero Fino', 'type': 'artist', 'uri': 'spotify:artist:6GRwwWAtmusrgAL5JF9Dfr'}], 'disc_number': 1, 'track_number': 1, 'duration_ms': 165854, 'external_ids': {'isrc': 'ARP7V2200017'}, 'external_urls': {'spotify': 'https://open.spotify.com/track/7w7BrPbOjF5OxChs2dxFve'}, 'href': 'https://api.spotify.com/v1/tracks/7w7BrPbOjF5OxChs2dxFve', 'id': '7w7BrPbOjF5OxChs2dxFve', 'name': 'En La Intimidad | CROSSOVER #1', 'popularity': 69, 'uri': 'spotify:track:7w7BrPbOjF5OxChs2dxFve', 'is_local': False}, 'video_thumbnail': {'url': None}}, {'added_at': '1970-01-01T00:00:00Z', 'added_by': {'external_urls': {'spotify': 'https://open.spotify.com/user/'}, 'href': 'https://api.spotify.com/v1/users/', 'id': '', 'type': 'user', 'uri': 'spotify:user:'}, 'is_local': False, 'primary_color': None, 'track': {'preview_url': 'https://p.scdn.co/mp3-preview/3e7e65bed251c92c2b6364da3ef7ec5ec07d0e39?cid=5236f001113d42aa982409f077a7d5a7', 'available_markets': ['AR', 'AU', 'AT', 'BE', 'BO', 'BR', 'BG', 'CA', 'CL', 'CO', 'CR', 'CY', 'CZ', 'DK', 'DO', 'DE', 'EC', 'EE', 'SV', 'FI', 'FR', 'GR', 'GT', 'HN', 'HK', 'HU', 'IS', 'IE', 'IT', 'LV', 'LT', 'LU', 'MY', 'MT', 'MX', 'NL', 'NZ', 'NI', 'NO', 'PA', 'PY', 'PE', 'PH', 'PL', 'PT', 'SG', 'SK', 'ES', 'SE', 'CH', 'TW', 'TR', 'UY', 'US', 'GB', 'AD', 'LI', 'MC', 'ID', 'JP', 'TH', 'VN', 'RO', 'IL', 'ZA', 'SA', 'AE', 'BH', 'QA', 'OM', 'KW', 'EG', 'MA', 'DZ', 'TN', 'LB', 'JO', 'PS', 'IN', 'BY', 'KZ', 'MD', 'UA', 'AL', 'BA', 'HR', 'ME', 'MK', 'RS', 'SI', 'KR', 'BD', 'PK', 'LK', 'GH', 'KE', 'NG', 'TZ', 'UG', 'AG', 'AM', 'BS', 'BB', 'BZ', 'BT', 'BW', 'BF', 'CV', 'CW', 'DM', 'FJ', 'GM', 'GE', 'GD', 'GW', 'GY', 'HT', 'JM', 'KI', 'LS', 'LR', 'MW', 'MV', 'ML', 'MH', 'FM', 'NA', 'NR', 'NE', 'PW', 'PG', 'PR', 'WS', 'SM', 'ST', 'SN', 'SC', 'SL', 'SB', 'KN', 'LC', 'VC', 'SR', 'TL', 'TO', 'TT', 'TV', 'VU', 'AZ', 'BN', 'BI', 'KH', 'CM', 'TD', 'KM', 'GQ', 'SZ', 'GA', 'GN', 'KG', 'LA', 'MO', 'MR', 'MN', 'NP', 'RW', 'TG', 'UZ', 'ZW', 'BJ', 'MG', 'MU', 'MZ', 'AO', 'CI', 'DJ', 'ZM', 'CD', 'CG', 'IQ', 'LY', 'TJ', 'VE', 'ET', 'XK'], 'explicit': False, 'type': 'track', 'episode': False, 'track': True, 'album': {'available_markets': ['AR', 'AU', 'AT', 'BE', 'BO', 'BR', 'BG', 'CA', 'CL', 'CO', 'CR', 'CY', 'CZ', 'DK', 'DO', 'DE', 'EC', 'EE', 'SV', 'FI', 'FR', 'GR', 'GT', 'HN', 'HK', 'HU', 'IS', 'IE', 'IT', 'LV', 'LT', 'LU', 'MY', 'MT', 'MX', 'NL', 'NZ', 'NI', 'NO', 'PA', 'PY', 'PE', 'PH', 'PL', 'PT', 'SG', 'SK', 'ES', 'SE', 'CH', 'TW', 'TR', 'UY', 'US', 'GB', 'AD', 'LI', 'MC', 'ID', 'JP', 'TH', 'VN', 'RO', 'IL', 'ZA', 'SA', 'AE', 'BH', 'QA', 'OM', 'KW', 'EG', 'MA', 'DZ', 'TN', 'LB', 'JO', 'PS', 'IN', 'BY', 'KZ', 'MD', 'UA', 'AL', 'BA', 'HR', 'ME', 'MK', 'RS', 'SI', 'KR', 'BD', 'PK', 'LK', 'GH', 'KE', 'NG', 'TZ', 'UG', 'AG', 'AM', 'BS', 'BB', 'BZ', 'BT', 'BW', 'BF', 'CV', 'CW', 'DM', 'FJ', 'GM', 'GE', 'GD', 'GW', 'GY', 'HT', 'JM', 'KI', 'LS', 'LR', 'MW', 'MV', 'ML', 'MH', 'FM', 'NA', 'NR', 'NE', 'PW', 'PG', 'PR', 'WS', 'SM', 'ST', 'SN', 'SC', 'SL', 'SB', 'KN', 'LC', 'VC', 'SR', 'TL', 'TO', 'TT', 'TV', 'VU', 'AZ', 'BN', 'BI', 'KH', 'CM', 'TD', 'KM', 'GQ', 'SZ', 'GA', 'GN', 'KG', 'LA', 'MO', 'MR', 'MN', 'NP', 'RW', 'TG', 'UZ', 'ZW', 'BJ', 'MG', 'MU', 'MZ', 'AO', 'CI', 'DJ', 'ZM', 'CD', 'CG', 'IQ', 'LY', 'TJ', 'VE', 'ET', 'XK'], 'type': 'album', 'album_type': 'album', 'href': 'https://api.spotify.com/v1/albums/2qo8j9yZIsx66yDuUho2jp', 'id': '2qo8j9yZIsx66yDuUho2jp', 'images': [{'height': 640, 'url': 'https://i.scdn.co/image/ab67616d0000b273bfb94590c914538b193f6931', 'width': 640}, {'height': 300, 'url': 'https://i.scdn.co/image/ab67616d00001e02bfb94590c914538b193f6931', 'width': 300}, {'height': 64, 'url': 'https://i.scdn.co/image/ab67616d00004851bfb94590c914538b193f6931', 'width': 64}], 'name': '.mp3', 'release_date': '2023-11-03', 'release_date_precision': 'day', 'uri': 'spotify:album:2qo8j9yZIsx66yDuUho2jp', 'artists': [{'external_urls': {'spotify': 'https://open.spotify.com/artist/0AqlFI0tz2DsEoJlKSIiT9'}, 'href': 'https://api.spotify.com/v1/artists/0AqlFI0tz2DsEoJlKSIiT9', 'id': '0AqlFI0tz2DsEoJlKSIiT9', 'name': 'Emilia', 'type': 'artist', 'uri': 'spotify:artist:0AqlFI0tz2DsEoJlKSIiT9'}], 'external_urls': {'spotify': 'https://open.spotify.com/album/2qo8j9yZIsx66yDuUho2jp'}, 'total_tracks': 13}, 'artists': [{'external_urls': {'spotify': 'https://open.spotify.com/artist/0AqlFI0tz2DsEoJlKSIiT9'}, 'href': 'https://api.spotify.com/v1/artists/0AqlFI0tz2DsEoJlKSIiT9', 'id': '0AqlFI0tz2DsEoJlKSIiT9', 'name': 'Emilia', 'type': 'artist', 'uri': 'spotify:artist:0AqlFI0tz2DsEoJlKSIiT9'}], 'disc_number': 1, 'track_number': 7, 'duration_ms': 120600, 'external_ids': {'isrc': 'USSD12300585'}, 'external_urls': {'spotify': 'https://open.spotify.com/track/5f4mOETLngamMDTJnbF9s7'}, 'href': 'https://api.spotify.com/v1/tracks/5f4mOETLngamMDTJnbF9s7', 'id': '5f4mOETLngamMDTJnbF9s7', 'name': 'Exclusive.mp3', 'popularity': 70, 'uri': 'spotify:track:5f4mOETLngamMDTJnbF9s7', 'is_local': False}, 'video_thumbnail': {'url': None}}, {'added_at': '1970-01-01T00:00:00Z', 'added_by': {'external_urls': {'spotify': 'https://open.spotify.com/user/'}, 'href': 'https://api.spotify.com/v1/users/', 'id': '', 'type': 'user', 'uri': 'spotify:user:'}, 'is_local': False, 'primary_color': None, 'track': {'preview_url': 'https://p.scdn.co/mp3-preview/35bc0ad770f3198cff9cfc648dcd42c2c379e08f?cid=5236f001113d42aa982409f077a7d5a7', 'available_markets': ['AR', 'AU', 'AT', 'BE', 'BO', 'BR', 'BG', 'CA', 'CL', 'CO', 'CR', 'CY', 'CZ', 'DK', 'DO', 'DE', 'EC', 'EE', 'SV', 'FI', 'FR', 'GR', 'GT', 'HN', 'HK', 'HU', 'IS', 'IE', 'IT', 'LV', 'LT', 'LU', 'MY', 'MT', 'MX', 'NL', 'NZ', 'NI', 'NO', 'PA', 'PY', 'PE', 'PH', 'PL', 'PT', 'SG', 'SK', 'ES', 'SE', 'CH', 'TW', 'TR', 'UY', 'US', 'GB', 'AD', 'LI', 'MC', 'ID', 'JP', 'TH', 'VN', 'RO', 'IL', 'ZA', 'SA', 'AE', 'BH', 'QA', 'OM', 'KW', 'EG', 'MA', 'DZ', 'TN', 'LB', 'JO', 'PS', 'IN', 'BY', 'KZ', 'MD', 'UA', 'AL', 'BA', 'HR', 'ME', 'MK', 'RS', 'SI', 'KR', 'BD', 'PK', 'LK', 'GH', 'KE', 'NG', 'TZ', 'UG', 'AG', 'AM', 'BS', 'BB', 'BZ', 'BT', 'BW', 'BF', 'CV', 'CW', 'DM', 'FJ', 'GM', 'GE', 'GD', 'GW', 'GY', 'HT', 'JM', 'KI', 'LS', 'LR', 'MW', 'MV', 'ML', 'MH', 'FM', 'NA', 'NR', 'NE', 'PW', 'PG', 'PR', 'WS', 'SM', 'ST', 'SN', 'SC', 'SL', 'SB', 'KN', 'LC', 'VC', 'SR', 'TL', 'TO', 'TT', 'TV', 'VU', 'AZ', 'BN', 'BI', 'KH', 'CM', 'TD', 'KM', 'GQ', 'SZ', 'GA', 'GN', 'KG', 'LA', 'MO', 'MR', 'MN', 'NP', 'RW', 'TG', 'UZ', 'ZW', 'BJ', 'MG', 'MU', 'MZ', 'AO', 'CI', 'DJ', 'ZM', 'CD', 'CG', 'IQ', 'LY', 'TJ', 'VE', 'ET', 'XK'], 'explicit': False, 'type': 'track', 'episode': False, 'track': True, 'album': {'available_markets': ['AR', 'AU', 'AT', 'BE', 'BO', 'BR', 'BG', 'CA', 'CL', 'CO', 'CR', 'CY', 'CZ', 'DK', 'DO', 'DE', 'EC', 'EE', 'SV', 'FI', 'FR', 'GR', 'GT', 'HN', 'HK', 'HU', 'IS', 'IE', 'IT', 'LV', 'LT', 'LU', 'MY', 'MT', 'MX', 'NL', 'NZ', 'NI', 'NO', 'PA', 'PY', 'PE', 'PH', 'PL', 'PT', 'SG', 'SK', 'ES', 'SE', 'CH', 'TW', 'TR', 'UY', 'US', 'GB', 'AD', 'LI', 'MC', 'ID', 'JP', 'TH', 'VN', 'RO', 'IL', 'ZA', 'SA', 'AE', 'BH', 'QA', 'OM', 'KW', 'EG', 'MA', 'DZ', 'TN', 'LB', 'JO', 'PS', 'IN', 'BY', 'KZ', 'MD', 'UA', 'AL', 'BA', 'HR', 'ME', 'MK', 'RS', 'SI', 'KR', 'BD', 'PK', 'LK', 'GH', 'KE', 'NG', 'TZ', 'UG', 'AG', 'AM', 'BS', 'BB', 'BZ', 'BT', 'BW', 'BF', 'CV', 'CW', 'DM', 'FJ', 'GM', 'GE', 'GD', 'GW', 'GY', 'HT', 'JM', 'KI', 'LS', 'LR', 'MW', 'MV', 'ML', 'MH', 'FM', 'NA', 'NR', 'NE', 'PW', 'PG', 'PR', 'WS', 'SM', 'ST', 'SN', 'SC', 'SL', 'SB', 'KN', 'LC', 'VC', 'SR', 'TL', 'TO', 'TT', 'TV', 'VU', 'AZ', 'BN', 'BI', 'KH', 'CM', 'TD', 'KM', 'GQ', 'SZ', 'GA', 'GN', 'KG', 'LA', 'MO', 'MR', 'MN', 'NP', 'RW', 'TG', 'UZ', 'ZW', 'BJ', 'MG', 'MU', 'MZ', 'AO', 'CI', 'DJ', 'ZM', 'CD', 'CG', 'IQ', 'LY', 'TJ', 'VE', 'ET', 'XK'], 'type': 'album', 'album_type': 'album', 'href': 'https://api.spotify.com/v1/albums/4wVrfNzE3Dab7EB1Xn6SHo', 'id': '4wVrfNzE3Dab7EB1Xn6SHo', 'images': [{'height': 640, 'url': 'https://i.scdn.co/image/ab67616d0000b273ec3aedff4bde61b335ed6961', 'width': 640}, {'height': 300, 'url': 'https://i.scdn.co/image/ab67616d00001e02ec3aedff4bde61b335ed6961', 'width': 300}, {'height': 64, 'url': 'https://i.scdn.co/image/ab67616d00004851ec3aedff4bde61b335ed6961', 'width': 64}], 'name': 'Tú crees en mí?', 'release_date': '2022-05-31', 'release_date_precision': 'day', 'uri': 'spotify:album:4wVrfNzE3Dab7EB1Xn6SHo', 'artists': [{'external_urls': {'spotify': 'https://open.spotify.com/artist/0AqlFI0tz2DsEoJlKSIiT9'}, 'href': 'https://api.spotify.com/v1/artists/0AqlFI0tz2DsEoJlKSIiT9', 'id': '0AqlFI0tz2DsEoJlKSIiT9', 'name': 'Emilia', 'type': 'artist', 'uri': 'spotify:artist:0AqlFI0tz2DsEoJlKSIiT9'}], 'external_urls': {'spotify': 'https://open.spotify.com/album/4wVrfNzE3Dab7EB1Xn6SHo'}, 'total_tracks': 8}, 'artists': [{'external_urls': {'spotify': 'https://open.spotify.com/artist/0AqlFI0tz2DsEoJlKSIiT9'}, 'href': 'https://api.spotify.com/v1/artists/0AqlFI0tz2DsEoJlKSIiT9', 'id': '0AqlFI0tz2DsEoJlKSIiT9', 'name': 'Emilia', 'type': 'artist', 'uri': 'spotify:artist:0AqlFI0tz2DsEoJlKSIiT9'}, {'external_urls': {'spotify': 'https://open.spotify.com/artist/1bAftSH8umNcGZ0uyV7LMg'}, 'href': 'https://api.spotify.com/v1/artists/1bAftSH8umNcGZ0uyV7LMg', 'id': '1bAftSH8umNcGZ0uyV7LMg', 'name': 'Duki', 'type': 'artist', 'uri': 'spotify:artist:1bAftSH8umNcGZ0uyV7LMg'}], 'disc_number': 1, 'track_number': 2, 'duration_ms': 173052, 'external_ids': {'isrc': 'USSD12100347'}, 'external_urls': {'spotify': 'https://open.spotify.com/track/7M0mBls29IohQIPGqegcyE'}, 'href': 'https://api.spotify.com/v1/tracks/7M0mBls29IohQIPGqegcyE', 'id': '7M0mBls29IohQIPGqegcyE', 'name': 'como si no importara', 'popularity': 67, 'uri': 'spotify:track:7M0mBls29IohQIPGqegcyE', 'is_local': False}, 'video_thumbnail': {'url': None}}, {'added_at': '1970-01-01T00:00:00Z', 'added_by': {'external_urls': {'spotify': 'https://open.spotify.com/user/'}, 'href': 'https://api.spotify.com/v1/users/', 'id': '', 'type': 'user', 'uri': 'spotify:user:'}, 'is_local': False, 'primary_color': None, 'track': {'preview_url': 'https://p.scdn.co/mp3-preview/85b0ef69b8f29c42073765a3ad2866b5b614cf14?cid=5236f001113d42aa982409f077a7d5a7', 'available_markets': ['AR', 'AU', 'AT', 'BE', 'BO', 'BR', 'BG', 'CA', 'CL', 'CO', 'CR', 'CY', 'CZ', 'DK', 'DO', 'DE', 'EC', 'EE', 'SV', 'FI', 'FR', 'GR', 'GT', 'HN', 'HK', 'HU', 'IS', 'IE', 'IT', 'LV', 'LT', 'LU', 'MY', 'MT', 'MX', 'NL', 'NZ', 'NI', 'NO', 'PA', 'PY', 'PE', 'PH', 'PL', 'PT', 'SG', 'SK', 'ES', 'SE', 'CH', 'TW', 'TR', 'UY', 'US', 'GB', 'AD', 'LI', 'MC', 'ID', 'JP', 'TH', 'VN', 'RO', 'IL', 'ZA', 'SA', 'AE', 'BH', 'QA', 'OM', 'KW', 'EG', 'MA', 'DZ', 'TN', 'LB', 'JO', 'PS', 'IN', 'BY', 'KZ', 'MD', 'UA', 'AL', 'BA', 'HR', 'ME', 'MK', 'RS', 'SI', 'KR', 'BD', 'PK', 'LK', 'GH', 'KE', 'NG', 'TZ', 'UG', 'AG', 'AM', 'BS', 'BB', 'BZ', 'BT', 'BW', 'BF', 'CV', 'CW', 'DM', 'FJ', 'GM', 'GE', 'GD', 'GW', 'GY', 'HT', 'JM', 'KI', 'LS', 'LR', 'MW', 'MV', 'ML', 'MH', 'FM', 'NA', 'NR', 'NE', 'PW', 'PG', 'PR', 'WS', 'SM', 'ST', 'SN', 'SC', 'SL', 'SB', 'KN', 'LC', 'VC', 'SR', 'TL', 'TO', 'TT', 'TV', 'VU', 'AZ', 'BN', 'BI', 'KH', 'CM', 'TD', 'KM', 'GQ', 'SZ', 'GA', 'GN', 'KG', 'LA', 'MO', 'MR', 'MN', 'NP', 'RW', 'TG', 'UZ', 'ZW', 'BJ', 'MG', 'MU', 'MZ', 'AO', 'CI', 'DJ', 'ZM', 'CD', 'CG', 'IQ', 'LY', 'TJ', 'VE', 'ET', 'XK'], 'explicit': False, 'type': 'track', 'episode': False, 'track': True, 'album': {'available_markets': ['AR', 'AU', 'AT', 'BE', 'BO', 'BR', 'BG', 'CA', 'CL', 'CO', 'CR', 'CY', 'CZ', 'DK', 'DO', 'DE', 'EC', 'EE', 'SV', 'FI', 'FR', 'GR', 'GT', 'HN', 'HK', 'HU', 'IS', 'IE', 'IT', 'LV', 'LT', 'LU', 'MY', 'MT', 'MX', 'NL', 'NZ', 'NI', 'NO', 'PA', 'PY', 'PE', 'PH', 'PL', 'PT', 'SG', 'SK', 'ES', 'SE', 'CH', 'TW', 'TR', 'UY', 'US', 'GB', 'AD', 'LI', 'MC', 'ID', 'JP', 'TH', 'VN', 'RO', 'IL', 'ZA', 'SA', 'AE', 'BH', 'QA', 'OM', 'KW', 'EG', 'MA', 'DZ', 'TN', 'LB', 'JO', 'PS', 'IN', 'BY', 'KZ', 'MD', 'UA', 'AL', 'BA', 'HR', 'ME', 'MK', 'RS', 'SI', 'KR', 'BD', 'PK', 'LK', 'GH', 'KE', 'NG', 'TZ', 'UG', 'AG', 'AM', 'BS', 'BB', 'BZ', 'BT', 'BW', 'BF', 'CV', 'CW', 'DM', 'FJ', 'GM', 'GE', 'GD', 'GW', 'GY', 'HT', 'JM', 'KI', 'LS', 'LR', 'MW', 'MV', 'ML', 'MH', 'FM', 'NA', 'NR', 'NE', 'PW', 'PG', 'PR', 'WS', 'SM', 'ST', 'SN', 'SC', 'SL', 'SB', 'KN', 'LC', 'VC', 'SR', 'TL', 'TO', 'TT', 'TV', 'VU', 'AZ', 'BN', 'BI', 'KH', 'CM', 'TD', 'KM', 'GQ', 'SZ', 'GA', 'GN', 'KG', 'LA', 'MO', 'MR', 'MN', 'NP', 'RW', 'TG', 'UZ', 'ZW', 'BJ', 'MG', 'MU', 'MZ', 'AO', 'CI', 'DJ', 'ZM', 'CD', 'CG', 'IQ', 'LY', 'TJ', 'VE', 'ET', 'XK'], 'type': 'album', 'album_type': 'single', 'href': 'https://api.spotify.com/v1/albums/6fP9gXEDhdBaWz6E08kqRr', 'id': '6fP9gXEDhdBaWz6E08kqRr', 'images': [{'height': 640, 'url': 'https://i.scdn.co/image/ab67616d0000b2734d3e9eb01a3b3e22e2fc7d5a', 'width': 640}, {'height': 300, 'url': 'https://i.scdn.co/image/ab67616d00001e024d3e9eb01a3b3e22e2fc7d5a', 'width': 300}, {'height': 64, 'url': 'https://i.scdn.co/image/ab67616d000048514d3e9eb01a3b3e22e2fc7d5a', 'width': 64}], 'name': 'TU Y YO', 'release_date': '2024-02-14', 'release_date_precision': 'day', 'uri': 'spotify:album:6fP9gXEDhdBaWz6E08kqRr', 'artists': [{'external_urls': {'spotify': 'https://open.spotify.com/artist/4m6ubhNsdwF4psNf3R8kwR'}, 'href': 'https://api.spotify.com/v1/artists/4m6ubhNsdwF4psNf3R8kwR', 'id': '4m6ubhNsdwF4psNf3R8kwR', 'name': 'KHEA', 'type': 'artist', 'uri': 'spotify:artist:4m6ubhNsdwF4psNf3R8kwR'}, {'external_urls': {'spotify': 'https://open.spotify.com/artist/0AqlFI0tz2DsEoJlKSIiT9'}, 'href': 'https://api.spotify.com/v1/artists/0AqlFI0tz2DsEoJlKSIiT9', 'id': '0AqlFI0tz2DsEoJlKSIiT9', 'name': 'Emilia', 'type': 'artist', 'uri': 'spotify:artist:0AqlFI0tz2DsEoJlKSIiT9'}], 'external_urls': {'spotify': 'https://open.spotify.com/album/6fP9gXEDhdBaWz6E08kqRr'}, 'total_tracks': 1}, 'artists': [{'external_urls': {'spotify': 'https://open.spotify.com/artist/4m6ubhNsdwF4psNf3R8kwR'}, 'href': 'https://api.spotify.com/v1/artists/4m6ubhNsdwF4psNf3R8kwR', 'id': '4m6ubhNsdwF4psNf3R8kwR', 'name': 'KHEA', 'type': 'artist', 'uri': 'spotify:artist:4m6ubhNsdwF4psNf3R8kwR'}, {'external_urls': {'spotify': 'https://open.spotify.com/artist/0AqlFI0tz2DsEoJlKSIiT9'}, 'href': 'https://api.spotify.com/v1/artists/0AqlFI0tz2DsEoJlKSIiT9', 'id': '0AqlFI0tz2DsEoJlKSIiT9', 'name': 'Emilia', 'type': 'artist', 'uri': 'spotify:artist:0AqlFI0tz2DsEoJlKSIiT9'}], 'disc_number': 1, 'track_number': 1, 'duration_ms': 192517, 'external_ids': {'isrc': 'USA2P2407577'}, 'external_urls': {'spotify': 'https://open.spotify.com/track/00THZGfbizNvMUkJsQs74K'}, 'href': 'https://api.spotify.com/v1/tracks/00THZGfbizNvMUkJsQs74K', 'id': '00THZGfbizNvMUkJsQs74K', 'name': 'TU Y YO', 'popularity': 64, 'uri': 'spotify:track:00THZGfbizNvMUkJsQs74K', 'is_local': False}, 'video_thumbnail': {'url': None}}, {'added_at': '1970-01-01T00:00:00Z', 'added_by': {'external_urls': {'spotify': 'https://open.spotify.com/user/'}, 'href': 'https://api.spotify.com/v1/users/', 'id': '', 'type': 'user', 'uri': 'spotify:user:'}, 'is_local': False, 'primary_color': None, 'track': {'preview_url': 'https://p.scdn.co/mp3-preview/2566d95b21b6d88fb46b54fdfdded781773381b3?cid=5236f001113d42aa982409f077a7d5a7', 'available_markets': ['AR', 'AU', 'AT', 'BE', 'BO', 'BR', 'BG', 'CA', 'CL', 'CO', 'CR', 'CY', 'CZ', 'DK', 'DO', 'DE', 'EC', 'EE', 'SV', 'FI', 'FR', 'GR', 'GT', 'HN', 'HK', 'HU', 'IS', 'IE', 'IT', 'LV', 'LT', 'LU', 'MY', 'MT', 'MX', 'NL', 'NZ', 'NI', 'NO', 'PA', 'PY', 'PE', 'PH', 'PL', 'PT', 'SG', 'SK', 'ES', 'SE', 'CH', 'TW', 'TR', 'UY', 'US', 'GB', 'AD', 'LI', 'MC', 'ID', 'JP', 'TH', 'VN', 'RO', 'IL', 'ZA', 'SA', 'AE', 'BH', 'QA', 'OM', 'KW', 'EG', 'MA', 'DZ', 'TN', 'LB', 'JO', 'PS', 'IN', 'BY', 'KZ', 'MD', 'UA', 'AL', 'BA', 'HR', 'ME', 'MK', 'RS', 'SI', 'KR', 'BD', 'PK', 'LK', 'GH', 'KE', 'NG', 'TZ', 'UG', 'AG', 'AM', 'BS', 'BB', 'BZ', 'BT', 'BW', 'BF', 'CV', 'CW', 'DM', 'FJ', 'GM', 'GE', 'GD', 'GW', 'GY', 'HT', 'JM', 'KI', 'LS', 'LR', 'MW', 'MV', 'ML', 'MH', 'FM', 'NA', 'NR', 'NE', 'PW', 'PG', 'PR', 'WS', 'SM', 'ST', 'SN', 'SC', 'SL', 'SB', 'KN', 'LC', 'VC', 'SR', 'TL', 'TO', 'TT', 'TV', 'VU', 'AZ', 'BN', 'BI', 'KH', 'CM', 'TD', 'KM', 'GQ', 'SZ', 'GA', 'GN', 'KG', 'LA', 'MO', 'MR', 'MN', 'NP', 'RW', 'TG', 'UZ', 'ZW', 'BJ', 'MG', 'MU', 'MZ', 'AO', 'CI', 'DJ', 'ZM', 'CD', 'CG', 'IQ', 'LY', 'TJ', 'VE', 'ET', 'XK'], 'explicit': False, 'type': 'track', 'episode': False, 'track': True, 'album': {'available_markets': ['AR', 'AU', 'AT', 'BE', 'BO', 'BR', 'BG', 'CA', 'CL', 'CO', 'CR', 'CY', 'CZ', 'DK', 'DO', 'DE', 'EC', 'EE', 'SV', 'FI', 'FR', 'GR', 'GT', 'HN', 'HK', 'HU', 'IS', 'IE', 'IT', 'LV', 'LT', 'LU', 'MY', 'MT', 'MX', 'NL', 'NZ', 'NI', 'NO', 'PA', 'PY', 'PE', 'PH', 'PL', 'PT', 'SG', 'SK', 'ES', 'SE', 'CH', 'TW', 'TR', 'UY', 'US', 'GB', 'AD', 'LI', 'MC', 'ID', 'JP', 'TH', 'VN', 'RO', 'IL', 'ZA', 'SA', 'AE', 'BH', 'QA', 'OM', 'KW', 'EG', 'MA', 'DZ', 'TN', 'LB', 'JO', 'PS', 'IN', 'BY', 'KZ', 'MD', 'UA', 'AL', 'BA', 'HR', 'ME', 'MK', 'RS', 'SI', 'KR', 'BD', 'PK', 'LK', 'GH', 'KE', 'NG', 'TZ', 'UG', 'AG', 'AM', 'BS', 'BB', 'BZ', 'BT', 'BW', 'BF', 'CV', 'CW', 'DM', 'FJ', 'GM', 'GE', 'GD', 'GW', 'GY', 'HT', 'JM', 'KI', 'LS', 'LR', 'MW', 'MV', 'ML', 'MH', 'FM', 'NA', 'NR', 'NE', 'PW', 'PG', 'PR', 'WS', 'SM', 'ST', 'SN', 'SC', 'SL', 'SB', 'KN', 'LC', 'VC', 'SR', 'TL', 'TO', 'TT', 'TV', 'VU', 'AZ', 'BN', 'BI', 'KH', 'CM', 'TD', 'KM', 'GQ', 'SZ', 'GA', 'GN', 'KG', 'LA', 'MO', 'MR', 'MN', 'NP', 'RW', 'TG', 'UZ', 'ZW', 'BJ', 'MG', 'MU', 'MZ', 'AO', 'CI', 'DJ', 'ZM', 'CD', 'CG', 'IQ', 'LY', 'TJ', 'VE', 'ET', 'XK'], 'type': 'album', 'album_type': 'album', 'href': 'https://api.spotify.com/v1/albums/5QL33hpDp6XBWdNsc0VGUO', 'id': '5QL33hpDp6XBWdNsc0VGUO', 'images': [{'height': 640, 'url': 'https://i.scdn.co/image/ab67616d0000b2730040ea3fe369688ad9757cf2', 'width': 640}, {'height': 300, 'url': 'https://i.scdn.co/image/ab67616d00001e020040ea3fe369688ad9757cf2', 'width': 300}, {'height': 64, 'url': 'https://i.scdn.co/image/ab67616d000048510040ea3fe369688ad9757cf2', 'width': 64}], 'name': 'Hotel Miranda!', 'release_date': '2023-04-19', 'release_date_precision': 'day', 'uri': 'spotify:album:5QL33hpDp6XBWdNsc0VGUO', 'artists': [{'external_urls': {'spotify': 'https://open.spotify.com/artist/2eEmsgWmUFMbtU7agJpnjY'}, 'href': 'https://api.spotify.com/v1/artists/2eEmsgWmUFMbtU7agJpnjY', 'id': '2eEmsgWmUFMbtU7agJpnjY', 'name': 'Miranda!', 'type': 'artist', 'uri': 'spotify:artist:2eEmsgWmUFMbtU7agJpnjY'}], 'external_urls': {'spotify': 'https://open.spotify.com/album/5QL33hpDp6XBWdNsc0VGUO'}, 'total_tracks': 11}, 'artists': [{'external_urls': {'spotify': 'https://open.spotify.com/artist/2eEmsgWmUFMbtU7agJpnjY'}, 'href': 'https://api.spotify.com/v1/artists/2eEmsgWmUFMbtU7agJpnjY', 'id': '2eEmsgWmUFMbtU7agJpnjY', 'name': 'Miranda!', 'type': 'artist', 'uri': 'spotify:artist:2eEmsgWmUFMbtU7agJpnjY'}, {'external_urls': {'spotify': 'https://open.spotify.com/artist/0AqlFI0tz2DsEoJlKSIiT9'}, 'href': 'https://api.spotify.com/v1/artists/0AqlFI0tz2DsEoJlKSIiT9', 'id': '0AqlFI0tz2DsEoJlKSIiT9', 'name': 'Emilia', 'type': 'artist', 'uri': 'spotify:artist:0AqlFI0tz2DsEoJlKSIiT9'}], 'disc_number': 1, 'track_number': 5, 'duration_ms': 215248, 'external_ids': {'isrc': 'ARF102300009'}, 'external_urls': {'spotify': 'https://open.spotify.com/track/6tjz2ZCL2jmPY1jPsbRk2H'}, 'href': 'https://api.spotify.com/v1/tracks/6tjz2ZCL2jmPY1jPsbRk2H', 'id': '6tjz2ZCL2jmPY1jPsbRk2H', 'name': 'Uno los Dos', 'popularity': 63, 'uri': 'spotify:track:6tjz2ZCL2jmPY1jPsbRk2H', 'is_local': False}, 'video_thumbnail': {'url': None}}, {'added_at': '1970-01-01T00:00:00Z', 'added_by': {'external_urls': {'spotify': 'https://open.spotify.com/user/'}, 'href': 'https://api.spotify.com/v1/users/', 'id': '', 'type': 'user', 'uri': 'spotify:user:'}, 'is_local': False, 'primary_color': None, 'track': {'preview_url': 'https://p.scdn.co/mp3-preview/dc3ac69fa66f11ad260880d766e2dcc364630c39?cid=5236f001113d42aa982409f077a7d5a7', 'available_markets': ['AR', 'AU', 'AT', 'BE', 'BO', 'BR', 'BG', 'CA', 'CL', 'CO', 'CR', 'CY', 'CZ', 'DK', 'DO', 'DE', 'EC', 'EE', 'SV', 'FI', 'FR', 'GR', 'GT', 'HN', 'HK', 'HU', 'IS', 'IE', 'IT', 'LV', 'LT', 'LU', 'MY', 'MT', 'MX', 'NL', 'NZ', 'NI', 'NO', 'PA', 'PY', 'PE', 'PH', 'PL', 'PT', 'SG', 'SK', 'ES', 'SE', 'CH', 'TW', 'TR', 'UY', 'US', 'GB', 'AD', 'LI', 'MC', 'ID', 'JP', 'TH', 'VN', 'RO', 'IL', 'ZA', 'SA', 'AE', 'BH', 'QA', 'OM', 'KW', 'EG', 'MA', 'DZ', 'TN', 'LB', 'JO', 'PS', 'IN', 'BY', 'KZ', 'MD', 'UA', 'AL', 'BA', 'HR', 'ME', 'MK', 'RS', 'SI', 'KR', 'BD', 'PK', 'LK', 'GH', 'KE', 'NG', 'TZ', 'UG', 'AG', 'AM', 'BS', 'BB', 'BZ', 'BT', 'BW', 'BF', 'CV', 'CW', 'DM', 'FJ', 'GM', 'GE', 'GD', 'GW', 'GY', 'HT', 'JM', 'KI', 'LS', 'LR', 'MW', 'MV', 'ML', 'MH', 'FM', 'NA', 'NR', 'NE', 'PW', 'PG', 'PR', 'WS', 'SM', 'ST', 'SN', 'SC', 'SL', 'SB', 'KN', 'LC', 'VC', 'SR', 'TL', 'TO', 'TT', 'TV', 'VU', 'AZ', 'BN', 'BI', 'KH', 'CM', 'TD', 'KM', 'GQ', 'SZ', 'GA', 'GN', 'KG', 'LA', 'MO', 'MR', 'MN', 'NP', 'RW', 'TG', 'UZ', 'ZW', 'BJ', 'MG', 'MU', 'MZ', 'AO', 'CI', 'DJ', 'ZM', 'CD', 'CG', 'IQ', 'LY', 'TJ', 'VE', 'ET', 'XK'], 'explicit': False, 'type': 'track', 'episode': False, 'track': True, 'album': {'available_markets': ['AR', 'AU', 'AT', 'BE', 'BO', 'BR', 'BG', 'CA', 'CL', 'CO', 'CR', 'CY', 'CZ', 'DK', 'DO', 'DE', 'EC', 'EE', 'SV', 'FI', 'FR', 'GR', 'GT', 'HN', 'HK', 'HU', 'IS', 'IE', 'IT', 'LV', 'LT', 'LU', 'MY', 'MT', 'MX', 'NL', 'NZ', 'NI', 'NO', 'PA', 'PY', 'PE', 'PH', 'PL', 'PT', 'SG', 'SK', 'ES', 'SE', 'CH', 'TW', 'TR', 'UY', 'US', 'GB', 'AD', 'LI', 'MC', 'ID', 'JP', 'TH', 'VN', 'RO', 'IL', 'ZA', 'SA', 'AE', 'BH', 'QA', 'OM', 'KW', 'EG', 'MA', 'DZ', 'TN', 'LB', 'JO', 'PS', 'IN', 'BY', 'KZ', 'MD', 'UA', 'AL', 'BA', 'HR', 'ME', 'MK', 'RS', 'SI', 'KR', 'BD', 'PK', 'LK', 'GH', 'KE', 'NG', 'TZ', 'UG', 'AG', 'AM', 'BS', 'BB', 'BZ', 'BT', 'BW', 'BF', 'CV', 'CW', 'DM', 'FJ', 'GM', 'GE', 'GD', 'GW', 'GY', 'HT', 'JM', 'KI', 'LS', 'LR', 'MW', 'MV', 'ML', 'MH', 'FM', 'NA', 'NR', 'NE', 'PW', 'PG', 'PR', 'WS', 'SM', 'ST', 'SN', 'SC', 'SL', 'SB', 'KN', 'LC', 'VC', 'SR', 'TL', 'TO', 'TT', 'TV', 'VU', 'AZ', 'BN', 'BI', 'KH', 'CM', 'TD', 'KM', 'GQ', 'SZ', 'GA', 'GN', 'KG', 'LA', 'MO', 'MR', 'MN', 'NP', 'RW', 'TG', 'UZ', 'ZW', 'BJ', 'MG', 'MU', 'MZ', 'AO', 'CI', 'DJ', 'ZM', 'CD', 'CG', 'IQ', 'LY', 'TJ', 'VE', 'ET', 'XK'], 'type': 'album', 'album_type': 'album', 'href': 'https://api.spotify.com/v1/albums/2qo8j9yZIsx66yDuUho2jp', 'id': '2qo8j9yZIsx66yDuUho2jp', 'images': [{'height': 640, 'url': 'https://i.scdn.co/image/ab67616d0000b273bfb94590c914538b193f6931', 'width': 640}, {'height': 300, 'url': 'https://i.scdn.co/image/ab67616d00001e02bfb94590c914538b193f6931', 'width': 300}, {'height': 64, 'url': 'https://i.scdn.co/image/ab67616d00004851bfb94590c914538b193f6931', 'width': 64}], 'name': '.mp3', 'release_date': '2023-11-03', 'release_date_precision': 'day', 'uri': 'spotify:album:2qo8j9yZIsx66yDuUho2jp', 'artists': [{'external_urls': {'spotify': 'https://open.spotify.com/artist/0AqlFI0tz2DsEoJlKSIiT9'}, 'href': 'https://api.spotify.com/v1/artists/0AqlFI0tz2DsEoJlKSIiT9', 'id': '0AqlFI0tz2DsEoJlKSIiT9', 'name': 'Emilia', 'type': 'artist', 'uri': 'spotify:artist:0AqlFI0tz2DsEoJlKSIiT9'}], 'external_urls': {'spotify': 'https://open.spotify.com/album/2qo8j9yZIsx66yDuUho2jp'}, 'total_tracks': 13}, 'artists': [{'external_urls': {'spotify': 'https://open.spotify.com/artist/0AqlFI0tz2DsEoJlKSIiT9'}, 'href': 'https://api.spotify.com/v1/artists/0AqlFI0tz2DsEoJlKSIiT9', 'id': '0AqlFI0tz2DsEoJlKSIiT9', 'name': 'Emilia', 'type': 'artist', 'uri': 'spotify:artist:0AqlFI0tz2DsEoJlKSIiT9'}], 'disc_number': 1, 'track_number': 2, 'duration_ms': 155861, 'external_ids': {'isrc': 'USSD12300132'}, 'external_urls': {'spotify': 'https://open.spotify.com/track/5XUWO8VqwE4PEkLYAtt7h7'}, 'href': 'https://api.spotify.com/v1/tracks/5XUWO8VqwE4PEkLYAtt7h7', 'id': '5XUWO8VqwE4PEkLYAtt7h7', 'name': 'Jagger.mp3', 'popularity': 67, 'uri': 'spotify:track:5XUWO8VqwE4PEkLYAtt7h7', 'is_local': False}, 'video_thumbnail': {'url': None}}, {'added_at': '1970-01-01T00:00:00Z', 'added_by': {'external_urls': {'spotify': 'https://open.spotify.com/user/'}, 'href': 'https://api.spotify.com/v1/users/', 'id': '', 'type': 'user', 'uri': 'spotify:user:'}, 'is_local': False, 'primary_color': None, 'track': {'preview_url': None, 'available_markets': ['AR', 'AU', 'AT', 'BE', 'BO', 'BR', 'BG', 'CA', 'CL', 'CO', 'CR', 'CY', 'CZ', 'DK', 'DO', 'DE', 'EC', 'EE', 'SV', 'FI', 'FR', 'GR', 'GT', 'HN', 'HK', 'HU', 'IS', 'IE', 'IT', 'LV', 'LT', 'LU', 'MY', 'MT', 'MX', 'NL', 'NZ', 'NI', 'NO', 'PA', 'PY', 'PE', 'PH', 'PL', 'PT', 'SG', 'SK', 'ES', 'SE', 'CH', 'TW', 'TR', 'UY', 'US', 'GB', 'AD', 'LI', 'MC', 'ID', 'JP', 'TH', 'VN', 'RO', 'IL', 'ZA', 'SA', 'AE', 'BH', 'QA', 'OM', 'KW', 'EG', 'MA', 'DZ', 'TN', 'LB', 'JO', 'PS', 'IN', 'KZ', 'MD', 'UA', 'AL', 'BA', 'HR', 'ME', 'MK', 'RS', 'SI', 'KR', 'BD', 'PK', 'LK', 'GH', 'KE', 'NG', 'TZ', 'UG', 'AG', 'AM', 'BS', 'BB', 'BZ', 'BT', 'BW', 'BF', 'CV', 'CW', 'DM', 'FJ', 'GM', 'GE', 'GD', 'GW', 'GY', 'HT', 'JM', 'KI', 'LS', 'LR', 'MW', 'MV', 'ML', 'MH', 'FM', 'NA', 'NR', 'NE', 'PW', 'PG', 'WS', 'SM', 'ST', 'SN', 'SC', 'SL', 'SB', 'KN', 'LC', 'VC', 'SR', 'TL', 'TO', 'TT', 'TV', 'VU', 'AZ', 'BN', 'BI', 'KH', 'CM', 'TD', 'KM', 'GQ', 'SZ', 'GA', 'GN', 'KG', 'LA', 'MO', 'MR', 'MN', 'NP', 'RW', 'TG', 'UZ', 'ZW', 'BJ', 'MG', 'MU', 'MZ', 'AO', 'CI', 'DJ', 'ZM', 'CD', 'CG', 'IQ', 'LY', 'TJ', 'VE', 'ET', 'XK'], 'explicit': False, 'type': 'track', 'episode': False, 'track': True, 'album': {'available_markets': ['AR', 'AU', 'AT', 'BE', 'BO', 'BR', 'BG', 'CA', 'CL', 'CO', 'CR', 'CY', 'CZ', 'DK', 'DO', 'DE', 'EC', 'EE', 'SV', 'FI', 'FR', 'GR', 'GT', 'HN', 'HK', 'HU', 'IS', 'IE', 'IT', 'LV', 'LT', 'LU', 'MY', 'MT', 'MX', 'NL', 'NZ', 'NI', 'NO', 'PA', 'PY', 'PE', 'PH', 'PL', 'PT', 'SG', 'SK', 'ES', 'SE', 'CH', 'TW', 'TR', 'UY', 'US', 'GB', 'AD', 'LI', 'MC', 'ID', 'JP', 'TH', 'VN', 'RO', 'IL', 'ZA', 'SA', 'AE', 'BH', 'QA', 'OM', 'KW', 'EG', 'MA', 'DZ', 'TN', 'LB', 'JO', 'PS', 'IN', 'KZ', 'MD', 'UA', 'AL', 'BA', 'HR', 'ME', 'MK', 'RS', 'SI', 'KR', 'BD', 'PK', 'LK', 'GH', 'KE', 'NG', 'TZ', 'UG', 'AG', 'AM', 'BS', 'BB', 'BZ', 'BT', 'BW', 'BF', 'CV', 'CW', 'DM', 'FJ', 'GM', 'GE', 'GD', 'GW', 'GY', 'HT', 'JM', 'KI', 'LS', 'LR', 'MW', 'MV', 'ML', 'MH', 'FM', 'NA', 'NR', 'NE', 'PW', 'PG', 'WS', 'SM', 'ST', 'SN', 'SC', 'SL', 'SB', 'KN', 'LC', 'VC', 'SR', 'TL', 'TO', 'TT', 'TV', 'VU', 'AZ', 'BN', 'BI', 'KH', 'CM', 'TD', 'KM', 'GQ', 'SZ', 'GA', 'GN', 'KG', 'LA', 'MO', 'MR', 'MN', 'NP', 'RW', 'TG', 'UZ', 'ZW', 'BJ', 'MG', 'MU', 'MZ', 'AO', 'CI', 'DJ', 'ZM', 'CD', 'CG', 'IQ', 'LY', 'TJ', 'VE', 'ET', 'XK'], 'type': 'album', 'album_type': 'single', 'href': 'https://api.spotify.com/v1/albums/6FYsivfijNDaQ1bpw8Kljc', 'id': '6FYsivfijNDaQ1bpw8Kljc', 'images': [{'height': 640, 'url': 'https://i.scdn.co/image/ab67616d0000b273c380dc44d1601f47875a1bc3', 'width': 640}, {'height': 300, 'url': 'https://i.scdn.co/image/ab67616d00001e02c380dc44d1601f47875a1bc3', 'width': 300}, {'height': 64, 'url': 'https://i.scdn.co/image/ab67616d00004851c380dc44d1601f47875a1bc3', 'width': 64}], 'name': 'Quieres', 'release_date': '2022-07-21', 'release_date_precision': 'day', 'uri': 'spotify:album:6FYsivfijNDaQ1bpw8Kljc', 'artists': [{'external_urls': {'spotify': 'https://open.spotify.com/artist/7eLcDZDYHXZCebtQmVFL25'}, 'href': 'https://api.spotify.com/v1/artists/7eLcDZDYHXZCebtQmVFL25', 'id': '7eLcDZDYHXZCebtQmVFL25', 'name': 'Aitana', 'type': 'artist', 'uri': 'spotify:artist:7eLcDZDYHXZCebtQmVFL25'}, {'external_urls': {'spotify': 'https://open.spotify.com/artist/0AqlFI0tz2DsEoJlKSIiT9'}, 'href': 'https://api.spotify.com/v1/artists/0AqlFI0tz2DsEoJlKSIiT9', 'id': '0AqlFI0tz2DsEoJlKSIiT9', 'name': 'Emilia', 'type': 'artist', 'uri': 'spotify:artist:0AqlFI0tz2DsEoJlKSIiT9'}, {'external_urls': {'spotify': 'https://open.spotify.com/artist/5UN0rzL594mWY2RbOtZqIN'}, 'href': 'https://api.spotify.com/v1/artists/5UN0rzL594mWY2RbOtZqIN', 'id': '5UN0rzL594mWY2RbOtZqIN', 'name': 'Ptazeta', 'type': 'artist', 'uri': 'spotify:artist:5UN0rzL594mWY2RbOtZqIN'}], 'external_urls': {'spotify': 'https://open.spotify.com/album/6FYsivfijNDaQ1bpw8Kljc'}, 'total_tracks': 1}, 'artists': [{'external_urls': {'spotify': 'https://open.spotify.com/artist/7eLcDZDYHXZCebtQmVFL25'}, 'href': 'https://api.spotify.com/v1/artists/7eLcDZDYHXZCebtQmVFL25', 'id': '7eLcDZDYHXZCebtQmVFL25', 'name': 'Aitana', 'type': 'artist', 'uri': 'spotify:artist:7eLcDZDYHXZCebtQmVFL25'}, {'external_urls': {'spotify': 'https://open.spotify.com/artist/0AqlFI0tz2DsEoJlKSIiT9'}, 'href': 'https://api.spotify.com/v1/artists/0AqlFI0tz2DsEoJlKSIiT9', 'id': '0AqlFI0tz2DsEoJlKSIiT9', 'name': 'Emilia', 'type': 'artist', 'uri': 'spotify:artist:0AqlFI0tz2DsEoJlKSIiT9'}, {'external_urls': {'spotify': 'https://open.spotify.com/artist/5UN0rzL594mWY2RbOtZqIN'}, 'href': 'https://api.spotify.com/v1/artists/5UN0rzL594mWY2RbOtZqIN', 'id': '5UN0rzL594mWY2RbOtZqIN', 'name': 'Ptazeta', 'type': 'artist', 'uri': 'spotify:artist:5UN0rzL594mWY2RbOtZqIN'}], 'disc_number': 1, 'track_number': 1, 'duration_ms': 213666, 'external_ids': {'isrc': 'ES5702200861'}, 'external_urls': {'spotify': 'https://open.spotify.com/track/4iGnpp1h0i33lpoP42Y8Jt'}, 'href': 'https://api.spotify.com/v1/tracks/4iGnpp1h0i33lpoP42Y8Jt', 'id': '4iGnpp1h0i33lpoP42Y8Jt', 'name': 'Quieres', 'popularity': 62, 'uri': 'spotify:track:4iGnpp1h0i33lpoP42Y8Jt', 'is_local': False}, 'video_thumbnail': {'url': None}}, {'added_at': '1970-01-01T00:00:00Z', 'added_by': {'external_urls': {'spotify': 'https://open.spotify.com/user/'}, 'href': 'https://api.spotify.com/v1/users/', 'id': '', 'type': 'user', 'uri': 'spotify:user:'}, 'is_local': False, 'primary_color': None, 'track': {'preview_url': 'https://p.scdn.co/mp3-preview/434cd0f8eada0c961d3824c98251e664014c968b?cid=5236f001113d42aa982409f077a7d5a7', 'available_markets': ['AR', 'AU', 'AT', 'BE', 'BO', 'BR', 'BG', 'CA', 'CL', 'CO', 'CR', 'CY', 'CZ', 'DK', 'DO', 'DE', 'EC', 'EE', 'SV', 'FI', 'FR', 'GR', 'GT', 'HN', 'HK', 'HU', 'IS', 'IE', 'IT', 'LV', 'LT', 'LU', 'MY', 'MT', 'MX', 'NL', 'NZ', 'NI', 'NO', 'PA', 'PY', 'PE', 'PH', 'PL', 'PT', 'SG', 'SK', 'ES', 'SE', 'CH', 'TW', 'TR', 'UY', 'US', 'GB', 'AD', 'LI', 'MC', 'ID', 'JP', 'TH', 'VN', 'RO', 'IL', 'ZA', 'SA', 'AE', 'BH', 'QA', 'OM', 'KW', 'EG', 'MA', 'DZ', 'TN', 'LB', 'JO', 'PS', 'IN', 'BY', 'KZ', 'MD', 'UA', 'AL', 'BA', 'HR', 'ME', 'MK', 'RS', 'SI', 'KR', 'BD', 'PK', 'LK', 'GH', 'KE', 'NG', 'TZ', 'UG', 'AG', 'AM', 'BS', 'BB', 'BZ', 'BT', 'BW', 'BF', 'CV', 'CW', 'DM', 'FJ', 'GM', 'GE', 'GD', 'GW', 'GY', 'HT', 'JM', 'KI', 'LS', 'LR', 'MW', 'MV', 'ML', 'MH', 'FM', 'NA', 'NR', 'NE', 'PW', 'PG', 'PR', 'WS', 'SM', 'ST', 'SN', 'SC', 'SL', 'SB', 'KN', 'LC', 'VC', 'SR', 'TL', 'TO', 'TT', 'TV', 'VU', 'AZ', 'BN', 'BI', 'KH', 'CM', 'TD', 'KM', 'GQ', 'SZ', 'GA', 'GN', 'KG', 'LA', 'MO', 'MR', 'MN', 'NP', 'RW', 'TG', 'UZ', 'ZW', 'BJ', 'MG', 'MU', 'MZ', 'AO', 'CI', 'DJ', 'ZM', 'CD', 'CG', 'IQ', 'LY', 'TJ', 'VE', 'ET', 'XK'], 'explicit': False, 'type': 'track', 'episode': False, 'track': True, 'album': {'available_markets': ['AR', 'AU', 'AT', 'BE', 'BO', 'BR', 'BG', 'CA', 'CL', 'CO', 'CR', 'CY', 'CZ', 'DK', 'DO', 'DE', 'EC', 'EE', 'SV', 'FI', 'FR', 'GR', 'GT', 'HN', 'HK', 'HU', 'IS', 'IE', 'IT', 'LV', 'LT', 'LU', 'MY', 'MT', 'MX', 'NL', 'NZ', 'NI', 'NO', 'PA', 'PY', 'PE', 'PH', 'PL', 'PT', 'SG', 'SK', 'ES', 'SE', 'CH', 'TW', 'TR', 'UY', 'US', 'GB', 'AD', 'LI', 'MC', 'ID', 'JP', 'TH', 'VN', 'RO', 'IL', 'ZA', 'SA', 'AE', 'BH', 'QA', 'OM', 'KW', 'EG', 'MA', 'DZ', 'TN', 'LB', 'JO', 'PS', 'IN', 'BY', 'KZ', 'MD', 'UA', 'AL', 'BA', 'HR', 'ME', 'MK', 'RS', 'SI', 'KR', 'BD', 'PK', 'LK', 'GH', 'KE', 'NG', 'TZ', 'UG', 'AG', 'AM', 'BS', 'BB', 'BZ', 'BT', 'BW', 'BF', 'CV', 'CW', 'DM', 'FJ', 'GM', 'GE', 'GD', 'GW', 'GY', 'HT', 'JM', 'KI', 'LS', 'LR', 'MW', 'MV', 'ML', 'MH', 'FM', 'NA', 'NR', 'NE', 'PW', 'PG', 'PR', 'WS', 'SM', 'ST', 'SN', 'SC', 'SL', 'SB', 'KN', 'LC', 'VC', 'SR', 'TL', 'TO', 'TT', 'TV', 'VU', 'AZ', 'BN', 'BI', 'KH', 'CM', 'TD', 'KM', 'GQ', 'SZ', 'GA', 'GN', 'KG', 'LA', 'MO', 'MR', 'MN', 'NP', 'RW', 'TG', 'UZ', 'ZW', 'BJ', 'MG', 'MU', 'MZ', 'AO', 'CI', 'DJ', 'ZM', 'CD', 'CG', 'IQ', 'LY', 'TJ', 'VE', 'ET', 'XK'], 'type': 'album', 'album_type': 'album', 'href': 'https://api.spotify.com/v1/albums/4wVrfNzE3Dab7EB1Xn6SHo', 'id': '4wVrfNzE3Dab7EB1Xn6SHo', 'images': [{'height': 640, 'url': 'https://i.scdn.co/image/ab67616d0000b273ec3aedff4bde61b335ed6961', 'width': 640}, {'height': 300, 'url': 'https://i.scdn.co/image/ab67616d00001e02ec3aedff4bde61b335ed6961', 'width': 300}, {'height': 64, 'url': 'https://i.scdn.co/image/ab67616d00004851ec3aedff4bde61b335ed6961', 'width': 64}], 'name': 'Tú crees en mí?', 'release_date': '2022-05-31', 'release_date_precision': 'day', 'uri': 'spotify:album:4wVrfNzE3Dab7EB1Xn6SHo', 'artists': [{'external_urls': {'spotify': 'https://open.spotify.com/artist/0AqlFI0tz2DsEoJlKSIiT9'}, 'href': 'https://api.spotify.com/v1/artists/0AqlFI0tz2DsEoJlKSIiT9', 'id': '0AqlFI0tz2DsEoJlKSIiT9', 'name': 'Emilia', 'type': 'artist', 'uri': 'spotify:artist:0AqlFI0tz2DsEoJlKSIiT9'}], 'external_urls': {'spotify': 'https://open.spotify.com/album/4wVrfNzE3Dab7EB1Xn6SHo'}, 'total_tracks': 8}, 'artists': [{'external_urls': {'spotify': 'https://open.spotify.com/artist/0AqlFI0tz2DsEoJlKSIiT9'}, 'href': 'https://api.spotify.com/v1/artists/0AqlFI0tz2DsEoJlKSIiT9', 'id': '0AqlFI0tz2DsEoJlKSIiT9', 'name': 'Emilia', 'type': 'artist', 'uri': 'spotify:artist:0AqlFI0tz2DsEoJlKSIiT9'}], 'disc_number': 1, 'track_number': 3, 'duration_ms': 133894, 'external_ids': {'isrc': 'USSD12200203'}, 'external_urls': {'spotify': 'https://open.spotify.com/track/3ushwCdjpWNdSnZgRFU6Oc'}, 'href': 'https://api.spotify.com/v1/tracks/3ushwCdjpWNdSnZgRFU6Oc', 'id': '3ushwCdjpWNdSnZgRFU6Oc', 'name': 'cuatro veinte', 'popularity': 62, 'uri': 'spotify:track:3ushwCdjpWNdSnZgRFU6Oc', 'is_local': False}, 'video_thumbnail': {'url': None}}, {'added_at': '1970-01-01T00:00:00Z', 'added_by': {'external_urls': {'spotify': 'https://open.spotify.com/user/'}, 'href': 'https://api.spotify.com/v1/users/', 'id': '', 'type': 'user', 'uri': 'spotify:user:'}, 'is_local': False, 'primary_color': None, 'track': {'preview_url': 'https://p.scdn.co/mp3-preview/0b407a95ed1f3a608024ab2cbea0fdf04df808e8?cid=5236f001113d42aa982409f077a7d5a7', 'available_markets': ['AR', 'AU', 'AT', 'BE', 'BO', 'BR', 'BG', 'CA', 'CL', 'CO', 'CR', 'CY', 'CZ', 'DK', 'DO', 'DE', 'EC', 'EE', 'SV', 'FI', 'FR', 'GR', 'GT', 'HN', 'HK', 'HU', 'IS', 'IE', 'IT', 'LV', 'LT', 'LU', 'MY', 'MT', 'MX', 'NL', 'NZ', 'NI', 'NO', 'PA', 'PY', 'PE', 'PH', 'PL', 'PT', 'SG', 'SK', 'ES', 'SE', 'CH', 'TW', 'TR', 'UY', 'US', 'GB', 'AD', 'LI', 'MC', 'ID', 'JP', 'TH', 'VN', 'RO', 'IL', 'ZA', 'SA', 'AE', 'BH', 'QA', 'OM', 'KW', 'EG', 'MA', 'DZ', 'TN', 'LB', 'JO', 'PS', 'IN', 'BY', 'KZ', 'MD', 'UA', 'AL', 'BA', 'HR', 'ME', 'MK', 'RS', 'SI', 'KR', 'BD', 'PK', 'LK', 'GH', 'KE', 'NG', 'TZ', 'UG', 'AG', 'AM', 'BS', 'BB', 'BZ', 'BT', 'BW', 'BF', 'CV', 'CW', 'DM', 'FJ', 'GM', 'GE', 'GD', 'GW', 'GY', 'HT', 'JM', 'KI', 'LS', 'LR', 'MW', 'MV', 'ML', 'MH', 'FM', 'NA', 'NR', 'NE', 'PW', 'PG', 'PR', 'WS', 'SM', 'ST', 'SN', 'SC', 'SL', 'SB', 'KN', 'LC', 'VC', 'SR', 'TL', 'TO', 'TT', 'TV', 'VU', 'AZ', 'BN', 'BI', 'KH', 'CM', 'TD', 'KM', 'GQ', 'SZ', 'GA', 'GN', 'KG', 'LA', 'MO', 'MR', 'MN', 'NP', 'RW', 'TG', 'UZ', 'ZW', 'BJ', 'MG', 'MU', 'MZ', 'AO', 'CI', 'DJ', 'ZM', 'CD', 'CG', 'IQ', 'LY', 'TJ', 'VE', 'ET', 'XK'], 'explicit': False, 'type': 'track', 'episode': False, 'track': True, 'album': {'available_markets': ['AR', 'AU', 'AT', 'BE', 'BO', 'BR', 'BG', 'CA', 'CL', 'CO', 'CR', 'CY', 'CZ', 'DK', 'DO', 'DE', 'EC', 'EE', 'SV', 'FI', 'FR', 'GR', 'GT', 'HN', 'HK', 'HU', 'IS', 'IE', 'IT', 'LV', 'LT', 'LU', 'MY', 'MT', 'MX', 'NL', 'NZ', 'NI', 'NO', 'PA', 'PY', 'PE', 'PH', 'PL', 'PT', 'SG', 'SK', 'ES', 'SE', 'CH', 'TW', 'TR', 'UY', 'US', 'GB', 'AD', 'LI', 'MC', 'ID', 'JP', 'TH', 'VN', 'RO', 'IL', 'ZA', 'SA', 'AE', 'BH', 'QA', 'OM', 'KW', 'EG', 'MA', 'DZ', 'TN', 'LB', 'JO', 'PS', 'IN', 'BY', 'KZ', 'MD', 'UA', 'AL', 'BA', 'HR', 'ME', 'MK', 'RS', 'SI', 'KR', 'BD', 'PK', 'LK', 'GH', 'KE', 'NG', 'TZ', 'UG', 'AG', 'AM', 'BS', 'BB', 'BZ', 'BT', 'BW', 'BF', 'CV', 'CW', 'DM', 'FJ', 'GM', 'GE', 'GD', 'GW', 'GY', 'HT', 'JM', 'KI', 'LS', 'LR', 'MW', 'MV', 'ML', 'MH', 'FM', 'NA', 'NR', 'NE', 'PW', 'PG', 'PR', 'WS', 'SM', 'ST', 'SN', 'SC', 'SL', 'SB', 'KN', 'LC', 'VC', 'SR', 'TL', 'TO', 'TT', 'TV', 'VU', 'AZ', 'BN', 'BI', 'KH', 'CM', 'TD', 'KM', 'GQ', 'SZ', 'GA', 'GN', 'KG', 'LA', 'MO', 'MR', 'MN', 'NP', 'RW', 'TG', 'UZ', 'ZW', 'BJ', 'MG', 'MU', 'MZ', 'AO', 'CI', 'DJ', 'ZM', 'CD', 'CG', 'IQ', 'LY', 'TJ', 'VE', 'ET', 'XK'], 'type': 'album', 'album_type': 'single', 'href': 'https://api.spotify.com/v1/albums/0uRoHlgfvgSwumltupp9vs', 'id': '0uRoHlgfvgSwumltupp9vs', 'images': [{'height': 640, 'url': 'https://i.scdn.co/image/ab67616d0000b2733c70172e31f35f084e1a8fae', 'width': 640}, {'height': 300, 'url': 'https://i.scdn.co/image/ab67616d00001e023c70172e31f35f084e1a8fae', 'width': 300}, {'height': 64, 'url': 'https://i.scdn.co/image/ab67616d000048513c70172e31f35f084e1a8fae', 'width': 64}], 'name': 'Salgo a Bailar', 'release_date': '2023-07-14', 'release_date_precision': 'day', 'uri': 'spotify:album:0uRoHlgfvgSwumltupp9vs', 'artists': [{'external_urls': {'spotify': 'https://open.spotify.com/artist/0dUyjgCyjfj5eMx6bX2TWf'}, 'href': 'https://api.spotify.com/v1/artists/0dUyjgCyjfj5eMx6bX2TWf', 'id': '0dUyjgCyjfj5eMx6bX2TWf', 'name': 'FMK', 'type': 'artist', 'uri': 'spotify:artist:0dUyjgCyjfj5eMx6bX2TWf'}, {'external_urls': {'spotify': 'https://open.spotify.com/artist/0AqlFI0tz2DsEoJlKSIiT9'}, 'href': 'https://api.spotify.com/v1/artists/0AqlFI0tz2DsEoJlKSIiT9', 'id': '0AqlFI0tz2DsEoJlKSIiT9', 'name': 'Emilia', 'type': 'artist', 'uri': 'spotify:artist:0AqlFI0tz2DsEoJlKSIiT9'}], 'external_urls': {'spotify': 'https://open.spotify.com/album/0uRoHlgfvgSwumltupp9vs'}, 'total_tracks': 1}, 'artists': [{'external_urls': {'spotify': 'https://open.spotify.com/artist/0dUyjgCyjfj5eMx6bX2TWf'}, 'href': 'https://api.spotify.com/v1/artists/0dUyjgCyjfj5eMx6bX2TWf', 'id': '0dUyjgCyjfj5eMx6bX2TWf', 'name': 'FMK', 'type': 'artist', 'uri': 'spotify:artist:0dUyjgCyjfj5eMx6bX2TWf'}, {'external_urls': {'spotify': 'https://open.spotify.com/artist/0AqlFI0tz2DsEoJlKSIiT9'}, 'href': 'https://api.spotify.com/v1/artists/0AqlFI0tz2DsEoJlKSIiT9', 'id': '0AqlFI0tz2DsEoJlKSIiT9', 'name': 'Emilia', 'type': 'artist', 'uri': 'spotify:artist:0AqlFI0tz2DsEoJlKSIiT9'}], 'disc_number': 1, 'track_number': 1, 'duration_ms': 157830, 'external_ids': {'isrc': 'CLPP22300047'}, 'external_urls': {'spotify': 'https://open.spotify.com/track/7xX7bER73YZSE4m76OpMXV'}, 'href': 'https://api.spotify.com/v1/tracks/7xX7bER73YZSE4m76OpMXV', 'id': '7xX7bER73YZSE4m76OpMXV', 'name': 'Salgo a Bailar', 'popularity': 61, 'uri': 'spotify:track:7xX7bER73YZSE4m76OpMXV', 'is_local': False}, 'video_thumbnail': {'url': None}}, {'added_at': '1970-01-01T00:00:00Z', 'added_by': {'external_urls': {'spotify': 'https://open.spotify.com/user/'}, 'href': 'https://api.spotify.com/v1/users/', 'id': '', 'type': 'user', 'uri': 'spotify:user:'}, 'is_local': False, 'primary_color': None, 'track': {'preview_url': 'https://p.scdn.co/mp3-preview/dad5bf2fc7f981ec27bfabecee505a78cfb58d10?cid=5236f001113d42aa982409f077a7d5a7', 'available_markets': ['AR', 'AU', 'AT', 'BE', 'BO', 'BR', 'BG', 'CA', 'CL', 'CO', 'CR', 'CY', 'CZ', 'DK', 'DO', 'DE', 'EC', 'EE', 'SV', 'FI', 'FR', 'GR', 'GT', 'HN', 'HK', 'HU', 'IS', 'IE', 'IT', 'LV', 'LT', 'LU', 'MY', 'MT', 'MX', 'NL', 'NZ', 'NI', 'NO', 'PA', 'PY', 'PE', 'PH', 'PL', 'PT', 'SG', 'SK', 'ES', 'SE', 'CH', 'TW', 'TR', 'UY', 'US', 'GB', 'AD', 'LI', 'MC', 'ID', 'JP', 'TH', 'VN', 'RO', 'IL', 'ZA', 'SA', 'AE', 'BH', 'QA', 'OM', 'KW', 'EG', 'MA', 'DZ', 'TN', 'LB', 'JO', 'PS', 'IN', 'BY', 'KZ', 'MD', 'UA', 'AL', 'BA', 'HR', 'ME', 'MK', 'RS', 'SI', 'KR', 'BD', 'PK', 'LK', 'GH', 'KE', 'NG', 'TZ', 'UG', 'AG', 'AM', 'BS', 'BB', 'BZ', 'BT', 'BW', 'BF', 'CV', 'CW', 'DM', 'FJ', 'GM', 'GE', 'GD', 'GW', 'GY', 'HT', 'JM', 'KI', 'LS', 'LR', 'MW', 'MV', 'ML', 'MH', 'FM', 'NA', 'NR', 'NE', 'PW', 'PG', 'PR', 'WS', 'SM', 'ST', 'SN', 'SC', 'SL', 'SB', 'KN', 'LC', 'VC', 'SR', 'TL', 'TO', 'TT', 'TV', 'VU', 'AZ', 'BN', 'BI', 'KH', 'CM', 'TD', 'KM', 'GQ', 'SZ', 'GA', 'GN', 'KG', 'LA', 'MO', 'MR', 'MN', 'NP', 'RW', 'TG', 'UZ', 'ZW', 'BJ', 'MG', 'MU', 'MZ', 'AO', 'CI', 'DJ', 'ZM', 'CD', 'CG', 'IQ', 'LY', 'TJ', 'VE', 'ET', 'XK'], 'explicit': False, 'type': 'track', 'episode': False, 'track': True, 'album': {'available_markets': ['AR', 'AU', 'AT', 'BE', 'BO', 'BR', 'BG', 'CA', 'CL', 'CO', 'CR', 'CY', 'CZ', 'DK', 'DO', 'DE', 'EC', 'EE', 'SV', 'FI', 'FR', 'GR', 'GT', 'HN', 'HK', 'HU', 'IS', 'IE', 'IT', 'LV', 'LT', 'LU', 'MY', 'MT', 'MX', 'NL', 'NZ', 'NI', 'NO', 'PA', 'PY', 'PE', 'PH', 'PL', 'PT', 'SG', 'SK', 'ES', 'SE', 'CH', 'TW', 'TR', 'UY', 'US', 'GB', 'AD', 'LI', 'MC', 'ID', 'JP', 'TH', 'VN', 'RO', 'IL', 'ZA', 'SA', 'AE', 'BH', 'QA', 'OM', 'KW', 'EG', 'MA', 'DZ', 'TN', 'LB', 'JO', 'PS', 'IN', 'BY', 'KZ', 'MD', 'UA', 'AL', 'BA', 'HR', 'ME', 'MK', 'RS', 'SI', 'KR', 'BD', 'PK', 'LK', 'GH', 'KE', 'NG', 'TZ', 'UG', 'AG', 'AM', 'BS', 'BB', 'BZ', 'BT', 'BW', 'BF', 'CV', 'CW', 'DM', 'FJ', 'GM', 'GE', 'GD', 'GW', 'GY', 'HT', 'JM', 'KI', 'LS', 'LR', 'MW', 'MV', 'ML', 'MH', 'FM', 'NA', 'NR', 'NE', 'PW', 'PG', 'PR', 'WS', 'SM', 'ST', 'SN', 'SC', 'SL', 'SB', 'KN', 'LC', 'VC', 'SR', 'TL', 'TO', 'TT', 'TV', 'VU', 'AZ', 'BN', 'BI', 'KH', 'CM', 'TD', 'KM', 'GQ', 'SZ', 'GA', 'GN', 'KG', 'LA', 'MO', 'MR', 'MN', 'NP', 'RW', 'TG', 'UZ', 'ZW', 'BJ', 'MG', 'MU', 'MZ', 'AO', 'CI', 'DJ', 'ZM', 'CD', 'CG', 'IQ', 'LY', 'TJ', 'VE', 'ET', 'XK'], 'type': 'album', 'album_type': 'album', 'href': 'https://api.spotify.com/v1/albums/2qo8j9yZIsx66yDuUho2jp', 'id': '2qo8j9yZIsx66yDuUho2jp', 'images': [{'height': 640, 'url': 'https://i.scdn.co/image/ab67616d0000b273bfb94590c914538b193f6931', 'width': 640}, {'height': 300, 'url': 'https://i.scdn.co/image/ab67616d00001e02bfb94590c914538b193f6931', 'width': 300}, {'height': 64, 'url': 'https://i.scdn.co/image/ab67616d00004851bfb94590c914538b193f6931', 'width': 64}], 'name': '.mp3', 'release_date': '2023-11-03', 'release_date_precision': 'day', 'uri': 'spotify:album:2qo8j9yZIsx66yDuUho2jp', 'artists': [{'external_urls': {'spotify': 'https://open.spotify.com/artist/0AqlFI0tz2DsEoJlKSIiT9'}, 'href': 'https://api.spotify.com/v1/artists/0AqlFI0tz2DsEoJlKSIiT9', 'id': '0AqlFI0tz2DsEoJlKSIiT9', 'name': 'Emilia', 'type': 'artist', 'uri': 'spotify:artist:0AqlFI0tz2DsEoJlKSIiT9'}], 'external_urls': {'spotify': 'https://open.spotify.com/album/2qo8j9yZIsx66yDuUho2jp'}, 'total_tracks': 13}, 'artists': [{'external_urls': {'spotify': 'https://open.spotify.com/artist/0AqlFI0tz2DsEoJlKSIiT9'}, 'href': 'https://api.spotify.com/v1/artists/0AqlFI0tz2DsEoJlKSIiT9', 'id': '0AqlFI0tz2DsEoJlKSIiT9', 'name': 'Emilia', 'type': 'artist', 'uri': 'spotify:artist:0AqlFI0tz2DsEoJlKSIiT9'}], 'disc_number': 1, 'track_number': 6, 'duration_ms': 151653, 'external_ids': {'isrc': 'USSD12300253'}, 'external_urls': {'spotify': 'https://open.spotify.com/track/6hv8hai0yo19JF2c6pppj6'}, 'href': 'https://api.spotify.com/v1/tracks/6hv8hai0yo19JF2c6pppj6', 'id': '6hv8hai0yo19JF2c6pppj6', 'name': 'GTA.mp3', 'popularity': 65, 'uri': 'spotify:track:6hv8hai0yo19JF2c6pppj6', 'is_local': False}, 'video_thumbnail': {'url': None}}, {'added_at': '1970-01-01T00:00:00Z', 'added_by': {'external_urls': {'spotify': 'https://open.spotify.com/user/'}, 'href': 'https://api.spotify.com/v1/users/', 'id': '', 'type': 'user', 'uri': 'spotify:user:'}, 'is_local': False, 'primary_color': None, 'track': {'preview_url': 'https://p.scdn.co/mp3-preview/8ea04991ac28a39f50f0e1f4fa8bf2965fb3ab09?cid=5236f001113d42aa982409f077a7d5a7', 'available_markets': ['AR', 'AU', 'AT', 'BE', 'BO', 'BR', 'BG', 'CA', 'CL', 'CO', 'CR', 'CY', 'CZ', 'DK', 'DO', 'DE', 'EC', 'EE', 'SV', 'FI', 'FR', 'GR', 'GT', 'HN', 'HK', 'HU', 'IS', 'IE', 'IT', 'LV', 'LT', 'LU', 'MY', 'MT', 'MX', 'NL', 'NZ', 'NI', 'NO', 'PA', 'PY', 'PE', 'PH', 'PL', 'PT', 'SG', 'SK', 'ES', 'SE', 'CH', 'TW', 'TR', 'UY', 'US', 'GB', 'AD', 'LI', 'MC', 'ID', 'JP', 'TH', 'VN', 'RO', 'IL', 'ZA', 'SA', 'AE', 'BH', 'QA', 'OM', 'KW', 'EG', 'MA', 'DZ', 'TN', 'LB', 'JO', 'PS', 'IN', 'BY', 'KZ', 'MD', 'UA', 'AL', 'BA', 'HR', 'ME', 'MK', 'RS', 'SI', 'KR', 'BD', 'PK', 'LK', 'GH', 'KE', 'NG', 'TZ', 'UG', 'AG', 'AM', 'BS', 'BB', 'BZ', 'BT', 'BW', 'BF', 'CV', 'CW', 'DM', 'FJ', 'GM', 'GE', 'GD', 'GW', 'GY', 'HT', 'JM', 'KI', 'LS', 'LR', 'MW', 'MV', 'ML', 'MH', 'FM', 'NA', 'NR', 'NE', 'PW', 'PG', 'PR', 'WS', 'SM', 'ST', 'SN', 'SC', 'SL', 'SB', 'KN', 'LC', 'VC', 'SR', 'TL', 'TO', 'TT', 'TV', 'VU', 'AZ', 'BN', 'BI', 'KH', 'CM', 'TD', 'KM', 'GQ', 'SZ', 'GA', 'GN', 'KG', 'LA', 'MO', 'MR', 'MN', 'NP', 'RW', 'TG', 'UZ', 'ZW', 'BJ', 'MG', 'MU', 'MZ', 'AO', 'CI', 'DJ', 'ZM', 'CD', 'CG', 'IQ', 'LY', 'TJ', 'VE', 'ET', 'XK'], 'explicit': False, 'type': 'track', 'episode': False, 'track': True, 'album': {'available_markets': ['AR', 'AU', 'AT', 'BE', 'BO', 'BR', 'BG', 'CA', 'CL', 'CO', 'CR', 'CY', 'CZ', 'DK', 'DO', 'DE', 'EC', 'EE', 'SV', 'FI', 'FR', 'GR', 'GT', 'HN', 'HK', 'HU', 'IS', 'IE', 'IT', 'LV', 'LT', 'LU', 'MY', 'MT', 'MX', 'NL', 'NZ', 'NI', 'NO', 'PA', 'PY', 'PE', 'PH', 'PL', 'PT', 'SG', 'SK', 'ES', 'SE', 'CH', 'TW', 'TR', 'UY', 'US', 'GB', 'AD', 'LI', 'MC', 'ID', 'JP', 'TH', 'VN', 'RO', 'IL', 'ZA', 'SA', 'AE', 'BH', 'QA', 'OM', 'KW', 'EG', 'MA', 'DZ', 'TN', 'LB', 'JO', 'PS', 'IN', 'BY', 'KZ', 'MD', 'UA', 'AL', 'BA', 'HR', 'ME', 'MK', 'RS', 'SI', 'KR', 'BD', 'PK', 'LK', 'GH', 'KE', 'NG', 'TZ', 'UG', 'AG', 'AM', 'BS', 'BB', 'BZ', 'BT', 'BW', 'BF', 'CV', 'CW', 'DM', 'FJ', 'GM', 'GE', 'GD', 'GW', 'GY', 'HT', 'JM', 'KI', 'LS', 'LR', 'MW', 'MV', 'ML', 'MH', 'FM', 'NA', 'NR', 'NE', 'PW', 'PG', 'PR', 'WS', 'SM', 'ST', 'SN', 'SC', 'SL', 'SB', 'KN', 'LC', 'VC', 'SR', 'TL', 'TO', 'TT', 'TV', 'VU', 'AZ', 'BN', 'BI', 'KH', 'CM', 'TD', 'KM', 'GQ', 'SZ', 'GA', 'GN', 'KG', 'LA', 'MO', 'MR', 'MN', 'NP', 'RW', 'TG', 'UZ', 'ZW', 'BJ', 'MG', 'MU', 'MZ', 'AO', 'CI', 'DJ', 'ZM', 'CD', 'CG', 'IQ', 'LY', 'TJ', 'VE', 'ET', 'XK'], 'type': 'album', 'album_type': 'single', 'href': 'https://api.spotify.com/v1/albums/5JrH2FXWYe541F1YAdDkid', 'id': '5JrH2FXWYe541F1YAdDkid', 'images': [{'height': 640, 'url': 'https://i.scdn.co/image/ab67616d0000b273cff348457f3476ffe278ee72', 'width': 640}, {'height': 300, 'url': 'https://i.scdn.co/image/ab67616d00001e02cff348457f3476ffe278ee72', 'width': 300}, {'height': 64, 'url': 'https://i.scdn.co/image/ab67616d00004851cff348457f3476ffe278ee72', 'width': 64}], 'name': 'La Chain', 'release_date': '2022-08-16', 'release_date_precision': 'day', 'uri': 'spotify:album:5JrH2FXWYe541F1YAdDkid', 'artists': [{'external_urls': {'spotify': 'https://open.spotify.com/artist/0AqlFI0tz2DsEoJlKSIiT9'}, 'href': 'https://api.spotify.com/v1/artists/0AqlFI0tz2DsEoJlKSIiT9', 'id': '0AqlFI0tz2DsEoJlKSIiT9', 'name': 'Emilia', 'type': 'artist', 'uri': 'spotify:artist:0AqlFI0tz2DsEoJlKSIiT9'}], 'external_urls': {'spotify': 'https://open.spotify.com/album/5JrH2FXWYe541F1YAdDkid'}, 'total_tracks': 1}, 'artists': [{'external_urls': {'spotify': 'https://open.spotify.com/artist/0AqlFI0tz2DsEoJlKSIiT9'}, 'href': 'https://api.spotify.com/v1/artists/0AqlFI0tz2DsEoJlKSIiT9', 'id': '0AqlFI0tz2DsEoJlKSIiT9', 'name': 'Emilia', 'type': 'artist', 'uri': 'spotify:artist:0AqlFI0tz2DsEoJlKSIiT9'}], 'disc_number': 1, 'track_number': 1, 'duration_ms': 139518, 'external_ids': {'isrc': 'USSD12200699'}, 'external_urls': {'spotify': 'https://open.spotify.com/track/5lkgHMBFyhk6P3jinwsYo0'}, 'href': 'https://api.spotify.com/v1/tracks/5lkgHMBFyhk6P3jinwsYo0', 'id': '5lkgHMBFyhk6P3jinwsYo0', 'name': 'La Chain', 'popularity': 57, 'uri': 'spotify:track:5lkgHMBFyhk6P3jinwsYo0', 'is_local': False}, 'video_thumbnail': {'url': None}}, {'added_at': '1970-01-01T00:00:00Z', 'added_by': {'external_urls': {'spotify': 'https://open.spotify.com/user/'}, 'href': 'https://api.spotify.com/v1/users/', 'id': '', 'type': 'user', 'uri': 'spotify:user:'}, 'is_local': False, 'primary_color': None, 'track': {'preview_url': 'https://p.scdn.co/mp3-preview/17e9a56f32f81926f2aca33b4b174af99529e791?cid=5236f001113d42aa982409f077a7d5a7', 'available_markets': ['AR', 'AU', 'AT', 'BE', 'BO', 'BR', 'BG', 'CA', 'CL', 'CO', 'CR', 'CY', 'CZ', 'DK', 'DO', 'DE', 'EC', 'EE', 'SV', 'FI', 'FR', 'GR', 'GT', 'HN', 'HK', 'HU', 'IS', 'IE', 'IT', 'LV', 'LT', 'LU', 'MY', 'MT', 'MX', 'NL', 'NZ', 'NI', 'NO', 'PA', 'PY', 'PE', 'PH', 'PL', 'PT', 'SG', 'SK', 'ES', 'SE', 'CH', 'TW', 'TR', 'UY', 'US', 'GB', 'AD', 'LI', 'MC', 'ID', 'JP', 'TH', 'VN', 'RO', 'IL', 'ZA', 'SA', 'AE', 'BH', 'QA', 'OM', 'KW', 'EG', 'MA', 'DZ', 'TN', 'LB', 'JO', 'PS', 'IN', 'BY', 'KZ', 'MD', 'UA', 'AL', 'BA', 'HR', 'ME', 'MK', 'RS', 'SI', 'KR', 'BD', 'PK', 'LK', 'GH', 'KE', 'NG', 'TZ', 'UG', 'AG', 'AM', 'BS', 'BB', 'BZ', 'BT', 'BW', 'BF', 'CV', 'CW', 'DM', 'FJ', 'GM', 'GE', 'GD', 'GW', 'GY', 'HT', 'JM', 'KI', 'LS', 'LR', 'MW', 'MV', 'ML', 'MH', 'FM', 'NA', 'NR', 'NE', 'PW', 'PG', 'PR', 'WS', 'SM', 'ST', 'SN', 'SC', 'SL', 'SB', 'KN', 'LC', 'VC', 'SR', 'TL', 'TO', 'TT', 'TV', 'VU', 'AZ', 'BN', 'BI', 'KH', 'CM', 'TD', 'KM', 'GQ', 'SZ', 'GA', 'GN', 'KG', 'LA', 'MO', 'MR', 'MN', 'NP', 'RW', 'TG', 'UZ', 'ZW', 'BJ', 'MG', 'MU', 'MZ', 'AO', 'CI', 'DJ', 'ZM', 'CD', 'CG', 'IQ', 'LY', 'TJ', 'VE', 'ET', 'XK'], 'explicit': False, 'type': 'track', 'episode': False, 'track': True, 'album': {'available_markets': ['AR', 'AU', 'AT', 'BE', 'BO', 'BR', 'BG', 'CA', 'CL', 'CO', 'CR', 'CY', 'CZ', 'DK', 'DO', 'DE', 'EC', 'EE', 'SV', 'FI', 'FR', 'GR', 'GT', 'HN', 'HK', 'HU', 'IS', 'IE', 'IT', 'LV', 'LT', 'LU', 'MY', 'MT', 'MX', 'NL', 'NZ', 'NI', 'NO', 'PA', 'PY', 'PE', 'PH', 'PL', 'PT', 'SG', 'SK', 'ES', 'SE', 'CH', 'TW', 'TR', 'UY', 'US', 'GB', 'AD', 'LI', 'MC', 'ID', 'JP', 'TH', 'VN', 'RO', 'IL', 'ZA', 'SA', 'AE', 'BH', 'QA', 'OM', 'KW', 'EG', 'MA', 'DZ', 'TN', 'LB', 'JO', 'PS', 'IN', 'BY', 'KZ', 'MD', 'UA', 'AL', 'BA', 'HR', 'ME', 'MK', 'RS', 'SI', 'KR', 'BD', 'PK', 'LK', 'GH', 'KE', 'NG', 'TZ', 'UG', 'AG', 'AM', 'BS', 'BB', 'BZ', 'BT', 'BW', 'BF', 'CV', 'CW', 'DM', 'FJ', 'GM', 'GE', 'GD', 'GW', 'GY', 'HT', 'JM', 'KI', 'LS', 'LR', 'MW', 'MV', 'ML', 'MH', 'FM', 'NA', 'NR', 'NE', 'PW', 'PG', 'PR', 'WS', 'SM', 'ST', 'SN', 'SC', 'SL', 'SB', 'KN', 'LC', 'VC', 'SR', 'TL', 'TO', 'TT', 'TV', 'VU', 'AZ', 'BN', 'BI', 'KH', 'CM', 'TD', 'KM', 'GQ', 'SZ', 'GA', 'GN', 'KG', 'LA', 'MO', 'MR', 'MN', 'NP', 'RW', 'TG', 'UZ', 'ZW', 'BJ', 'MG', 'MU', 'MZ', 'AO', 'CI', 'DJ', 'ZM', 'CD', 'CG', 'IQ', 'LY', 'TJ', 'VE', 'ET', 'XK'], 'type': 'album', 'album_type': 'album', 'href': 'https://api.spotify.com/v1/albums/4wVrfNzE3Dab7EB1Xn6SHo', 'id': '4wVrfNzE3Dab7EB1Xn6SHo', 'images': [{'height': 640, 'url': 'https://i.scdn.co/image/ab67616d0000b273ec3aedff4bde61b335ed6961', 'width': 640}, {'height': 300, 'url': 'https://i.scdn.co/image/ab67616d00001e02ec3aedff4bde61b335ed6961', 'width': 300}, {'height': 64, 'url': 'https://i.scdn.co/image/ab67616d00004851ec3aedff4bde61b335ed6961', 'width': 64}], 'name': 'Tú crees en mí?', 'release_date': '2022-05-31', 'release_date_precision': 'day', 'uri': 'spotify:album:4wVrfNzE3Dab7EB1Xn6SHo', 'artists': [{'external_urls': {'spotify': 'https://open.spotify.com/artist/0AqlFI0tz2DsEoJlKSIiT9'}, 'href': 'https://api.spotify.com/v1/artists/0AqlFI0tz2DsEoJlKSIiT9', 'id': '0AqlFI0tz2DsEoJlKSIiT9', 'name': 'Emilia', 'type': 'artist', 'uri': 'spotify:artist:0AqlFI0tz2DsEoJlKSIiT9'}], 'external_urls': {'spotify': 'https://open.spotify.com/album/4wVrfNzE3Dab7EB1Xn6SHo'}, 'total_tracks': 8}, 'artists': [{'external_urls': {'spotify': 'https://open.spotify.com/artist/0AqlFI0tz2DsEoJlKSIiT9'}, 'href': 'https://api.spotify.com/v1/artists/0AqlFI0tz2DsEoJlKSIiT9', 'id': '0AqlFI0tz2DsEoJlKSIiT9', 'name': 'Emilia', 'type': 'artist', 'uri': 'spotify:artist:0AqlFI0tz2DsEoJlKSIiT9'}], 'disc_number': 1, 'track_number': 8, 'duration_ms': 169566, 'external_ids': {'isrc': 'USSD12200287'}, 'external_urls': {'spotify': 'https://open.spotify.com/track/0Q1NGtkEts8tjIC4eSWiya'}, 'href': 'https://api.spotify.com/v1/tracks/0Q1NGtkEts8tjIC4eSWiya', 'id': '0Q1NGtkEts8tjIC4eSWiya', 'name': 'cielo en la mente', 'popularity': 58, 'uri': 'spotify:track:0Q1NGtkEts8tjIC4eSWiya', 'is_local': False}, 'video_thumbnail': {'url': None}}, {'added_at': '1970-01-01T00:00:00Z', 'added_by': {'external_urls': {'spotify': 'https://open.spotify.com/user/'}, 'href': 'https://api.spotify.com/v1/users/', 'id': '', 'type': 'user', 'uri': 'spotify:user:'}, 'is_local': False, 'primary_color': None, 'track': {'preview_url': 'https://p.scdn.co/mp3-preview/2b101a5ee6fe6a98e160d022ae4863c46f950006?cid=5236f001113d42aa982409f077a7d5a7', 'available_markets': ['AR', 'AU', 'AT', 'BE', 'BO', 'BR', 'BG', 'CA', 'CL', 'CO', 'CR', 'CY', 'CZ', 'DK', 'DO', 'DE', 'EC', 'EE', 'SV', 'FI', 'FR', 'GR', 'GT', 'HN', 'HK', 'HU', 'IS', 'IE', 'IT', 'LV', 'LT', 'LU', 'MY', 'MT', 'MX', 'NL', 'NZ', 'NI', 'NO', 'PA', 'PY', 'PE', 'PH', 'PL', 'PT', 'SG', 'SK', 'ES', 'SE', 'CH', 'TW', 'TR', 'UY', 'US', 'GB', 'AD', 'LI', 'MC', 'ID', 'JP', 'TH', 'VN', 'RO', 'IL', 'ZA', 'SA', 'AE', 'BH', 'QA', 'OM', 'KW', 'EG', 'MA', 'DZ', 'TN', 'LB', 'JO', 'PS', 'IN', 'BY', 'KZ', 'MD', 'UA', 'AL', 'BA', 'HR', 'ME', 'MK', 'RS', 'SI', 'KR', 'BD', 'PK', 'LK', 'GH', 'KE', 'NG', 'TZ', 'UG', 'AG', 'AM', 'BS', 'BB', 'BZ', 'BT', 'BW', 'BF', 'CV', 'CW', 'DM', 'FJ', 'GM', 'GE', 'GD', 'GW', 'GY', 'HT', 'JM', 'KI', 'LS', 'LR', 'MW', 'MV', 'ML', 'MH', 'FM', 'NA', 'NR', 'NE', 'PW', 'PG', 'PR', 'WS', 'SM', 'ST', 'SN', 'SC', 'SL', 'SB', 'KN', 'LC', 'VC', 'SR', 'TL', 'TO', 'TT', 'TV', 'VU', 'AZ', 'BN', 'BI', 'KH', 'CM', 'TD', 'KM', 'GQ', 'SZ', 'GA', 'GN', 'KG', 'LA', 'MO', 'MR', 'MN', 'NP', 'RW', 'TG', 'UZ', 'ZW', 'BJ', 'MG', 'MU', 'MZ', 'AO', 'CI', 'DJ', 'ZM', 'CD', 'CG', 'IQ', 'LY', 'TJ', 'VE', 'ET', 'XK'], 'explicit': True, 'type': 'track', 'episode': False, 'track': True, 'album': {'available_markets': ['AR', 'AU', 'AT', 'BE', 'BO', 'BR', 'BG', 'CA', 'CL', 'CO', 'CR', 'CY', 'CZ', 'DK', 'DO', 'DE', 'EC', 'EE', 'SV', 'FI', 'FR', 'GR', 'GT', 'HN', 'HK', 'HU', 'IS', 'IE', 'IT', 'LV', 'LT', 'LU', 'MY', 'MT', 'MX', 'NL', 'NZ', 'NI', 'NO', 'PA', 'PY', 'PE', 'PH', 'PL', 'PT', 'SG', 'SK', 'ES', 'SE', 'CH', 'TW', 'TR', 'UY', 'US', 'GB', 'AD', 'LI', 'MC', 'ID', 'JP', 'TH', 'VN', 'RO', 'IL', 'ZA', 'SA', 'AE', 'BH', 'QA', 'OM', 'KW', 'EG', 'MA', 'DZ', 'TN', 'LB', 'JO', 'PS', 'IN', 'BY', 'KZ', 'MD', 'UA', 'AL', 'BA', 'HR', 'ME', 'MK', 'RS', 'SI', 'KR', 'BD', 'PK', 'LK', 'GH', 'KE', 'NG', 'TZ', 'UG', 'AG', 'AM', 'BS', 'BB', 'BZ', 'BT', 'BW', 'BF', 'CV', 'CW', 'DM', 'FJ', 'GM', 'GE', 'GD', 'GW', 'GY', 'HT', 'JM', 'KI', 'LS', 'LR', 'MW', 'MV', 'ML', 'MH', 'FM', 'NA', 'NR', 'NE', 'PW', 'PG', 'PR', 'WS', 'SM', 'ST', 'SN', 'SC', 'SL', 'SB', 'KN', 'LC', 'VC', 'SR', 'TL', 'TO', 'TT', 'TV', 'VU', 'AZ', 'BN', 'BI', 'KH', 'CM', 'TD', 'KM', 'GQ', 'SZ', 'GA', 'GN', 'KG', 'LA', 'MO', 'MR', 'MN', 'NP', 'RW', 'TG', 'UZ', 'ZW', 'BJ', 'MG', 'MU', 'MZ', 'AO', 'CI', 'DJ', 'ZM', 'CD', 'CG', 'IQ', 'LY', 'TJ', 'VE', 'ET', 'XK'], 'type': 'album', 'album_type': 'single', 'href': 'https://api.spotify.com/v1/albums/2npWGbycKmVVwOn4vo2xBr', 'id': '2npWGbycKmVVwOn4vo2xBr', 'images': [{'height': 640, 'url': 'https://i.scdn.co/image/ab67616d0000b2738ffffd5fb27bf75b6190e17e', 'width': 640}, {'height': 300, 'url': 'https://i.scdn.co/image/ab67616d00001e028ffffd5fb27bf75b6190e17e', 'width': 300}, {'height': 64, 'url': 'https://i.scdn.co/image/ab67616d000048518ffffd5fb27bf75b6190e17e', 'width': 64}], 'name': 'Underground', 'release_date': '2022-11-17', 'release_date_precision': 'day', 'uri': 'spotify:album:2npWGbycKmVVwOn4vo2xBr', 'artists': [{'external_urls': {'spotify': 'https://open.spotify.com/artist/0AqlFI0tz2DsEoJlKSIiT9'}, 'href': 'https://api.spotify.com/v1/artists/0AqlFI0tz2DsEoJlKSIiT9', 'id': '0AqlFI0tz2DsEoJlKSIiT9', 'name': 'Emilia', 'type': 'artist', 'uri': 'spotify:artist:0AqlFI0tz2DsEoJlKSIiT9'}], 'external_urls': {'spotify': 'https://open.spotify.com/album/2npWGbycKmVVwOn4vo2xBr'}, 'total_tracks': 1}, 'artists': [{'external_urls': {'spotify': 'https://open.spotify.com/artist/0AqlFI0tz2DsEoJlKSIiT9'}, 'href': 'https://api.spotify.com/v1/artists/0AqlFI0tz2DsEoJlKSIiT9', 'id': '0AqlFI0tz2DsEoJlKSIiT9', 'name': 'Emilia', 'type': 'artist', 'uri': 'spotify:artist:0AqlFI0tz2DsEoJlKSIiT9'}], 'disc_number': 1, 'track_number': 1, 'duration_ms': 149471, 'external_ids': {'isrc': 'USSD12201195'}, 'external_urls': {'spotify': 'https://open.spotify.com/track/3QWCxOv2YharMus6KbfiPJ'}, 'href': 'https://api.spotify.com/v1/tracks/3QWCxOv2YharMus6KbfiPJ', 'id': '3QWCxOv2YharMus6KbfiPJ', 'name': 'Underground', 'popularity': 58, 'uri': 'spotify:track:3QWCxOv2YharMus6KbfiPJ', 'is_local': False}, 'video_thumbnail': {'url': None}}, {'added_at': '1970-01-01T00:00:00Z', 'added_by': {'external_urls': {'spotify': 'https://open.spotify.com/user/'}, 'href': 'https://api.spotify.com/v1/users/', 'id': '', 'type': 'user', 'uri': 'spotify:user:'}, 'is_local': False, 'primary_color': None, 'track': {'preview_url': 'https://p.scdn.co/mp3-preview/6bc076b8a43dbf2f8d27cc1b8c0c6aeeeb14d25f?cid=5236f001113d42aa982409f077a7d5a7', 'available_markets': ['AR', 'AU', 'AT', 'BE', 'BO', 'BR', 'BG', 'CA', 'CL', 'CO', 'CR', 'CY', 'CZ', 'DK', 'DO', 'DE', 'EC', 'EE', 'SV', 'FI', 'FR', 'GR', 'GT', 'HN', 'HK', 'HU', 'IS', 'IE', 'IT', 'LV', 'LT', 'LU', 'MY', 'MT', 'MX', 'NL', 'NZ', 'NI', 'NO', 'PA', 'PY', 'PE', 'PH', 'PL', 'PT', 'SG', 'SK', 'ES', 'SE', 'CH', 'TW', 'TR', 'UY', 'US', 'GB', 'AD', 'LI', 'MC', 'ID', 'JP', 'TH', 'VN', 'RO', 'IL', 'ZA', 'SA', 'AE', 'BH', 'QA', 'OM', 'KW', 'EG', 'MA', 'DZ', 'TN', 'LB', 'JO', 'PS', 'IN', 'BY', 'KZ', 'MD', 'UA', 'AL', 'BA', 'HR', 'ME', 'MK', 'RS', 'SI', 'KR', 'BD', 'PK', 'LK', 'GH', 'KE', 'NG', 'TZ', 'UG', 'AG', 'AM', 'BS', 'BB', 'BZ', 'BT', 'BW', 'BF', 'CV', 'CW', 'DM', 'FJ', 'GM', 'GE', 'GD', 'GW', 'GY', 'HT', 'JM', 'KI', 'LS', 'LR', 'MW', 'MV', 'ML', 'MH', 'FM', 'NA', 'NR', 'NE', 'PW', 'PG', 'PR', 'WS', 'SM', 'ST', 'SN', 'SC', 'SL', 'SB', 'KN', 'LC', 'VC', 'SR', 'TL', 'TO', 'TT', 'TV', 'VU', 'AZ', 'BN', 'BI', 'KH', 'CM', 'TD', 'KM', 'GQ', 'SZ', 'GA', 'GN', 'KG', 'LA', 'MO', 'MR', 'MN', 'NP', 'RW', 'TG', 'UZ', 'ZW', 'BJ', 'MG', 'MU', 'MZ', 'AO', 'CI', 'DJ', 'ZM', 'CD', 'CG', 'IQ', 'LY', 'TJ', 'VE', 'ET', 'XK'], 'explicit': False, 'type': 'track', 'episode': False, 'track': True, 'album': {'available_markets': ['AR', 'AU', 'AT', 'BE', 'BO', 'BR', 'BG', 'CA', 'CL', 'CO', 'CR', 'CY', 'CZ', 'DK', 'DO', 'DE', 'EC', 'EE', 'SV', 'FI', 'FR', 'GR', 'GT', 'HN', 'HK', 'HU', 'IS', 'IE', 'IT', 'LV', 'LT', 'LU', 'MY', 'MT', 'MX', 'NL', 'NZ', 'NI', 'NO', 'PA', 'PY', 'PE', 'PH', 'PL', 'PT', 'SG', 'SK', 'ES', 'SE', 'CH', 'TW', 'TR', 'UY', 'US', 'GB', 'AD', 'LI', 'MC', 'ID', 'JP', 'TH', 'VN', 'RO', 'IL', 'ZA', 'SA', 'AE', 'BH', 'QA', 'OM', 'KW', 'EG', 'MA', 'DZ', 'TN', 'LB', 'JO', 'PS', 'IN', 'BY', 'KZ', 'MD', 'UA', 'AL', 'BA', 'HR', 'ME', 'MK', 'RS', 'SI', 'KR', 'BD', 'PK', 'LK', 'GH', 'KE', 'NG', 'TZ', 'UG', 'AG', 'AM', 'BS', 'BB', 'BZ', 'BT', 'BW', 'BF', 'CV', 'CW', 'DM', 'FJ', 'GM', 'GE', 'GD', 'GW', 'GY', 'HT', 'JM', 'KI', 'LS', 'LR', 'MW', 'MV', 'ML', 'MH', 'FM', 'NA', 'NR', 'NE', 'PW', 'PG', 'PR', 'WS', 'SM', 'ST', 'SN', 'SC', 'SL', 'SB', 'KN', 'LC', 'VC', 'SR', 'TL', 'TO', 'TT', 'TV', 'VU', 'AZ', 'BN', 'BI', 'KH', 'CM', 'TD', 'KM', 'GQ', 'SZ', 'GA', 'GN', 'KG', 'LA', 'MO', 'MR', 'MN', 'NP', 'RW', 'TG', 'UZ', 'ZW', 'BJ', 'MG', 'MU', 'MZ', 'AO', 'CI', 'DJ', 'ZM', 'CD', 'CG', 'IQ', 'LY', 'TJ', 'VE', 'ET', 'XK'], 'type': 'album', 'album_type': 'album', 'href': 'https://api.spotify.com/v1/albums/2qo8j9yZIsx66yDuUho2jp', 'id': '2qo8j9yZIsx66yDuUho2jp', 'images': [{'height': 640, 'url': 'https://i.scdn.co/image/ab67616d0000b273bfb94590c914538b193f6931', 'width': 640}, {'height': 300, 'url': 'https://i.scdn.co/image/ab67616d00001e02bfb94590c914538b193f6931', 'width': 300}, {'height': 64, 'url': 'https://i.scdn.co/image/ab67616d00004851bfb94590c914538b193f6931', 'width': 64}], 'name': '.mp3', 'release_date': '2023-11-03', 'release_date_precision': 'day', 'uri': 'spotify:album:2qo8j9yZIsx66yDuUho2jp', 'artists': [{'external_urls': {'spotify': 'https://open.spotify.com/artist/0AqlFI0tz2DsEoJlKSIiT9'}, 'href': 'https://api.spotify.com/v1/artists/0AqlFI0tz2DsEoJlKSIiT9', 'id': '0AqlFI0tz2DsEoJlKSIiT9', 'name': 'Emilia', 'type': 'artist', 'uri': 'spotify:artist:0AqlFI0tz2DsEoJlKSIiT9'}], 'external_urls': {'spotify': 'https://open.spotify.com/album/2qo8j9yZIsx66yDuUho2jp'}, 'total_tracks': 13}, 'artists': [{'external_urls': {'spotify': 'https://open.spotify.com/artist/0AqlFI0tz2DsEoJlKSIiT9'}, 'href': 'https://api.spotify.com/v1/artists/0AqlFI0tz2DsEoJlKSIiT9', 'id': '0AqlFI0tz2DsEoJlKSIiT9', 'name': 'Emilia', 'type': 'artist', 'uri': 'spotify:artist:0AqlFI0tz2DsEoJlKSIiT9'}], 'disc_number': 1, 'track_number': 4, 'duration_ms': 181043, 'external_ids': {'isrc': 'USSD12300583'}, 'external_urls': {'spotify': 'https://open.spotify.com/track/6ZVLfXr015ogdhov4FW4pG'}, 'href': 'https://api.spotify.com/v1/tracks/6ZVLfXr015ogdhov4FW4pG', 'id': '6ZVLfXr015ogdhov4FW4pG', 'name': 'IConic.mp3', 'popularity': 65, 'uri': 'spotify:track:6ZVLfXr015ogdhov4FW4pG', 'is_local': False}, 'video_thumbnail': {'url': None}}, {'added_at': '1970-01-01T00:00:00Z', 'added_by': {'external_urls': {'spotify': 'https://open.spotify.com/user/'}, 'href': 'https://api.spotify.com/v1/users/', 'id': '', 'type': 'user', 'uri': 'spotify:user:'}, 'is_local': False, 'primary_color': None, 'track': {'preview_url': 'https://p.scdn.co/mp3-preview/51a6ef1f3ce46906c5e405e55f5883c38cd04994?cid=5236f001113d42aa982409f077a7d5a7', 'available_markets': ['AR', 'AU', 'AT', 'BE', 'BO', 'BR', 'BG', 'CA', 'CL', 'CO', 'CR', 'CY', 'CZ', 'DK', 'DO', 'DE', 'EC', 'EE', 'SV', 'FI', 'FR', 'GR', 'GT', 'HN', 'HK', 'HU', 'IS', 'IE', 'IT', 'LV', 'LT', 'LU', 'MY', 'MT', 'MX', 'NL', 'NZ', 'NI', 'NO', 'PA', 'PY', 'PE', 'PH', 'PL', 'PT', 'SG', 'SK', 'ES', 'SE', 'CH', 'TW', 'TR', 'UY', 'US', 'GB', 'AD', 'LI', 'MC', 'ID', 'JP', 'TH', 'VN', 'RO', 'IL', 'ZA', 'SA', 'AE', 'BH', 'QA', 'OM', 'KW', 'EG', 'MA', 'DZ', 'TN', 'LB', 'JO', 'PS', 'IN', 'BY', 'KZ', 'MD', 'UA', 'AL', 'BA', 'HR', 'ME', 'MK', 'RS', 'SI', 'KR', 'BD', 'PK', 'LK', 'GH', 'KE', 'NG', 'TZ', 'UG', 'AG', 'AM', 'BS', 'BB', 'BZ', 'BT', 'BW', 'BF', 'CV', 'CW', 'DM', 'FJ', 'GM', 'GE', 'GD', 'GW', 'GY', 'HT', 'JM', 'KI', 'LS', 'LR', 'MW', 'MV', 'ML', 'MH', 'FM', 'NA', 'NR', 'NE', 'PW', 'PG', 'PR', 'WS', 'SM', 'ST', 'SN', 'SC', 'SL', 'SB', 'KN', 'LC', 'VC', 'SR', 'TL', 'TO', 'TT', 'TV', 'VU', 'AZ', 'BN', 'BI', 'KH', 'CM', 'TD', 'KM', 'GQ', 'SZ', 'GA', 'GN', 'KG', 'LA', 'MO', 'MR', 'MN', 'NP', 'RW', 'TG', 'UZ', 'ZW', 'BJ', 'MG', 'MU', 'MZ', 'AO', 'CI', 'DJ', 'ZM', 'CD', 'CG', 'IQ', 'LY', 'TJ', 'VE', 'ET', 'XK'], 'explicit': False, 'type': 'track', 'episode': False, 'track': True, 'album': {'available_markets': ['AR', 'AU', 'AT', 'BE', 'BO', 'BR', 'BG', 'CA', 'CL', 'CO', 'CR', 'CY', 'CZ', 'DK', 'DO', 'DE', 'EC', 'EE', 'SV', 'FI', 'FR', 'GR', 'GT', 'HN', 'HK', 'HU', 'IS', 'IE', 'IT', 'LV', 'LT', 'LU', 'MY', 'MT', 'MX', 'NL', 'NZ', 'NI', 'NO', 'PA', 'PY', 'PE', 'PH', 'PL', 'PT', 'SG', 'SK', 'ES', 'SE', 'CH', 'TW', 'TR', 'UY', 'US', 'GB', 'AD', 'LI', 'MC', 'ID', 'JP', 'TH', 'VN', 'RO', 'IL', 'ZA', 'SA', 'AE', 'BH', 'QA', 'OM', 'KW', 'EG', 'MA', 'DZ', 'TN', 'LB', 'JO', 'PS', 'IN', 'BY', 'KZ', 'MD', 'UA', 'AL', 'BA', 'HR', 'ME', 'MK', 'RS', 'SI', 'KR', 'BD', 'PK', 'LK', 'GH', 'KE', 'NG', 'TZ', 'UG', 'AG', 'AM', 'BS', 'BB', 'BZ', 'BT', 'BW', 'BF', 'CV', 'CW', 'DM', 'FJ', 'GM', 'GE', 'GD', 'GW', 'GY', 'HT', 'JM', 'KI', 'LS', 'LR', 'MW', 'MV', 'ML', 'MH', 'FM', 'NA', 'NR', 'NE', 'PW', 'PG', 'PR', 'WS', 'SM', 'ST', 'SN', 'SC', 'SL', 'SB', 'KN', 'LC', 'VC', 'SR', 'TL', 'TO', 'TT', 'TV', 'VU', 'AZ', 'BN', 'BI', 'KH', 'CM', 'TD', 'KM', 'GQ', 'SZ', 'GA', 'GN', 'KG', 'LA', 'MO', 'MR', 'MN', 'NP', 'RW', 'TG', 'UZ', 'ZW', 'BJ', 'MG', 'MU', 'MZ', 'AO', 'CI', 'DJ', 'ZM', 'CD', 'CG', 'IQ', 'LY', 'TJ', 'VE', 'ET', 'XK'], 'type': 'album', 'album_type': 'single', 'href': 'https://api.spotify.com/v1/albums/7wrDNMoSx249yOV0xFdRzn', 'id': '7wrDNMoSx249yOV0xFdRzn', 'images': [{'height': 640, 'url': 'https://i.scdn.co/image/ab67616d0000b2730333f8593a30bf6bbf4e8480', 'width': 640}, {'height': 300, 'url': 'https://i.scdn.co/image/ab67616d00001e020333f8593a30bf6bbf4e8480', 'width': 300}, {'height': 64, 'url': 'https://i.scdn.co/image/ab67616d000048510333f8593a30bf6bbf4e8480', 'width': 64}], 'name': 'rápido lento', 'release_date': '2021-09-30', 'release_date_precision': 'day', 'uri': 'spotify:album:7wrDNMoSx249yOV0xFdRzn', 'artists': [{'external_urls': {'spotify': 'https://open.spotify.com/artist/0AqlFI0tz2DsEoJlKSIiT9'}, 'href': 'https://api.spotify.com/v1/artists/0AqlFI0tz2DsEoJlKSIiT9', 'id': '0AqlFI0tz2DsEoJlKSIiT9', 'name': 'Emilia', 'type': 'artist', 'uri': 'spotify:artist:0AqlFI0tz2DsEoJlKSIiT9'}, {'external_urls': {'spotify': 'https://open.spotify.com/artist/5Y3MV9DZ0d87NnVm56qSY1'}, 'href': 'https://api.spotify.com/v1/artists/5Y3MV9DZ0d87NnVm56qSY1', 'id': '5Y3MV9DZ0d87NnVm56qSY1', 'name': 'Tiago PZK', 'type': 'artist', 'uri': 'spotify:artist:5Y3MV9DZ0d87NnVm56qSY1'}], 'external_urls': {'spotify': 'https://open.spotify.com/album/7wrDNMoSx249yOV0xFdRzn'}, 'total_tracks': 1}, 'artists': [{'external_urls': {'spotify': 'https://open.spotify.com/artist/0AqlFI0tz2DsEoJlKSIiT9'}, 'href': 'https://api.spotify.com/v1/artists/0AqlFI0tz2DsEoJlKSIiT9', 'id': '0AqlFI0tz2DsEoJlKSIiT9', 'name': 'Emilia', 'type': 'artist', 'uri': 'spotify:artist:0AqlFI0tz2DsEoJlKSIiT9'}, {'external_urls': {'spotify': 'https://open.spotify.com/artist/5Y3MV9DZ0d87NnVm56qSY1'}, 'href': 'https://api.spotify.com/v1/artists/5Y3MV9DZ0d87NnVm56qSY1', 'id': '5Y3MV9DZ0d87NnVm56qSY1', 'name': 'Tiago PZK', 'type': 'artist', 'uri': 'spotify:artist:5Y3MV9DZ0d87NnVm56qSY1'}], 'disc_number': 1, 'track_number': 1, 'duration_ms': 213000, 'external_ids': {'isrc': 'USSD12100692'}, 'external_urls': {'spotify': 'https://open.spotify.com/track/4xv2A022v5A8nyewDkYOkQ'}, 'href': 'https://api.spotify.com/v1/tracks/4xv2A022v5A8nyewDkYOkQ', 'id': '4xv2A022v5A8nyewDkYOkQ', 'name': 'rápido lento', 'popularity': 57, 'uri': 'spotify:track:4xv2A022v5A8nyewDkYOkQ', 'is_local': False}, 'video_thumbnail': {'url': None}}, {'added_at': '1970-01-01T00:00:00Z', 'added_by': {'external_urls': {'spotify': 'https://open.spotify.com/user/'}, 'href': 'https://api.spotify.com/v1/users/', 'id': '', 'type': 'user', 'uri': 'spotify:user:'}, 'is_local': False, 'primary_color': None, 'track': {'preview_url': 'https://p.scdn.co/mp3-preview/2fa295a564c9d14da4daf0baf336f3bab0a11e10?cid=5236f001113d42aa982409f077a7d5a7', 'available_markets': ['AR', 'AU', 'AT', 'BE', 'BO', 'BR', 'BG', 'CA', 'CL', 'CO', 'CR', 'CY', 'CZ', 'DK', 'DO', 'DE', 'EC', 'EE', 'SV', 'FI', 'FR', 'GR', 'GT', 'HN', 'HK', 'HU', 'IS', 'IE', 'IT', 'LV', 'LT', 'LU', 'MY', 'MT', 'MX', 'NL', 'NZ', 'NI', 'NO', 'PA', 'PY', 'PE', 'PH', 'PL', 'PT', 'SG', 'SK', 'ES', 'SE', 'CH', 'TW', 'TR', 'UY', 'US', 'GB', 'AD', 'LI', 'MC', 'ID', 'JP', 'TH', 'VN', 'RO', 'IL', 'ZA', 'SA', 'AE', 'BH', 'QA', 'OM', 'KW', 'EG', 'MA', 'DZ', 'TN', 'LB', 'JO', 'PS', 'IN', 'BY', 'KZ', 'MD', 'UA', 'AL', 'BA', 'HR', 'ME', 'MK', 'RS', 'SI', 'KR', 'BD', 'PK', 'LK', 'GH', 'KE', 'NG', 'TZ', 'UG', 'AG', 'AM', 'BS', 'BB', 'BZ', 'BT', 'BW', 'BF', 'CV', 'CW', 'DM', 'FJ', 'GM', 'GE', 'GD', 'GW', 'GY', 'HT', 'JM', 'KI', 'LS', 'LR', 'MW', 'MV', 'ML', 'MH', 'FM', 'NA', 'NR', 'NE', 'PW', 'PG', 'PR', 'WS', 'SM', 'ST', 'SN', 'SC', 'SL', 'SB', 'KN', 'LC', 'VC', 'SR', 'TL', 'TO', 'TT', 'TV', 'VU', 'AZ', 'BN', 'BI', 'KH', 'CM', 'TD', 'KM', 'GQ', 'SZ', 'GA', 'GN', 'KG', 'LA', 'MO', 'MR', 'MN', 'NP', 'RW', 'TG', 'UZ', 'ZW', 'BJ', 'MG', 'MU', 'MZ', 'AO', 'CI', 'DJ', 'ZM', 'CD', 'CG', 'IQ', 'LY', 'TJ', 'VE', 'ET', 'XK'], 'explicit': False, 'type': 'track', 'episode': False, 'track': True, 'album': {'available_markets': ['AR', 'AU', 'AT', 'BE', 'BO', 'BR', 'BG', 'CA', 'CL', 'CO', 'CR', 'CY', 'CZ', 'DK', 'DO', 'DE', 'EC', 'EE', 'SV', 'FI', 'FR', 'GR', 'GT', 'HN', 'HK', 'HU', 'IS', 'IE', 'IT', 'LV', 'LT', 'LU', 'MY', 'MT', 'MX', 'NL', 'NZ', 'NI', 'NO', 'PA', 'PY', 'PE', 'PH', 'PL', 'PT', 'SG', 'SK', 'ES', 'SE', 'CH', 'TW', 'TR', 'UY', 'US', 'GB', 'AD', 'LI', 'MC', 'ID', 'JP', 'TH', 'VN', 'RO', 'IL', 'ZA', 'SA', 'AE', 'BH', 'QA', 'OM', 'KW', 'EG', 'MA', 'DZ', 'TN', 'LB', 'JO', 'PS', 'IN', 'BY', 'KZ', 'MD', 'UA', 'AL', 'BA', 'HR', 'ME', 'MK', 'RS', 'SI', 'KR', 'BD', 'PK', 'LK', 'GH', 'KE', 'NG', 'TZ', 'UG', 'AG', 'AM', 'BS', 'BB', 'BZ', 'BT', 'BW', 'BF', 'CV', 'CW', 'DM', 'FJ', 'GM', 'GE', 'GD', 'GW', 'GY', 'HT', 'JM', 'KI', 'LS', 'LR', 'MW', 'MV', 'ML', 'MH', 'FM', 'NA', 'NR', 'NE', 'PW', 'PG', 'PR', 'WS', 'SM', 'ST', 'SN', 'SC', 'SL', 'SB', 'KN', 'LC', 'VC', 'SR', 'TL', 'TO', 'TT', 'TV', 'VU', 'AZ', 'BN', 'BI', 'KH', 'CM', 'TD', 'KM', 'GQ', 'SZ', 'GA', 'GN', 'KG', 'LA', 'MO', 'MR', 'MN', 'NP', 'RW', 'TG', 'UZ', 'ZW', 'BJ', 'MG', 'MU', 'MZ', 'AO', 'CI', 'DJ', 'ZM', 'CD', 'CG', 'IQ', 'LY', 'TJ', 'VE', 'ET', 'XK'], 'type': 'album', 'album_type': 'album', 'href': 'https://api.spotify.com/v1/albums/4wVrfNzE3Dab7EB1Xn6SHo', 'id': '4wVrfNzE3Dab7EB1Xn6SHo', 'images': [{'height': 640, 'url': 'https://i.scdn.co/image/ab67616d0000b273ec3aedff4bde61b335ed6961', 'width': 640}, {'height': 300, 'url': 'https://i.scdn.co/image/ab67616d00001e02ec3aedff4bde61b335ed6961', 'width': 300}, {'height': 64, 'url': 'https://i.scdn.co/image/ab67616d00004851ec3aedff4bde61b335ed6961', 'width': 64}], 'name': 'Tú crees en mí?', 'release_date': '2022-05-31', 'release_date_precision': 'day', 'uri': 'spotify:album:4wVrfNzE3Dab7EB1Xn6SHo', 'artists': [{'external_urls': {'spotify': 'https://open.spotify.com/artist/0AqlFI0tz2DsEoJlKSIiT9'}, 'href': 'https://api.spotify.com/v1/artists/0AqlFI0tz2DsEoJlKSIiT9', 'id': '0AqlFI0tz2DsEoJlKSIiT9', 'name': 'Emilia', 'type': 'artist', 'uri': 'spotify:artist:0AqlFI0tz2DsEoJlKSIiT9'}], 'external_urls': {'spotify': 'https://open.spotify.com/album/4wVrfNzE3Dab7EB1Xn6SHo'}, 'total_tracks': 8}, 'artists': [{'external_urls': {'spotify': 'https://open.spotify.com/artist/0AqlFI0tz2DsEoJlKSIiT9'}, 'href': 'https://api.spotify.com/v1/artists/0AqlFI0tz2DsEoJlKSIiT9', 'id': '0AqlFI0tz2DsEoJlKSIiT9', 'name': 'Emilia', 'type': 'artist', 'uri': 'spotify:artist:0AqlFI0tz2DsEoJlKSIiT9'}], 'disc_number': 1, 'track_number': 5, 'duration_ms': 166714, 'external_ids': {'isrc': 'USSD12200285'}, 'external_urls': {'spotify': 'https://open.spotify.com/track/2Cna21irIvinVSJdGda8Om'}, 'href': 'https://api.spotify.com/v1/tracks/2Cna21irIvinVSJdGda8Om', 'id': '2Cna21irIvinVSJdGda8Om', 'name': 'mi otra mitad', 'popularity': 55, 'uri': 'spotify:track:2Cna21irIvinVSJdGda8Om', 'is_local': False}, 'video_thumbnail': {'url': None}}, {'added_at': '1970-01-01T00:00:00Z', 'added_by': {'external_urls': {'spotify': 'https://open.spotify.com/user/'}, 'href': 'https://api.spotify.com/v1/users/', 'id': '', 'type': 'user', 'uri': 'spotify:user:'}, 'is_local': False, 'primary_color': None, 'track': {'preview_url': 'https://p.scdn.co/mp3-preview/a9877dcca5ab29ffa403db8062bb7e7e1f89b8d4?cid=5236f001113d42aa982409f077a7d5a7', 'available_markets': ['AR', 'AU', 'AT', 'BE', 'BO', 'BR', 'BG', 'CA', 'CL', 'CO', 'CR', 'CY', 'CZ', 'DK', 'DO', 'DE', 'EC', 'EE', 'SV', 'FI', 'FR', 'GR', 'GT', 'HN', 'HK', 'HU', 'IS', 'IE', 'IT', 'LV', 'LT', 'LU', 'MY', 'MT', 'MX', 'NL', 'NZ', 'NI', 'NO', 'PA', 'PY', 'PE', 'PH', 'PL', 'PT', 'SG', 'SK', 'ES', 'SE', 'CH', 'TW', 'TR', 'UY', 'US', 'GB', 'AD', 'LI', 'MC', 'ID', 'JP', 'TH', 'VN', 'RO', 'IL', 'ZA', 'SA', 'AE', 'BH', 'QA', 'OM', 'KW', 'EG', 'MA', 'DZ', 'TN', 'LB', 'JO', 'PS', 'IN', 'BY', 'KZ', 'MD', 'UA', 'AL', 'BA', 'HR', 'ME', 'MK', 'RS', 'SI', 'KR', 'BD', 'PK', 'LK', 'GH', 'KE', 'NG', 'TZ', 'UG', 'AG', 'AM', 'BS', 'BB', 'BZ', 'BT', 'BW', 'BF', 'CV', 'CW', 'DM', 'FJ', 'GM', 'GE', 'GD', 'GW', 'GY', 'HT', 'JM', 'KI', 'LS', 'LR', 'MW', 'MV', 'ML', 'MH', 'FM', 'NA', 'NR', 'NE', 'PW', 'PG', 'PR', 'WS', 'SM', 'ST', 'SN', 'SC', 'SL', 'SB', 'KN', 'LC', 'VC', 'SR', 'TL', 'TO', 'TT', 'TV', 'VU', 'AZ', 'BN', 'BI', 'KH', 'CM', 'TD', 'KM', 'GQ', 'SZ', 'GA', 'GN', 'KG', 'LA', 'MO', 'MR', 'MN', 'NP', 'RW', 'TG', 'UZ', 'ZW', 'BJ', 'MG', 'MU', 'MZ', 'AO', 'CI', 'DJ', 'ZM', 'CD', 'CG', 'IQ', 'LY', 'TJ', 'VE', 'ET', 'XK'], 'explicit': False, 'type': 'track', 'episode': False, 'track': True, 'album': {'available_markets': ['AR', 'AU', 'AT', 'BE', 'BO', 'BR', 'BG', 'CA', 'CL', 'CO', 'CR', 'CY', 'CZ', 'DK', 'DO', 'DE', 'EC', 'EE', 'SV', 'FI', 'FR', 'GR', 'GT', 'HN', 'HK', 'HU', 'IS', 'IE', 'IT', 'LV', 'LT', 'LU', 'MY', 'MT', 'MX', 'NL', 'NZ', 'NI', 'NO', 'PA', 'PY', 'PE', 'PH', 'PL', 'PT', 'SG', 'SK', 'ES', 'SE', 'CH', 'TW', 'TR', 'UY', 'US', 'GB', 'AD', 'LI', 'MC', 'ID', 'JP', 'TH', 'VN', 'RO', 'IL', 'ZA', 'SA', 'AE', 'BH', 'QA', 'OM', 'KW', 'EG', 'MA', 'DZ', 'TN', 'LB', 'JO', 'PS', 'IN', 'BY', 'KZ', 'MD', 'UA', 'AL', 'BA', 'HR', 'ME', 'MK', 'RS', 'SI', 'KR', 'BD', 'PK', 'LK', 'GH', 'KE', 'NG', 'TZ', 'UG', 'AG', 'AM', 'BS', 'BB', 'BZ', 'BT', 'BW', 'BF', 'CV', 'CW', 'DM', 'FJ', 'GM', 'GE', 'GD', 'GW', 'GY', 'HT', 'JM', 'KI', 'LS', 'LR', 'MW', 'MV', 'ML', 'MH', 'FM', 'NA', 'NR', 'NE', 'PW', 'PG', 'PR', 'WS', 'SM', 'ST', 'SN', 'SC', 'SL', 'SB', 'KN', 'LC', 'VC', 'SR', 'TL', 'TO', 'TT', 'TV', 'VU', 'AZ', 'BN', 'BI', 'KH', 'CM', 'TD', 'KM', 'GQ', 'SZ', 'GA', 'GN', 'KG', 'LA', 'MO', 'MR', 'MN', 'NP', 'RW', 'TG', 'UZ', 'ZW', 'BJ', 'MG', 'MU', 'MZ', 'AO', 'CI', 'DJ', 'ZM', 'CD', 'CG', 'IQ', 'LY', 'TJ', 'VE', 'ET', 'XK'], 'type': 'album', 'album_type': 'album', 'href': 'https://api.spotify.com/v1/albums/2nLjYM4nHgWje6HrOK0mzO', 'id': '2nLjYM4nHgWje6HrOK0mzO', 'images': [{'height': 640, 'url': 'https://i.scdn.co/image/ab67616d0000b273fdd32c462cca93da5bb96b9b', 'width': 640}, {'height': 300, 'url': 'https://i.scdn.co/image/ab67616d00001e02fdd32c462cca93da5bb96b9b', 'width': 300}, {'height': 64, 'url': 'https://i.scdn.co/image/ab67616d00004851fdd32c462cca93da5bb96b9b', 'width': 64}], 'name': 'SUENA MYA!', 'release_date': '2021-11-23', 'release_date_precision': 'day', 'uri': 'spotify:album:2nLjYM4nHgWje6HrOK0mzO', 'artists': [{'external_urls': {'spotify': 'https://open.spotify.com/artist/5Rj6rNR8zIlUUDCs1OyPmW'}, 'href': 'https://api.spotify.com/v1/artists/5Rj6rNR8zIlUUDCs1OyPmW', 'id': '5Rj6rNR8zIlUUDCs1OyPmW', 'name': 'MYA', 'type': 'artist', 'uri': 'spotify:artist:5Rj6rNR8zIlUUDCs1OyPmW'}], 'external_urls': {'spotify': 'https://open.spotify.com/album/2nLjYM4nHgWje6HrOK0mzO'}, 'total_tracks': 14}, 'artists': [{'external_urls': {'spotify': 'https://open.spotify.com/artist/5Rj6rNR8zIlUUDCs1OyPmW'}, 'href': 'https://api.spotify.com/v1/artists/5Rj6rNR8zIlUUDCs1OyPmW', 'id': '5Rj6rNR8zIlUUDCs1OyPmW', 'name': 'MYA', 'type': 'artist', 'uri': 'spotify:artist:5Rj6rNR8zIlUUDCs1OyPmW'}, {'external_urls': {'spotify': 'https://open.spotify.com/artist/0AqlFI0tz2DsEoJlKSIiT9'}, 'href': 'https://api.spotify.com/v1/artists/0AqlFI0tz2DsEoJlKSIiT9', 'id': '0AqlFI0tz2DsEoJlKSIiT9', 'name': 'Emilia', 'type': 'artist', 'uri': 'spotify:artist:0AqlFI0tz2DsEoJlKSIiT9'}], 'disc_number': 1, 'track_number': 1, 'duration_ms': 156325, 'external_ids': {'isrc': 'ARF102100352'}, 'external_urls': {'spotify': 'https://open.spotify.com/track/3sVuWmggRqfAK3qk7OIEAz'}, 'href': 'https://api.spotify.com/v1/tracks/3sVuWmggRqfAK3qk7OIEAz', 'id': '3sVuWmggRqfAK3qk7OIEAz', 'name': 'BB', 'popularity': 54, 'uri': 'spotify:track:3sVuWmggRqfAK3qk7OIEAz', 'is_local': False}, 'video_thumbnail': {'url': None}}, {'added_at': '1970-01-01T00:00:00Z', 'added_by': {'external_urls': {'spotify': 'https://open.spotify.com/user/'}, 'href': 'https://api.spotify.com/v1/users/', 'id': '', 'type': 'user', 'uri': 'spotify:user:'}, 'is_local': False, 'primary_color': None, 'track': {'preview_url': 'https://p.scdn.co/mp3-preview/4d4be3ab29f24a2b6f396d0b5393e67b37f80aed?cid=5236f001113d42aa982409f077a7d5a7', 'available_markets': ['AR', 'AU', 'AT', 'BE', 'BO', 'BR', 'BG', 'CA', 'CL', 'CO', 'CR', 'CY', 'CZ', 'DK', 'DO', 'DE', 'EC', 'EE', 'SV', 'FI', 'FR', 'GR', 'GT', 'HN', 'HK', 'HU', 'IS', 'IE', 'IT', 'LV', 'LT', 'LU', 'MY', 'MT', 'MX', 'NL', 'NZ', 'NI', 'NO', 'PA', 'PY', 'PE', 'PH', 'PL', 'PT', 'SG', 'SK', 'ES', 'SE', 'CH', 'TW', 'TR', 'UY', 'US', 'GB', 'AD', 'LI', 'MC', 'ID', 'JP', 'TH', 'VN', 'RO', 'IL', 'ZA', 'SA', 'AE', 'BH', 'QA', 'OM', 'KW', 'EG', 'MA', 'DZ', 'TN', 'LB', 'JO', 'PS', 'IN', 'BY', 'KZ', 'MD', 'UA', 'AL', 'BA', 'HR', 'ME', 'MK', 'RS', 'SI', 'KR', 'BD', 'PK', 'LK', 'GH', 'KE', 'NG', 'TZ', 'UG', 'AG', 'AM', 'BS', 'BB', 'BZ', 'BT', 'BW', 'BF', 'CV', 'CW', 'DM', 'FJ', 'GM', 'GE', 'GD', 'GW', 'GY', 'HT', 'JM', 'KI', 'LS', 'LR', 'MW', 'MV', 'ML', 'MH', 'FM', 'NA', 'NR', 'NE', 'PW', 'PG', 'PR', 'WS', 'SM', 'ST', 'SN', 'SC', 'SL', 'SB', 'KN', 'LC', 'VC', 'SR', 'TL', 'TO', 'TT', 'TV', 'VU', 'AZ', 'BN', 'BI', 'KH', 'CM', 'TD', 'KM', 'GQ', 'SZ', 'GA', 'GN', 'KG', 'LA', 'MO', 'MR', 'MN', 'NP', 'RW', 'TG', 'UZ', 'ZW', 'BJ', 'MG', 'MU', 'MZ', 'AO', 'CI', 'DJ', 'ZM', 'CD', 'CG', 'IQ', 'LY', 'TJ', 'VE', 'ET', 'XK'], 'explicit': False, 'type': 'track', 'episode': False, 'track': True, 'album': {'available_markets': ['AR', 'AU', 'AT', 'BE', 'BO', 'BR', 'BG', 'CA', 'CL', 'CO', 'CR', 'CY', 'CZ', 'DK', 'DO', 'DE', 'EC', 'EE', 'SV', 'FI', 'FR', 'GR', 'GT', 'HN', 'HK', 'HU', 'IS', 'IE', 'IT', 'LV', 'LT', 'LU', 'MY', 'MT', 'MX', 'NL', 'NZ', 'NI', 'NO', 'PA', 'PY', 'PE', 'PH', 'PL', 'PT', 'SG', 'SK', 'ES', 'SE', 'CH', 'TW', 'TR', 'UY', 'US', 'GB', 'AD', 'LI', 'MC', 'ID', 'JP', 'TH', 'VN', 'RO', 'IL', 'ZA', 'SA', 'AE', 'BH', 'QA', 'OM', 'KW', 'EG', 'MA', 'DZ', 'TN', 'LB', 'JO', 'PS', 'IN', 'BY', 'KZ', 'MD', 'UA', 'AL', 'BA', 'HR', 'ME', 'MK', 'RS', 'SI', 'KR', 'BD', 'PK', 'LK', 'GH', 'KE', 'NG', 'TZ', 'UG', 'AG', 'AM', 'BS', 'BB', 'BZ', 'BT', 'BW', 'BF', 'CV', 'CW', 'DM', 'FJ', 'GM', 'GE', 'GD', 'GW', 'GY', 'HT', 'JM', 'KI', 'LS', 'LR', 'MW', 'MV', 'ML', 'MH', 'FM', 'NA', 'NR', 'NE', 'PW', 'PG', 'PR', 'WS', 'SM', 'ST', 'SN', 'SC', 'SL', 'SB', 'KN', 'LC', 'VC', 'SR', 'TL', 'TO', 'TT', 'TV', 'VU', 'AZ', 'BN', 'BI', 'KH', 'CM', 'TD', 'KM', 'GQ', 'SZ', 'GA', 'GN', 'KG', 'LA', 'MO', 'MR', 'MN', 'NP', 'RW', 'TG', 'UZ', 'ZW', 'BJ', 'MG', 'MU', 'MZ', 'AO', 'CI', 'DJ', 'ZM', 'CD', 'CG', 'IQ', 'LY', 'TJ', 'VE', 'ET', 'XK'], 'type': 'album', 'album_type': 'album', 'href': 'https://api.spotify.com/v1/albums/2qo8j9yZIsx66yDuUho2jp', 'id': '2qo8j9yZIsx66yDuUho2jp', 'images': [{'height': 640, 'url': 'https://i.scdn.co/image/ab67616d0000b273bfb94590c914538b193f6931', 'width': 640}, {'height': 300, 'url': 'https://i.scdn.co/image/ab67616d00001e02bfb94590c914538b193f6931', 'width': 300}, {'height': 64, 'url': 'https://i.scdn.co/image/ab67616d00004851bfb94590c914538b193f6931', 'width': 64}], 'name': '.mp3', 'release_date': '2023-11-03', 'release_date_precision': 'day', 'uri': 'spotify:album:2qo8j9yZIsx66yDuUho2jp', 'artists': [{'external_urls': {'spotify': 'https://open.spotify.com/artist/0AqlFI0tz2DsEoJlKSIiT9'}, 'href': 'https://api.spotify.com/v1/artists/0AqlFI0tz2DsEoJlKSIiT9', 'id': '0AqlFI0tz2DsEoJlKSIiT9', 'name': 'Emilia', 'type': 'artist', 'uri': 'spotify:artist:0AqlFI0tz2DsEoJlKSIiT9'}], 'external_urls': {'spotify': 'https://open.spotify.com/album/2qo8j9yZIsx66yDuUho2jp'}, 'total_tracks': 13}, 'artists': [{'external_urls': {'spotify': 'https://open.spotify.com/artist/0AqlFI0tz2DsEoJlKSIiT9'}, 'href': 'https://api.spotify.com/v1/artists/0AqlFI0tz2DsEoJlKSIiT9', 'id': '0AqlFI0tz2DsEoJlKSIiT9', 'name': 'Emilia', 'type': 'artist', 'uri': 'spotify:artist:0AqlFI0tz2DsEoJlKSIiT9'}], 'disc_number': 1, 'track_number': 1, 'duration_ms': 130098, 'external_ids': {'isrc': 'USSD12300581'}, 'external_urls': {'spotify': 'https://open.spotify.com/track/2QWV6LlwgXF0ZIcg4VxkUh'}, 'href': 'https://api.spotify.com/v1/tracks/2QWV6LlwgXF0ZIcg4VxkUh', 'id': '2QWV6LlwgXF0ZIcg4VxkUh', 'name': 'Facts.mp3', 'popularity': 62, 'uri': 'spotify:track:2QWV6LlwgXF0ZIcg4VxkUh', 'is_local': False}, 'video_thumbnail': {'url': None}}, {'added_at': '1970-01-01T00:00:00Z', 'added_by': {'external_urls': {'spotify': 'https://open.spotify.com/user/'}, 'href': 'https://api.spotify.com/v1/users/', 'id': '', 'type': 'user', 'uri': 'spotify:user:'}, 'is_local': False, 'primary_color': None, 'track': {'preview_url': 'https://p.scdn.co/mp3-preview/17c180eadd7af2bd3fc443a4d5e7358bea51f5a9?cid=5236f001113d42aa982409f077a7d5a7', 'available_markets': ['AR', 'AU', 'AT', 'BE', 'BO', 'BR', 'BG', 'CA', 'CL', 'CO', 'CR', 'CY', 'CZ', 'DK', 'DO', 'DE', 'EC', 'EE', 'SV', 'FI', 'FR', 'GR', 'GT', 'HN', 'HK', 'HU', 'IS', 'IE', 'IT', 'LV', 'LT', 'LU', 'MY', 'MT', 'MX', 'NL', 'NZ', 'NI', 'NO', 'PA', 'PY', 'PE', 'PH', 'PL', 'PT', 'SG', 'SK', 'ES', 'SE', 'CH', 'TW', 'TR', 'UY', 'US', 'GB', 'AD', 'LI', 'MC', 'ID', 'JP', 'TH', 'VN', 'RO', 'IL', 'ZA', 'SA', 'AE', 'BH', 'QA', 'OM', 'KW', 'EG', 'MA', 'DZ', 'TN', 'LB', 'JO', 'PS', 'IN', 'BY', 'KZ', 'MD', 'UA', 'AL', 'BA', 'HR', 'ME', 'MK', 'RS', 'SI', 'KR', 'BD', 'PK', 'LK', 'GH', 'KE', 'NG', 'TZ', 'UG', 'AG', 'AM', 'BS', 'BB', 'BZ', 'BT', 'BW', 'BF', 'CV', 'CW', 'DM', 'FJ', 'GM', 'GE', 'GD', 'GW', 'GY', 'HT', 'JM', 'KI', 'LS', 'LR', 'MW', 'MV', 'ML', 'MH', 'FM', 'NA', 'NR', 'NE', 'PW', 'PG', 'PR', 'WS', 'SM', 'ST', 'SN', 'SC', 'SL', 'SB', 'KN', 'LC', 'VC', 'SR', 'TL', 'TO', 'TT', 'TV', 'VU', 'AZ', 'BN', 'BI', 'KH', 'CM', 'TD', 'KM', 'GQ', 'SZ', 'GA', 'GN', 'KG', 'LA', 'MO', 'MR', 'MN', 'NP', 'RW', 'TG', 'UZ', 'ZW', 'BJ', 'MG', 'MU', 'MZ', 'AO', 'CI', 'DJ', 'ZM', 'CD', 'CG', 'IQ', 'LY', 'TJ', 'VE', 'ET', 'XK'], 'explicit': False, 'type': 'track', 'episode': False, 'track': True, 'album': {'available_markets': ['AR', 'AU', 'AT', 'BE', 'BO', 'BR', 'BG', 'CA', 'CL', 'CO', 'CR', 'CY', 'CZ', 'DK', 'DO', 'DE', 'EC', 'EE', 'SV', 'FI', 'FR', 'GR', 'GT', 'HN', 'HK', 'HU', 'IS', 'IE', 'IT', 'LV', 'LT', 'LU', 'MY', 'MT', 'MX', 'NL', 'NZ', 'NI', 'NO', 'PA', 'PY', 'PE', 'PH', 'PL', 'PT', 'SG', 'SK', 'ES', 'SE', 'CH', 'TW', 'TR', 'UY', 'US', 'GB', 'AD', 'LI', 'MC', 'ID', 'JP', 'TH', 'VN', 'RO', 'IL', 'ZA', 'SA', 'AE', 'BH', 'QA', 'OM', 'KW', 'EG', 'MA', 'DZ', 'TN', 'LB', 'JO', 'PS', 'IN', 'BY', 'KZ', 'MD', 'UA', 'AL', 'BA', 'HR', 'ME', 'MK', 'RS', 'SI', 'KR', 'BD', 'PK', 'LK', 'GH', 'KE', 'NG', 'TZ', 'UG', 'AG', 'AM', 'BS', 'BB', 'BZ', 'BT', 'BW', 'BF', 'CV', 'CW', 'DM', 'FJ', 'GM', 'GE', 'GD', 'GW', 'GY', 'HT', 'JM', 'KI', 'LS', 'LR', 'MW', 'MV', 'ML', 'MH', 'FM', 'NA', 'NR', 'NE', 'PW', 'PG', 'PR', 'WS', 'SM', 'ST', 'SN', 'SC', 'SL', 'SB', 'KN', 'LC', 'VC', 'SR', 'TL', 'TO', 'TT', 'TV', 'VU', 'AZ', 'BN', 'BI', 'KH', 'CM', 'TD', 'KM', 'GQ', 'SZ', 'GA', 'GN', 'KG', 'LA', 'MO', 'MR', 'MN', 'NP', 'RW', 'TG', 'UZ', 'ZW', 'BJ', 'MG', 'MU', 'MZ', 'AO', 'CI', 'DJ', 'ZM', 'CD', 'CG', 'IQ', 'LY', 'TJ', 'VE', 'ET', 'XK'], 'type': 'album', 'album_type': 'single', 'href': 'https://api.spotify.com/v1/albums/6y5L7zU8rOw5f3Lywj1CPl', 'id': '6y5L7zU8rOw5f3Lywj1CPl', 'images': [{'height': 640, 'url': 'https://i.scdn.co/image/ab67616d0000b273a9bf7768ec0da0717efc40af', 'width': 640}, {'height': 300, 'url': 'https://i.scdn.co/image/ab67616d00001e02a9bf7768ec0da0717efc40af', 'width': 300}, {'height': 64, 'url': 'https://i.scdn.co/image/ab67616d00004851a9bf7768ec0da0717efc40af', 'width': 64}], 'name': 'De Enero a Diciembre', 'release_date': '2021-12-15', 'release_date_precision': 'day', 'uri': 'spotify:album:6y5L7zU8rOw5f3Lywj1CPl', 'artists': [{'external_urls': {'spotify': 'https://open.spotify.com/artist/0AqlFI0tz2DsEoJlKSIiT9'}, 'href': 'https://api.spotify.com/v1/artists/0AqlFI0tz2DsEoJlKSIiT9', 'id': '0AqlFI0tz2DsEoJlKSIiT9', 'name': 'Emilia', 'type': 'artist', 'uri': 'spotify:artist:0AqlFI0tz2DsEoJlKSIiT9'}, {'external_urls': {'spotify': 'https://open.spotify.com/artist/3Apb2lGmGJaBmr0TTBJvIZ'}, 'href': 'https://api.spotify.com/v1/artists/3Apb2lGmGJaBmr0TTBJvIZ', 'id': '3Apb2lGmGJaBmr0TTBJvIZ', 'name': 'Rusherking', 'type': 'artist', 'uri': 'spotify:artist:3Apb2lGmGJaBmr0TTBJvIZ'}], 'external_urls': {'spotify': 'https://open.spotify.com/album/6y5L7zU8rOw5f3Lywj1CPl'}, 'total_tracks': 1}, 'artists': [{'external_urls': {'spotify': 'https://open.spotify.com/artist/0AqlFI0tz2DsEoJlKSIiT9'}, 'href': 'https://api.spotify.com/v1/artists/0AqlFI0tz2DsEoJlKSIiT9', 'id': '0AqlFI0tz2DsEoJlKSIiT9', 'name': 'Emilia', 'type': 'artist', 'uri': 'spotify:artist:0AqlFI0tz2DsEoJlKSIiT9'}, {'external_urls': {'spotify': 'https://open.spotify.com/artist/3Apb2lGmGJaBmr0TTBJvIZ'}, 'href': 'https://api.spotify.com/v1/artists/3Apb2lGmGJaBmr0TTBJvIZ', 'id': '3Apb2lGmGJaBmr0TTBJvIZ', 'name': 'Rusherking', 'type': 'artist', 'uri': 'spotify:artist:3Apb2lGmGJaBmr0TTBJvIZ'}], 'disc_number': 1, 'track_number': 1, 'duration_ms': 164289, 'external_ids': {'isrc': 'USSD12100883'}, 'external_urls': {'spotify': 'https://open.spotify.com/track/1p22yVi9e8DT6BEUvOZ0TL'}, 'href': 'https://api.spotify.com/v1/tracks/1p22yVi9e8DT6BEUvOZ0TL', 'id': '1p22yVi9e8DT6BEUvOZ0TL', 'name': 'De Enero a Diciembre', 'popularity': 55, 'uri': 'spotify:track:1p22yVi9e8DT6BEUvOZ0TL', 'is_local': False}, 'video_thumbnail': {'url': None}}, {'added_at': '1970-01-01T00:00:00Z', 'added_by': {'external_urls': {'spotify': 'https://open.spotify.com/user/'}, 'href': 'https://api.spotify.com/v1/users/', 'id': '', 'type': 'user', 'uri': 'spotify:user:'}, 'is_local': False, 'primary_color': None, 'track': {'preview_url': 'https://p.scdn.co/mp3-preview/64a25f4eda0a9c902acd644fd6844142f3f07ea4?cid=5236f001113d42aa982409f077a7d5a7', 'available_markets': ['AR', 'AU', 'AT', 'BE', 'BO', 'BR', 'BG', 'CA', 'CL', 'CO', 'CR', 'CY', 'CZ', 'DK', 'DO', 'DE', 'EC', 'EE', 'SV', 'FI', 'FR', 'GR', 'GT', 'HN', 'HK', 'HU', 'IS', 'IE', 'IT', 'LV', 'LT', 'LU', 'MY', 'MT', 'MX', 'NL', 'NZ', 'NI', 'NO', 'PA', 'PY', 'PE', 'PH', 'PL', 'PT', 'SG', 'SK', 'ES', 'SE', 'CH', 'TW', 'TR', 'UY', 'US', 'GB', 'AD', 'LI', 'MC', 'ID', 'JP', 'TH', 'VN', 'RO', 'IL', 'ZA', 'SA', 'AE', 'BH', 'QA', 'OM', 'KW', 'EG', 'MA', 'DZ', 'TN', 'LB', 'JO', 'PS', 'IN', 'BY', 'KZ', 'MD', 'UA', 'AL', 'BA', 'HR', 'ME', 'MK', 'RS', 'SI', 'KR', 'BD', 'PK', 'LK', 'GH', 'KE', 'NG', 'TZ', 'UG', 'AG', 'AM', 'BS', 'BB', 'BZ', 'BT', 'BW', 'BF', 'CV', 'CW', 'DM', 'FJ', 'GM', 'GE', 'GD', 'GW', 'GY', 'HT', 'JM', 'KI', 'LS', 'LR', 'MW', 'MV', 'ML', 'MH', 'FM', 'NA', 'NR', 'NE', 'PW', 'PG', 'PR', 'WS', 'SM', 'ST', 'SN', 'SC', 'SL', 'SB', 'KN', 'LC', 'VC', 'SR', 'TL', 'TO', 'TT', 'TV', 'VU', 'AZ', 'BN', 'BI', 'KH', 'CM', 'TD', 'KM', 'GQ', 'SZ', 'GA', 'GN', 'KG', 'LA', 'MO', 'MR', 'MN', 'NP', 'RW', 'TG', 'UZ', 'ZW', 'BJ', 'MG', 'MU', 'MZ', 'AO', 'CI', 'DJ', 'ZM', 'CD', 'CG', 'IQ', 'LY', 'TJ', 'VE', 'ET', 'XK'], 'explicit': False, 'type': 'track', 'episode': False, 'track': True, 'album': {'available_markets': ['AR', 'AU', 'AT', 'BE', 'BO', 'BR', 'BG', 'CA', 'CL', 'CO', 'CR', 'CY', 'CZ', 'DK', 'DO', 'DE', 'EC', 'EE', 'SV', 'FI', 'FR', 'GR', 'GT', 'HN', 'HK', 'HU', 'IS', 'IE', 'IT', 'LV', 'LT', 'LU', 'MY', 'MT', 'MX', 'NL', 'NZ', 'NI', 'NO', 'PA', 'PY', 'PE', 'PH', 'PL', 'PT', 'SG', 'SK', 'ES', 'SE', 'CH', 'TW', 'TR', 'UY', 'US', 'GB', 'AD', 'LI', 'MC', 'ID', 'JP', 'TH', 'VN', 'RO', 'IL', 'ZA', 'SA', 'AE', 'BH', 'QA', 'OM', 'KW', 'EG', 'MA', 'DZ', 'TN', 'LB', 'JO', 'PS', 'IN', 'BY', 'KZ', 'MD', 'UA', 'AL', 'BA', 'HR', 'ME', 'MK', 'RS', 'SI', 'KR', 'BD', 'PK', 'LK', 'GH', 'KE', 'NG', 'TZ', 'UG', 'AG', 'AM', 'BS', 'BB', 'BZ', 'BT', 'BW', 'BF', 'CV', 'CW', 'DM', 'FJ', 'GM', 'GE', 'GD', 'GW', 'GY', 'HT', 'JM', 'KI', 'LS', 'LR', 'MW', 'MV', 'ML', 'MH', 'FM', 'NA', 'NR', 'NE', 'PW', 'PG', 'PR', 'WS', 'SM', 'ST', 'SN', 'SC', 'SL', 'SB', 'KN', 'LC', 'VC', 'SR', 'TL', 'TO', 'TT', 'TV', 'VU', 'AZ', 'BN', 'BI', 'KH', 'CM', 'TD', 'KM', 'GQ', 'SZ', 'GA', 'GN', 'KG', 'LA', 'MO', 'MR', 'MN', 'NP', 'RW', 'TG', 'UZ', 'ZW', 'BJ', 'MG', 'MU', 'MZ', 'AO', 'CI', 'DJ', 'ZM', 'CD', 'CG', 'IQ', 'LY', 'TJ', 'VE', 'ET', 'XK'], 'type': 'album', 'album_type': 'album', 'href': 'https://api.spotify.com/v1/albums/4wVrfNzE3Dab7EB1Xn6SHo', 'id': '4wVrfNzE3Dab7EB1Xn6SHo', 'images': [{'height': 640, 'url': 'https://i.scdn.co/image/ab67616d0000b273ec3aedff4bde61b335ed6961', 'width': 640}, {'height': 300, 'url': 'https://i.scdn.co/image/ab67616d00001e02ec3aedff4bde61b335ed6961', 'width': 300}, {'height': 64, 'url': 'https://i.scdn.co/image/ab67616d00004851ec3aedff4bde61b335ed6961', 'width': 64}], 'name': 'Tú crees en mí?', 'release_date': '2022-05-31', 'release_date_precision': 'day', 'uri': 'spotify:album:4wVrfNzE3Dab7EB1Xn6SHo', 'artists': [{'external_urls': {'spotify': 'https://open.spotify.com/artist/0AqlFI0tz2DsEoJlKSIiT9'}, 'href': 'https://api.spotify.com/v1/artists/0AqlFI0tz2DsEoJlKSIiT9', 'id': '0AqlFI0tz2DsEoJlKSIiT9', 'name': 'Emilia', 'type': 'artist', 'uri': 'spotify:artist:0AqlFI0tz2DsEoJlKSIiT9'}], 'external_urls': {'spotify': 'https://open.spotify.com/album/4wVrfNzE3Dab7EB1Xn6SHo'}, 'total_tracks': 8}, 'artists': [{'external_urls': {'spotify': 'https://open.spotify.com/artist/0AqlFI0tz2DsEoJlKSIiT9'}, 'href': 'https://api.spotify.com/v1/artists/0AqlFI0tz2DsEoJlKSIiT9', 'id': '0AqlFI0tz2DsEoJlKSIiT9', 'name': 'Emilia', 'type': 'artist', 'uri': 'spotify:artist:0AqlFI0tz2DsEoJlKSIiT9'}], 'disc_number': 1, 'track_number': 6, 'duration_ms': 165959, 'external_ids': {'isrc': 'USSD12200286'}, 'external_urls': {'spotify': 'https://open.spotify.com/track/5hgjF68xugLDOyLSjfe8QN'}, 'href': 'https://api.spotify.com/v1/tracks/5hgjF68xugLDOyLSjfe8QN', 'id': '5hgjF68xugLDOyLSjfe8QN', 'name': 'la balada', 'popularity': 54, 'uri': 'spotify:track:5hgjF68xugLDOyLSjfe8QN', 'is_local': False}, 'video_thumbnail': {'url': None}}, {'added_at': '1970-01-01T00:00:00Z', 'added_by': {'external_urls': {'spotify': 'https://open.spotify.com/user/'}, 'href': 'https://api.spotify.com/v1/users/', 'id': '', 'type': 'user', 'uri': 'spotify:user:'}, 'is_local': False, 'primary_color': None, 'track': {'preview_url': 'https://p.scdn.co/mp3-preview/883ed3973ea43d5ddeef2037f3ca8b157c1ca452?cid=5236f001113d42aa982409f077a7d5a7', 'available_markets': ['AR', 'AU', 'AT', 'BE', 'BO', 'BR', 'BG', 'CA', 'CL', 'CO', 'CR', 'CY', 'CZ', 'DK', 'DO', 'DE', 'EC', 'EE', 'SV', 'FI', 'FR', 'GR', 'GT', 'HN', 'HK', 'HU', 'IS', 'IE', 'IT', 'LV', 'LT', 'LU', 'MY', 'MT', 'MX', 'NL', 'NZ', 'NI', 'NO', 'PA', 'PY', 'PE', 'PH', 'PL', 'PT', 'SG', 'SK', 'ES', 'SE', 'CH', 'TW', 'TR', 'UY', 'US', 'GB', 'AD', 'LI', 'MC', 'ID', 'JP', 'TH', 'VN', 'RO', 'IL', 'ZA', 'SA', 'AE', 'BH', 'QA', 'OM', 'KW', 'EG', 'MA', 'DZ', 'TN', 'LB', 'JO', 'PS', 'IN', 'BY', 'KZ', 'MD', 'UA', 'AL', 'BA', 'HR', 'ME', 'MK', 'RS', 'SI', 'KR', 'BD', 'PK', 'LK', 'GH', 'KE', 'NG', 'TZ', 'UG', 'AG', 'AM', 'BS', 'BB', 'BZ', 'BT', 'BW', 'BF', 'CV', 'CW', 'DM', 'FJ', 'GM', 'GE', 'GD', 'GW', 'GY', 'HT', 'JM', 'KI', 'LS', 'LR', 'MW', 'MV', 'ML', 'MH', 'FM', 'NA', 'NR', 'NE', 'PW', 'PG', 'PR', 'WS', 'SM', 'ST', 'SN', 'SC', 'SL', 'SB', 'KN', 'LC', 'VC', 'SR', 'TL', 'TO', 'TT', 'TV', 'VU', 'AZ', 'BN', 'BI', 'KH', 'CM', 'TD', 'KM', 'GQ', 'SZ', 'GA', 'GN', 'KG', 'LA', 'MO', 'MR', 'MN', 'NP', 'RW', 'TG', 'UZ', 'ZW', 'BJ', 'MG', 'MU', 'MZ', 'AO', 'CI', 'DJ', 'ZM', 'CD', 'CG', 'IQ', 'LY', 'TJ', 'VE', 'ET', 'XK'], 'explicit': False, 'type': 'track', 'episode': False, 'track': True, 'album': {'available_markets': ['AR', 'AU', 'AT', 'BE', 'BO', 'BR', 'BG', 'CA', 'CL', 'CO', 'CR', 'CY', 'CZ', 'DK', 'DO', 'DE', 'EC', 'EE', 'SV', 'FI', 'FR', 'GR', 'GT', 'HN', 'HK', 'HU', 'IS', 'IE', 'IT', 'LV', 'LT', 'LU', 'MY', 'MT', 'MX', 'NL', 'NZ', 'NI', 'NO', 'PA', 'PY', 'PE', 'PH', 'PL', 'PT', 'SG', 'SK', 'ES', 'SE', 'CH', 'TW', 'TR', 'UY', 'US', 'GB', 'AD', 'LI', 'MC', 'ID', 'JP', 'TH', 'VN', 'RO', 'IL', 'ZA', 'SA', 'AE', 'BH', 'QA', 'OM', 'KW', 'EG', 'MA', 'DZ', 'TN', 'LB', 'JO', 'PS', 'IN', 'BY', 'KZ', 'MD', 'UA', 'AL', 'BA', 'HR', 'ME', 'MK', 'RS', 'SI', 'KR', 'BD', 'PK', 'LK', 'GH', 'KE', 'NG', 'TZ', 'UG', 'AG', 'AM', 'BS', 'BB', 'BZ', 'BT', 'BW', 'BF', 'CV', 'CW', 'DM', 'FJ', 'GM', 'GE', 'GD', 'GW', 'GY', 'HT', 'JM', 'KI', 'LS', 'LR', 'MW', 'MV', 'ML', 'MH', 'FM', 'NA', 'NR', 'NE', 'PW', 'PG', 'PR', 'WS', 'SM', 'ST', 'SN', 'SC', 'SL', 'SB', 'KN', 'LC', 'VC', 'SR', 'TL', 'TO', 'TT', 'TV', 'VU', 'AZ', 'BN', 'BI', 'KH', 'CM', 'TD', 'KM', 'GQ', 'SZ', 'GA', 'GN', 'KG', 'LA', 'MO', 'MR', 'MN', 'NP', 'RW', 'TG', 'UZ', 'ZW', 'BJ', 'MG', 'MU', 'MZ', 'AO', 'CI', 'DJ', 'ZM', 'CD', 'CG', 'IQ', 'LY', 'TJ', 'VE', 'ET', 'XK'], 'type': 'album', 'album_type': 'single', 'href': 'https://api.spotify.com/v1/albums/4uByxcE4UmzHo553LlwymU', 'id': '4uByxcE4UmzHo553LlwymU', 'images': [{'height': 640, 'url': 'https://i.scdn.co/image/ab67616d0000b273f6a01c6f094e1b3b8601058e', 'width': 640}, {'height': 300, 'url': 'https://i.scdn.co/image/ab67616d00001e02f6a01c6f094e1b3b8601058e', 'width': 300}, {'height': 64, 'url': 'https://i.scdn.co/image/ab67616d00004851f6a01c6f094e1b3b8601058e', 'width': 64}], 'name': 'Esto Recién Empieza', 'release_date': '2022-02-14', 'release_date_precision': 'day', 'uri': 'spotify:album:4uByxcE4UmzHo553LlwymU', 'artists': [{'external_urls': {'spotify': 'https://open.spotify.com/artist/1bAftSH8umNcGZ0uyV7LMg'}, 'href': 'https://api.spotify.com/v1/artists/1bAftSH8umNcGZ0uyV7LMg', 'id': '1bAftSH8umNcGZ0uyV7LMg', 'name': 'Duki', 'type': 'artist', 'uri': 'spotify:artist:1bAftSH8umNcGZ0uyV7LMg'}, {'external_urls': {'spotify': 'https://open.spotify.com/artist/0AqlFI0tz2DsEoJlKSIiT9'}, 'href': 'https://api.spotify.com/v1/artists/0AqlFI0tz2DsEoJlKSIiT9', 'id': '0AqlFI0tz2DsEoJlKSIiT9', 'name': 'Emilia', 'type': 'artist', 'uri': 'spotify:artist:0AqlFI0tz2DsEoJlKSIiT9'}], 'external_urls': {'spotify': 'https://open.spotify.com/album/4uByxcE4UmzHo553LlwymU'}, 'total_tracks': 1}, 'artists': [{'external_urls': {'spotify': 'https://open.spotify.com/artist/1bAftSH8umNcGZ0uyV7LMg'}, 'href': 'https://api.spotify.com/v1/artists/1bAftSH8umNcGZ0uyV7LMg', 'id': '1bAftSH8umNcGZ0uyV7LMg', 'name': 'Duki', 'type': 'artist', 'uri': 'spotify:artist:1bAftSH8umNcGZ0uyV7LMg'}, {'external_urls': {'spotify': 'https://open.spotify.com/artist/0AqlFI0tz2DsEoJlKSIiT9'}, 'href': 'https://api.spotify.com/v1/artists/0AqlFI0tz2DsEoJlKSIiT9', 'id': '0AqlFI0tz2DsEoJlKSIiT9', 'name': 'Emilia', 'type': 'artist', 'uri': 'spotify:artist:0AqlFI0tz2DsEoJlKSIiT9'}], 'disc_number': 1, 'track_number': 1, 'duration_ms': 172352, 'external_ids': {'isrc': 'UYB282240007'}, 'external_urls': {'spotify': 'https://open.spotify.com/track/0ZLkb9lDDlTPwYZPvuGnHB'}, 'href': 'https://api.spotify.com/v1/tracks/0ZLkb9lDDlTPwYZPvuGnHB', 'id': '0ZLkb9lDDlTPwYZPvuGnHB', 'name': 'Esto Recién Empieza', 'popularity': 55, 'uri': 'spotify:track:0ZLkb9lDDlTPwYZPvuGnHB', 'is_local': False}, 'video_thumbnail': {'url': None}}, {'added_at': '1970-01-01T00:00:00Z', 'added_by': {'external_urls': {'spotify': 'https://open.spotify.com/user/'}, 'href': 'https://api.spotify.com/v1/users/', 'id': '', 'type': 'user', 'uri': 'spotify:user:'}, 'is_local': False, 'primary_color': None, 'track': {'preview_url': 'https://p.scdn.co/mp3-preview/6665285e8e608bce639e2e78ef0da39593452c33?cid=5236f001113d42aa982409f077a7d5a7', 'available_markets': ['AR', 'AU', 'AT', 'BE', 'BO', 'BR', 'BG', 'CA', 'CL', 'CO', 'CR', 'CY', 'CZ', 'DK', 'DO', 'DE', 'EC', 'EE', 'SV', 'FI', 'FR', 'GR', 'GT', 'HN', 'HK', 'HU', 'IS', 'IE', 'IT', 'LV', 'LT', 'LU', 'MY', 'MT', 'MX', 'NL', 'NZ', 'NI', 'NO', 'PA', 'PY', 'PE', 'PH', 'PL', 'PT', 'SG', 'SK', 'ES', 'SE', 'CH', 'TW', 'TR', 'UY', 'US', 'GB', 'AD', 'LI', 'MC', 'ID', 'JP', 'TH', 'VN', 'RO', 'IL', 'ZA', 'SA', 'AE', 'BH', 'QA', 'OM', 'KW', 'EG', 'MA', 'DZ', 'TN', 'LB', 'JO', 'PS', 'IN', 'BY', 'KZ', 'MD', 'UA', 'AL', 'BA', 'HR', 'ME', 'MK', 'RS', 'SI', 'KR', 'BD', 'PK', 'LK', 'GH', 'KE', 'NG', 'TZ', 'UG', 'AG', 'AM', 'BS', 'BB', 'BZ', 'BT', 'BW', 'BF', 'CV', 'CW', 'DM', 'FJ', 'GM', 'GE', 'GD', 'GW', 'GY', 'HT', 'JM', 'KI', 'LS', 'LR', 'MW', 'MV', 'ML', 'MH', 'FM', 'NA', 'NR', 'NE', 'PW', 'PG', 'PR', 'WS', 'SM', 'ST', 'SN', 'SC', 'SL', 'SB', 'KN', 'LC', 'VC', 'SR', 'TL', 'TO', 'TT', 'TV', 'VU', 'AZ', 'BN', 'BI', 'KH', 'CM', 'TD', 'KM', 'GQ', 'SZ', 'GA', 'GN', 'KG', 'LA', 'MO', 'MR', 'MN', 'NP', 'RW', 'TG', 'UZ', 'ZW', 'BJ', 'MG', 'MU', 'MZ', 'AO', 'CI', 'DJ', 'ZM', 'CD', 'CG', 'IQ', 'LY', 'TJ', 'VE', 'ET', 'XK'], 'explicit': False, 'type': 'track', 'episode': False, 'track': True, 'album': {'available_markets': ['AR', 'AU', 'AT', 'BE', 'BO', 'BR', 'BG', 'CA', 'CL', 'CO', 'CR', 'CY', 'CZ', 'DK', 'DO', 'DE', 'EC', 'EE', 'SV', 'FI', 'FR', 'GR', 'GT', 'HN', 'HK', 'HU', 'IS', 'IE', 'IT', 'LV', 'LT', 'LU', 'MY', 'MT', 'MX', 'NL', 'NZ', 'NI', 'NO', 'PA', 'PY', 'PE', 'PH', 'PL', 'PT', 'SG', 'SK', 'ES', 'SE', 'CH', 'TW', 'TR', 'UY', 'US', 'GB', 'AD', 'LI', 'MC', 'ID', 'JP', 'TH', 'VN', 'RO', 'IL', 'ZA', 'SA', 'AE', 'BH', 'QA', 'OM', 'KW', 'EG', 'MA', 'DZ', 'TN', 'LB', 'JO', 'PS', 'IN', 'BY', 'KZ', 'MD', 'UA', 'AL', 'BA', 'HR', 'ME', 'MK', 'RS', 'SI', 'KR', 'BD', 'PK', 'LK', 'GH', 'KE', 'NG', 'TZ', 'UG', 'AG', 'AM', 'BS', 'BB', 'BZ', 'BT', 'BW', 'BF', 'CV', 'CW', 'DM', 'FJ', 'GM', 'GE', 'GD', 'GW', 'GY', 'HT', 'JM', 'KI', 'LS', 'LR', 'MW', 'MV', 'ML', 'MH', 'FM', 'NA', 'NR', 'NE', 'PW', 'PG', 'PR', 'WS', 'SM', 'ST', 'SN', 'SC', 'SL', 'SB', 'KN', 'LC', 'VC', 'SR', 'TL', 'TO', 'TT', 'TV', 'VU', 'AZ', 'BN', 'BI', 'KH', 'CM', 'TD', 'KM', 'GQ', 'SZ', 'GA', 'GN', 'KG', 'LA', 'MO', 'MR', 'MN', 'NP', 'RW', 'TG', 'UZ', 'ZW', 'BJ', 'MG', 'MU', 'MZ', 'AO', 'CI', 'DJ', 'ZM', 'CD', 'CG', 'IQ', 'LY', 'TJ', 'VE', 'ET', 'XK'], 'type': 'album', 'album_type': 'single', 'href': 'https://api.spotify.com/v1/albums/2nEyfN6oPzU8bVd3639TSK', 'id': '2nEyfN6oPzU8bVd3639TSK', 'images': [{'height': 640, 'url': 'https://i.scdn.co/image/ab67616d0000b273f0aaa7781d4d5446e9f01248', 'width': 640}, {'height': 300, 'url': 'https://i.scdn.co/image/ab67616d00001e02f0aaa7781d4d5446e9f01248', 'width': 300}, {'height': 64, 'url': 'https://i.scdn.co/image/ab67616d00004851f0aaa7781d4d5446e9f01248', 'width': 64}], 'name': 'Perreito Salvaje', 'release_date': '2021-05-18', 'release_date_precision': 'day', 'uri': 'spotify:album:2nEyfN6oPzU8bVd3639TSK', 'artists': [{'external_urls': {'spotify': 'https://open.spotify.com/artist/0AqlFI0tz2DsEoJlKSIiT9'}, 'href': 'https://api.spotify.com/v1/artists/0AqlFI0tz2DsEoJlKSIiT9', 'id': '0AqlFI0tz2DsEoJlKSIiT9', 'name': 'Emilia', 'type': 'artist', 'uri': 'spotify:artist:0AqlFI0tz2DsEoJlKSIiT9'}, {'external_urls': {'spotify': 'https://open.spotify.com/artist/2NfSBtmWe7oPw1EmetJVso'}, 'href': 'https://api.spotify.com/v1/artists/2NfSBtmWe7oPw1EmetJVso', 'id': '2NfSBtmWe7oPw1EmetJVso', 'name': 'Boza', 'type': 'artist', 'uri': 'spotify:artist:2NfSBtmWe7oPw1EmetJVso'}], 'external_urls': {'spotify': 'https://open.spotify.com/album/2nEyfN6oPzU8bVd3639TSK'}, 'total_tracks': 1}, 'artists': [{'external_urls': {'spotify': 'https://open.spotify.com/artist/0AqlFI0tz2DsEoJlKSIiT9'}, 'href': 'https://api.spotify.com/v1/artists/0AqlFI0tz2DsEoJlKSIiT9', 'id': '0AqlFI0tz2DsEoJlKSIiT9', 'name': 'Emilia', 'type': 'artist', 'uri': 'spotify:artist:0AqlFI0tz2DsEoJlKSIiT9'}, {'external_urls': {'spotify': 'https://open.spotify.com/artist/2NfSBtmWe7oPw1EmetJVso'}, 'href': 'https://api.spotify.com/v1/artists/2NfSBtmWe7oPw1EmetJVso', 'id': '2NfSBtmWe7oPw1EmetJVso', 'name': 'Boza', 'type': 'artist', 'uri': 'spotify:artist:2NfSBtmWe7oPw1EmetJVso'}], 'disc_number': 1, 'track_number': 1, 'duration_ms': 171428, 'external_ids': {'isrc': 'USSD12100251'}, 'external_urls': {'spotify': 'https://open.spotify.com/track/4hs52wFSucGnS5dYryIZ4F'}, 'href': 'https://api.spotify.com/v1/tracks/4hs52wFSucGnS5dYryIZ4F', 'id': '4hs52wFSucGnS5dYryIZ4F', 'name': 'Perreito Salvaje', 'popularity': 51, 'uri': 'spotify:track:4hs52wFSucGnS5dYryIZ4F', 'is_local': False}, 'video_thumbnail': {'url': None}}, {'added_at': '1970-01-01T00:00:00Z', 'added_by': {'external_urls': {'spotify': 'https://open.spotify.com/user/'}, 'href': 'https://api.spotify.com/v1/users/', 'id': '', 'type': 'user', 'uri': 'spotify:user:'}, 'is_local': False, 'primary_color': None, 'track': {'preview_url': 'https://p.scdn.co/mp3-preview/1d25e3c96c596cb5bfc3e7fbbc5ba0611e155caf?cid=5236f001113d42aa982409f077a7d5a7', 'available_markets': ['AR', 'AU', 'AT', 'BE', 'BO', 'BR', 'BG', 'CA', 'CL', 'CO', 'CR', 'CY', 'CZ', 'DK', 'DO', 'DE', 'EC', 'EE', 'SV', 'FI', 'FR', 'GR', 'GT', 'HN', 'HK', 'HU', 'IS', 'IE', 'IT', 'LV', 'LT', 'LU', 'MY', 'MT', 'MX', 'NL', 'NZ', 'NI', 'NO', 'PA', 'PY', 'PE', 'PH', 'PL', 'PT', 'SG', 'SK', 'ES', 'SE', 'CH', 'TW', 'TR', 'UY', 'US', 'GB', 'AD', 'LI', 'MC', 'ID', 'JP', 'TH', 'VN', 'RO', 'IL', 'ZA', 'SA', 'AE', 'BH', 'QA', 'OM', 'KW', 'EG', 'MA', 'DZ', 'TN', 'LB', 'JO', 'PS', 'IN', 'BY', 'KZ', 'MD', 'UA', 'AL', 'BA', 'HR', 'ME', 'MK', 'RS', 'SI', 'KR', 'BD', 'PK', 'LK', 'GH', 'KE', 'NG', 'TZ', 'UG', 'AG', 'AM', 'BS', 'BB', 'BZ', 'BT', 'BW', 'BF', 'CV', 'CW', 'DM', 'FJ', 'GM', 'GE', 'GD', 'GW', 'GY', 'HT', 'JM', 'KI', 'LS', 'LR', 'MW', 'MV', 'ML', 'MH', 'FM', 'NA', 'NR', 'NE', 'PW', 'PG', 'PR', 'WS', 'SM', 'ST', 'SN', 'SC', 'SL', 'SB', 'KN', 'LC', 'VC', 'SR', 'TL', 'TO', 'TT', 'TV', 'VU', 'AZ', 'BN', 'BI', 'KH', 'CM', 'TD', 'KM', 'GQ', 'SZ', 'GA', 'GN', 'KG', 'LA', 'MO', 'MR', 'MN', 'NP', 'RW', 'TG', 'UZ', 'ZW', 'BJ', 'MG', 'MU', 'MZ', 'AO', 'CI', 'DJ', 'ZM', 'CD', 'CG', 'IQ', 'LY', 'TJ', 'VE', 'ET', 'XK'], 'explicit': False, 'type': 'track', 'episode': False, 'track': True, 'album': {'available_markets': ['AR', 'AU', 'AT', 'BE', 'BO', 'BR', 'BG', 'CA', 'CL', 'CO', 'CR', 'CY', 'CZ', 'DK', 'DO', 'DE', 'EC', 'EE', 'SV', 'FI', 'FR', 'GR', 'GT', 'HN', 'HK', 'HU', 'IS', 'IE', 'IT', 'LV', 'LT', 'LU', 'MY', 'MT', 'MX', 'NL', 'NZ', 'NI', 'NO', 'PA', 'PY', 'PE', 'PH', 'PL', 'PT', 'SG', 'SK', 'ES', 'SE', 'CH', 'TW', 'TR', 'UY', 'US', 'GB', 'AD', 'LI', 'MC', 'ID', 'JP', 'TH', 'VN', 'RO', 'IL', 'ZA', 'SA', 'AE', 'BH', 'QA', 'OM', 'KW', 'EG', 'MA', 'DZ', 'TN', 'LB', 'JO', 'PS', 'IN', 'BY', 'KZ', 'MD', 'UA', 'AL', 'BA', 'HR', 'ME', 'MK', 'RS', 'SI', 'KR', 'BD', 'PK', 'LK', 'GH', 'KE', 'NG', 'TZ', 'UG', 'AG', 'AM', 'BS', 'BB', 'BZ', 'BT', 'BW', 'BF', 'CV', 'CW', 'DM', 'FJ', 'GM', 'GE', 'GD', 'GW', 'GY', 'HT', 'JM', 'KI', 'LS', 'LR', 'MW', 'MV', 'ML', 'MH', 'FM', 'NA', 'NR', 'NE', 'PW', 'PG', 'PR', 'WS', 'SM', 'ST', 'SN', 'SC', 'SL', 'SB', 'KN', 'LC', 'VC', 'SR', 'TL', 'TO', 'TT', 'TV', 'VU', 'AZ', 'BN', 'BI', 'KH', 'CM', 'TD', 'KM', 'GQ', 'SZ', 'GA', 'GN', 'KG', 'LA', 'MO', 'MR', 'MN', 'NP', 'RW', 'TG', 'UZ', 'ZW', 'BJ', 'MG', 'MU', 'MZ', 'AO', 'CI', 'DJ', 'ZM', 'CD', 'CG', 'IQ', 'LY', 'TJ', 'VE', 'ET', 'XK'], 'type': 'album', 'album_type': 'single', 'href': 'https://api.spotify.com/v1/albums/5eqFHmdJbYwxVQ9xDMF7Ql', 'id': '5eqFHmdJbYwxVQ9xDMF7Ql', 'images': [{'height': 640, 'url': 'https://i.scdn.co/image/ab67616d0000b273b987bf450c7093ba70e2e12c', 'width': 640}, {'height': 300, 'url': 'https://i.scdn.co/image/ab67616d00001e02b987bf450c7093ba70e2e12c', 'width': 300}, {'height': 64, 'url': 'https://i.scdn.co/image/ab67616d00004851b987bf450c7093ba70e2e12c', 'width': 64}], 'name': 'El Plan', 'release_date': '2022-11-30', 'release_date_precision': 'day', 'uri': 'spotify:album:5eqFHmdJbYwxVQ9xDMF7Ql', 'artists': [{'external_urls': {'spotify': 'https://open.spotify.com/artist/3Apb2lGmGJaBmr0TTBJvIZ'}, 'href': 'https://api.spotify.com/v1/artists/3Apb2lGmGJaBmr0TTBJvIZ', 'id': '3Apb2lGmGJaBmr0TTBJvIZ', 'name': 'Rusherking', 'type': 'artist', 'uri': 'spotify:artist:3Apb2lGmGJaBmr0TTBJvIZ'}, {'external_urls': {'spotify': 'https://open.spotify.com/artist/4YYxffPVDFe9XoqqbRW6Bq'}, 'href': 'https://api.spotify.com/v1/artists/4YYxffPVDFe9XoqqbRW6Bq', 'id': '4YYxffPVDFe9XoqqbRW6Bq', 'name': 'L-Gante', 'type': 'artist', 'uri': 'spotify:artist:4YYxffPVDFe9XoqqbRW6Bq'}, {'external_urls': {'spotify': 'https://open.spotify.com/artist/0AqlFI0tz2DsEoJlKSIiT9'}, 'href': 'https://api.spotify.com/v1/artists/0AqlFI0tz2DsEoJlKSIiT9', 'id': '0AqlFI0tz2DsEoJlKSIiT9', 'name': 'Emilia', 'type': 'artist', 'uri': 'spotify:artist:0AqlFI0tz2DsEoJlKSIiT9'}], 'external_urls': {'spotify': 'https://open.spotify.com/album/5eqFHmdJbYwxVQ9xDMF7Ql'}, 'total_tracks': 1}, 'artists': [{'external_urls': {'spotify': 'https://open.spotify.com/artist/3Apb2lGmGJaBmr0TTBJvIZ'}, 'href': 'https://api.spotify.com/v1/artists/3Apb2lGmGJaBmr0TTBJvIZ', 'id': '3Apb2lGmGJaBmr0TTBJvIZ', 'name': 'Rusherking', 'type': 'artist', 'uri': 'spotify:artist:3Apb2lGmGJaBmr0TTBJvIZ'}, {'external_urls': {'spotify': 'https://open.spotify.com/artist/4YYxffPVDFe9XoqqbRW6Bq'}, 'href': 'https://api.spotify.com/v1/artists/4YYxffPVDFe9XoqqbRW6Bq', 'id': '4YYxffPVDFe9XoqqbRW6Bq', 'name': 'L-Gante', 'type': 'artist', 'uri': 'spotify:artist:4YYxffPVDFe9XoqqbRW6Bq'}, {'external_urls': {'spotify': 'https://open.spotify.com/artist/0AqlFI0tz2DsEoJlKSIiT9'}, 'href': 'https://api.spotify.com/v1/artists/0AqlFI0tz2DsEoJlKSIiT9', 'id': '0AqlFI0tz2DsEoJlKSIiT9', 'name': 'Emilia', 'type': 'artist', 'uri': 'spotify:artist:0AqlFI0tz2DsEoJlKSIiT9'}], 'disc_number': 1, 'track_number': 1, 'duration_ms': 217951, 'external_ids': {'isrc': 'ARP7V2200007'}, 'external_urls': {'spotify': 'https://open.spotify.com/track/7kwWynCThNe0IhUTxjRxtW'}, 'href': 'https://api.spotify.com/v1/tracks/7kwWynCThNe0IhUTxjRxtW', 'id': '7kwWynCThNe0IhUTxjRxtW', 'name': 'El Plan', 'popularity': 51, 'uri': 'spotify:track:7kwWynCThNe0IhUTxjRxtW', 'is_local': False}, 'video_thumbnail': {'url': None}}, {'added_at': '1970-01-01T00:00:00Z', 'added_by': {'external_urls': {'spotify': 'https://open.spotify.com/user/'}, 'href': 'https://api.spotify.com/v1/users/', 'id': '', 'type': 'user', 'uri': 'spotify:user:'}, 'is_local': False, 'primary_color': None, 'track': {'preview_url': 'https://p.scdn.co/mp3-preview/98edd64d0004d184a459147c786f84a9f50f9284?cid=5236f001113d42aa982409f077a7d5a7', 'available_markets': ['AR', 'AU', 'AT', 'BE', 'BO', 'BR', 'BG', 'CA', 'CL', 'CO', 'CR', 'CY', 'CZ', 'DK', 'DO', 'DE', 'EC', 'EE', 'SV', 'FI', 'FR', 'GR', 'GT', 'HN', 'HK', 'HU', 'IS', 'IE', 'IT', 'LV', 'LT', 'LU', 'MY', 'MT', 'MX', 'NL', 'NZ', 'NI', 'NO', 'PA', 'PY', 'PE', 'PH', 'PL', 'PT', 'SG', 'SK', 'ES', 'SE', 'CH', 'TW', 'TR', 'UY', 'US', 'GB', 'AD', 'LI', 'MC', 'ID', 'JP', 'TH', 'VN', 'RO', 'IL', 'ZA', 'SA', 'AE', 'BH', 'QA', 'OM', 'KW', 'EG', 'MA', 'DZ', 'TN', 'LB', 'JO', 'PS', 'IN', 'BY', 'KZ', 'MD', 'UA', 'AL', 'BA', 'HR', 'ME', 'MK', 'RS', 'SI', 'KR', 'BD', 'PK', 'LK', 'GH', 'KE', 'NG', 'TZ', 'UG', 'AG', 'AM', 'BS', 'BB', 'BZ', 'BT', 'BW', 'BF', 'CV', 'CW', 'DM', 'FJ', 'GM', 'GE', 'GD', 'GW', 'GY', 'HT', 'JM', 'KI', 'LS', 'LR', 'MW', 'MV', 'ML', 'MH', 'FM', 'NA', 'NR', 'NE', 'PW', 'PG', 'PR', 'WS', 'SM', 'ST', 'SN', 'SC', 'SL', 'SB', 'KN', 'LC', 'VC', 'SR', 'TL', 'TO', 'TT', 'TV', 'VU', 'AZ', 'BN', 'BI', 'KH', 'CM', 'TD', 'KM', 'GQ', 'SZ', 'GA', 'GN', 'KG', 'LA', 'MO', 'MR', 'MN', 'NP', 'RW', 'TG', 'UZ', 'ZW', 'BJ', 'MG', 'MU', 'MZ', 'AO', 'CI', 'DJ', 'ZM', 'CD', 'CG', 'IQ', 'LY', 'TJ', 'VE', 'ET', 'XK'], 'explicit': False, 'type': 'track', 'episode': False, 'track': True, 'album': {'available_markets': ['AR', 'AU', 'AT', 'BE', 'BO', 'BR', 'BG', 'CA', 'CL', 'CO', 'CR', 'CY', 'CZ', 'DK', 'DO', 'DE', 'EC', 'EE', 'SV', 'FI', 'FR', 'GR', 'GT', 'HN', 'HK', 'HU', 'IS', 'IE', 'IT', 'LV', 'LT', 'LU', 'MY', 'MT', 'MX', 'NL', 'NZ', 'NI', 'NO', 'PA', 'PY', 'PE', 'PH', 'PL', 'PT', 'SG', 'SK', 'ES', 'SE', 'CH', 'TW', 'TR', 'UY', 'US', 'GB', 'AD', 'LI', 'MC', 'ID', 'JP', 'TH', 'VN', 'RO', 'IL', 'ZA', 'SA', 'AE', 'BH', 'QA', 'OM', 'KW', 'EG', 'MA', 'DZ', 'TN', 'LB', 'JO', 'PS', 'IN', 'BY', 'KZ', 'MD', 'UA', 'AL', 'BA', 'HR', 'ME', 'MK', 'RS', 'SI', 'KR', 'BD', 'PK', 'LK', 'GH', 'KE', 'NG', 'TZ', 'UG', 'AG', 'AM', 'BS', 'BB', 'BZ', 'BT', 'BW', 'BF', 'CV', 'CW', 'DM', 'FJ', 'GM', 'GE', 'GD', 'GW', 'GY', 'HT', 'JM', 'KI', 'LS', 'LR', 'MW', 'MV', 'ML', 'MH', 'FM', 'NA', 'NR', 'NE', 'PW', 'PG', 'PR', 'WS', 'SM', 'ST', 'SN', 'SC', 'SL', 'SB', 'KN', 'LC', 'VC', 'SR', 'TL', 'TO', 'TT', 'TV', 'VU', 'AZ', 'BN', 'BI', 'KH', 'CM', 'TD', 'KM', 'GQ', 'SZ', 'GA', 'GN', 'KG', 'LA', 'MO', 'MR', 'MN', 'NP', 'RW', 'TG', 'UZ', 'ZW', 'BJ', 'MG', 'MU', 'MZ', 'AO', 'CI', 'DJ', 'ZM', 'CD', 'CG', 'IQ', 'LY', 'TJ', 'VE', 'ET', 'XK'], 'type': 'album', 'album_type': 'album', 'href': 'https://api.spotify.com/v1/albums/4wVrfNzE3Dab7EB1Xn6SHo', 'id': '4wVrfNzE3Dab7EB1Xn6SHo', 'images': [{'height': 640, 'url': 'https://i.scdn.co/image/ab67616d0000b273ec3aedff4bde61b335ed6961', 'width': 640}, {'height': 300, 'url': 'https://i.scdn.co/image/ab67616d00001e02ec3aedff4bde61b335ed6961', 'width': 300}, {'height': 64, 'url': 'https://i.scdn.co/image/ab67616d00004851ec3aedff4bde61b335ed6961', 'width': 64}], 'name': 'Tú crees en mí?', 'release_date': '2022-05-31', 'release_date_precision': 'day', 'uri': 'spotify:album:4wVrfNzE3Dab7EB1Xn6SHo', 'artists': [{'external_urls': {'spotify': 'https://open.spotify.com/artist/0AqlFI0tz2DsEoJlKSIiT9'}, 'href': 'https://api.spotify.com/v1/artists/0AqlFI0tz2DsEoJlKSIiT9', 'id': '0AqlFI0tz2DsEoJlKSIiT9', 'name': 'Emilia', 'type': 'artist', 'uri': 'spotify:artist:0AqlFI0tz2DsEoJlKSIiT9'}], 'external_urls': {'spotify': 'https://open.spotify.com/album/4wVrfNzE3Dab7EB1Xn6SHo'}, 'total_tracks': 8}, 'artists': [{'external_urls': {'spotify': 'https://open.spotify.com/artist/0AqlFI0tz2DsEoJlKSIiT9'}, 'href': 'https://api.spotify.com/v1/artists/0AqlFI0tz2DsEoJlKSIiT9', 'id': '0AqlFI0tz2DsEoJlKSIiT9', 'name': 'Emilia', 'type': 'artist', 'uri': 'spotify:artist:0AqlFI0tz2DsEoJlKSIiT9'}], 'disc_number': 1, 'track_number': 1, 'duration_ms': 166799, 'external_ids': {'isrc': 'USSD12200283'}, 'external_urls': {'spotify': 'https://open.spotify.com/track/42uno8Ku7ydFRwjD7OcXDI'}, 'href': 'https://api.spotify.com/v1/tracks/42uno8Ku7ydFRwjD7OcXDI', 'id': '42uno8Ku7ydFRwjD7OcXDI', 'name': 'latin girl', 'popularity': 53, 'uri': 'spotify:track:42uno8Ku7ydFRwjD7OcXDI', 'is_local': False}, 'video_thumbnail': {'url': None}}, {'added_at': '1970-01-01T00:00:00Z', 'added_by': {'external_urls': {'spotify': 'https://open.spotify.com/user/'}, 'href': 'https://api.spotify.com/v1/users/', 'id': '', 'type': 'user', 'uri': 'spotify:user:'}, 'is_local': False, 'primary_color': None, 'track': {'preview_url': 'https://p.scdn.co/mp3-preview/c98dd2b070e6a5afc385719d549aff56c111557b?cid=5236f001113d42aa982409f077a7d5a7', 'available_markets': ['AR', 'AU', 'AT', 'BE', 'BO', 'BR', 'BG', 'CA', 'CL', 'CO', 'CR', 'CY', 'CZ', 'DK', 'DO', 'DE', 'EC', 'EE', 'SV', 'FI', 'FR', 'GR', 'GT', 'HN', 'HK', 'HU', 'IS', 'IE', 'IT', 'LV', 'LT', 'LU', 'MY', 'MT', 'MX', 'NL', 'NZ', 'NI', 'NO', 'PA', 'PY', 'PE', 'PH', 'PL', 'PT', 'SG', 'SK', 'ES', 'SE', 'CH', 'TW', 'TR', 'UY', 'US', 'GB', 'AD', 'LI', 'MC', 'ID', 'JP', 'TH', 'VN', 'RO', 'IL', 'ZA', 'SA', 'AE', 'BH', 'QA', 'OM', 'KW', 'EG', 'MA', 'DZ', 'TN', 'LB', 'JO', 'PS', 'IN', 'BY', 'KZ', 'MD', 'UA', 'AL', 'BA', 'HR', 'ME', 'MK', 'RS', 'SI', 'KR', 'BD', 'PK', 'LK', 'GH', 'KE', 'NG', 'TZ', 'UG', 'AG', 'AM', 'BS', 'BB', 'BZ', 'BT', 'BW', 'BF', 'CV', 'CW', 'DM', 'FJ', 'GM', 'GE', 'GD', 'GW', 'GY', 'HT', 'JM', 'KI', 'LS', 'LR', 'MW', 'MV', 'ML', 'MH', 'FM', 'NA', 'NR', 'NE', 'PW', 'PG', 'PR', 'WS', 'SM', 'ST', 'SN', 'SC', 'SL', 'SB', 'KN', 'LC', 'VC', 'SR', 'TL', 'TO', 'TT', 'TV', 'VU', 'AZ', 'BN', 'BI', 'KH', 'CM', 'TD', 'KM', 'GQ', 'SZ', 'GA', 'GN', 'KG', 'LA', 'MO', 'MR', 'MN', 'NP', 'RW', 'TG', 'UZ', 'ZW', 'BJ', 'MG', 'MU', 'MZ', 'AO', 'CI', 'DJ', 'ZM', 'CD', 'CG', 'IQ', 'LY', 'TJ', 'VE', 'ET', 'XK'], 'explicit': False, 'type': 'track', 'episode': False, 'track': True, 'album': {'available_markets': ['AR', 'AU', 'AT', 'BE', 'BO', 'BR', 'BG', 'CA', 'CL', 'CO', 'CR', 'CY', 'CZ', 'DK', 'DO', 'DE', 'EC', 'EE', 'SV', 'FI', 'FR', 'GR', 'GT', 'HN', 'HK', 'HU', 'IS', 'IE', 'IT', 'LV', 'LT', 'LU', 'MY', 'MT', 'MX', 'NL', 'NZ', 'NI', 'NO', 'PA', 'PY', 'PE', 'PH', 'PL', 'PT', 'SG', 'SK', 'ES', 'SE', 'CH', 'TW', 'TR', 'UY', 'US', 'GB', 'AD', 'LI', 'MC', 'ID', 'JP', 'TH', 'VN', 'RO', 'IL', 'ZA', 'SA', 'AE', 'BH', 'QA', 'OM', 'KW', 'EG', 'MA', 'DZ', 'TN', 'LB', 'JO', 'PS', 'IN', 'BY', 'KZ', 'MD', 'UA', 'AL', 'BA', 'HR', 'ME', 'MK', 'RS', 'SI', 'KR', 'BD', 'PK', 'LK', 'GH', 'KE', 'NG', 'TZ', 'UG', 'AG', 'AM', 'BS', 'BB', 'BZ', 'BT', 'BW', 'BF', 'CV', 'CW', 'DM', 'FJ', 'GM', 'GE', 'GD', 'GW', 'GY', 'HT', 'JM', 'KI', 'LS', 'LR', 'MW', 'MV', 'ML', 'MH', 'FM', 'NA', 'NR', 'NE', 'PW', 'PG', 'PR', 'WS', 'SM', 'ST', 'SN', 'SC', 'SL', 'SB', 'KN', 'LC', 'VC', 'SR', 'TL', 'TO', 'TT', 'TV', 'VU', 'AZ', 'BN', 'BI', 'KH', 'CM', 'TD', 'KM', 'GQ', 'SZ', 'GA', 'GN', 'KG', 'LA', 'MO', 'MR', 'MN', 'NP', 'RW', 'TG', 'UZ', 'ZW', 'BJ', 'MG', 'MU', 'MZ', 'AO', 'CI', 'DJ', 'ZM', 'CD', 'CG', 'IQ', 'LY', 'TJ', 'VE', 'ET', 'XK'], 'type': 'album', 'album_type': 'single', 'href': 'https://api.spotify.com/v1/albums/0BmSD2UxwSB1g6ptVMv3xy', 'id': '0BmSD2UxwSB1g6ptVMv3xy', 'images': [{'height': 640, 'url': 'https://i.scdn.co/image/ab67616d0000b27347f0bb2a63d39660f65598e0', 'width': 640}, {'height': 300, 'url': 'https://i.scdn.co/image/ab67616d00001e0247f0bb2a63d39660f65598e0', 'width': 300}, {'height': 64, 'url': 'https://i.scdn.co/image/ab67616d0000485147f0bb2a63d39660f65598e0', 'width': 64}], 'name': 'Tu Recuerdo', 'release_date': '2023-03-02', 'release_date_precision': 'day', 'uri': 'spotify:album:0BmSD2UxwSB1g6ptVMv3xy', 'artists': [{'external_urls': {'spotify': 'https://open.spotify.com/artist/3E6xrwgnVfYCrCs0ePERDz'}, 'href': 'https://api.spotify.com/v1/artists/3E6xrwgnVfYCrCs0ePERDz', 'id': '3E6xrwgnVfYCrCs0ePERDz', 'name': 'Wisin', 'type': 'artist', 'uri': 'spotify:artist:3E6xrwgnVfYCrCs0ePERDz'}, {'external_urls': {'spotify': 'https://open.spotify.com/artist/0AqlFI0tz2DsEoJlKSIiT9'}, 'href': 'https://api.spotify.com/v1/artists/0AqlFI0tz2DsEoJlKSIiT9', 'id': '0AqlFI0tz2DsEoJlKSIiT9', 'name': 'Emilia', 'type': 'artist', 'uri': 'spotify:artist:0AqlFI0tz2DsEoJlKSIiT9'}, {'external_urls': {'spotify': 'https://open.spotify.com/artist/1Ts9of7VPZElwPQnqnDSfW'}, 'href': 'https://api.spotify.com/v1/artists/1Ts9of7VPZElwPQnqnDSfW', 'id': '1Ts9of7VPZElwPQnqnDSfW', 'name': 'Lyanno', 'type': 'artist', 'uri': 'spotify:artist:1Ts9of7VPZElwPQnqnDSfW'}], 'external_urls': {'spotify': 'https://open.spotify.com/album/0BmSD2UxwSB1g6ptVMv3xy'}, 'total_tracks': 1}, 'artists': [{'external_urls': {'spotify': 'https://open.spotify.com/artist/3E6xrwgnVfYCrCs0ePERDz'}, 'href': 'https://api.spotify.com/v1/artists/3E6xrwgnVfYCrCs0ePERDz', 'id': '3E6xrwgnVfYCrCs0ePERDz', 'name': 'Wisin', 'type': 'artist', 'uri': 'spotify:artist:3E6xrwgnVfYCrCs0ePERDz'}, {'external_urls': {'spotify': 'https://open.spotify.com/artist/0AqlFI0tz2DsEoJlKSIiT9'}, 'href': 'https://api.spotify.com/v1/artists/0AqlFI0tz2DsEoJlKSIiT9', 'id': '0AqlFI0tz2DsEoJlKSIiT9', 'name': 'Emilia', 'type': 'artist', 'uri': 'spotify:artist:0AqlFI0tz2DsEoJlKSIiT9'}, {'external_urls': {'spotify': 'https://open.spotify.com/artist/1Ts9of7VPZElwPQnqnDSfW'}, 'href': 'https://api.spotify.com/v1/artists/1Ts9of7VPZElwPQnqnDSfW', 'id': '1Ts9of7VPZElwPQnqnDSfW', 'name': 'Lyanno', 'type': 'artist', 'uri': 'spotify:artist:1Ts9of7VPZElwPQnqnDSfW'}], 'disc_number': 1, 'track_number': 1, 'duration_ms': 209203, 'external_ids': {'isrc': 'QM4TW2380130'}, 'external_urls': {'spotify': 'https://open.spotify.com/track/3K4vutqVlY3eINQWb6jSJF'}, 'href': 'https://api.spotify.com/v1/tracks/3K4vutqVlY3eINQWb6jSJF', 'id': '3K4vutqVlY3eINQWb6jSJF', 'name': 'Tu Recuerdo', 'popularity': 50, 'uri': 'spotify:track:3K4vutqVlY3eINQWb6jSJF', 'is_local': False}, 'video_thumbnail': {'url': None}}, {'added_at': '1970-01-01T00:00:00Z', 'added_by': {'external_urls': {'spotify': 'https://open.spotify.com/user/'}, 'href': 'https://api.spotify.com/v1/users/', 'id': '', 'type': 'user', 'uri': 'spotify:user:'}, 'is_local': False, 'primary_color': None, 'track': {'preview_url': 'https://p.scdn.co/mp3-preview/7599d3800f3f759426f9fa04a784a24c90fb70d5?cid=5236f001113d42aa982409f077a7d5a7', 'available_markets': ['AR', 'AU', 'AT', 'BE', 'BO', 'BR', 'BG', 'CA', 'CL', 'CO', 'CR', 'CY', 'CZ', 'DK', 'DO', 'DE', 'EC', 'EE', 'SV', 'FI', 'FR', 'GR', 'GT', 'HN', 'HK', 'HU', 'IS', 'IE', 'IT', 'LV', 'LT', 'LU', 'MY', 'MT', 'MX', 'NL', 'NZ', 'NI', 'NO', 'PA', 'PY', 'PE', 'PH', 'PL', 'PT', 'SG', 'SK', 'ES', 'SE', 'CH', 'TW', 'TR', 'UY', 'US', 'GB', 'AD', 'LI', 'MC', 'ID', 'JP', 'TH', 'VN', 'RO', 'IL', 'ZA', 'SA', 'AE', 'BH', 'QA', 'OM', 'KW', 'EG', 'MA', 'DZ', 'TN', 'LB', 'JO', 'PS', 'IN', 'BY', 'KZ', 'MD', 'UA', 'AL', 'BA', 'HR', 'ME', 'MK', 'RS', 'SI', 'KR', 'BD', 'PK', 'LK', 'GH', 'KE', 'NG', 'TZ', 'UG', 'AG', 'AM', 'BS', 'BB', 'BZ', 'BT', 'BW', 'BF', 'CV', 'CW', 'DM', 'FJ', 'GM', 'GE', 'GD', 'GW', 'GY', 'HT', 'JM', 'KI', 'LS', 'LR', 'MW', 'MV', 'ML', 'MH', 'FM', 'NA', 'NR', 'NE', 'PW', 'PG', 'PR', 'WS', 'SM', 'ST', 'SN', 'SC', 'SL', 'SB', 'KN', 'LC', 'VC', 'SR', 'TL', 'TO', 'TT', 'TV', 'VU', 'AZ', 'BN', 'BI', 'KH', 'CM', 'TD', 'KM', 'GQ', 'SZ', 'GA', 'GN', 'KG', 'LA', 'MO', 'MR', 'MN', 'NP', 'RW', 'TG', 'UZ', 'ZW', 'BJ', 'MG', 'MU', 'MZ', 'AO', 'CI', 'DJ', 'ZM', 'CD', 'CG', 'IQ', 'LY', 'TJ', 'VE', 'ET', 'XK'], 'explicit': False, 'type': 'track', 'episode': False, 'track': True, 'album': {'available_markets': ['AR', 'AU', 'AT', 'BE', 'BO', 'BR', 'BG', 'CA', 'CL', 'CO', 'CR', 'CY', 'CZ', 'DK', 'DO', 'DE', 'EC', 'EE', 'SV', 'FI', 'FR', 'GR', 'GT', 'HN', 'HK', 'HU', 'IS', 'IE', 'IT', 'LV', 'LT', 'LU', 'MY', 'MT', 'MX', 'NL', 'NZ', 'NI', 'NO', 'PA', 'PY', 'PE', 'PH', 'PL', 'PT', 'SG', 'SK', 'ES', 'SE', 'CH', 'TW', 'TR', 'UY', 'US', 'GB', 'AD', 'LI', 'MC', 'ID', 'JP', 'TH', 'VN', 'RO', 'IL', 'ZA', 'SA', 'AE', 'BH', 'QA', 'OM', 'KW', 'EG', 'MA', 'DZ', 'TN', 'LB', 'JO', 'PS', 'IN', 'BY', 'KZ', 'MD', 'UA', 'AL', 'BA', 'HR', 'ME', 'MK', 'RS', 'SI', 'KR', 'BD', 'PK', 'LK', 'GH', 'KE', 'NG', 'TZ', 'UG', 'AG', 'AM', 'BS', 'BB', 'BZ', 'BT', 'BW', 'BF', 'CV', 'CW', 'DM', 'FJ', 'GM', 'GE', 'GD', 'GW', 'GY', 'HT', 'JM', 'KI', 'LS', 'LR', 'MW', 'MV', 'ML', 'MH', 'FM', 'NA', 'NR', 'NE', 'PW', 'PG', 'PR', 'WS', 'SM', 'ST', 'SN', 'SC', 'SL', 'SB', 'KN', 'LC', 'VC', 'SR', 'TL', 'TO', 'TT', 'TV', 'VU', 'AZ', 'BN', 'BI', 'KH', 'CM', 'TD', 'KM', 'GQ', 'SZ', 'GA', 'GN', 'KG', 'LA', 'MO', 'MR', 'MN', 'NP', 'RW', 'TG', 'UZ', 'ZW', 'BJ', 'MG', 'MU', 'MZ', 'AO', 'CI', 'DJ', 'ZM', 'CD', 'CG', 'IQ', 'LY', 'TJ', 'VE', 'ET', 'XK'], 'type': 'album', 'album_type': 'single', 'href': 'https://api.spotify.com/v1/albums/3lzvMWNHMpcyCl0H29PiEm', 'id': '3lzvMWNHMpcyCl0H29PiEm', 'images': [{'height': 640, 'url': 'https://i.scdn.co/image/ab67616d0000b2730af4618dbebbbd40d5dd6eca', 'width': 640}, {'height': 300, 'url': 'https://i.scdn.co/image/ab67616d00001e020af4618dbebbbd40d5dd6eca', 'width': 300}, {'height': 64, 'url': 'https://i.scdn.co/image/ab67616d000048510af4618dbebbbd40d5dd6eca', 'width': 64}], 'name': 'NAGASAKI', 'release_date': '2023-06-09', 'release_date_precision': 'day', 'uri': 'spotify:album:3lzvMWNHMpcyCl0H29PiEm', 'artists': [{'external_urls': {'spotify': 'https://open.spotify.com/artist/768O5GliF0bqscyghggrbE'}, 'href': 'https://api.spotify.com/v1/artists/768O5GliF0bqscyghggrbE', 'id': '768O5GliF0bqscyghggrbE', 'name': 'Polimá Westcoast', 'type': 'artist', 'uri': 'spotify:artist:768O5GliF0bqscyghggrbE'}, {'external_urls': {'spotify': 'https://open.spotify.com/artist/0AqlFI0tz2DsEoJlKSIiT9'}, 'href': 'https://api.spotify.com/v1/artists/0AqlFI0tz2DsEoJlKSIiT9', 'id': '0AqlFI0tz2DsEoJlKSIiT9', 'name': 'Emilia', 'type': 'artist', 'uri': 'spotify:artist:0AqlFI0tz2DsEoJlKSIiT9'}], 'external_urls': {'spotify': 'https://open.spotify.com/album/3lzvMWNHMpcyCl0H29PiEm'}, 'total_tracks': 1}, 'artists': [{'external_urls': {'spotify': 'https://open.spotify.com/artist/768O5GliF0bqscyghggrbE'}, 'href': 'https://api.spotify.com/v1/artists/768O5GliF0bqscyghggrbE', 'id': '768O5GliF0bqscyghggrbE', 'name': 'Polimá Westcoast', 'type': 'artist', 'uri': 'spotify:artist:768O5GliF0bqscyghggrbE'}, {'external_urls': {'spotify': 'https://open.spotify.com/artist/0AqlFI0tz2DsEoJlKSIiT9'}, 'href': 'https://api.spotify.com/v1/artists/0AqlFI0tz2DsEoJlKSIiT9', 'id': '0AqlFI0tz2DsEoJlKSIiT9', 'name': 'Emilia', 'type': 'artist', 'uri': 'spotify:artist:0AqlFI0tz2DsEoJlKSIiT9'}], 'disc_number': 1, 'track_number': 1, 'duration_ms': 206098, 'external_ids': {'isrc': 'CLPP22300027'}, 'external_urls': {'spotify': 'https://open.spotify.com/track/0sAVtc720YIqLD0w9GpLwD'}, 'href': 'https://api.spotify.com/v1/tracks/0sAVtc720YIqLD0w9GpLwD', 'id': '0sAVtc720YIqLD0w9GpLwD', 'name': 'NAGASAKI', 'popularity': 50, 'uri': 'spotify:track:0sAVtc720YIqLD0w9GpLwD', 'is_local': False}, 'video_thumbnail': {'url': None}}, {'added_at': '1970-01-01T00:00:00Z', 'added_by': {'external_urls': {'spotify': 'https://open.spotify.com/user/'}, 'href': 'https://api.spotify.com/v1/users/', 'id': '', 'type': 'user', 'uri': 'spotify:user:'}, 'is_local': False, 'primary_color': None, 'track': {'preview_url': None, 'available_markets': ['AR', 'AU', 'AT', 'BE', 'BO', 'BR', 'BG', 'CA', 'CL', 'CO', 'CR', 'CY', 'CZ', 'DK', 'DO', 'DE', 'EC', 'EE', 'SV', 'FI', 'FR', 'GR', 'GT', 'HN', 'HK', 'HU', 'IS', 'IE', 'IT', 'LV', 'LT', 'LU', 'MY', 'MT', 'MX', 'NL', 'NZ', 'NI', 'NO', 'PA', 'PY', 'PE', 'PH', 'PL', 'PT', 'SG', 'SK', 'ES', 'SE', 'CH', 'TW', 'TR', 'UY', 'US', 'GB', 'AD', 'LI', 'MC', 'ID', 'JP', 'TH', 'VN', 'RO', 'IL', 'ZA', 'SA', 'AE', 'BH', 'QA', 'OM', 'KW', 'EG', 'MA', 'DZ', 'TN', 'LB', 'JO', 'PS', 'IN', 'KZ', 'MD', 'UA', 'AL', 'BA', 'HR', 'ME', 'MK', 'RS', 'SI', 'KR', 'BD', 'PK', 'LK', 'GH', 'KE', 'NG', 'TZ', 'UG', 'AG', 'AM', 'BS', 'BB', 'BZ', 'BT', 'BW', 'BF', 'CV', 'CW', 'DM', 'FJ', 'GM', 'GE', 'GD', 'GW', 'GY', 'HT', 'JM', 'KI', 'LS', 'LR', 'MW', 'MV', 'ML', 'MH', 'FM', 'NA', 'NR', 'NE', 'PW', 'PG', 'WS', 'SM', 'ST', 'SN', 'SC', 'SL', 'SB', 'KN', 'LC', 'VC', 'SR', 'TL', 'TO', 'TT', 'TV', 'VU', 'AZ', 'BN', 'BI', 'KH', 'CM', 'TD', 'KM', 'GQ', 'SZ', 'GA', 'GN', 'KG', 'LA', 'MO', 'MR', 'MN', 'NP', 'RW', 'TG', 'UZ', 'ZW', 'BJ', 'MG', 'MU', 'MZ', 'AO', 'CI', 'DJ', 'ZM', 'CD', 'CG', 'IQ', 'LY', 'TJ', 'VE', 'ET', 'XK'], 'explicit': False, 'type': 'track', 'episode': False, 'track': True, 'album': {'available_markets': ['AR', 'AU', 'AT', 'BE', 'BO', 'BR', 'BG', 'CA', 'CL', 'CO', 'CR', 'CY', 'CZ', 'DK', 'DO', 'DE', 'EC', 'EE', 'SV', 'FI', 'FR', 'GR', 'GT', 'HN', 'HK', 'HU', 'IS', 'IE', 'IT', 'LV', 'LT', 'LU', 'MY', 'MT', 'MX', 'NL', 'NZ', 'NI', 'NO', 'PA', 'PY', 'PE', 'PH', 'PL', 'PT', 'SG', 'SK', 'ES', 'SE', 'CH', 'TW', 'TR', 'UY', 'US', 'GB', 'AD', 'LI', 'MC', 'ID', 'JP', 'TH', 'VN', 'RO', 'IL', 'ZA', 'SA', 'AE', 'BH', 'QA', 'OM', 'KW', 'EG', 'MA', 'DZ', 'TN', 'LB', 'JO', 'PS', 'IN', 'KZ', 'MD', 'UA', 'AL', 'BA', 'HR', 'ME', 'MK', 'RS', 'SI', 'KR', 'BD', 'PK', 'LK', 'GH', 'KE', 'NG', 'TZ', 'UG', 'AG', 'AM', 'BS', 'BB', 'BZ', 'BT', 'BW', 'BF', 'CV', 'CW', 'DM', 'FJ', 'GM', 'GE', 'GD', 'GW', 'GY', 'HT', 'JM', 'KI', 'LS', 'LR', 'MW', 'MV', 'ML', 'MH', 'FM', 'NA', 'NR', 'NE', 'PW', 'PG', 'WS', 'SM', 'ST', 'SN', 'SC', 'SL', 'SB', 'KN', 'LC', 'VC', 'SR', 'TL', 'TO', 'TT', 'TV', 'VU', 'AZ', 'BN', 'BI', 'KH', 'CM', 'TD', 'KM', 'GQ', 'SZ', 'GA', 'GN', 'KG', 'LA', 'MO', 'MR', 'MN', 'NP', 'RW', 'TG', 'UZ', 'ZW', 'BJ', 'MG', 'MU', 'MZ', 'AO', 'CI', 'DJ', 'ZM', 'CD', 'CG', 'IQ', 'LY', 'TJ', 'VE', 'ET', 'XK'], 'type': 'album', 'album_type': 'album', 'href': 'https://api.spotify.com/v1/albums/27fFLYwlXF1x8n1ixpFbFH', 'id': '27fFLYwlXF1x8n1ixpFbFH', 'images': [{'height': 640, 'url': 'https://i.scdn.co/image/ab67616d0000b273daab364ac14d96679b5639aa', 'width': 640}, {'height': 300, 'url': 'https://i.scdn.co/image/ab67616d00001e02daab364ac14d96679b5639aa', 'width': 300}, {'height': 64, 'url': 'https://i.scdn.co/image/ab67616d00004851daab364ac14d96679b5639aa', 'width': 64}], 'name': 'EL DRAGÓN', 'release_date': '2023-04-13', 'release_date_precision': 'day', 'uri': 'spotify:album:27fFLYwlXF1x8n1ixpFbFH', 'artists': [{'external_urls': {'spotify': 'https://open.spotify.com/artist/3bvfu2KAve4lPHrhEFDZna'}, 'href': 'https://api.spotify.com/v1/artists/3bvfu2KAve4lPHrhEFDZna', 'id': '3bvfu2KAve4lPHrhEFDZna', 'name': 'Lola Indigo', 'type': 'artist', 'uri': 'spotify:artist:3bvfu2KAve4lPHrhEFDZna'}], 'external_urls': {'spotify': 'https://open.spotify.com/album/27fFLYwlXF1x8n1ixpFbFH'}, 'total_tracks': 11}, 'artists': [{'external_urls': {'spotify': 'https://open.spotify.com/artist/3bvfu2KAve4lPHrhEFDZna'}, 'href': 'https://api.spotify.com/v1/artists/3bvfu2KAve4lPHrhEFDZna', 'id': '3bvfu2KAve4lPHrhEFDZna', 'name': 'Lola Indigo', 'type': 'artist', 'uri': 'spotify:artist:3bvfu2KAve4lPHrhEFDZna'}, {'external_urls': {'spotify': 'https://open.spotify.com/artist/0AqlFI0tz2DsEoJlKSIiT9'}, 'href': 'https://api.spotify.com/v1/artists/0AqlFI0tz2DsEoJlKSIiT9', 'id': '0AqlFI0tz2DsEoJlKSIiT9', 'name': 'Emilia', 'type': 'artist', 'uri': 'spotify:artist:0AqlFI0tz2DsEoJlKSIiT9'}], 'disc_number': 1, 'track_number': 9, 'duration_ms': 161586, 'external_ids': {'isrc': 'ESUM72200151'}, 'external_urls': {'spotify': 'https://open.spotify.com/track/3OFS5I1SC248VIuWFe4NPJ'}, 'href': 'https://api.spotify.com/v1/tracks/3OFS5I1SC248VIuWFe4NPJ', 'id': '3OFS5I1SC248VIuWFe4NPJ', 'name': 'ULTRAVIOLETA', 'popularity': 48, 'uri': 'spotify:track:3OFS5I1SC248VIuWFe4NPJ', 'is_local': False}, 'video_thumbnail': {'url': None}}, {'added_at': '1970-01-01T00:00:00Z', 'added_by': {'external_urls': {'spotify': 'https://open.spotify.com/user/'}, 'href': 'https://api.spotify.com/v1/users/', 'id': '', 'type': 'user', 'uri': 'spotify:user:'}, 'is_local': False, 'primary_color': None, 'track': {'preview_url': 'https://p.scdn.co/mp3-preview/2d2f241cb336a29081813c3bb45b2ba10cd2c935?cid=5236f001113d42aa982409f077a7d5a7', 'available_markets': ['AR', 'AU', 'AT', 'BE', 'BO', 'BR', 'BG', 'CA', 'CL', 'CO', 'CR', 'CY', 'CZ', 'DK', 'DO', 'DE', 'EC', 'EE', 'SV', 'FI', 'FR', 'GR', 'GT', 'HN', 'HK', 'HU', 'IS', 'IE', 'IT', 'LV', 'LT', 'LU', 'MY', 'MT', 'MX', 'NL', 'NZ', 'NI', 'NO', 'PA', 'PY', 'PE', 'PH', 'PL', 'PT', 'SG', 'SK', 'ES', 'SE', 'CH', 'TW', 'TR', 'UY', 'US', 'GB', 'AD', 'LI', 'MC', 'ID', 'JP', 'TH', 'VN', 'RO', 'IL', 'ZA', 'SA', 'AE', 'BH', 'QA', 'OM', 'KW', 'EG', 'MA', 'DZ', 'TN', 'LB', 'JO', 'PS', 'IN', 'BY', 'KZ', 'MD', 'UA', 'AL', 'BA', 'HR', 'ME', 'MK', 'RS', 'SI', 'KR', 'BD', 'PK', 'LK', 'GH', 'KE', 'NG', 'TZ', 'UG', 'AG', 'AM', 'BS', 'BB', 'BZ', 'BT', 'BW', 'BF', 'CV', 'CW', 'DM', 'FJ', 'GM', 'GE', 'GD', 'GW', 'GY', 'HT', 'JM', 'KI', 'LS', 'LR', 'MW', 'MV', 'ML', 'MH', 'FM', 'NA', 'NR', 'NE', 'PW', 'PG', 'PR', 'WS', 'SM', 'ST', 'SN', 'SC', 'SL', 'SB', 'KN', 'LC', 'VC', 'SR', 'TL', 'TO', 'TT', 'TV', 'VU', 'AZ', 'BN', 'BI', 'KH', 'CM', 'TD', 'KM', 'GQ', 'SZ', 'GA', 'GN', 'KG', 'LA', 'MO', 'MR', 'MN', 'NP', 'RW', 'TG', 'UZ', 'ZW', 'BJ', 'MG', 'MU', 'MZ', 'AO', 'CI', 'DJ', 'ZM', 'CD', 'CG', 'IQ', 'LY', 'TJ', 'VE', 'ET', 'XK'], 'explicit': False, 'type': 'track', 'episode': False, 'track': True, 'album': {'available_markets': ['AR', 'AU', 'AT', 'BE', 'BO', 'BR', 'BG', 'CA', 'CL', 'CO', 'CR', 'CY', 'CZ', 'DK', 'DO', 'DE', 'EC', 'EE', 'SV', 'FI', 'FR', 'GR', 'GT', 'HN', 'HK', 'HU', 'IS', 'IE', 'IT', 'LV', 'LT', 'LU', 'MY', 'MT', 'MX', 'NL', 'NZ', 'NI', 'NO', 'PA', 'PY', 'PE', 'PH', 'PL', 'PT', 'SG', 'SK', 'ES', 'SE', 'CH', 'TW', 'TR', 'UY', 'US', 'GB', 'AD', 'LI', 'MC', 'ID', 'JP', 'TH', 'VN', 'RO', 'IL', 'ZA', 'SA', 'AE', 'BH', 'QA', 'OM', 'KW', 'EG', 'MA', 'DZ', 'TN', 'LB', 'JO', 'PS', 'IN', 'BY', 'KZ', 'MD', 'UA', 'AL', 'BA', 'HR', 'ME', 'MK', 'RS', 'SI', 'KR', 'BD', 'PK', 'LK', 'GH', 'KE', 'NG', 'TZ', 'UG', 'AG', 'AM', 'BS', 'BB', 'BZ', 'BT', 'BW', 'BF', 'CV', 'CW', 'DM', 'FJ', 'GM', 'GE', 'GD', 'GW', 'GY', 'HT', 'JM', 'KI', 'LS', 'LR', 'MW', 'MV', 'ML', 'MH', 'FM', 'NA', 'NR', 'NE', 'PW', 'PG', 'PR', 'WS', 'SM', 'ST', 'SN', 'SC', 'SL', 'SB', 'KN', 'LC', 'VC', 'SR', 'TL', 'TO', 'TT', 'TV', 'VU', 'AZ', 'BN', 'BI', 'KH', 'CM', 'TD', 'KM', 'GQ', 'SZ', 'GA', 'GN', 'KG', 'LA', 'MO', 'MR', 'MN', 'NP', 'RW', 'TG', 'UZ', 'ZW', 'BJ', 'MG', 'MU', 'MZ', 'AO', 'CI', 'DJ', 'ZM', 'CD', 'CG', 'IQ', 'LY', 'TJ', 'VE', 'ET', 'XK'], 'type': 'album', 'album_type': 'single', 'href': 'https://api.spotify.com/v1/albums/0ajHIug4wUF4TowpnpQoPc', 'id': '0ajHIug4wUF4TowpnpQoPc', 'images': [{'height': 640, 'url': 'https://i.scdn.co/image/ab67616d0000b273c3942bb8abd8cf9aac87ecb7', 'width': 640}, {'height': 300, 'url': 'https://i.scdn.co/image/ab67616d00001e02c3942bb8abd8cf9aac87ecb7', 'width': 300}, {'height': 64, 'url': 'https://i.scdn.co/image/ab67616d00004851c3942bb8abd8cf9aac87ecb7', 'width': 64}], 'name': 'HISTERIQUEO', 'release_date': '2020-03-11', 'release_date_precision': 'day', 'uri': 'spotify:album:0ajHIug4wUF4TowpnpQoPc', 'artists': [{'external_urls': {'spotify': 'https://open.spotify.com/artist/5Rj6rNR8zIlUUDCs1OyPmW'}, 'href': 'https://api.spotify.com/v1/artists/5Rj6rNR8zIlUUDCs1OyPmW', 'id': '5Rj6rNR8zIlUUDCs1OyPmW', 'name': 'MYA', 'type': 'artist', 'uri': 'spotify:artist:5Rj6rNR8zIlUUDCs1OyPmW'}, {'external_urls': {'spotify': 'https://open.spotify.com/artist/0AqlFI0tz2DsEoJlKSIiT9'}, 'href': 'https://api.spotify.com/v1/artists/0AqlFI0tz2DsEoJlKSIiT9', 'id': '0AqlFI0tz2DsEoJlKSIiT9', 'name': 'Emilia', 'type': 'artist', 'uri': 'spotify:artist:0AqlFI0tz2DsEoJlKSIiT9'}], 'external_urls': {'spotify': 'https://open.spotify.com/album/0ajHIug4wUF4TowpnpQoPc'}, 'total_tracks': 1}, 'artists': [{'external_urls': {'spotify': 'https://open.spotify.com/artist/5Rj6rNR8zIlUUDCs1OyPmW'}, 'href': 'https://api.spotify.com/v1/artists/5Rj6rNR8zIlUUDCs1OyPmW', 'id': '5Rj6rNR8zIlUUDCs1OyPmW', 'name': 'MYA', 'type': 'artist', 'uri': 'spotify:artist:5Rj6rNR8zIlUUDCs1OyPmW'}, {'external_urls': {'spotify': 'https://open.spotify.com/artist/0AqlFI0tz2DsEoJlKSIiT9'}, 'href': 'https://api.spotify.com/v1/artists/0AqlFI0tz2DsEoJlKSIiT9', 'id': '0AqlFI0tz2DsEoJlKSIiT9', 'name': 'Emilia', 'type': 'artist', 'uri': 'spotify:artist:0AqlFI0tz2DsEoJlKSIiT9'}], 'disc_number': 1, 'track_number': 1, 'duration_ms': 205809, 'external_ids': {'isrc': 'ARF102000035'}, 'external_urls': {'spotify': 'https://open.spotify.com/track/3z4y1bSwBoz21QuVqKVnEM'}, 'href': 'https://api.spotify.com/v1/tracks/3z4y1bSwBoz21QuVqKVnEM', 'id': '3z4y1bSwBoz21QuVqKVnEM', 'name': 'HISTERIQUEO', 'popularity': 46, 'uri': 'spotify:track:3z4y1bSwBoz21QuVqKVnEM', 'is_local': False}, 'video_thumbnail': {'url': None}}, {'added_at': '1970-01-01T00:00:00Z', 'added_by': {'external_urls': {'spotify': 'https://open.spotify.com/user/'}, 'href': 'https://api.spotify.com/v1/users/', 'id': '', 'type': 'user', 'uri': 'spotify:user:'}, 'is_local': False, 'primary_color': None, 'track': {'preview_url': 'https://p.scdn.co/mp3-preview/4aa7a38265cbdbf3a0356cbb61345b1f1430c7cf?cid=5236f001113d42aa982409f077a7d5a7', 'available_markets': ['AR', 'AU', 'AT', 'BE', 'BO', 'BR', 'BG', 'CA', 'CL', 'CO', 'CR', 'CY', 'CZ', 'DK', 'DO', 'DE', 'EC', 'EE', 'SV', 'FI', 'FR', 'GR', 'GT', 'HN', 'HK', 'HU', 'IS', 'IE', 'IT', 'LV', 'LT', 'LU', 'MY', 'MT', 'MX', 'NL', 'NZ', 'NI', 'NO', 'PA', 'PY', 'PE', 'PH', 'PL', 'PT', 'SG', 'SK', 'ES', 'SE', 'CH', 'TW', 'TR', 'UY', 'US', 'GB', 'AD', 'LI', 'MC', 'ID', 'JP', 'TH', 'VN', 'RO', 'IL', 'ZA', 'SA', 'AE', 'BH', 'QA', 'OM', 'KW', 'EG', 'MA', 'DZ', 'TN', 'LB', 'JO', 'PS', 'IN', 'BY', 'KZ', 'MD', 'UA', 'AL', 'BA', 'HR', 'ME', 'MK', 'RS', 'SI', 'KR', 'BD', 'PK', 'LK', 'GH', 'KE', 'NG', 'TZ', 'UG', 'AG', 'AM', 'BS', 'BB', 'BZ', 'BT', 'BW', 'BF', 'CV', 'CW', 'DM', 'FJ', 'GM', 'GE', 'GD', 'GW', 'GY', 'HT', 'JM', 'KI', 'LS', 'LR', 'MW', 'MV', 'ML', 'MH', 'FM', 'NA', 'NR', 'NE', 'PW', 'PG', 'PR', 'WS', 'SM', 'ST', 'SN', 'SC', 'SL', 'SB', 'KN', 'LC', 'VC', 'SR', 'TL', 'TO', 'TT', 'TV', 'VU', 'AZ', 'BN', 'BI', 'KH', 'CM', 'TD', 'KM', 'GQ', 'SZ', 'GA', 'GN', 'KG', 'LA', 'MO', 'MR', 'MN', 'NP', 'RW', 'TG', 'UZ', 'ZW', 'BJ', 'MG', 'MU', 'MZ', 'AO', 'CI', 'DJ', 'ZM', 'CD', 'CG', 'IQ', 'LY', 'TJ', 'VE', 'ET', 'XK'], 'explicit': False, 'type': 'track', 'episode': False, 'track': True, 'album': {'available_markets': ['AR', 'AU', 'AT', 'BE', 'BO', 'BR', 'BG', 'CA', 'CL', 'CO', 'CR', 'CY', 'CZ', 'DK', 'DO', 'DE', 'EC', 'EE', 'SV', 'FI', 'FR', 'GR', 'GT', 'HN', 'HK', 'HU', 'IS', 'IE', 'IT', 'LV', 'LT', 'LU', 'MY', 'MT', 'MX', 'NL', 'NZ', 'NI', 'NO', 'PA', 'PY', 'PE', 'PH', 'PL', 'PT', 'SG', 'SK', 'ES', 'SE', 'CH', 'TW', 'TR', 'UY', 'US', 'GB', 'AD', 'LI', 'MC', 'ID', 'JP', 'TH', 'VN', 'RO', 'IL', 'ZA', 'SA', 'AE', 'BH', 'QA', 'OM', 'KW', 'EG', 'MA', 'DZ', 'TN', 'LB', 'JO', 'PS', 'IN', 'BY', 'KZ', 'MD', 'UA', 'AL', 'BA', 'HR', 'ME', 'MK', 'RS', 'SI', 'KR', 'BD', 'PK', 'LK', 'GH', 'KE', 'NG', 'TZ', 'UG', 'AG', 'AM', 'BS', 'BB', 'BZ', 'BT', 'BW', 'BF', 'CV', 'CW', 'DM', 'FJ', 'GM', 'GE', 'GD', 'GW', 'GY', 'HT', 'JM', 'KI', 'LS', 'LR', 'MW', 'MV', 'ML', 'MH', 'FM', 'NA', 'NR', 'NE', 'PW', 'PG', 'PR', 'WS', 'SM', 'ST', 'SN', 'SC', 'SL', 'SB', 'KN', 'LC', 'VC', 'SR', 'TL', 'TO', 'TT', 'TV', 'VU', 'AZ', 'BN', 'BI', 'KH', 'CM', 'TD', 'KM', 'GQ', 'SZ', 'GA', 'GN', 'KG', 'LA', 'MO', 'MR', 'MN', 'NP', 'RW', 'TG', 'UZ', 'ZW', 'BJ', 'MG', 'MU', 'MZ', 'AO', 'CI', 'DJ', 'ZM', 'CD', 'CG', 'IQ', 'LY', 'TJ', 'VE', 'ET', 'XK'], 'type': 'album', 'album_type': 'single', 'href': 'https://api.spotify.com/v1/albums/3Qmka2ojW5eJwfbunxP6rj', 'id': '3Qmka2ojW5eJwfbunxP6rj', 'images': [{'height': 640, 'url': 'https://i.scdn.co/image/ab67616d0000b273b0f51e890976ec75e03d530a', 'width': 640}, {'height': 300, 'url': 'https://i.scdn.co/image/ab67616d00001e02b0f51e890976ec75e03d530a', 'width': 300}, {'height': 64, 'url': 'https://i.scdn.co/image/ab67616d00004851b0f51e890976ec75e03d530a', 'width': 64}], 'name': 'No Soy Yo', 'release_date': '2019-08-30', 'release_date_precision': 'day', 'uri': 'spotify:album:3Qmka2ojW5eJwfbunxP6rj', 'artists': [{'external_urls': {'spotify': 'https://open.spotify.com/artist/0AqlFI0tz2DsEoJlKSIiT9'}, 'href': 'https://api.spotify.com/v1/artists/0AqlFI0tz2DsEoJlKSIiT9', 'id': '0AqlFI0tz2DsEoJlKSIiT9', 'name': 'Emilia', 'type': 'artist', 'uri': 'spotify:artist:0AqlFI0tz2DsEoJlKSIiT9'}, {'external_urls': {'spotify': 'https://open.spotify.com/artist/1TtXnWcUs0FCkaZDPGYHdf'}, 'href': 'https://api.spotify.com/v1/artists/1TtXnWcUs0FCkaZDPGYHdf', 'id': '1TtXnWcUs0FCkaZDPGYHdf', 'name': 'Darell', 'type': 'artist', 'uri': 'spotify:artist:1TtXnWcUs0FCkaZDPGYHdf'}], 'external_urls': {'spotify': 'https://open.spotify.com/album/3Qmka2ojW5eJwfbunxP6rj'}, 'total_tracks': 1}, 'artists': [{'external_urls': {'spotify': 'https://open.spotify.com/artist/0AqlFI0tz2DsEoJlKSIiT9'}, 'href': 'https://api.spotify.com/v1/artists/0AqlFI0tz2DsEoJlKSIiT9', 'id': '0AqlFI0tz2DsEoJlKSIiT9', 'name': 'Emilia', 'type': 'artist', 'uri': 'spotify:artist:0AqlFI0tz2DsEoJlKSIiT9'}, {'external_urls': {'spotify': 'https://open.spotify.com/artist/1TtXnWcUs0FCkaZDPGYHdf'}, 'href': 'https://api.spotify.com/v1/artists/1TtXnWcUs0FCkaZDPGYHdf', 'id': '1TtXnWcUs0FCkaZDPGYHdf', 'name': 'Darell', 'type': 'artist', 'uri': 'spotify:artist:1TtXnWcUs0FCkaZDPGYHdf'}], 'disc_number': 1, 'track_number': 1, 'duration_ms': 196239, 'external_ids': {'isrc': 'USSD11900246'}, 'external_urls': {'spotify': 'https://open.spotify.com/track/67OKX8DNYygddabwIjExsp'}, 'href': 'https://api.spotify.com/v1/tracks/67OKX8DNYygddabwIjExsp', 'id': '67OKX8DNYygddabwIjExsp', 'name': 'No Soy Yo', 'popularity': 47, 'uri': 'spotify:track:67OKX8DNYygddabwIjExsp', 'is_local': False}, 'video_thumbnail': {'url': None}}, {'added_at': '1970-01-01T00:00:00Z', 'added_by': {'external_urls': {'spotify': 'https://open.spotify.com/user/'}, 'href': 'https://api.spotify.com/v1/users/', 'id': '', 'type': 'user', 'uri': 'spotify:user:'}, 'is_local': False, 'primary_color': None, 'track': {'preview_url': 'https://p.scdn.co/mp3-preview/45463ca8afab95730fbf4863060012c71a4b9da2?cid=5236f001113d42aa982409f077a7d5a7', 'available_markets': ['AR', 'AU', 'AT', 'BE', 'BO', 'BR', 'BG', 'CA', 'CL', 'CO', 'CR', 'CY', 'CZ', 'DK', 'DO', 'DE', 'EC', 'EE', 'SV', 'FI', 'FR', 'GR', 'GT', 'HN', 'HK', 'HU', 'IS', 'IE', 'IT', 'LV', 'LT', 'LU', 'MY', 'MT', 'MX', 'NL', 'NZ', 'NI', 'NO', 'PA', 'PY', 'PE', 'PH', 'PL', 'PT', 'SG', 'SK', 'ES', 'SE', 'CH', 'TW', 'TR', 'UY', 'US', 'GB', 'AD', 'LI', 'MC', 'ID', 'JP', 'TH', 'VN', 'RO', 'IL', 'ZA', 'SA', 'AE', 'BH', 'QA', 'OM', 'KW', 'EG', 'MA', 'DZ', 'TN', 'LB', 'JO', 'PS', 'IN', 'BY', 'KZ', 'MD', 'UA', 'AL', 'BA', 'HR', 'ME', 'MK', 'RS', 'SI', 'KR', 'BD', 'PK', 'LK', 'GH', 'KE', 'NG', 'TZ', 'UG', 'AG', 'AM', 'BS', 'BB', 'BZ', 'BT', 'BW', 'BF', 'CV', 'CW', 'DM', 'FJ', 'GM', 'GE', 'GD', 'GW', 'GY', 'HT', 'JM', 'KI', 'LS', 'LR', 'MW', 'MV', 'ML', 'MH', 'FM', 'NA', 'NR', 'NE', 'PW', 'PG', 'PR', 'WS', 'SM', 'ST', 'SN', 'SC', 'SL', 'SB', 'KN', 'LC', 'VC', 'SR', 'TL', 'TO', 'TT', 'TV', 'VU', 'AZ', 'BN', 'BI', 'KH', 'CM', 'TD', 'KM', 'GQ', 'SZ', 'GA', 'GN', 'KG', 'LA', 'MO', 'MR', 'MN', 'NP', 'RW', 'TG', 'UZ', 'ZW', 'BJ', 'MG', 'MU', 'MZ', 'AO', 'CI', 'DJ', 'ZM', 'CD', 'CG', 'IQ', 'LY', 'TJ', 'VE', 'ET', 'XK'], 'explicit': False, 'type': 'track', 'episode': False, 'track': True, 'album': {'available_markets': ['AR', 'AU', 'AT', 'BE', 'BO', 'BR', 'BG', 'CA', 'CL', 'CO', 'CR', 'CY', 'CZ', 'DK', 'DO', 'DE', 'EC', 'EE', 'SV', 'FI', 'FR', 'GR', 'GT', 'HN', 'HK', 'HU', 'IS', 'IE', 'IT', 'LV', 'LT', 'LU', 'MY', 'MT', 'MX', 'NL', 'NZ', 'NI', 'NO', 'PA', 'PY', 'PE', 'PH', 'PL', 'PT', 'SG', 'SK', 'ES', 'SE', 'CH', 'TW', 'TR', 'UY', 'US', 'GB', 'AD', 'LI', 'MC', 'ID', 'JP', 'TH', 'VN', 'RO', 'IL', 'ZA', 'SA', 'AE', 'BH', 'QA', 'OM', 'KW', 'EG', 'MA', 'DZ', 'TN', 'LB', 'JO', 'PS', 'IN', 'BY', 'KZ', 'MD', 'UA', 'AL', 'BA', 'HR', 'ME', 'MK', 'RS', 'SI', 'KR', 'BD', 'PK', 'LK', 'GH', 'KE', 'NG', 'TZ', 'UG', 'AG', 'AM', 'BS', 'BB', 'BZ', 'BT', 'BW', 'BF', 'CV', 'CW', 'DM', 'FJ', 'GM', 'GE', 'GD', 'GW', 'GY', 'HT', 'JM', 'KI', 'LS', 'LR', 'MW', 'MV', 'ML', 'MH', 'FM', 'NA', 'NR', 'NE', 'PW', 'PG', 'PR', 'WS', 'SM', 'ST', 'SN', 'SC', 'SL', 'SB', 'KN', 'LC', 'VC', 'SR', 'TL', 'TO', 'TT', 'TV', 'VU', 'AZ', 'BN', 'BI', 'KH', 'CM', 'TD', 'KM', 'GQ', 'SZ', 'GA', 'GN', 'KG', 'LA', 'MO', 'MR', 'MN', 'NP', 'RW', 'TG', 'UZ', 'ZW', 'BJ', 'MG', 'MU', 'MZ', 'AO', 'CI', 'DJ', 'ZM', 'CD', 'CG', 'IQ', 'LY', 'TJ', 'VE', 'ET', 'XK'], 'type': 'album', 'album_type': 'single', 'href': 'https://api.spotify.com/v1/albums/5R757Dq6goWEZpF0Sym23i', 'id': '5R757Dq6goWEZpF0Sym23i', 'images': [{'height': 640, 'url': 'https://i.scdn.co/image/ab67616d0000b273f5b479c397d80a91af37cc66', 'width': 640}, {'height': 300, 'url': 'https://i.scdn.co/image/ab67616d00001e02f5b479c397d80a91af37cc66', 'width': 300}, {'height': 64, 'url': 'https://i.scdn.co/image/ab67616d00004851f5b479c397d80a91af37cc66', 'width': 64}], 'name': 'Recalienta', 'release_date': '2019-03-08', 'release_date_precision': 'day', 'uri': 'spotify:album:5R757Dq6goWEZpF0Sym23i', 'artists': [{'external_urls': {'spotify': 'https://open.spotify.com/artist/0AqlFI0tz2DsEoJlKSIiT9'}, 'href': 'https://api.spotify.com/v1/artists/0AqlFI0tz2DsEoJlKSIiT9', 'id': '0AqlFI0tz2DsEoJlKSIiT9', 'name': 'Emilia', 'type': 'artist', 'uri': 'spotify:artist:0AqlFI0tz2DsEoJlKSIiT9'}], 'external_urls': {'spotify': 'https://open.spotify.com/album/5R757Dq6goWEZpF0Sym23i'}, 'total_tracks': 1}, 'artists': [{'external_urls': {'spotify': 'https://open.spotify.com/artist/0AqlFI0tz2DsEoJlKSIiT9'}, 'href': 'https://api.spotify.com/v1/artists/0AqlFI0tz2DsEoJlKSIiT9', 'id': '0AqlFI0tz2DsEoJlKSIiT9', 'name': 'Emilia', 'type': 'artist', 'uri': 'spotify:artist:0AqlFI0tz2DsEoJlKSIiT9'}], 'disc_number': 1, 'track_number': 1, 'duration_ms': 198377, 'external_ids': {'isrc': 'USSD11900052'}, 'external_urls': {'spotify': 'https://open.spotify.com/track/2O0WiTabKj4e5CdY1mIFe4'}, 'href': 'https://api.spotify.com/v1/tracks/2O0WiTabKj4e5CdY1mIFe4', 'id': '2O0WiTabKj4e5CdY1mIFe4', 'name': 'Recalienta', 'popularity': 48, 'uri': 'spotify:track:2O0WiTabKj4e5CdY1mIFe4', 'is_local': False}, 'video_thumbnail': {'url': None}}, {'added_at': '1970-01-01T00:00:00Z', 'added_by': {'external_urls': {'spotify': 'https://open.spotify.com/user/'}, 'href': 'https://api.spotify.com/v1/users/', 'id': '', 'type': 'user', 'uri': 'spotify:user:'}, 'is_local': False, 'primary_color': None, 'track': {'preview_url': 'https://p.scdn.co/mp3-preview/ffe706fbbb2d58716daa1b9658769627bd22e6ec?cid=5236f001113d42aa982409f077a7d5a7', 'available_markets': ['AR', 'BO', 'BR', 'BZ', 'CL', 'CO', 'CR', 'DO', 'EC', 'GT', 'GY', 'HN', 'HT', 'MX', 'NI', 'PA', 'PE', 'PY', 'SR', 'SV', 'US', 'UY', 'VE'], 'explicit': False, 'type': 'track', 'episode': False, 'track': True, 'album': {'available_markets': ['AR', 'BO', 'BR', 'BZ', 'CL', 'CO', 'CR', 'DO', 'EC', 'GT', 'GY', 'HN', 'HT', 'MX', 'NI', 'PA', 'PE', 'PY', 'SR', 'SV', 'US', 'UY', 'VE'], 'type': 'album', 'album_type': 'single', 'href': 'https://api.spotify.com/v1/albums/2dO6HvLMmEFMuOLasVY9eC', 'id': '2dO6HvLMmEFMuOLasVY9eC', 'images': [{'height': 640, 'url': 'https://i.scdn.co/image/ab67616d0000b2737947c070c4bcad6bb8c06ee0', 'width': 640}, {'height': 300, 'url': 'https://i.scdn.co/image/ab67616d00001e027947c070c4bcad6bb8c06ee0', 'width': 300}, {'height': 64, 'url': 'https://i.scdn.co/image/ab67616d000048517947c070c4bcad6bb8c06ee0', 'width': 64}], 'name': 'Boomshakalaka', 'release_date': '2019-11-29', 'release_date_precision': 'day', 'uri': 'spotify:album:2dO6HvLMmEFMuOLasVY9eC', 'artists': [{'external_urls': {'spotify': 'https://open.spotify.com/artist/73jBynjsVtofjRpdpRAJGk'}, 'href': 'https://api.spotify.com/v1/artists/73jBynjsVtofjRpdpRAJGk', 'id': '73jBynjsVtofjRpdpRAJGk', 'name': 'Dimitri Vegas & Like Mike', 'type': 'artist', 'uri': 'spotify:artist:73jBynjsVtofjRpdpRAJGk'}, {'external_urls': {'spotify': 'https://open.spotify.com/artist/3wtMPMvPtiFylbnNXF6CAj'}, 'href': 'https://api.spotify.com/v1/artists/3wtMPMvPtiFylbnNXF6CAj', 'id': '3wtMPMvPtiFylbnNXF6CAj', 'name': 'Afro Bros', 'type': 'artist', 'uri': 'spotify:artist:3wtMPMvPtiFylbnNXF6CAj'}, {'external_urls': {'spotify': 'https://open.spotify.com/artist/07YUOmWljBTXwIseAUd9TW'}, 'href': 'https://api.spotify.com/v1/artists/07YUOmWljBTXwIseAUd9TW', 'id': '07YUOmWljBTXwIseAUd9TW', 'name': 'Sebastian Yatra', 'type': 'artist', 'uri': 'spotify:artist:07YUOmWljBTXwIseAUd9TW'}], 'external_urls': {'spotify': 'https://open.spotify.com/album/2dO6HvLMmEFMuOLasVY9eC'}, 'total_tracks': 1}, 'artists': [{'external_urls': {'spotify': 'https://open.spotify.com/artist/73jBynjsVtofjRpdpRAJGk'}, 'href': 'https://api.spotify.com/v1/artists/73jBynjsVtofjRpdpRAJGk', 'id': '73jBynjsVtofjRpdpRAJGk', 'name': 'Dimitri Vegas & Like Mike', 'type': 'artist', 'uri': 'spotify:artist:73jBynjsVtofjRpdpRAJGk'}, {'external_urls': {'spotify': 'https://open.spotify.com/artist/3wtMPMvPtiFylbnNXF6CAj'}, 'href': 'https://api.spotify.com/v1/artists/3wtMPMvPtiFylbnNXF6CAj', 'id': '3wtMPMvPtiFylbnNXF6CAj', 'name': 'Afro Bros', 'type': 'artist', 'uri': 'spotify:artist:3wtMPMvPtiFylbnNXF6CAj'}, {'external_urls': {'spotify': 'https://open.spotify.com/artist/07YUOmWljBTXwIseAUd9TW'}, 'href': 'https://api.spotify.com/v1/artists/07YUOmWljBTXwIseAUd9TW', 'id': '07YUOmWljBTXwIseAUd9TW', 'name': 'Sebastian Yatra', 'type': 'artist', 'uri': 'spotify:artist:07YUOmWljBTXwIseAUd9TW'}, {'external_urls': {'spotify': 'https://open.spotify.com/artist/28gNT5KBp7IjEOQoevXf9N'}, 'href': 'https://api.spotify.com/v1/artists/28gNT5KBp7IjEOQoevXf9N', 'id': '28gNT5KBp7IjEOQoevXf9N', 'name': 'Camilo', 'type': 'artist', 'uri': 'spotify:artist:28gNT5KBp7IjEOQoevXf9N'}, {'external_urls': {'spotify': 'https://open.spotify.com/artist/0AqlFI0tz2DsEoJlKSIiT9'}, 'href': 'https://api.spotify.com/v1/artists/0AqlFI0tz2DsEoJlKSIiT9', 'id': '0AqlFI0tz2DsEoJlKSIiT9', 'name': 'Emilia', 'type': 'artist', 'uri': 'spotify:artist:0AqlFI0tz2DsEoJlKSIiT9'}], 'disc_number': 1, 'track_number': 1, 'duration_ms': 211920, 'external_ids': {'isrc': 'BEG851900101'}, 'external_urls': {'spotify': 'https://open.spotify.com/track/4yb5Z9dwnKhO9gC0AZQYDe'}, 'href': 'https://api.spotify.com/v1/tracks/4yb5Z9dwnKhO9gC0AZQYDe', 'id': '4yb5Z9dwnKhO9gC0AZQYDe', 'name': 'Boomshakalaka', 'popularity': 48, 'uri': 'spotify:track:4yb5Z9dwnKhO9gC0AZQYDe', 'is_local': False}, 'video_thumbnail': {'url': None}}, {'added_at': '1970-01-01T00:00:00Z', 'added_by': {'external_urls': {'spotify': 'https://open.spotify.com/user/'}, 'href': 'https://api.spotify.com/v1/users/', 'id': '', 'type': 'user', 'uri': 'spotify:user:'}, 'is_local': False, 'primary_color': None, 'track': {'preview_url': 'https://p.scdn.co/mp3-preview/f2e9540c53c082a1fed55fa1adb0c1ae3573bee7?cid=5236f001113d42aa982409f077a7d5a7', 'available_markets': ['AR', 'AU', 'AT', 'BE', 'BO', 'BR', 'BG', 'CA', 'CL', 'CO', 'CR', 'CY', 'CZ', 'DK', 'DO', 'DE', 'EC', 'EE', 'SV', 'FI', 'FR', 'GR', 'GT', 'HN', 'HK', 'HU', 'IS', 'IE', 'IT', 'LV', 'LT', 'LU', 'MY', 'MT', 'MX', 'NL', 'NZ', 'NI', 'NO', 'PA', 'PY', 'PE', 'PH', 'PL', 'PT', 'SG', 'SK', 'ES', 'SE', 'CH', 'TW', 'TR', 'UY', 'US', 'GB', 'AD', 'LI', 'MC', 'ID', 'JP', 'TH', 'VN', 'RO', 'IL', 'ZA', 'SA', 'AE', 'BH', 'QA', 'OM', 'KW', 'EG', 'MA', 'DZ', 'TN', 'LB', 'JO', 'PS', 'IN', 'BY', 'KZ', 'MD', 'UA', 'AL', 'BA', 'HR', 'ME', 'MK', 'RS', 'SI', 'KR', 'BD', 'PK', 'LK', 'GH', 'KE', 'NG', 'TZ', 'UG', 'AG', 'AM', 'BS', 'BB', 'BZ', 'BT', 'BW', 'BF', 'CV', 'CW', 'DM', 'FJ', 'GM', 'GE', 'GD', 'GW', 'GY', 'HT', 'JM', 'KI', 'LS', 'LR', 'MW', 'MV', 'ML', 'MH', 'FM', 'NA', 'NR', 'NE', 'PW', 'PG', 'PR', 'WS', 'SM', 'ST', 'SN', 'SC', 'SL', 'SB', 'KN', 'LC', 'VC', 'SR', 'TL', 'TO', 'TT', 'TV', 'VU', 'AZ', 'BN', 'BI', 'KH', 'CM', 'TD', 'KM', 'GQ', 'SZ', 'GA', 'GN', 'KG', 'LA', 'MO', 'MR', 'MN', 'NP', 'RW', 'TG', 'UZ', 'ZW', 'BJ', 'MG', 'MU', 'MZ', 'AO', 'CI', 'DJ', 'ZM', 'CD', 'CG', 'IQ', 'LY', 'TJ', 'VE', 'ET', 'XK'], 'explicit': False, 'type': 'track', 'episode': False, 'track': True, 'album': {'available_markets': ['AR', 'AU', 'AT', 'BE', 'BO', 'BR', 'BG', 'CA', 'CL', 'CO', 'CR', 'CY', 'CZ', 'DK', 'DO', 'DE', 'EC', 'EE', 'SV', 'FI', 'FR', 'GR', 'GT', 'HN', 'HK', 'HU', 'IS', 'IE', 'IT', 'LV', 'LT', 'LU', 'MY', 'MT', 'MX', 'NL', 'NZ', 'NI', 'NO', 'PA', 'PY', 'PE', 'PH', 'PL', 'PT', 'SG', 'SK', 'ES', 'SE', 'CH', 'TW', 'TR', 'UY', 'US', 'GB', 'AD', 'LI', 'MC', 'ID', 'JP', 'TH', 'VN', 'RO', 'IL', 'ZA', 'SA', 'AE', 'BH', 'QA', 'OM', 'KW', 'EG', 'MA', 'DZ', 'TN', 'LB', 'JO', 'PS', 'IN', 'BY', 'KZ', 'MD', 'UA', 'AL', 'BA', 'HR', 'ME', 'MK', 'RS', 'SI', 'KR', 'BD', 'PK', 'LK', 'GH', 'KE', 'NG', 'TZ', 'UG', 'AG', 'AM', 'BS', 'BB', 'BZ', 'BT', 'BW', 'BF', 'CV', 'CW', 'DM', 'FJ', 'GM', 'GE', 'GD', 'GW', 'GY', 'HT', 'JM', 'KI', 'LS', 'LR', 'MW', 'MV', 'ML', 'MH', 'FM', 'NA', 'NR', 'NE', 'PW', 'PG', 'PR', 'WS', 'SM', 'ST', 'SN', 'SC', 'SL', 'SB', 'KN', 'LC', 'VC', 'SR', 'TL', 'TO', 'TT', 'TV', 'VU', 'AZ', 'BN', 'BI', 'KH', 'CM', 'TD', 'KM', 'GQ', 'SZ', 'GA', 'GN', 'KG', 'LA', 'MO', 'MR', 'MN', 'NP', 'RW', 'TG', 'UZ', 'ZW', 'BJ', 'MG', 'MU', 'MZ', 'AO', 'CI', 'DJ', 'ZM', 'CD', 'CG', 'IQ', 'LY', 'TJ', 'VE', 'ET', 'XK'], 'type': 'album', 'album_type': 'single', 'href': 'https://api.spotify.com/v1/albums/1ngKwKbpwwd5twNds3LN8N', 'id': '1ngKwKbpwwd5twNds3LN8N', 'images': [{'height': 640, 'url': 'https://i.scdn.co/image/ab67616d0000b273771d2a79f9ac4ae5b318ce6b', 'width': 640}, {'height': 300, 'url': 'https://i.scdn.co/image/ab67616d00001e02771d2a79f9ac4ae5b318ce6b', 'width': 300}, {'height': 64, 'url': 'https://i.scdn.co/image/ab67616d00004851771d2a79f9ac4ae5b318ce6b', 'width': 64}], 'name': 'Bendición', 'release_date': '2020-10-15', 'release_date_precision': 'day', 'uri': 'spotify:album:1ngKwKbpwwd5twNds3LN8N', 'artists': [{'external_urls': {'spotify': 'https://open.spotify.com/artist/0AqlFI0tz2DsEoJlKSIiT9'}, 'href': 'https://api.spotify.com/v1/artists/0AqlFI0tz2DsEoJlKSIiT9', 'id': '0AqlFI0tz2DsEoJlKSIiT9', 'name': 'Emilia', 'type': 'artist', 'uri': 'spotify:artist:0AqlFI0tz2DsEoJlKSIiT9'}, {'external_urls': {'spotify': 'https://open.spotify.com/artist/2DspEsT7UXGKd2VaaedgG4'}, 'href': 'https://api.spotify.com/v1/artists/2DspEsT7UXGKd2VaaedgG4', 'id': '2DspEsT7UXGKd2VaaedgG4', 'name': 'Alex Rose', 'type': 'artist', 'uri': 'spotify:artist:2DspEsT7UXGKd2VaaedgG4'}], 'external_urls': {'spotify': 'https://open.spotify.com/album/1ngKwKbpwwd5twNds3LN8N'}, 'total_tracks': 1}, 'artists': [{'external_urls': {'spotify': 'https://open.spotify.com/artist/0AqlFI0tz2DsEoJlKSIiT9'}, 'href': 'https://api.spotify.com/v1/artists/0AqlFI0tz2DsEoJlKSIiT9', 'id': '0AqlFI0tz2DsEoJlKSIiT9', 'name': 'Emilia', 'type': 'artist', 'uri': 'spotify:artist:0AqlFI0tz2DsEoJlKSIiT9'}, {'external_urls': {'spotify': 'https://open.spotify.com/artist/2DspEsT7UXGKd2VaaedgG4'}, 'href': 'https://api.spotify.com/v1/artists/2DspEsT7UXGKd2VaaedgG4', 'id': '2DspEsT7UXGKd2VaaedgG4', 'name': 'Alex Rose', 'type': 'artist', 'uri': 'spotify:artist:2DspEsT7UXGKd2VaaedgG4'}], 'disc_number': 1, 'track_number': 1, 'duration_ms': 185988, 'external_ids': {'isrc': 'USSD12000416'}, 'external_urls': {'spotify': 'https://open.spotify.com/track/54LxLkCDvShuYKRtTUQ2G4'}, 'href': 'https://api.spotify.com/v1/tracks/54LxLkCDvShuYKRtTUQ2G4', 'id': '54LxLkCDvShuYKRtTUQ2G4', 'name': 'Bendición', 'popularity': 46, 'uri': 'spotify:track:54LxLkCDvShuYKRtTUQ2G4', 'is_local': False}, 'video_thumbnail': {'url': None}}, {'added_at': '1970-01-01T00:00:00Z', 'added_by': {'external_urls': {'spotify': 'https://open.spotify.com/user/'}, 'href': 'https://api.spotify.com/v1/users/', 'id': '', 'type': 'user', 'uri': 'spotify:user:'}, 'is_local': False, 'primary_color': None, 'track': {'preview_url': None, 'available_markets': ['AR', 'AU', 'AT', 'BE', 'BO', 'BR', 'BG', 'CA', 'CL', 'CO', 'CR', 'CY', 'CZ', 'DK', 'DO', 'DE', 'EC', 'EE', 'SV', 'FI', 'FR', 'GR', 'GT', 'HN', 'HK', 'HU', 'IS', 'IE', 'IT', 'LV', 'LT', 'LU', 'MY', 'MT', 'MX', 'NL', 'NZ', 'NI', 'NO', 'PA', 'PY', 'PE', 'PH', 'PL', 'PT', 'SG', 'SK', 'ES', 'SE', 'CH', 'TW', 'TR', 'UY', 'US', 'GB', 'AD', 'LI', 'MC', 'ID', 'JP', 'TH', 'VN', 'RO', 'IL', 'ZA', 'SA', 'AE', 'BH', 'QA', 'OM', 'KW', 'EG', 'MA', 'DZ', 'TN', 'LB', 'JO', 'PS', 'IN', 'KZ', 'MD', 'UA', 'AL', 'BA', 'HR', 'ME', 'MK', 'RS', 'SI', 'KR', 'BD', 'PK', 'LK', 'GH', 'KE', 'NG', 'TZ', 'UG', 'AG', 'AM', 'BS', 'BB', 'BZ', 'BT', 'BW', 'BF', 'CV', 'CW', 'DM', 'FJ', 'GM', 'GE', 'GD', 'GW', 'GY', 'HT', 'JM', 'KI', 'LS', 'LR', 'MW', 'MV', 'ML', 'MH', 'FM', 'NA', 'NR', 'NE', 'PW', 'PG', 'WS', 'SM', 'ST', 'SN', 'SC', 'SL', 'SB', 'KN', 'LC', 'VC', 'SR', 'TL', 'TO', 'TT', 'TV', 'VU', 'AZ', 'BN', 'BI', 'KH', 'CM', 'TD', 'KM', 'GQ', 'SZ', 'GA', 'GN', 'KG', 'LA', 'MO', 'MR', 'MN', 'NP', 'RW', 'TG', 'UZ', 'ZW', 'BJ', 'MG', 'MU', 'MZ', 'AO', 'CI', 'DJ', 'ZM', 'CD', 'CG', 'IQ', 'LY', 'TJ', 'VE', 'ET', 'XK'], 'explicit': True, 'type': 'track', 'episode': False, 'track': True, 'album': {'available_markets': ['AR', 'AU', 'AT', 'BE', 'BO', 'BR', 'BG', 'CA', 'CL', 'CO', 'CR', 'CY', 'CZ', 'DK', 'DO', 'DE', 'EC', 'EE', 'SV', 'FI', 'FR', 'GR', 'GT', 'HN', 'HK', 'HU', 'IS', 'IE', 'IT', 'LV', 'LT', 'LU', 'MY', 'MT', 'MX', 'NL', 'NZ', 'NI', 'NO', 'PA', 'PY', 'PE', 'PH', 'PL', 'PT', 'SG', 'SK', 'ES', 'SE', 'CH', 'TW', 'TR', 'UY', 'US', 'GB', 'AD', 'LI', 'MC', 'ID', 'JP', 'TH', 'VN', 'RO', 'IL', 'ZA', 'SA', 'AE', 'BH', 'QA', 'OM', 'KW', 'EG', 'MA', 'DZ', 'TN', 'LB', 'JO', 'PS', 'IN', 'KZ', 'MD', 'UA', 'AL', 'BA', 'HR', 'ME', 'MK', 'RS', 'SI', 'KR', 'BD', 'PK', 'LK', 'GH', 'KE', 'NG', 'TZ', 'UG', 'AG', 'AM', 'BS', 'BB', 'BZ', 'BT', 'BW', 'BF', 'CV', 'CW', 'DM', 'FJ', 'GM', 'GE', 'GD', 'GW', 'GY', 'HT', 'JM', 'KI', 'LS', 'LR', 'MW', 'MV', 'ML', 'MH', 'FM', 'NA', 'NR', 'NE', 'PW', 'PG', 'WS', 'SM', 'ST', 'SN', 'SC', 'SL', 'SB', 'KN', 'LC', 'VC', 'SR', 'TL', 'TO', 'TT', 'TV', 'VU', 'AZ', 'BN', 'BI', 'KH', 'CM', 'TD', 'KM', 'GQ', 'SZ', 'GA', 'GN', 'KG', 'LA', 'MO', 'MR', 'MN', 'NP', 'RW', 'TG', 'UZ', 'ZW', 'BJ', 'MG', 'MU', 'MZ', 'AO', 'CI', 'DJ', 'ZM', 'CD', 'CG', 'IQ', 'LY', 'TJ', 'VE', 'ET', 'XK'], 'type': 'album', 'album_type': 'single', 'href': 'https://api.spotify.com/v1/albums/7vy05msyjhqtzv6wgemce7', 'id': '7vy05msyjhqtzv6wgemce7', 'images': [{'height': 640, 'url': 'https://i.scdn.co/image/ab67616d0000b273688613f20fd9548fe91cca2b', 'width': 640}, {'height': 300, 'url': 'https://i.scdn.co/image/ab67616d00001e02688613f20fd9548fe91cca2b', 'width': 300}, {'height': 64, 'url': 'https://i.scdn.co/image/ab67616d00004851688613f20fd9548fe91cca2b', 'width': 64}], 'name': 'Q-Lito', 'release_date': '2022-07-01', 'release_date_precision': 'day', 'uri': 'spotify:album:7vy05msyjhqtzv6wgemce7', 'artists': [{'external_urls': {'spotify': 'https://open.spotify.com/artist/6Itjwvv5YmsC8ZcI5N4Jux'}, 'href': 'https://api.spotify.com/v1/artists/6Itjwvv5YmsC8ZcI5N4Jux', 'id': '6Itjwvv5YmsC8ZcI5N4Jux', 'name': 'Sael', 'type': 'artist', 'uri': 'spotify:artist:6Itjwvv5YmsC8ZcI5N4Jux'}, {'external_urls': {'spotify': 'https://open.spotify.com/artist/0AqlFI0tz2DsEoJlKSIiT9'}, 'href': 'https://api.spotify.com/v1/artists/0AqlFI0tz2DsEoJlKSIiT9', 'id': '0AqlFI0tz2DsEoJlKSIiT9', 'name': 'Emilia', 'type': 'artist', 'uri': 'spotify:artist:0AqlFI0tz2DsEoJlKSIiT9'}], 'external_urls': {'spotify': 'https://open.spotify.com/album/7vy05msyjhqtzv6wgemce7'}, 'total_tracks': 1}, 'artists': [{'external_urls': {'spotify': 'https://open.spotify.com/artist/6Itjwvv5YmsC8ZcI5N4Jux'}, 'href': 'https://api.spotify.com/v1/artists/6Itjwvv5YmsC8ZcI5N4Jux', 'id': '6Itjwvv5YmsC8ZcI5N4Jux', 'name': 'Sael', 'type': 'artist', 'uri': 'spotify:artist:6Itjwvv5YmsC8ZcI5N4Jux'}, {'external_urls': {'spotify': 'https://open.spotify.com/artist/0AqlFI0tz2DsEoJlKSIiT9'}, 'href': 'https://api.spotify.com/v1/artists/0AqlFI0tz2DsEoJlKSIiT9', 'id': '0AqlFI0tz2DsEoJlKSIiT9', 'name': 'Emilia', 'type': 'artist', 'uri': 'spotify:artist:0AqlFI0tz2DsEoJlKSIiT9'}], 'disc_number': 1, 'track_number': 1, 'duration_ms': 188360, 'external_ids': {'isrc': 'QZV4A2200024'}, 'external_urls': {'spotify': 'https://open.spotify.com/track/1W9c0BUe6ETdtBfQyqeOgw'}, 'href': 'https://api.spotify.com/v1/tracks/1W9c0BUe6ETdtBfQyqeOgw', 'id': '1W9c0BUe6ETdtBfQyqeOgw', 'name': 'Q-Lito', 'popularity': 45, 'uri': 'spotify:track:1W9c0BUe6ETdtBfQyqeOgw', 'is_local': False}, 'video_thumbnail': {'url': None}}, {'added_at': '1970-01-01T00:00:00Z', 'added_by': {'external_urls': {'spotify': 'https://open.spotify.com/user/'}, 'href': 'https://api.spotify.com/v1/users/', 'id': '', 'type': 'user', 'uri': 'spotify:user:'}, 'is_local': False, 'primary_color': None, 'track': {'preview_url': 'https://p.scdn.co/mp3-preview/4ba398c0bb044d18d9a13097d415ab0ead3891e4?cid=5236f001113d42aa982409f077a7d5a7', 'available_markets': ['AR', 'AU', 'AT', 'BE', 'BO', 'BR', 'BG', 'CA', 'CL', 'CO', 'CR', 'CY', 'CZ', 'DK', 'DO', 'DE', 'EC', 'EE', 'SV', 'FI', 'FR', 'GR', 'GT', 'HN', 'HK', 'HU', 'IS', 'IE', 'IT', 'LV', 'LT', 'LU', 'MY', 'MT', 'MX', 'NL', 'NZ', 'NI', 'NO', 'PA', 'PY', 'PE', 'PH', 'PL', 'PT', 'SG', 'SK', 'ES', 'SE', 'CH', 'TW', 'TR', 'UY', 'US', 'GB', 'AD', 'LI', 'MC', 'ID', 'JP', 'TH', 'VN', 'RO', 'IL', 'ZA', 'SA', 'AE', 'BH', 'QA', 'OM', 'KW', 'EG', 'MA', 'DZ', 'TN', 'LB', 'JO', 'PS', 'IN', 'BY', 'KZ', 'MD', 'UA', 'AL', 'BA', 'HR', 'ME', 'MK', 'RS', 'SI', 'KR', 'BD', 'PK', 'LK', 'GH', 'KE', 'NG', 'TZ', 'UG', 'AG', 'AM', 'BS', 'BB', 'BZ', 'BT', 'BW', 'BF', 'CV', 'CW', 'DM', 'FJ', 'GM', 'GE', 'GD', 'GW', 'GY', 'HT', 'JM', 'KI', 'LS', 'LR', 'MW', 'MV', 'ML', 'MH', 'FM', 'NA', 'NR', 'NE', 'PW', 'PG', 'PR', 'WS', 'SM', 'ST', 'SN', 'SC', 'SL', 'SB', 'KN', 'LC', 'VC', 'SR', 'TL', 'TO', 'TT', 'TV', 'VU', 'AZ', 'BN', 'BI', 'KH', 'CM', 'TD', 'KM', 'GQ', 'SZ', 'GA', 'GN', 'KG', 'LA', 'MO', 'MR', 'MN', 'NP', 'RW', 'TG', 'UZ', 'ZW', 'BJ', 'MG', 'MU', 'MZ', 'AO', 'CI', 'DJ', 'ZM', 'CD', 'CG', 'IQ', 'LY', 'TJ', 'VE', 'ET', 'XK'], 'explicit': False, 'type': 'track', 'episode': False, 'track': True, 'album': {'available_markets': ['AR', 'AU', 'AT', 'BE', 'BO', 'BR', 'BG', 'CA', 'CL', 'CO', 'CR', 'CY', 'CZ', 'DK', 'DO', 'DE', 'EC', 'EE', 'SV', 'FI', 'FR', 'GR', 'GT', 'HN', 'HK', 'HU', 'IS', 'IE', 'IT', 'LV', 'LT', 'LU', 'MY', 'MT', 'MX', 'NL', 'NZ', 'NI', 'NO', 'PA', 'PY', 'PE', 'PH', 'PL', 'PT', 'SG', 'SK', 'ES', 'SE', 'CH', 'TW', 'TR', 'UY', 'US', 'GB', 'AD', 'LI', 'MC', 'ID', 'JP', 'TH', 'VN', 'RO', 'IL', 'ZA', 'SA', 'AE', 'BH', 'QA', 'OM', 'KW', 'EG', 'MA', 'DZ', 'TN', 'LB', 'JO', 'PS', 'IN', 'BY', 'KZ', 'MD', 'UA', 'AL', 'BA', 'HR', 'ME', 'MK', 'RS', 'SI', 'KR', 'BD', 'PK', 'LK', 'GH', 'KE', 'NG', 'TZ', 'UG', 'AG', 'AM', 'BS', 'BB', 'BZ', 'BT', 'BW', 'BF', 'CV', 'CW', 'DM', 'FJ', 'GM', 'GE', 'GD', 'GW', 'GY', 'HT', 'JM', 'KI', 'LS', 'LR', 'MW', 'MV', 'ML', 'MH', 'FM', 'NA', 'NR', 'NE', 'PW', 'PG', 'PR', 'WS', 'SM', 'ST', 'SN', 'SC', 'SL', 'SB', 'KN', 'LC', 'VC', 'SR', 'TL', 'TO', 'TT', 'TV', 'VU', 'AZ', 'BN', 'BI', 'KH', 'CM', 'TD', 'KM', 'GQ', 'SZ', 'GA', 'GN', 'KG', 'LA', 'MO', 'MR', 'MN', 'NP', 'RW', 'TG', 'UZ', 'ZW', 'BJ', 'MG', 'MU', 'MZ', 'AO', 'CI', 'DJ', 'ZM', 'CD', 'CG', 'IQ', 'LY', 'TJ', 'VE', 'ET', 'XK'], 'type': 'album', 'album_type': 'single', 'href': 'https://api.spotify.com/v1/albums/52wcnAEamts2IYdOxpDMcm', 'id': '52wcnAEamts2IYdOxpDMcm', 'images': [{'height': 640, 'url': 'https://i.scdn.co/image/ab67616d0000b2738a93376205220e0bd70c6155', 'width': 640}, {'height': 300, 'url': 'https://i.scdn.co/image/ab67616d00001e028a93376205220e0bd70c6155', 'width': 300}, {'height': 64, 'url': 'https://i.scdn.co/image/ab67616d000048518a93376205220e0bd70c6155', 'width': 64}], 'name': 'Billion', 'release_date': '2019-12-19', 'release_date_precision': 'day', 'uri': 'spotify:album:52wcnAEamts2IYdOxpDMcm', 'artists': [{'external_urls': {'spotify': 'https://open.spotify.com/artist/0AqlFI0tz2DsEoJlKSIiT9'}, 'href': 'https://api.spotify.com/v1/artists/0AqlFI0tz2DsEoJlKSIiT9', 'id': '0AqlFI0tz2DsEoJlKSIiT9', 'name': 'Emilia', 'type': 'artist', 'uri': 'spotify:artist:0AqlFI0tz2DsEoJlKSIiT9'}], 'external_urls': {'spotify': 'https://open.spotify.com/album/52wcnAEamts2IYdOxpDMcm'}, 'total_tracks': 1}, 'artists': [{'external_urls': {'spotify': 'https://open.spotify.com/artist/0AqlFI0tz2DsEoJlKSIiT9'}, 'href': 'https://api.spotify.com/v1/artists/0AqlFI0tz2DsEoJlKSIiT9', 'id': '0AqlFI0tz2DsEoJlKSIiT9', 'name': 'Emilia', 'type': 'artist', 'uri': 'spotify:artist:0AqlFI0tz2DsEoJlKSIiT9'}], 'disc_number': 1, 'track_number': 1, 'duration_ms': 179040, 'external_ids': {'isrc': 'USSD11900411'}, 'external_urls': {'spotify': 'https://open.spotify.com/track/0LX3DnrnDI7dkiKsfWbgj5'}, 'href': 'https://api.spotify.com/v1/tracks/0LX3DnrnDI7dkiKsfWbgj5', 'id': '0LX3DnrnDI7dkiKsfWbgj5', 'name': 'Billion', 'popularity': 45, 'uri': 'spotify:track:0LX3DnrnDI7dkiKsfWbgj5', 'is_local': False}, 'video_thumbnail': {'url': None}}, {'added_at': '1970-01-01T00:00:00Z', 'added_by': {'external_urls': {'spotify': 'https://open.spotify.com/user/'}, 'href': 'https://api.spotify.com/v1/users/', 'id': '', 'type': 'user', 'uri': 'spotify:user:'}, 'is_local': False, 'primary_color': None, 'track': {'preview_url': 'https://p.scdn.co/mp3-preview/a895c5a4a55afe9bbce08f9fb7543e482bec5cd8?cid=5236f001113d42aa982409f077a7d5a7', 'available_markets': ['AR', 'AU', 'AT', 'BE', 'BO', 'BR', 'BG', 'CA', 'CL', 'CO', 'CR', 'CY', 'CZ', 'DK', 'DO', 'DE', 'EC', 'EE', 'SV', 'FI', 'FR', 'GR', 'GT', 'HN', 'HK', 'HU', 'IS', 'IE', 'IT', 'LV', 'LT', 'LU', 'MY', 'MT', 'MX', 'NL', 'NZ', 'NI', 'NO', 'PA', 'PY', 'PE', 'PH', 'PL', 'PT', 'SG', 'SK', 'ES', 'SE', 'CH', 'TW', 'TR', 'UY', 'US', 'GB', 'AD', 'LI', 'MC', 'ID', 'JP', 'TH', 'VN', 'RO', 'IL', 'ZA', 'SA', 'AE', 'BH', 'QA', 'OM', 'KW', 'EG', 'MA', 'DZ', 'TN', 'LB', 'JO', 'PS', 'IN', 'BY', 'KZ', 'MD', 'UA', 'AL', 'BA', 'HR', 'ME', 'MK', 'RS', 'SI', 'KR', 'BD', 'PK', 'LK', 'GH', 'KE', 'NG', 'TZ', 'UG', 'AG', 'AM', 'BS', 'BB', 'BZ', 'BT', 'BW', 'BF', 'CV', 'CW', 'DM', 'FJ', 'GM', 'GE', 'GD', 'GW', 'GY', 'HT', 'JM', 'KI', 'LS', 'LR', 'MW', 'MV', 'ML', 'MH', 'FM', 'NA', 'NR', 'NE', 'PW', 'PG', 'PR', 'WS', 'SM', 'ST', 'SN', 'SC', 'SL', 'SB', 'KN', 'LC', 'VC', 'SR', 'TL', 'TO', 'TT', 'TV', 'VU', 'AZ', 'BN', 'BI', 'KH', 'CM', 'TD', 'KM', 'GQ', 'SZ', 'GA', 'GN', 'KG', 'LA', 'MO', 'MR', 'MN', 'NP', 'RW', 'TG', 'UZ', 'ZW', 'BJ', 'MG', 'MU', 'MZ', 'AO', 'CI', 'DJ', 'ZM', 'CD', 'CG', 'IQ', 'LY', 'TJ', 'VE', 'ET', 'XK'], 'explicit': True, 'type': 'track', 'episode': False, 'track': True, 'album': {'available_markets': ['AR', 'AU', 'AT', 'BE', 'BO', 'BR', 'BG', 'CA', 'CL', 'CO', 'CR', 'CY', 'CZ', 'DK', 'DO', 'DE', 'EC', 'EE', 'SV', 'FI', 'FR', 'GR', 'GT', 'HN', 'HK', 'HU', 'IS', 'IE', 'IT', 'LV', 'LT', 'LU', 'MY', 'MT', 'MX', 'NL', 'NZ', 'NI', 'NO', 'PA', 'PY', 'PE', 'PH', 'PL', 'PT', 'SG', 'SK', 'ES', 'SE', 'CH', 'TW', 'TR', 'UY', 'US', 'GB', 'AD', 'LI', 'MC', 'ID', 'JP', 'TH', 'VN', 'RO', 'IL', 'ZA', 'SA', 'AE', 'BH', 'QA', 'OM', 'KW', 'EG', 'MA', 'DZ', 'TN', 'LB', 'JO', 'PS', 'IN', 'BY', 'KZ', 'MD', 'UA', 'AL', 'BA', 'HR', 'ME', 'MK', 'RS', 'SI', 'KR', 'BD', 'PK', 'LK', 'GH', 'KE', 'NG', 'TZ', 'UG', 'AG', 'AM', 'BS', 'BB', 'BZ', 'BT', 'BW', 'BF', 'CV', 'CW', 'DM', 'FJ', 'GM', 'GE', 'GD', 'GW', 'GY', 'HT', 'JM', 'KI', 'LS', 'LR', 'MW', 'MV', 'ML', 'MH', 'FM', 'NA', 'NR', 'NE', 'PW', 'PG', 'PR', 'WS', 'SM', 'ST', 'SN', 'SC', 'SL', 'SB', 'KN', 'LC', 'VC', 'SR', 'TL', 'TO', 'TT', 'TV', 'VU', 'AZ', 'BN', 'BI', 'KH', 'CM', 'TD', 'KM', 'GQ', 'SZ', 'GA', 'GN', 'KG', 'LA', 'MO', 'MR', 'MN', 'NP', 'RW', 'TG', 'UZ', 'ZW', 'BJ', 'MG', 'MU', 'MZ', 'AO', 'CI', 'DJ', 'ZM', 'CD', 'CG', 'IQ', 'LY', 'TJ', 'VE', 'ET', 'XK'], 'type': 'album', 'album_type': 'single', 'href': 'https://api.spotify.com/v1/albums/6aBXXL93A2l6PEsXHfGomS', 'id': '6aBXXL93A2l6PEsXHfGomS', 'images': [{'height': 640, 'url': 'https://i.scdn.co/image/ab67616d0000b27309380027792f2633c30d88d2', 'width': 640}, {'height': 300, 'url': 'https://i.scdn.co/image/ab67616d00001e0209380027792f2633c30d88d2', 'width': 300}, {'height': 64, 'url': 'https://i.scdn.co/image/ab67616d0000485109380027792f2633c30d88d2', 'width': 64}], 'name': '828', 'release_date': '2021-11-11', 'release_date_precision': 'day', 'uri': 'spotify:album:6aBXXL93A2l6PEsXHfGomS', 'artists': [{'external_urls': {'spotify': 'https://open.spotify.com/artist/18qC8mrcJ9ZjChRDPvpadi'}, 'href': 'https://api.spotify.com/v1/artists/18qC8mrcJ9ZjChRDPvpadi', 'id': '18qC8mrcJ9ZjChRDPvpadi', 'name': 'Aleesha', 'type': 'artist', 'uri': 'spotify:artist:18qC8mrcJ9ZjChRDPvpadi'}, {'external_urls': {'spotify': 'https://open.spotify.com/artist/0AqlFI0tz2DsEoJlKSIiT9'}, 'href': 'https://api.spotify.com/v1/artists/0AqlFI0tz2DsEoJlKSIiT9', 'id': '0AqlFI0tz2DsEoJlKSIiT9', 'name': 'Emilia', 'type': 'artist', 'uri': 'spotify:artist:0AqlFI0tz2DsEoJlKSIiT9'}], 'external_urls': {'spotify': 'https://open.spotify.com/album/6aBXXL93A2l6PEsXHfGomS'}, 'total_tracks': 1}, 'artists': [{'external_urls': {'spotify': 'https://open.spotify.com/artist/18qC8mrcJ9ZjChRDPvpadi'}, 'href': 'https://api.spotify.com/v1/artists/18qC8mrcJ9ZjChRDPvpadi', 'id': '18qC8mrcJ9ZjChRDPvpadi', 'name': 'Aleesha', 'type': 'artist', 'uri': 'spotify:artist:18qC8mrcJ9ZjChRDPvpadi'}, {'external_urls': {'spotify': 'https://open.spotify.com/artist/0AqlFI0tz2DsEoJlKSIiT9'}, 'href': 'https://api.spotify.com/v1/artists/0AqlFI0tz2DsEoJlKSIiT9', 'id': '0AqlFI0tz2DsEoJlKSIiT9', 'name': 'Emilia', 'type': 'artist', 'uri': 'spotify:artist:0AqlFI0tz2DsEoJlKSIiT9'}], 'disc_number': 1, 'track_number': 1, 'duration_ms': 204497, 'external_ids': {'isrc': 'UYB282150002'}, 'external_urls': {'spotify': 'https://open.spotify.com/track/5FYUCl30XA4avs2aBKhKaL'}, 'href': 'https://api.spotify.com/v1/tracks/5FYUCl30XA4avs2aBKhKaL', 'id': '5FYUCl30XA4avs2aBKhKaL', 'name': '828', 'popularity': 44, 'uri': 'spotify:track:5FYUCl30XA4avs2aBKhKaL', 'is_local': False}, 'video_thumbnail': {'url': None}}, {'added_at': '1970-01-01T00:00:00Z', 'added_by': {'external_urls': {'spotify': 'https://open.spotify.com/user/'}, 'href': 'https://api.spotify.com/v1/users/', 'id': '', 'type': 'user', 'uri': 'spotify:user:'}, 'is_local': False, 'primary_color': None, 'track': {'preview_url': 'https://p.scdn.co/mp3-preview/c1e26a2c4620149594035fcb13460ecd0ab51141?cid=5236f001113d42aa982409f077a7d5a7', 'available_markets': ['AR', 'AU', 'AT', 'BE', 'BO', 'BR', 'BG', 'CA', 'CL', 'CO', 'CR', 'CY', 'CZ', 'DK', 'DO', 'DE', 'EC', 'EE', 'SV', 'FI', 'FR', 'GR', 'GT', 'HN', 'HK', 'HU', 'IS', 'IE', 'IT', 'LV', 'LT', 'LU', 'MY', 'MT', 'MX', 'NL', 'NZ', 'NI', 'NO', 'PA', 'PY', 'PE', 'PH', 'PL', 'PT', 'SG', 'SK', 'ES', 'SE', 'CH', 'TW', 'TR', 'UY', 'US', 'GB', 'AD', 'LI', 'MC', 'ID', 'JP', 'TH', 'VN', 'RO', 'IL', 'ZA', 'SA', 'AE', 'BH', 'QA', 'OM', 'KW', 'EG', 'MA', 'DZ', 'TN', 'LB', 'JO', 'PS', 'IN', 'BY', 'KZ', 'MD', 'UA', 'AL', 'BA', 'HR', 'ME', 'MK', 'RS', 'SI', 'KR', 'BD', 'PK', 'LK', 'GH', 'KE', 'NG', 'TZ', 'UG', 'AG', 'AM', 'BS', 'BB', 'BZ', 'BT', 'BW', 'BF', 'CV', 'CW', 'DM', 'FJ', 'GM', 'GE', 'GD', 'GW', 'GY', 'HT', 'JM', 'KI', 'LS', 'LR', 'MW', 'MV', 'ML', 'MH', 'FM', 'NA', 'NR', 'NE', 'PW', 'PG', 'PR', 'WS', 'SM', 'ST', 'SN', 'SC', 'SL', 'SB', 'KN', 'LC', 'VC', 'SR', 'TL', 'TO', 'TT', 'TV', 'VU', 'AZ', 'BN', 'BI', 'KH', 'CM', 'TD', 'KM', 'GQ', 'SZ', 'GA', 'GN', 'KG', 'LA', 'MO', 'MR', 'MN', 'NP', 'RW', 'TG', 'UZ', 'ZW', 'BJ', 'MG', 'MU', 'MZ', 'AO', 'CI', 'DJ', 'ZM', 'CD', 'CG', 'IQ', 'LY', 'TJ', 'VE', 'ET', 'XK'], 'explicit': False, 'type': 'track', 'episode': False, 'track': True, 'album': {'available_markets': ['AR', 'AU', 'AT', 'BE', 'BO', 'BR', 'BG', 'CA', 'CL', 'CO', 'CR', 'CY', 'CZ', 'DK', 'DO', 'DE', 'EC', 'EE', 'SV', 'FI', 'FR', 'GR', 'GT', 'HN', 'HK', 'HU', 'IS', 'IE', 'IT', 'LV', 'LT', 'LU', 'MY', 'MT', 'MX', 'NL', 'NZ', 'NI', 'NO', 'PA', 'PY', 'PE', 'PH', 'PL', 'PT', 'SG', 'SK', 'ES', 'SE', 'CH', 'TW', 'TR', 'UY', 'US', 'GB', 'AD', 'LI', 'MC', 'ID', 'JP', 'TH', 'VN', 'RO', 'IL', 'ZA', 'SA', 'AE', 'BH', 'QA', 'OM', 'KW', 'EG', 'MA', 'DZ', 'TN', 'LB', 'JO', 'PS', 'IN', 'BY', 'KZ', 'MD', 'UA', 'AL', 'BA', 'HR', 'ME', 'MK', 'RS', 'SI', 'KR', 'BD', 'PK', 'LK', 'GH', 'KE', 'NG', 'TZ', 'UG', 'AG', 'AM', 'BS', 'BB', 'BZ', 'BT', 'BW', 'BF', 'CV', 'CW', 'DM', 'FJ', 'GM', 'GE', 'GD', 'GW', 'GY', 'HT', 'JM', 'KI', 'LS', 'LR', 'MW', 'MV', 'ML', 'MH', 'FM', 'NA', 'NR', 'NE', 'PW', 'PG', 'PR', 'WS', 'SM', 'ST', 'SN', 'SC', 'SL', 'SB', 'KN', 'LC', 'VC', 'SR', 'TL', 'TO', 'TT', 'TV', 'VU', 'AZ', 'BN', 'BI', 'KH', 'CM', 'TD', 'KM', 'GQ', 'SZ', 'GA', 'GN', 'KG', 'LA', 'MO', 'MR', 'MN', 'NP', 'RW', 'TG', 'UZ', 'ZW', 'BJ', 'MG', 'MU', 'MZ', 'AO', 'CI', 'DJ', 'ZM', 'CD', 'CG', 'IQ', 'LY', 'TJ', 'VE', 'ET', 'XK'], 'type': 'album', 'album_type': 'album', 'href': 'https://api.spotify.com/v1/albums/3jxfIy0En401wjrtIZcBXh', 'id': '3jxfIy0En401wjrtIZcBXh', 'images': [{'height': 640, 'url': 'https://i.scdn.co/image/ab67616d0000b2736b80e867d136a0c53b72e732', 'width': 640}, {'height': 300, 'url': 'https://i.scdn.co/image/ab67616d00001e026b80e867d136a0c53b72e732', 'width': 300}, {'height': 64, 'url': 'https://i.scdn.co/image/ab67616d000048516b80e867d136a0c53b72e732', 'width': 64}], 'name': 'Emilia en Vivo', 'release_date': '2022-10-28', 'release_date_precision': 'day', 'uri': 'spotify:album:3jxfIy0En401wjrtIZcBXh', 'artists': [{'external_urls': {'spotify': 'https://open.spotify.com/artist/0AqlFI0tz2DsEoJlKSIiT9'}, 'href': 'https://api.spotify.com/v1/artists/0AqlFI0tz2DsEoJlKSIiT9', 'id': '0AqlFI0tz2DsEoJlKSIiT9', 'name': 'Emilia', 'type': 'artist', 'uri': 'spotify:artist:0AqlFI0tz2DsEoJlKSIiT9'}], 'external_urls': {'spotify': 'https://open.spotify.com/album/3jxfIy0En401wjrtIZcBXh'}, 'total_tracks': 9}, 'artists': [{'external_urls': {'spotify': 'https://open.spotify.com/artist/0AqlFI0tz2DsEoJlKSIiT9'}, 'href': 'https://api.spotify.com/v1/artists/0AqlFI0tz2DsEoJlKSIiT9', 'id': '0AqlFI0tz2DsEoJlKSIiT9', 'name': 'Emilia', 'type': 'artist', 'uri': 'spotify:artist:0AqlFI0tz2DsEoJlKSIiT9'}], 'disc_number': 1, 'track_number': 2, 'duration_ms': 165168, 'external_ids': {'isrc': 'USSD12201137'}, 'external_urls': {'spotify': 'https://open.spotify.com/track/2EaqSjTQuzsQ3F8ncmsFKW'}, 'href': 'https://api.spotify.com/v1/tracks/2EaqSjTQuzsQ3F8ncmsFKW', 'id': '2EaqSjTQuzsQ3F8ncmsFKW', 'name': 'BB - Emilia en Vivo', 'popularity': 43, 'uri': 'spotify:track:2EaqSjTQuzsQ3F8ncmsFKW', 'is_local': False}, 'video_thumbnail': {'url': None}}, {'added_at': '1970-01-01T00:00:00Z', 'added_by': {'external_urls': {'spotify': 'https://open.spotify.com/user/'}, 'href': 'https://api.spotify.com/v1/users/', 'id': '', 'type': 'user', 'uri': 'spotify:user:'}, 'is_local': False, 'primary_color': None, 'track': {'preview_url': 'https://p.scdn.co/mp3-preview/3174c893aa4184399eaa52ac3afbd7b518d80194?cid=5236f001113d42aa982409f077a7d5a7', 'available_markets': ['AR', 'AU', 'AT', 'BE', 'BO', 'BR', 'BG', 'CA', 'CL', 'CO', 'CR', 'CY', 'CZ', 'DK', 'DO', 'DE', 'EC', 'EE', 'SV', 'FI', 'FR', 'GR', 'GT', 'HN', 'HK', 'HU', 'IS', 'IE', 'IT', 'LV', 'LT', 'LU', 'MY', 'MT', 'MX', 'NL', 'NZ', 'NI', 'NO', 'PA', 'PY', 'PE', 'PH', 'PL', 'PT', 'SG', 'SK', 'ES', 'SE', 'CH', 'TW', 'TR', 'UY', 'US', 'GB', 'AD', 'LI', 'MC', 'ID', 'JP', 'TH', 'VN', 'RO', 'IL', 'ZA', 'SA', 'AE', 'BH', 'QA', 'OM', 'KW', 'EG', 'MA', 'DZ', 'TN', 'LB', 'JO', 'PS', 'IN', 'BY', 'KZ', 'MD', 'UA', 'AL', 'BA', 'HR', 'ME', 'MK', 'RS', 'SI', 'KR', 'BD', 'PK', 'LK', 'GH', 'KE', 'NG', 'TZ', 'UG', 'AG', 'AM', 'BS', 'BB', 'BZ', 'BT', 'BW', 'BF', 'CV', 'CW', 'DM', 'FJ', 'GM', 'GE', 'GD', 'GW', 'GY', 'HT', 'JM', 'KI', 'LS', 'LR', 'MW', 'MV', 'ML', 'MH', 'FM', 'NA', 'NR', 'NE', 'PW', 'PG', 'PR', 'WS', 'SM', 'ST', 'SN', 'SC', 'SL', 'SB', 'KN', 'LC', 'VC', 'SR', 'TL', 'TO', 'TT', 'TV', 'VU', 'AZ', 'BN', 'BI', 'KH', 'CM', 'TD', 'KM', 'GQ', 'SZ', 'GA', 'GN', 'KG', 'LA', 'MO', 'MR', 'MN', 'NP', 'RW', 'TG', 'UZ', 'ZW', 'BJ', 'MG', 'MU', 'MZ', 'AO', 'CI', 'DJ', 'ZM', 'CD', 'CG', 'IQ', 'LY', 'TJ', 'VE', 'ET', 'XK'], 'explicit': False, 'type': 'track', 'episode': False, 'track': True, 'album': {'available_markets': ['AR', 'AU', 'AT', 'BE', 'BO', 'BR', 'BG', 'CA', 'CL', 'CO', 'CR', 'CY', 'CZ', 'DK', 'DO', 'DE', 'EC', 'EE', 'SV', 'FI', 'FR', 'GR', 'GT', 'HN', 'HK', 'HU', 'IS', 'IE', 'IT', 'LV', 'LT', 'LU', 'MY', 'MT', 'MX', 'NL', 'NZ', 'NI', 'NO', 'PA', 'PY', 'PE', 'PH', 'PL', 'PT', 'SG', 'SK', 'ES', 'SE', 'CH', 'TW', 'TR', 'UY', 'US', 'GB', 'AD', 'LI', 'MC', 'ID', 'JP', 'TH', 'VN', 'RO', 'IL', 'ZA', 'SA', 'AE', 'BH', 'QA', 'OM', 'KW', 'EG', 'MA', 'DZ', 'TN', 'LB', 'JO', 'PS', 'IN', 'BY', 'KZ', 'MD', 'UA', 'AL', 'BA', 'HR', 'ME', 'MK', 'RS', 'SI', 'KR', 'BD', 'PK', 'LK', 'GH', 'KE', 'NG', 'TZ', 'UG', 'AG', 'AM', 'BS', 'BB', 'BZ', 'BT', 'BW', 'BF', 'CV', 'CW', 'DM', 'FJ', 'GM', 'GE', 'GD', 'GW', 'GY', 'HT', 'JM', 'KI', 'LS', 'LR', 'MW', 'MV', 'ML', 'MH', 'FM', 'NA', 'NR', 'NE', 'PW', 'PG', 'PR', 'WS', 'SM', 'ST', 'SN', 'SC', 'SL', 'SB', 'KN', 'LC', 'VC', 'SR', 'TL', 'TO', 'TT', 'TV', 'VU', 'AZ', 'BN', 'BI', 'KH', 'CM', 'TD', 'KM', 'GQ', 'SZ', 'GA', 'GN', 'KG', 'LA', 'MO', 'MR', 'MN', 'NP', 'RW', 'TG', 'UZ', 'ZW', 'BJ', 'MG', 'MU', 'MZ', 'AO', 'CI', 'DJ', 'ZM', 'CD', 'CG', 'IQ', 'LY', 'TJ', 'VE', 'ET', 'XK'], 'type': 'album', 'album_type': 'single', 'href': 'https://api.spotify.com/v1/albums/7GRrr1fX97vePkRz5ATbi6', 'id': '7GRrr1fX97vePkRz5ATbi6', 'images': [{'height': 640, 'url': 'https://i.scdn.co/image/ab67616d0000b273831e19b34b8cf440108b15e9', 'width': 640}, {'height': 300, 'url': 'https://i.scdn.co/image/ab67616d00001e02831e19b34b8cf440108b15e9', 'width': 300}, {'height': 64, 'url': 'https://i.scdn.co/image/ab67616d00004851831e19b34b8cf440108b15e9', 'width': 64}], 'name': 'Pal Perreo', 'release_date': '2022-03-10', 'release_date_precision': 'day', 'uri': 'spotify:album:7GRrr1fX97vePkRz5ATbi6', 'artists': [{'external_urls': {'spotify': 'https://open.spotify.com/artist/0dUyjgCyjfj5eMx6bX2TWf'}, 'href': 'https://api.spotify.com/v1/artists/0dUyjgCyjfj5eMx6bX2TWf', 'id': '0dUyjgCyjfj5eMx6bX2TWf', 'name': 'FMK', 'type': 'artist', 'uri': 'spotify:artist:0dUyjgCyjfj5eMx6bX2TWf'}, {'external_urls': {'spotify': 'https://open.spotify.com/artist/0AqlFI0tz2DsEoJlKSIiT9'}, 'href': 'https://api.spotify.com/v1/artists/0AqlFI0tz2DsEoJlKSIiT9', 'id': '0AqlFI0tz2DsEoJlKSIiT9', 'name': 'Emilia', 'type': 'artist', 'uri': 'spotify:artist:0AqlFI0tz2DsEoJlKSIiT9'}, {'external_urls': {'spotify': 'https://open.spotify.com/artist/0BqURncJM5B1BBu7UM51eq'}, 'href': 'https://api.spotify.com/v1/artists/0BqURncJM5B1BBu7UM51eq', 'id': '0BqURncJM5B1BBu7UM51eq', 'name': 'Guaynaa', 'type': 'artist', 'uri': 'spotify:artist:0BqURncJM5B1BBu7UM51eq'}], 'external_urls': {'spotify': 'https://open.spotify.com/album/7GRrr1fX97vePkRz5ATbi6'}, 'total_tracks': 1}, 'artists': [{'external_urls': {'spotify': 'https://open.spotify.com/artist/0dUyjgCyjfj5eMx6bX2TWf'}, 'href': 'https://api.spotify.com/v1/artists/0dUyjgCyjfj5eMx6bX2TWf', 'id': '0dUyjgCyjfj5eMx6bX2TWf', 'name': 'FMK', 'type': 'artist', 'uri': 'spotify:artist:0dUyjgCyjfj5eMx6bX2TWf'}, {'external_urls': {'spotify': 'https://open.spotify.com/artist/0AqlFI0tz2DsEoJlKSIiT9'}, 'href': 'https://api.spotify.com/v1/artists/0AqlFI0tz2DsEoJlKSIiT9', 'id': '0AqlFI0tz2DsEoJlKSIiT9', 'name': 'Emilia', 'type': 'artist', 'uri': 'spotify:artist:0AqlFI0tz2DsEoJlKSIiT9'}, {'external_urls': {'spotify': 'https://open.spotify.com/artist/0BqURncJM5B1BBu7UM51eq'}, 'href': 'https://api.spotify.com/v1/artists/0BqURncJM5B1BBu7UM51eq', 'id': '0BqURncJM5B1BBu7UM51eq', 'name': 'Guaynaa', 'type': 'artist', 'uri': 'spotify:artist:0BqURncJM5B1BBu7UM51eq'}], 'disc_number': 1, 'track_number': 1, 'duration_ms': 162666, 'external_ids': {'isrc': 'ARF102200046'}, 'external_urls': {'spotify': 'https://open.spotify.com/track/607uAAsoV2mkEZuZR5J59s'}, 'href': 'https://api.spotify.com/v1/tracks/607uAAsoV2mkEZuZR5J59s', 'id': '607uAAsoV2mkEZuZR5J59s', 'name': 'Pal Perreo', 'popularity': 43, 'uri': 'spotify:track:607uAAsoV2mkEZuZR5J59s', 'is_local': False}, 'video_thumbnail': {'url': None}}, {'added_at': '1970-01-01T00:00:00Z', 'added_by': {'external_urls': {'spotify': 'https://open.spotify.com/user/'}, 'href': 'https://api.spotify.com/v1/users/', 'id': '', 'type': 'user', 'uri': 'spotify:user:'}, 'is_local': False, 'primary_color': None, 'track': {'preview_url': 'https://p.scdn.co/mp3-preview/f17aa89a3fba0c796f4e92a38eba6b5112f72faa?cid=5236f001113d42aa982409f077a7d5a7', 'available_markets': ['AR', 'AU', 'AT', 'BE', 'BO', 'BR', 'BG', 'CA', 'CL', 'CO', 'CR', 'CY', 'CZ', 'DK', 'DO', 'DE', 'EC', 'EE', 'SV', 'FI', 'FR', 'GR', 'GT', 'HN', 'HK', 'HU', 'IS', 'IE', 'IT', 'LV', 'LT', 'LU', 'MY', 'MT', 'MX', 'NL', 'NZ', 'NI', 'NO', 'PA', 'PY', 'PE', 'PH', 'PL', 'PT', 'SG', 'SK', 'ES', 'SE', 'CH', 'TW', 'TR', 'UY', 'US', 'GB', 'AD', 'LI', 'MC', 'ID', 'JP', 'TH', 'VN', 'RO', 'IL', 'ZA', 'SA', 'AE', 'BH', 'QA', 'OM', 'KW', 'EG', 'MA', 'DZ', 'TN', 'LB', 'JO', 'PS', 'IN', 'BY', 'KZ', 'MD', 'UA', 'AL', 'BA', 'HR', 'ME', 'MK', 'RS', 'SI', 'KR', 'BD', 'PK', 'LK', 'GH', 'KE', 'NG', 'TZ', 'UG', 'AG', 'AM', 'BS', 'BB', 'BZ', 'BT', 'BW', 'BF', 'CV', 'CW', 'DM', 'FJ', 'GM', 'GE', 'GD', 'GW', 'GY', 'HT', 'JM', 'KI', 'LS', 'LR', 'MW', 'MV', 'ML', 'MH', 'FM', 'NA', 'NR', 'NE', 'PW', 'PG', 'PR', 'WS', 'SM', 'ST', 'SN', 'SC', 'SL', 'SB', 'KN', 'LC', 'VC', 'SR', 'TL', 'TO', 'TT', 'TV', 'VU', 'AZ', 'BN', 'BI', 'KH', 'CM', 'TD', 'KM', 'GQ', 'SZ', 'GA', 'GN', 'KG', 'LA', 'MO', 'MR', 'MN', 'NP', 'RW', 'TG', 'UZ', 'ZW', 'BJ', 'MG', 'MU', 'MZ', 'AO', 'CI', 'DJ', 'ZM', 'CD', 'CG', 'IQ', 'LY', 'TJ', 'VE', 'ET', 'XK'], 'explicit': False, 'type': 'track', 'episode': False, 'track': True, 'album': {'available_markets': ['AR', 'AU', 'AT', 'BE', 'BO', 'BR', 'BG', 'CA', 'CL', 'CO', 'CR', 'CY', 'CZ', 'DK', 'DO', 'DE', 'EC', 'EE', 'SV', 'FI', 'FR', 'GR', 'GT', 'HN', 'HK', 'HU', 'IS', 'IE', 'IT', 'LV', 'LT', 'LU', 'MY', 'MT', 'MX', 'NL', 'NZ', 'NI', 'NO', 'PA', 'PY', 'PE', 'PH', 'PL', 'PT', 'SG', 'SK', 'ES', 'SE', 'CH', 'TW', 'TR', 'UY', 'US', 'GB', 'AD', 'LI', 'MC', 'ID', 'JP', 'TH', 'VN', 'RO', 'IL', 'ZA', 'SA', 'AE', 'BH', 'QA', 'OM', 'KW', 'EG', 'MA', 'DZ', 'TN', 'LB', 'JO', 'PS', 'IN', 'BY', 'KZ', 'MD', 'UA', 'AL', 'BA', 'HR', 'ME', 'MK', 'RS', 'SI', 'KR', 'BD', 'PK', 'LK', 'GH', 'KE', 'NG', 'TZ', 'UG', 'AG', 'AM', 'BS', 'BB', 'BZ', 'BT', 'BW', 'BF', 'CV', 'CW', 'DM', 'FJ', 'GM', 'GE', 'GD', 'GW', 'GY', 'HT', 'JM', 'KI', 'LS', 'LR', 'MW', 'MV', 'ML', 'MH', 'FM', 'NA', 'NR', 'NE', 'PW', 'PG', 'PR', 'WS', 'SM', 'ST', 'SN', 'SC', 'SL', 'SB', 'KN', 'LC', 'VC', 'SR', 'TL', 'TO', 'TT', 'TV', 'VU', 'AZ', 'BN', 'BI', 'KH', 'CM', 'TD', 'KM', 'GQ', 'SZ', 'GA', 'GN', 'KG', 'LA', 'MO', 'MR', 'MN', 'NP', 'RW', 'TG', 'UZ', 'ZW', 'BJ', 'MG', 'MU', 'MZ', 'AO', 'CI', 'DJ', 'ZM', 'CD', 'CG', 'IQ', 'LY', 'TJ', 'VE', 'ET', 'XK'], 'type': 'album', 'album_type': 'single', 'href': 'https://api.spotify.com/v1/albums/0YbJiVZxRmLNeEVrtRvbwQ', 'id': '0YbJiVZxRmLNeEVrtRvbwQ', 'images': [{'height': 640, 'url': 'https://i.scdn.co/image/ab67616d0000b2737af470d3120a1a430e0d7331', 'width': 640}, {'height': 300, 'url': 'https://i.scdn.co/image/ab67616d00001e027af470d3120a1a430e0d7331', 'width': 300}, {'height': 64, 'url': 'https://i.scdn.co/image/ab67616d000048517af470d3120a1a430e0d7331', 'width': 64}], 'name': 'No Más', 'release_date': '2020-02-24', 'release_date_precision': 'day', 'uri': 'spotify:album:0YbJiVZxRmLNeEVrtRvbwQ', 'artists': [{'external_urls': {'spotify': 'https://open.spotify.com/artist/0AqlFI0tz2DsEoJlKSIiT9'}, 'href': 'https://api.spotify.com/v1/artists/0AqlFI0tz2DsEoJlKSIiT9', 'id': '0AqlFI0tz2DsEoJlKSIiT9', 'name': 'Emilia', 'type': 'artist', 'uri': 'spotify:artist:0AqlFI0tz2DsEoJlKSIiT9'}], 'external_urls': {'spotify': 'https://open.spotify.com/album/0YbJiVZxRmLNeEVrtRvbwQ'}, 'total_tracks': 1}, 'artists': [{'external_urls': {'spotify': 'https://open.spotify.com/artist/0AqlFI0tz2DsEoJlKSIiT9'}, 'href': 'https://api.spotify.com/v1/artists/0AqlFI0tz2DsEoJlKSIiT9', 'id': '0AqlFI0tz2DsEoJlKSIiT9', 'name': 'Emilia', 'type': 'artist', 'uri': 'spotify:artist:0AqlFI0tz2DsEoJlKSIiT9'}], 'disc_number': 1, 'track_number': 1, 'duration_ms': 152631, 'external_ids': {'isrc': 'USSD12000028'}, 'external_urls': {'spotify': 'https://open.spotify.com/track/2WUmmdgeXxIKhEbsfKZ4fd'}, 'href': 'https://api.spotify.com/v1/tracks/2WUmmdgeXxIKhEbsfKZ4fd', 'id': '2WUmmdgeXxIKhEbsfKZ4fd', 'name': 'No Más', 'popularity': 43, 'uri': 'spotify:track:2WUmmdgeXxIKhEbsfKZ4fd', 'is_local': False}, 'video_thumbnail': {'url': None}}], 'limit': 100, 'next': None, 'offset': 0, 'previous': None, 'total': 48}\n"
     ]
    }
   ],
   "source": [
    "import requests\n",
    "\n",
    "playlist_id = \"37i9dQZF1DZ06evO0hrh28\"\n",
    "base_url = \"https://api.spotify.com/v1/playlists\"\n",
    "request_url = f\"{base_url}/{playlist_id}/tracks\"\n",
    "access_token = auth_response['access_token']\n",
    "headers = {\n",
    "    \"Authorization\": f\"Bearer {access_token}\"\n",
    "}\n",
    "playlist_response = requests.get(request_url, headers=headers)\n",
    "print(playlist_response.json())\n"
   ]
  },
  {
   "cell_type": "markdown",
   "metadata": {
    "deletable": false,
    "editable": false,
    "nbgrader": {
     "cell_type": "markdown",
     "checksum": "62c645efcef9330afd1ce627f148c949",
     "grade": false,
     "grade_id": "cell-a0e2648807398f17",
     "locked": true,
     "schema_version": 3,
     "solution": false,
     "task": false
    }
   },
   "source": [
    "<div class=\"alert alert-info\"><b>Exercise 2 </b>Convert the response to JSON format and store the result in a new variable called <i>playlist</i>.</div>"
   ]
  },
  {
   "cell_type": "code",
   "execution_count": 13,
   "metadata": {
    "deletable": false,
    "nbgrader": {
     "cell_type": "code",
     "checksum": "e312a6da82f8c4bc37df98d9182e9662",
     "grade": false,
     "grade_id": "ex2",
     "locked": false,
     "schema_version": 3,
     "solution": true,
     "task": false
    }
   },
   "outputs": [
    {
     "name": "stdout",
     "output_type": "stream",
     "text": [
      "playlist_response.json()\n"
     ]
    }
   ],
   "source": [
    "playlist = \"playlist_response.json()\"\n",
    "print(playlist)"
   ]
  },
  {
   "cell_type": "markdown",
   "metadata": {
    "deletable": false,
    "editable": false,
    "nbgrader": {
     "cell_type": "markdown",
     "checksum": "b51517101346973dbf5fbd08ee139254",
     "grade": false,
     "grade_id": "cell-037d31ddebe9044",
     "locked": true,
     "schema_version": 3,
     "solution": false,
     "task": false
    }
   },
   "source": [
    "The following cells contain the tests that will grade your code. **Don't modify them**. Simply leave them as they are."
   ]
  },
  {
   "cell_type": "markdown",
   "metadata": {
    "deletable": false,
    "editable": false,
    "nbgrader": {
     "cell_type": "markdown",
     "checksum": "6807f8df03b3fa6532a0da803a849c9d",
     "grade": false,
     "grade_id": "cell-8d3092be4da0c3a5",
     "locked": true,
     "schema_version": 3,
     "solution": false,
     "task": false
    }
   },
   "source": [
    "Take your time to familiarize yourself with the data and how they are presented. Note that, by default, Spotify's API only returns information about a maximum of 100 tracks in a playlist. If your playlist of choice has more that 100 tracks, you'll retrieve the data only for the first 100 of them.\n",
    "\n",
    "<div class=\"alert alert-danger\">Throghout the following exercises you may come across data that are missing. If so, encode these data using a <b>None</b> (Nonetype), unless otherwise stated. </div>\n",
    "\n",
    "## Retrieving basic track information\n",
    "\n",
    "In what follows, you are going to retrieve specific data for each of the tracks contained in your playlist.\n",
    "\n",
    "<div class=\"alert alert-info\"><b>Exercise 3 </b>Write the code to extract the title (in string form), the name of the album (in string form), the name of the artist (in string form), the duration (in integer form), the track number (in integer form), the popularity (in integer form), and the id (in string form) for all the tracks included in your chosen playlist. Store these data in separate lists called <i>title</i>, <i>album</i>, <i>artist</i>, <i>duration</i>, <i>track_number</i>, <i>track_popularity</i>, and <i>track_id</i>, respectively. In those cases where more than one value is available for these items, retain only the first. In all cases, entries should appear in the same order as they are presented in the playlist.<br></div>\n",
    "\n",
    "<div class=\"alert alert-warning\">Make sure you correctly set all variable names. They have to be written <b>exactly</b> as given in the instructions.</div>"
   ]
  },
  {
   "cell_type": "code",
   "execution_count": 14,
   "metadata": {
    "deletable": false,
    "nbgrader": {
     "cell_type": "code",
     "checksum": "69b315830f2239f6d81c0964227610ff",
     "grade": false,
     "grade_id": "ex3",
     "locked": false,
     "schema_version": 3,
     "solution": true,
     "task": false
    }
   },
   "outputs": [
    {
     "name": "stdout",
     "output_type": "stream",
     "text": [
      "Titles: ['intoxicao', 'Los del Espacio', 'noviogangsta <3', 'Perdonarte, ¿Para Qué?', 'Alegría', 'CARITA TRISTE', 'La_Playlist.mpeg', 'La_Original.mp3', 'Una Foto Remix (feat. Emilia)', 'No_se_ve.mp3', 'En La Intimidad | CROSSOVER #1', 'Exclusive.mp3', 'como si no importara', 'TU Y YO', 'Uno los Dos', 'Jagger.mp3', 'Quieres', 'cuatro veinte', 'Salgo a Bailar', 'GTA.mp3', 'La Chain', 'cielo en la mente', 'Underground', 'IConic.mp3', 'rápido lento', 'mi otra mitad', 'BB', 'Facts.mp3', 'De Enero a Diciembre', 'la balada', 'Esto Recién Empieza', 'Perreito Salvaje', 'El Plan', 'latin girl', 'Tu Recuerdo', 'NAGASAKI', 'ULTRAVIOLETA', 'HISTERIQUEO', 'No Soy Yo', 'Recalienta', 'Boomshakalaka', 'Bendición', 'Q-Lito', 'Billion', '828', 'BB - Emilia en Vivo', 'Pal Perreo', 'No Más']\n",
      "Albums: ['intoxicao', 'Los del Espacio', 'noviogangsta <3', 'Perdonarte, ¿Para Qué?', 'Alegría', 'CARITA TRISTE', 'La_Playlist.mpeg', '.mp3', 'Una Foto Remix (feat. Emilia)', 'No_se_ve.mp3', 'En La Intimidad | CROSSOVER #1', '.mp3', 'Tú crees en mí?', 'TU Y YO', 'Hotel Miranda!', '.mp3', 'Quieres', 'Tú crees en mí?', 'Salgo a Bailar', '.mp3', 'La Chain', 'Tú crees en mí?', 'Underground', '.mp3', 'rápido lento', 'Tú crees en mí?', 'SUENA MYA!', '.mp3', 'De Enero a Diciembre', 'Tú crees en mí?', 'Esto Recién Empieza', 'Perreito Salvaje', 'El Plan', 'Tú crees en mí?', 'Tu Recuerdo', 'NAGASAKI', 'EL DRAGÓN', 'HISTERIQUEO', 'No Soy Yo', 'Recalienta', 'Boomshakalaka', 'Bendición', 'Q-Lito', 'Billion', '828', 'Emilia en Vivo', 'Pal Perreo', 'No Más']\n",
      "Artists: ['Emilia', 'LIT killah', 'Emilia', 'Los Ángeles Azules', 'Tiago PZK', 'Ana Mena', 'Emilia', 'Emilia', 'Mesita', 'Emilia', 'Big One', 'Emilia', 'Emilia', 'KHEA', 'Miranda!', 'Emilia', 'Aitana', 'Emilia', 'FMK', 'Emilia', 'Emilia', 'Emilia', 'Emilia', 'Emilia', 'Emilia', 'Emilia', 'MYA', 'Emilia', 'Emilia', 'Emilia', 'Duki', 'Emilia', 'Rusherking', 'Emilia', 'Wisin', 'Polimá Westcoast', 'Lola Indigo', 'MYA', 'Emilia', 'Emilia', 'Dimitri Vegas & Like Mike', 'Emilia', 'Sael', 'Emilia', 'Aleesha', 'Emilia', 'FMK', 'Emilia']\n",
      "Durations (ms): [168508, 338000, 157209, 193933, 165054, 175296, 149571, 140625, 243898, 203636, 165854, 120600, 173052, 192517, 215248, 155861, 213666, 133894, 157830, 151653, 139518, 169566, 149471, 181043, 213000, 166714, 156325, 130098, 164289, 165959, 172352, 171428, 217951, 166799, 209203, 206098, 161586, 205809, 196239, 198377, 211920, 185988, 188360, 179040, 204497, 165168, 162666, 152631]\n",
      "Track Numbers: [1, 1, 1, 1, 1, 1, 1, 5, 1, 1, 1, 7, 2, 1, 5, 2, 1, 3, 1, 6, 1, 8, 1, 4, 1, 5, 1, 1, 1, 6, 1, 1, 1, 1, 1, 1, 9, 1, 1, 1, 1, 1, 1, 1, 1, 2, 1, 1]\n",
      "Track Popularity: [61, 74, 62, 81, 78, 77, 74, 75, 76, 71, 69, 70, 67, 64, 63, 67, 62, 62, 61, 65, 57, 58, 58, 65, 57, 55, 54, 62, 55, 54, 55, 51, 51, 53, 50, 50, 48, 46, 47, 48, 48, 46, 45, 45, 44, 43, 43, 43]\n",
      "Track IDs: ['2Znff2J1fAgQhXXEMW7y5V', '1Hs1uUl8o2VtDp1DABFq0O', '7yrTny7FLWLbfIzsxoicWj', '4dLLdfiniBhDP9dlJQIOi4', '5v9LMshhQsNtkUkcXRGO7i', '2mYlSgPvC5Np4mDg9DU5Mc', '0Cs2ANiGsCOQLKnCrNJ6hA', '6Es8Sk3xe1HiJ2MXCfHHwR', '1kqH58eGh2ZTOHwqBIB2tM', '2iIBpwP4FyQ95xgVail3yr', '7w7BrPbOjF5OxChs2dxFve', '5f4mOETLngamMDTJnbF9s7', '7M0mBls29IohQIPGqegcyE', '00THZGfbizNvMUkJsQs74K', '6tjz2ZCL2jmPY1jPsbRk2H', '5XUWO8VqwE4PEkLYAtt7h7', '4iGnpp1h0i33lpoP42Y8Jt', '3ushwCdjpWNdSnZgRFU6Oc', '7xX7bER73YZSE4m76OpMXV', '6hv8hai0yo19JF2c6pppj6', '5lkgHMBFyhk6P3jinwsYo0', '0Q1NGtkEts8tjIC4eSWiya', '3QWCxOv2YharMus6KbfiPJ', '6ZVLfXr015ogdhov4FW4pG', '4xv2A022v5A8nyewDkYOkQ', '2Cna21irIvinVSJdGda8Om', '3sVuWmggRqfAK3qk7OIEAz', '2QWV6LlwgXF0ZIcg4VxkUh', '1p22yVi9e8DT6BEUvOZ0TL', '5hgjF68xugLDOyLSjfe8QN', '0ZLkb9lDDlTPwYZPvuGnHB', '4hs52wFSucGnS5dYryIZ4F', '7kwWynCThNe0IhUTxjRxtW', '42uno8Ku7ydFRwjD7OcXDI', '3K4vutqVlY3eINQWb6jSJF', '0sAVtc720YIqLD0w9GpLwD', '3OFS5I1SC248VIuWFe4NPJ', '3z4y1bSwBoz21QuVqKVnEM', '67OKX8DNYygddabwIjExsp', '2O0WiTabKj4e5CdY1mIFe4', '4yb5Z9dwnKhO9gC0AZQYDe', '54LxLkCDvShuYKRtTUQ2G4', '1W9c0BUe6ETdtBfQyqeOgw', '0LX3DnrnDI7dkiKsfWbgj5', '5FYUCl30XA4avs2aBKhKaL', '2EaqSjTQuzsQ3F8ncmsFKW', '607uAAsoV2mkEZuZR5J59s', '2WUmmdgeXxIKhEbsfKZ4fd']\n"
     ]
    }
   ],
   "source": [
    "import requests\n",
    "\n",
    "playlist_id = \"37i9dQZF1DZ06evO0hrh28\"\n",
    "base_url = \"https://api.spotify.com/v1\"\n",
    "access_token = auth_response['access_token']\n",
    "\n",
    "headers = {\n",
    "    \"Authorization\": f\"Bearer {access_token}\"\n",
    "}\n",
    "\n",
    "playlist_tracks_url = f\"{base_url}/playlists/{playlist_id}/tracks\"\n",
    "playlist_response = requests.get(playlist_tracks_url, headers=headers)\n",
    "playlist = playlist_response.json()\n",
    "\n",
    "title = []\n",
    "album = []\n",
    "artist = []\n",
    "duration = []\n",
    "track_number = []\n",
    "track_popularity = []\n",
    "track_id = []\n",
    "\n",
    "for item in playlist['items']:\n",
    "    track = item['track']\n",
    "    \n",
    "    title.append(track['name'])\n",
    "    album.append(track['album']['name'])\n",
    "    artist.append(track['artists'][0]['name'])  \n",
    "    duration.append(track['duration_ms'])\n",
    "    track_number.append(track['track_number'])\n",
    "    track_popularity.append(track['popularity'])\n",
    "    track_id.append(track['id'])\n",
    "\n",
    "print(f\"Titles: {title}\")\n",
    "print(f\"Albums: {album}\")\n",
    "print(f\"Artists: {artist}\")\n",
    "print(f\"Durations (ms): {duration}\")\n",
    "print(f\"Track Numbers: {track_number}\")\n",
    "print(f\"Track Popularity: {track_popularity}\")\n",
    "print(f\"Track IDs: {track_id}\")"
   ]
  },
  {
   "cell_type": "markdown",
   "metadata": {
    "deletable": false,
    "editable": false,
    "nbgrader": {
     "cell_type": "markdown",
     "checksum": "9ec592f30299b2b3f6703a3f1238685e",
     "grade": false,
     "grade_id": "cell-88a7d979725303b7",
     "locked": true,
     "schema_version": 3,
     "solution": false,
     "task": false
    }
   },
   "source": [
    "<div class=\"alert alert-info\"><b>Exercise 4 </b>Write the code to extract the number of available markets (in integer form) for all the tracks included in your chosen playlist. Store these data in a separate list called <i>n_available_markets</i>. As above, entries in this list should appear in the same order as they are presented in the playlist.</div>"
   ]
  },
  {
   "cell_type": "code",
   "execution_count": 15,
   "metadata": {
    "deletable": false,
    "nbgrader": {
     "cell_type": "code",
     "checksum": "00ef2091bcd0c6ccc4ed66e901f1fff9",
     "grade": false,
     "grade_id": "ex4",
     "locked": false,
     "schema_version": 3,
     "solution": true,
     "task": false
    }
   },
   "outputs": [
    {
     "name": "stdout",
     "output_type": "stream",
     "text": [
      "[185, 184, 185, 183, 184, 185, 185, 185, 184, 185, 185, 185, 185, 185, 185, 185, 183, 185, 185, 185, 185, 185, 185, 185, 185, 185, 185, 185, 185, 185, 185, 185, 185, 185, 185, 185, 183, 185, 185, 185, 23, 185, 183, 185, 185, 185, 185, 185]\n"
     ]
    }
   ],
   "source": [
    "\n",
    "if playlist_response.status_code == 200:\n",
    "    playlist = playlist_response.json()\n",
    "\n",
    "    n_available_markets = []\n",
    "\n",
    "    for item in playlist['items']:\n",
    "        track = item['track']\n",
    "        \n",
    "        n_markets = len(track['available_markets'])\n",
    "        n_available_markets.append(n_markets)\n",
    "\n",
    "    print(n_available_markets)\n",
    "else:\n",
    "    print(f\"Failed to retrieve playlist tracks. Status code: {playlist_response.status_code}\")\n",
    "    print(playlist_response.text)\n"
   ]
  },
  {
   "cell_type": "markdown",
   "metadata": {
    "deletable": false,
    "editable": false,
    "nbgrader": {
     "cell_type": "markdown",
     "checksum": "ffa744f04c46a3643bdd71527e8902d4",
     "grade": false,
     "grade_id": "cell-8d32be4da0c3a5",
     "locked": true,
     "schema_version": 3,
     "solution": false,
     "task": false
    }
   },
   "source": [
    "Each track in the playlist is associated to an album. Let's retrieve the corresponding release date.\n",
    "\n",
    "<div class=\"alert alert-info\"><b>Exercise 5 </b>Write the code to extract the release year (in int form) and month (in string form) for all the tracks included in your chosen playlist. Store these data in separate lists called <i>release_year</i> and <i>release_month</i>, respectively. Entries should appear in these lists in the same order as they are presented in the playlist.</div>\n",
    "\n",
    "<div class=\"alert alert-warning\">Make sure you correctly set the variable names. They have to be written <b>exactly</b> as given in the instructions.</div>\n",
    "\n",
    "<div class=\"alert alert-warning\">Months should be stored with their full names and capitalized: use <i>September</i> for 09, <i>January</i> for 01, etc.</div>"
   ]
  },
  {
   "cell_type": "code",
   "execution_count": 16,
   "metadata": {
    "deletable": false,
    "nbgrader": {
     "cell_type": "code",
     "checksum": "bb47640b2984de2eac9bddf8c8c891c6",
     "grade": false,
     "grade_id": "ex5",
     "locked": false,
     "schema_version": 3,
     "solution": true,
     "task": false
    }
   },
   "outputs": [
    {
     "name": "stdout",
     "output_type": "stream",
     "text": [
      "Release Years: [2022, 2023, 2024, 2024, 2024, 2024, 2024, 2023, 2024, 2023, 2023, 2023, 2022, 2024, 2023, 2023, 2022, 2022, 2023, 2023, 2022, 2022, 2022, 2023, 2021, 2022, 2021, 2023, 2021, 2022, 2022, 2021, 2022, 2022, 2023, 2023, 2023, 2020, 2019, 2019, 2019, 2020, 2022, 2019, 2021, 2022, 2022, 2020]\n",
      "Release Months: ['May', 'June', 'October', 'May', 'August', 'August', 'June', 'November', 'January', 'May', 'February', 'November', 'May', 'February', 'April', 'November', 'July', 'May', 'July', 'November', 'August', 'May', 'November', 'November', 'September', 'May', 'November', 'November', 'December', 'May', 'February', 'May', 'November', 'May', 'March', 'June', 'April', 'March', 'August', 'March', 'November', 'October', 'July', 'December', 'November', 'October', 'March', 'February']\n"
     ]
    }
   ],
   "source": [
    "\n",
    "from datetime import datetime\n",
    "\n",
    "\n",
    "release_year = []\n",
    "release_month = []\n",
    "\n",
    "for item in playlist['items']:\n",
    "    album_release_date = item['track']['album']['release_date']\n",
    "    \n",
    "    year, month, _ = album_release_date.split('-')\n",
    "    \n",
    "    release_year.append(int(year))\n",
    "    \n",
    "    month_name = datetime.strptime(month, '%m').strftime('%B')\n",
    "    release_month.append(month_name)\n",
    "\n",
    "print(f\"Release Years: {release_year}\")\n",
    "print(f\"Release Months: {release_month}\")"
   ]
  },
  {
   "cell_type": "markdown",
   "metadata": {
    "deletable": false,
    "editable": false,
    "nbgrader": {
     "cell_type": "markdown",
     "checksum": "e71ef5c87e0e3b31b2f371c94d15ccc3",
     "grade": false,
     "grade_id": "cell-df3ba3a1867a9931",
     "locked": true,
     "schema_version": 3,
     "solution": false,
     "task": false
    }
   },
   "source": [
    "## Retrieving additional track information\n",
    "\n",
    "In what follows, you are going to retrieve additional data for each of the tracks contained in your playlist.\n",
    "\n",
    "<div class=\"alert alert-info\"><b>Exercise 6 </b>Write the code to extract data about the danceability, energy, loudness, mode, speechiness, acousticness, instrumentalness, liveness, valence and tempo for all the tracks included in your chosen playlist. Store these data in separate lists called <i>danceability</i> (in float form), <i>energy</i>, <i>loudness</i> (in float form), <i>mode</i> (in int form), <i>speechiness</i> (in float form), <i>acousticness</i> (in float form), <i>instrumentalness</i> (in int and float form), <i>liveness</i> (in float form), <i>valence</i> (in float form) and <i>tempo</i> (in float form), respectively. In those cases where more than one value is available for these items, retain only the first. In all cases, entries should appear in the same order as they are presented in the playlist.</div>"
   ]
  },
  {
   "cell_type": "code",
   "execution_count": 17,
   "metadata": {
    "deletable": false,
    "nbgrader": {
     "cell_type": "code",
     "checksum": "a5d70d0859a7e9513d16031567e1eb90",
     "grade": false,
     "grade_id": "ex6",
     "locked": false,
     "schema_version": 3,
     "solution": true,
     "task": false
    }
   },
   "outputs": [
    {
     "name": "stdout",
     "output_type": "stream",
     "text": [
      "Danceability: [0.929, 0.813, 0.816, 0.672, 0.582, 0.681, 0.753, 0.833, 0.76, 0.765, 0.777, 0.858, 0.843, 0.793, 0.764, 0.543, 0.796, 0.761, 0.73, 0.882, 0.841, 0.801, 0.803, 0.721, 0.793, 0.761, 0.769, 0.871, 0.85, 0.687, 0.866, 0.764, 0.659, 0.9, 0.713, 0.866, 0.852, 0.781, 0.751, 0.754, 0.727, 0.785, 0.639, 0.788, 0.763, 0.618, 0.903, 0.785]\n",
      "Energy: [0.642, 0.682, 0.872, 0.702, 0.632, 0.793, 0.836, 0.809, 0.703, 0.66, 0.599, 0.677, 0.534, 0.559, 0.408, 0.6, 0.646, 0.696, 0.656, 0.783, 0.616, 0.718, 0.818, 0.821, 0.352, 0.482, 0.764, 0.739, 0.442, 0.352, 0.635, 0.596, 0.648, 0.587, 0.873, 0.612, 0.711, 0.79, 0.82, 0.77, 0.824, 0.594, 0.499, 0.64, 0.693, 0.592, 0.557, 0.757]\n",
      "Loudness: [-3.179, -3.598, -4.27, -4.662, -3.457, -3.47, -2.584, -2.751, -3.667, -5.059, -4.072, -4.294, -6.658, -4.192, -8.212, -7.185, -3.925, -3.817, -2.628, -4.023, -4.451, -5.213, -3.232, -3.695, -7.675, -8.382, -4.709, -4.891, -5.779, -5.548, -4.042, -6.059, -2.519, -6.117, -3.961, -6.251, -4.017, -3.397, -4.493, -5.129, -2.983, -5.246, -5.761, -3.691, -7.71, -8.148, -4.109, -6.314]\n",
      "Mode: [0, 1, 0, 0, 0, 1, 0, 0, 1, 0, 1, 1, 0, 1, 1, 0, 0, 0, 1, 0, 0, 1, 0, 0, 1, 1, 1, 1, 1, 1, 1, 0, 1, 0, 1, 1, 0, 1, 0, 0, 1, 1, 1, 1, 0, 1, 1, 1]\n",
      "Speechiness: [0.0375, 0.0402, 0.0442, 0.0314, 0.0976, 0.0382, 0.0568, 0.0381, 0.0631, 0.0822, 0.0689, 0.118, 0.142, 0.0404, 0.0533, 0.0783, 0.158, 0.0505, 0.0454, 0.0985, 0.0989, 0.0585, 0.066, 0.0548, 0.0955, 0.071, 0.181, 0.135, 0.061, 0.0619, 0.0731, 0.315, 0.142, 0.07, 0.0689, 0.0609, 0.0871, 0.0537, 0.125, 0.0665, 0.0508, 0.16, 0.38, 0.0821, 0.0558, 0.0913, 0.149, 0.0988]\n",
      "Acousticness: [0.205, 0.107, 0.25, 0.168, 0.0447, 0.102, 0.0184, 0.0836, 0.313, 0.0858, 0.227, 0.106, 0.467, 0.483, 0.445, 0.0893, 0.0744, 0.0811, 0.012, 0.0605, 0.203, 0.283, 0.149, 0.0591, 0.302, 0.528, 0.137, 0.00984, 0.304, 0.0727, 0.101, 0.308, 0.0359, 0.504, 0.112, 0.169, 0.176, 0.128, 0.0811, 0.189, 0.0132, 0.253, 0.103, 0.0517, 0.0631, 0.723, 0.242, 0.404]\n",
      "Instrumentalness: [0, 0, 3.7e-06, 0, 2.81e-05, 0, 0, 0, 0, 3.35e-05, 0, 0, 0, 0, 0, 6.73e-05, 0, 6.25e-05, 0, 4.74e-05, 0, 0, 0.00471, 0, 0, 0, 0, 1.03e-06, 0, 0, 1.27e-05, 0.0016, 0, 0, 0, 0.00421, 7.03e-06, 0, 0.000283, 2.36e-06, 0.00145, 1.74e-05, 0, 0, 0, 0, 0, 0]\n",
      "Liveness: [0.0599, 0.108, 0.254, 0.0445, 0.0685, 0.0895, 0.11, 0.112, 0.0784, 0.151, 0.0437, 0.246, 0.0984, 0.105, 0.162, 0.186, 0.127, 0.101, 0.0872, 0.141, 0.0785, 0.0863, 0.0653, 0.237, 0.175, 0.109, 0.088, 0.183, 0.111, 0.0784, 0.0848, 0.0728, 0.202, 0.13, 0.0807, 0.0703, 0.107, 0.175, 0.155, 0.0945, 0.0631, 0.0955, 0.085, 0.0596, 0.102, 0.405, 0.0951, 0.0839]\n",
      "Valence: [0.847, 0.634, 0.94, 0.615, 0.877, 0.614, 0.891, 0.905, 0.739, 0.577, 0.712, 0.584, 0.528, 0.848, 0.203, 0.527, 0.663, 0.501, 0.694, 0.555, 0.792, 0.555, 0.82, 0.369, 0.666, 0.577, 0.846, 0.928, 0.574, 0.585, 0.863, 0.77, 0.544, 0.815, 0.666, 0.355, 0.442, 0.88, 0.909, 0.513, 0.805, 0.721, 0.463, 0.714, 0.356, 0.341, 0.715, 0.736]\n",
      "Tempo: [94.039, 120.011, 128.924, 90.039, 85.527, 126.003, 139.949, 128.055, 96.033, 132.048, 89.984, 100.046, 94.984, 100.029, 122.886, 89.915, 180.03, 95.066, 137.829, 127.035, 98.181, 92.023, 90.999, 115.076, 80.014, 140.01, 88.06, 127.029, 94.946, 84.033, 102.062, 167.933, 175.721, 99.981, 176.08, 110.014, 103.957, 151.962, 192.077, 92.004, 96.063, 175.928, 110.551, 169.936, 112.69, 84.025, 90.052, 92.988]\n"
     ]
    }
   ],
   "source": [
    "\n",
    "danceability = []\n",
    "energy = []\n",
    "loudness = []\n",
    "mode = []\n",
    "speechiness = []\n",
    "acousticness = []\n",
    "instrumentalness = []\n",
    "liveness = []\n",
    "valence = []\n",
    "tempo = []\n",
    "\n",
    "for item in playlist['items']:\n",
    "    track_id = item['track']['id']\n",
    "    \n",
    "    audio_features_url = f\"{base_url}/audio-features/{track_id}\"\n",
    "    audio_features_response = requests.get(audio_features_url, headers=headers)\n",
    "    audio_features = audio_features_response.json()\n",
    "\n",
    "    danceability.append(audio_features['danceability'])\n",
    "    energy.append(audio_features['energy'])\n",
    "    loudness.append(audio_features['loudness'])\n",
    "    mode.append(audio_features['mode'])\n",
    "    speechiness.append(audio_features['speechiness'])\n",
    "    acousticness.append(audio_features['acousticness'])\n",
    "    instrumentalness.append(audio_features['instrumentalness'])\n",
    "    liveness.append(audio_features['liveness'])\n",
    "    valence.append(audio_features['valence'])\n",
    "    tempo.append(audio_features['tempo'])\n",
    "\n",
    "print(f\"Danceability: {danceability}\")\n",
    "print(f\"Energy: {energy}\")\n",
    "print(f\"Loudness: {loudness}\")\n",
    "print(f\"Mode: {mode}\")\n",
    "print(f\"Speechiness: {speechiness}\")\n",
    "print(f\"Acousticness: {acousticness}\")\n",
    "print(f\"Instrumentalness: {instrumentalness}\")\n",
    "print(f\"Liveness: {liveness}\")\n",
    "print(f\"Valence: {valence}\")\n",
    "print(f\"Tempo: {tempo}\")"
   ]
  },
  {
   "cell_type": "markdown",
   "metadata": {
    "deletable": false,
    "editable": false,
    "nbgrader": {
     "cell_type": "markdown",
     "checksum": "a405231ae585bbc3a5f306f6ea0b5711",
     "grade": false,
     "grade_id": "cell-c010209bd688cd0d",
     "locked": true,
     "schema_version": 3,
     "solution": false,
     "task": false
    }
   },
   "source": [
    "## Retrieving artist information\n",
    "\n",
    "In what follows, you are going to retrieve data about the artists for each of the tracks contained in your playlist.\n",
    "\n",
    "<div class=\"alert alert-info\"><b>Exercise 7 </b>Write the code to extract data about the total number of followers (in int form), the first listed genre (in string form) and the popularity (in int form) for the artists of all the tracks included in your chosen playlist. Store these data in separate lists called <i>artist_followers</i>, <i>genre</i> and <i>artist_popularity</i>. In cases where no genre is given, fill in the corresponding entry using a None.</div>\n",
    "\n",
    "<div class=\"alert alert-warning\">Note that the artist information has to to be extracted from the tracks themselves.</div>"
   ]
  },
  {
   "cell_type": "code",
   "execution_count": 18,
   "metadata": {
    "deletable": false,
    "nbgrader": {
     "cell_type": "code",
     "checksum": "05ebfb30357af4a09ab8968990db619c",
     "grade": false,
     "grade_id": "ex7",
     "locked": false,
     "schema_version": 3,
     "solution": true,
     "task": false
    }
   },
   "outputs": [
    {
     "name": "stdout",
     "output_type": "stream",
     "text": [
      "Artist Followers: [3641720, 5765219, 3641720, 7776529, 5365191, 948907, 3641720, 3641720, 517743, 3641720, 633460, 3641720, 3641720, 5748679, 1890155, 3641720, 3092597, 3641720, 1594614, 3641720, 3641720, 3641720, 3641720, 3641720, 3641720, 3641720, 751750, 3641720, 3641720, 3641720, 11304451, 3641720, 1806162, 3641720, 9244048, 576684, 1352027, 751750, 3641720, 3641720, 3517791, 3641720, 58417, 3641720, 44331, 3641720, 1594614, 3641720]\n",
      "Genres: ['pop argentino', 'argentine hip hop', 'pop argentino', 'gruperas inmortales', 'trap argentino', 'spanish pop', 'pop argentino', 'pop argentino', 'rap uruguayo', 'pop argentino', 'trap argentino', 'pop argentino', 'pop argentino', 'argentine hip hop', 'electronica argentina', 'pop argentino', 'latin talent show', 'pop argentino', 'trap argentino', 'pop argentino', 'pop argentino', 'pop argentino', 'pop argentino', 'pop argentino', 'pop argentino', 'pop argentino', 'cumbia pop', 'pop argentino', 'pop argentino', 'pop argentino', 'argentine hip hop', 'pop argentino', 'trap argentino', 'pop argentino', 'reggaeton', 'trap chileno', 'spanish pop', 'cumbia pop', 'pop argentino', 'pop argentino', 'belgian dance', 'pop argentino', 'urbano latino', 'pop argentino', 'urbano espanol', 'pop argentino', 'trap argentino', 'pop argentino']\n",
      "Artist Popularity: [81, 73, 81, 79, 81, 70, 81, 81, 68, 81, 75, 81, 81, 78, 72, 81, 74, 81, 69, 81, 81, 81, 81, 81, 81, 81, 63, 81, 81, 81, 82, 81, 70, 81, 76, 67, 73, 63, 81, 81, 75, 81, 54, 81, 51, 81, 69, 81]\n"
     ]
    }
   ],
   "source": [
    "\n",
    "artist_followers = []\n",
    "genre = []\n",
    "artist_popularity = []\n",
    "\n",
    "for item in playlist['items']:\n",
    "    track = item['track']\n",
    "    artist_id = track['artists'][0]['id']  \n",
    "    \n",
    "    artist_url = f\"{base_url}/artists/{artist_id}\"\n",
    "    artist_response = requests.get(artist_url, headers=headers)\n",
    "    artist_data = artist_response.json()\n",
    "    \n",
    "    followers_count = artist_data['followers']['total']\n",
    "    artist_followers.append(followers_count)\n",
    "    \n",
    "    if artist_data['genres']:\n",
    "        genre.append(artist_data['genres'][0])  \n",
    "    else:\n",
    "        genre.append(None)\n",
    "    \n",
    "    popularity = artist_data['popularity']\n",
    "    artist_popularity.append(popularity)\n",
    "\n",
    "print(f\"Artist Followers: {artist_followers}\")\n",
    "print(f\"Genres: {genre}\")\n",
    "print(f\"Artist Popularity: {artist_popularity}\")"
   ]
  },
  {
   "cell_type": "markdown",
   "metadata": {
    "deletable": false,
    "editable": false,
    "nbgrader": {
     "cell_type": "markdown",
     "checksum": "db4c914d0fa765ad272cd5dc0be9aac0",
     "grade": false,
     "grade_id": "cell-9ecab2625396c364",
     "locked": true,
     "schema_version": 3,
     "solution": false,
     "task": false
    }
   },
   "source": [
    "In addition to the above, there's also additional information we can retrieve about each artist. For this purpose, let's first retrieve the list of distinct artists for the different tracks in your playlist.\n",
    "\n",
    "<div class=\"alert alert-info\"><b>Exercise 8 </b>Write the code to identify the list of unique artist ids that correspond to the different tracks in your chosen playlist. Store these data in a list called <i>unique_artist_ids</i>.</div>\n",
    "\n",
    "<div class=\"alert alert-warning\">Retrieve the artist ids that correspod directly to the tracks.</div>"
   ]
  },
  {
   "cell_type": "code",
   "execution_count": 19,
   "metadata": {
    "deletable": false,
    "nbgrader": {
     "cell_type": "code",
     "checksum": "c74d955df7802975bc8cebc0eda973ff",
     "grade": false,
     "grade_id": "ex8",
     "locked": false,
     "schema_version": 3,
     "solution": true,
     "task": false
    }
   },
   "outputs": [
    {
     "name": "stdout",
     "output_type": "stream",
     "text": [
      "Unique Artist IDs: ['3E6xrwgnVfYCrCs0ePERDz', '1TtXnWcUs0FCkaZDPGYHdf', '3CDoRporvSjdzTrm99a3gi', '0BqURncJM5B1BBu7UM51eq', '2IKdK6PbitvCiXt1t2bPU6', '0AqlFI0tz2DsEoJlKSIiT9', '1DxLCyH42yaHKGK3cl5bvG', '1vqR17Iv8VFdzure1TAXEq', '4YYxffPVDFe9XoqqbRW6Bq', '6k8mwkKJKKjBILo7ypBspl', '6Itjwvv5YmsC8ZcI5N4Jux', '73jBynjsVtofjRpdpRAJGk', '28gNT5KBp7IjEOQoevXf9N', '7eLcDZDYHXZCebtQmVFL25', '2NfSBtmWe7oPw1EmetJVso', '1Ts9of7VPZElwPQnqnDSfW', '3Apb2lGmGJaBmr0TTBJvIZ', '0ZCO8oVkMj897cKgFH7fRW', '4m6ubhNsdwF4psNf3R8kwR', '1bAftSH8umNcGZ0uyV7LMg', '3wtMPMvPtiFylbnNXF6CAj', '5Y3MV9DZ0d87NnVm56qSY1', '0dUyjgCyjfj5eMx6bX2TWf', '2eEmsgWmUFMbtU7agJpnjY', '6GRwwWAtmusrgAL5JF9Dfr', '5UN0rzL594mWY2RbOtZqIN', '2UZIAOlrnyZmyzt1nuXr9y', '3bvfu2KAve4lPHrhEFDZna', '2Yia9CwtgcrsN5kVOQ0qRA', '7vXDAI8JwjW531ouMGbfcp', '768O5GliF0bqscyghggrbE', '2DspEsT7UXGKd2VaaedgG4', '18qC8mrcJ9ZjChRDPvpadi', '07YUOmWljBTXwIseAUd9TW', '2OhUNb01gLwygOizYvTm0e', '5Rj6rNR8zIlUUDCs1OyPmW', '7FNnA9vBm6EKceENgCGRMb']\n"
     ]
    }
   ],
   "source": [
    "unique_artist_ids = set()\n",
    "\n",
    "for item in playlist['items']:\n",
    "    track = item['track']\n",
    "    for artist in track['artists']:\n",
    "        unique_artist_ids.add(artist['id'])  \n",
    "\n",
    "unique_artist_ids = list(unique_artist_ids)\n",
    "\n",
    "print(f\"Unique Artist IDs: {unique_artist_ids}\")"
   ]
  },
  {
   "cell_type": "markdown",
   "metadata": {
    "deletable": false,
    "editable": false,
    "nbgrader": {
     "cell_type": "markdown",
     "checksum": "08baffc9a1cae24419188e5dae161362",
     "grade": false,
     "grade_id": "cell-0d2317b25f3086db",
     "locked": true,
     "schema_version": 3,
     "solution": false,
     "task": false
    }
   },
   "source": [
    "We are now interested in retrieving catalog information about each artist’s top tracks. This information is provided by Spotify's API on a country basis. Here, we will retrieve the information corresponding to Spain, whose *ISO 3166-1 alpha-2* code is **ES**. The information we are looking for is stored under the ```top-tracks``` endpoint for ```artists```. Requests to this location retrieve the 10 most famous tracks for a given artist id.\n",
    "\n",
    "<div class=\"alert alert-info\"><b>Exercise 9 </b>Write the code to retrieve the 10 top tracks for each of the unique artists in your chosen playlist. Store these data in a dictionary called <i>top_tracks</i>. The keys of this dictionary should correspond to the unique artist ids stored in the list <i>unique_artist_id</i>. The values of this dictionary should include the names of the 10 most popular songs in a list.</div>\n",
    "\n",
    "<div class=\"alert alert-warning\">In cases where the number of tracks included in the top-tracks endpoint is below 10, simply retrieve the provided list.</div>\n"
   ]
  },
  {
   "cell_type": "code",
   "execution_count": 20,
   "metadata": {
    "deletable": false,
    "nbgrader": {
     "cell_type": "code",
     "checksum": "b8a1f9a9de9f54db0b178f5d7ed616df",
     "grade": false,
     "grade_id": "ex9",
     "locked": false,
     "schema_version": 3,
     "solution": true,
     "task": false
    }
   },
   "outputs": [
    {
     "name": "stdout",
     "output_type": "stream",
     "text": [
      "Top Tracks: {'0AqlFI0tz2DsEoJlKSIiT9': ['Alegría', 'Perdonarte ¿Para Qué?', 'CARITA TRISTE', 'La_Original.mp3', 'Una Foto Remix (feat. Emilia)', 'Los del Espacio', 'La_Playlist.mpeg', 'No_se_ve.mp3', 'Exclusive.mp3', 'como si no importara'], '1vqR17Iv8VFdzure1TAXEq': ['Los del Espacio', 'Entre Nosotros', 'Entre Nosotros (Remix) [con Nicki Nicole]', 'Somos 3', 'Carta de Despedida', 'Mala Mía', 'AEROBICO REMIX', 'La Trampa es Ley', 'LuXxX', 'BAD BOY (feat. Juhn, Jairo Vera, Sayian Jimmy, Nysix Music, CamiMusic & Montana the Producer) - Remix'], '0ZCO8oVkMj897cKgFH7fRW': ['Perdonarte ¿Para Qué?', 'El Amor De Mi Vida', 'Nunca Es Suficiente', 'El Listón De Tu Pelo', 'Cómo Te Voy A Olvidar', 'Otra Noche', 'Amor A Primera Vista', '17 Años', 'Tú Y Tú', 'Entrega De Amor'], '5Y3MV9DZ0d87NnVm56qSY1': ['Piel', 'Alegría', 'Una Foto Remix (feat. Emilia)', 'BESAME (feat. Tiago PZK, Khea & Neo Pistea) - Remix', 'Los del Espacio', 'De Vuelta', 'Entre Nosotros', 'Entre Nosotros (Remix) [con Nicki Nicole]', 'Tiago PZK: Bzrp Music Sessions, Vol. 48', 'Pa´Que Te Acuerdes | CROSSOVER #8'], '6k8mwkKJKKjBILo7ypBspl': ['CARITA TRISTE', 'Madrid City', 'LAS 12', 'Quiero Decirte', 'Espacio en Tu Corazón - Remix', 'A Un Paso De La Luna', 'La Razón', 'Una volta ancora (feat. Ana Mena)', \"D'estate non vale (feat. Ana Mena)\", 'A Un Passo Dalla Luna'], '2IKdK6PbitvCiXt1t2bPU6': ['Una Foto Remix (feat. Emilia)', 'Una Foto', 'CEO', 'Cheto Mal', 'Modo Animal', 'No Soy Yo', 'Dale Mecha', 'Dubai', 'Tu Fanático', 'Jet Lag'], '2OhUNb01gLwygOizYvTm0e': ['Cuando Te Vi | CROSSOVER #5', 'Si Un Día Estás Sola | CROSSOVER #7', 'Los del Espacio', 'Un Finde | CROSSOVER #2', 'En La Intimidad | CROSSOVER #1', 'Pa´Que Te Acuerdes | CROSSOVER #8', 'Mentiras | CROSSOVER #3', 'Lágrimas | CROSSOVER #4', 'A Donde Vas Si Te Vas | CROSSOVER #6', 'LuXxX'], '4m6ubhNsdwF4psNf3R8kwR': ['BESAME (feat. Tiago PZK, Khea & Neo Pistea) - Remix', \"She Don't Give a Fo\", 'HOLA PERDIDA', 'Loca', 'HOLA PERDIDA REMIX', 'Cómo Le Digo', 'Ayer Me Llamó Mi Ex', 'Loca - Remix', 'Sola', 'Además de Mí - Remix'], '2eEmsgWmUFMbtU7agJpnjY': ['Perfecta', 'Don', 'Perfecta (Versión 2023)', 'Uno los Dos', 'Tu Misterioso Alguien', 'Traición', 'A Donde Vas Si Te Vas | CROSSOVER #6', 'Mentía', 'Hola', 'Perfecta - Versión con Julieta Venegas'], '7eLcDZDYHXZCebtQmVFL25': ['Mon Amour - Remix', 'Presiento', 'Akureyri', 'Formentera', 'Like I Can (feat. Aitana)', '4TO 23', 'Los Ángeles', 'miamor', 'Si Tú La Quieres', 'mariposas'], '0dUyjgCyjfj5eMx6bX2TWf': ['Los del Espacio', 'Un Finde | CROSSOVER #2', 'Perfecta (Versión 2023)', 'BANDIDO', 'Salgo a Bailar', 'AYNEA REMIX', 'Aunque Ya No Estés Aquí', 'Prende la Cámara RMX', 'Tranquila', 'YO SE QUE TU (feat. Rusherking)'], '5Rj6rNR8zIlUUDCs1OyPmW': ['MYA LIVE P3: Qué Pasará', 'Bronceado - Remix', '2:50 Remix', 'MYA LIVE P2: Corazón Guerrero', 'BB', 'Te Olvidaré', 'Yo No Te Pido la Luna', 'MYA LIVE P5: Si Tú La Ves', 'MAL DE AMOR', 'MYA LIVE P4: Prisionero'], '1bAftSH8umNcGZ0uyV7LMg': ['Los del Espacio', \"She Don't Give a Fo\", 'Loca', 'Marisola - Remix', 'Antes de Perderte', 'como si no importara', 'Goteo', 'GIVENCHY', 'Rockstar', 'París'], '3Apb2lGmGJaBmr0TTBJvIZ': ['Los del Espacio', 'Mentiras | CROSSOVER #3', 'Quiero Creer', 'Además de Mí - Remix', 'A PURO DOLOR', 'Perfecta', 'Besos con Fernet', 'BANDIDO', 'ME GUSTAN TODAS', 'Antes de Ti'], '3E6xrwgnVfYCrCs0ePERDz': ['Escápate Conmigo (feat. Ozuna)', 'Fiel', 'Nota de Amor (feat. Daddy Yankee)', 'Mayor Que Yo 3', 'Tu Boca', 'Escápate Conmigo (feat. Ozuna, Bad Bunny, De La Ghetto, Arcángel, Noriel & Almighty) - Remix', 'Mi Niña', 'Te Siento', 'Fiel - Remix', 'Adrenalina (feat. Jennifer Lopez & Ricky Martin)'], '768O5GliF0bqscyghggrbE': ['ULTRA SOLO REMIX', 'ULTRA SOLO', 'Thalía - Remix', 'LACONE', 'BABY OTAKU', 'LOKOTRON REMIX', 'SEXTIME', 'Te Quiero Ver (feat. Polimá Westcoast y Young Cister)', 'MY BLOOD', '4 Trokas 4 Gatas'], '3bvfu2KAve4lPHrhEFDZna': ['LA REINA', '1000COSAS', 'EL TONTO', 'EL PANTALON - RUMBAS', 'Casanova', 'UNA BACHATA', 'M.A - Remix', 'La Niña de la Escuela', 'PESADILLAS', 'KOMBOLEWA - Remix'], '73jBynjsVtofjRpdpRAJGk': ['Thank You (Not So Bad)', 'Mockingbird', 'Meet Her At The Love Parade', 'Say My Name', 'Mammoth', 'Tremor - Sensation 2014 Anthem', 'Get in Trouble (So What)', 'The Hum', 'To The Beat', 'Axel F'], '6Itjwvv5YmsC8ZcI5N4Jux': ['Aquellos Tiempos', 'Me Enseñaste - Remix', 'Pase Lo Que Pase - Remix', 'MIONCA AL BLOQUE', 'Q-Lito', 'Insuficiente', 'PREFIERO ESTAR SOLO', 'Úsame', 'Rompe el Party - Remix', 'Ajá'], '18qC8mrcJ9ZjChRDPvpadi': ['WYA REMIX WHITE', '828', 'Angelito', '13 razones', 'DOLOROSA', 'ESO', 'Tus Ojos', 'Ke Sientes', 'Arrepentío', 'Bandûlera']}\n"
     ]
    }
   ],
   "source": [
    "\n",
    "unique_artist_ids = []\n",
    "\n",
    "for item in playlist['items']:\n",
    "    track = item['track']\n",
    "    artist_id = track['artists'][0]['id']\n",
    "    if artist_id not in unique_artist_ids:\n",
    "        unique_artist_ids.append(artist_id)\n",
    "\n",
    "top_tracks = {}\n",
    "\n",
    "for artist_id in unique_artist_ids:\n",
    "    top_tracks_url = f\"{base_url}/artists/{artist_id}/top-tracks?market=US\"\n",
    "    top_tracks_response = requests.get(top_tracks_url, headers=headers)\n",
    "    top_tracks_data = top_tracks_response.json()\n",
    "\n",
    "    track_names = [track['name'] for track in top_tracks_data['tracks']]\n",
    "\n",
    "    top_tracks[artist_id] = track_names[:10]  \n",
    "\n",
    "print(f\"Top Tracks: {top_tracks}\")"
   ]
  },
  {
   "cell_type": "markdown",
   "metadata": {
    "deletable": false,
    "editable": false,
    "nbgrader": {
     "cell_type": "markdown",
     "checksum": "598ab9bbceee257c752d8fed3e69d2ba",
     "grade": false,
     "grade_id": "cell-0c2042a55fe8b990",
     "locked": true,
     "schema_version": 3,
     "solution": false,
     "task": false
    }
   },
   "source": [
    "We can now use this information to identify those songs in your chosen playlist that correspond to each artist's top tracks.\n",
    "\n",
    "<div class=\"alert alert-info\"><b>Exercise 10 </b>Write the code to check whether the different tracks in your chosen playlist are included among the corresponding artist's top tracks. Store the results in a list called <i>is_top</i>. This list should include the boolean value <i>True</i> whenever the considered track is among the top tracks for that artist and <i>False</i> otherwise.</div>\n",
    "\n",
    "<div class=\"alert alert-warning\">When comparing track names, consider only <b>exact</b> matches.</div>"
   ]
  },
  {
   "cell_type": "code",
   "execution_count": 21,
   "metadata": {
    "deletable": false,
    "nbgrader": {
     "cell_type": "code",
     "checksum": "61a7d17ae23db4b20e268512e705c64e",
     "grade": false,
     "grade_id": "ex10",
     "locked": false,
     "schema_version": 3,
     "solution": true,
     "task": false
    }
   },
   "outputs": [
    {
     "name": "stdout",
     "output_type": "stream",
     "text": [
      "Is Top Track: [False, True, False, False, True, True, True, True, True, True, True, True, True, False, True, False, False, False, True, False, False, False, False, False, False, False, True, False, False, False, False, False, False, False, False, False, False, False, False, False, False, False, True, False, True, False, False, False]\n"
     ]
    }
   ],
   "source": [
    "is_top = []\n",
    "\n",
    "for item in playlist['items']:\n",
    "    track = item['track']\n",
    "    track_name = track['name']\n",
    "    artist_id = track['artists'][0]['id']\n",
    "    \n",
    "    top_tracks_url = f\"{base_url}/artists/{artist_id}/top-tracks?market=US\"\n",
    "    top_tracks_response = requests.get(top_tracks_url, headers=headers)\n",
    "    top_tracks = top_tracks_response.json()\n",
    "\n",
    "    top_track_names = [top_track['name'] for top_track in top_tracks['tracks']]\n",
    "    is_top.append(track_name in top_track_names)\n",
    "\n",
    "print(f\"Is Top Track: {is_top}\")"
   ]
  },
  {
   "cell_type": "markdown",
   "metadata": {
    "deletable": false,
    "editable": false,
    "nbgrader": {
     "cell_type": "markdown",
     "checksum": "0dccfe4fc33aa05c40316b3cb03d2d07",
     "grade": false,
     "grade_id": "cell-323fccc65e8ccb6b",
     "locked": true,
     "schema_version": 3,
     "solution": false,
     "task": false
    }
   },
   "source": [
    "A very interesting feature in Spotify is the song recommender.\n",
    "\n",
    "When creating a playlist from scratch, Spotify offers help by suggesting additional tracks that may be related to the ones already added. Spotify's API also provides a specific endpoint for `recommendations`. We will use this endpoint to retrieve one recommendation for each song in our original playlist.\n",
    "\n",
    "<div class=\"alert alert-info\"><b>Exercise 11 </b>Write the code to retrieve the id, title and artist from the list of recommendations for each track in your playlist. Store these data in new lists called <i>recommendatin_id</i>, <i>recommendation_title</i> and <i>recommendation_artist</i>.</div>\n",
    "\n",
    "<div class=\"alert alert-warning\">Retrieve recommendations based solely on each track.</div>\n",
    "\n",
    "<div class=\"alert alert-warning\">Retrieve information only about the first track in the recommendations list.</div>\n",
    "\n",
    "<div class=\"alert alert-warning\">When more than one artist is associated to the recommended track, retrieve information only about the first.</div>"
   ]
  },
  {
   "cell_type": "code",
   "execution_count": 22,
   "metadata": {
    "deletable": false,
    "nbgrader": {
     "cell_type": "code",
     "checksum": "f412ce38a62de27a20c422473f648bcd",
     "grade": false,
     "grade_id": "ex12",
     "locked": false,
     "schema_version": 3,
     "solution": true,
     "task": false
    }
   },
   "outputs": [
    {
     "name": "stdout",
     "output_type": "stream",
     "text": [
      "Recommendation IDs: ['0H9WU0OIXPpbOVgzzOanXb', '4nrPB8O7Y7wsOCJdgXkthe', '0mjFlWIfnh1Ahnn05xeRu5', '0xsA8UB6GyQ1xCl3uJ7zeG', '0kTMK4gNFfLXaTb62w1UaJ', '4OrAAeefsDOdUSfE87C6WR', '2qEoAz0i6yEz5dPggABcLH', '1egG8nOtq5l9ZiqVRT7KM6', '3eOkhJYDaTELGhWHBNbf4A', '5DSMm0BZXlSvqArsTX00Ge', '5A1vGSsqw0UQCBxHOyPOjG', '61wAL7pFMMfvYv9SXIiYAB', '4VueCOBroWZxBtDmNbon2r', '3YTe42RPu0iJVr1ZYJHHyC', '0Xn0NaJ2eqT7yWChjfy2E6', '0Sfn2TYbpQtCGMBf6C0Y6T', '4hceSKjrkDTO0nMKFcb3sj', '6WkfdgfHTdpmVHcB3Jn4ks', '4xVIjXgpkGAEejcU0owkSj', '7zJu3gmfC46vRoCQ8MZSIY', '5hqAc7ZD21UREu9mNKuLhr', '1p22yVi9e8DT6BEUvOZ0TL', '6KEb17S00Inf0v1qYDgUAj', '4JQgopha31U9YQn2Hblgah', '4sykJxUsqdXZRqRv1J9fEQ', '4bADyrVual0RgJodXqRQRu', '2l0hr2jYYXdkbF393AThLm', '71q4nNysHdBhXQJI9qnhNd', '3e5gPPx7MTGoYffXH70Tqf', '7w7BrPbOjF5OxChs2dxFve', '2P25SKGU0f3OdZOcxFmZ0x', '21FrtQ99WXCeUR8zAg5DV5', '24iXuKsb2nPPZR6uj50hRu', '4yb5Z9dwnKhO9gC0AZQYDe', '2sGmT34Yii7lrcrtxC4Pkt', '5bGyhsYRNyCwsSYYSCzhxN', '4rBQxFVwTnf99p818azSon', '31dmZHNvM3jTkjIkrnxLNO', '2iIBpwP4FyQ95xgVail3yr', '6rKOEyg05nKSRRErDmBWjy', '3xPHXZhs8o7BY0RTeD9Ls9', '6oKesgRlWbk6O1idFXV8pp', '5sMghOvfx3e5QnE9CZLROS', '2UC75yYPNWAc7SB16b9GkW', '3St7sFGXYDJqgbdxnT9gwR', '0Ah0VipGqBPd0FnZizV7VF', '2ONADYjJvqYVwjWavuY0H1', '00THZGfbizNvMUkJsQs74K']\n",
      "Recommendation Titles: ['Ni Una Ni Dos', 'Shakira: Bzrp Music Sessions, Vol. 53', 'Mi Carcel', 'Como si no nos amáramos', 'BABY OTAKU', 'En la Oscuridad', 'Una Vaina Loca', 'Que Se Parezca A Ti', 'AL BORDE', 'DOCTOR', 'Prende la Cámara RMX', 'M.A (Mejores Amigos)', 'Guapo', 'De Nada', 'en la cara', 'PLAYA DEL INGLÉS', 'Villano Antillano: Bzrp Music Sessions, Vol. 51', 'Baum Baum', 'FIGURITA', 'QUIZÁS SI QUIZÁS NO', 'Combi Nueva', 'De Enero a Diciembre', 'Malbec', 'Tu Ropa', 'Goteras', 'Éxtasis', \"Pa' la Selección\", 'Se Fue Viral', \"I' AM\", 'En La Intimidad | CROSSOVER #1', 'Ultimo Tren a Ameri', 'El Reencuentro', 'Roll Royce', 'Boomshakalaka', 'Sola', 'MILI PILI', 'DESAFIANDO EL DESTINO', 'Será Mi Culpa? - Remix', 'No_se_ve.mp3', 'Mi santo - A COLORS SHOW', 'Pretty Girls', 'Matarnos', '105 Freestyle', '11 Con 11', 'alexademie', 'MIENTRAS', 'ALMA DINAMITA', 'TU Y YO']\n",
      "Recommendation Artists: ['BM', 'Bizarrap', 'FABYS LEE', 'Migrantes', 'Pablito Pesadilla', 'LIT killah', 'Fuego', 'Tiago PZK', 'Milo j', 'Luck Ra', 'FMK', 'BM', 'YSY A', 'Yami Safdie', 'Olivia Wald', 'Quevedo', 'Bizarrap', 'Lali', 'VIUS', 'Alvaro Diaz', 'Papichamp', 'Emilia', 'Duki', 'MACO', 'Omar Montes', 'Manuel Turizo', 'La T y La M', 'The La Planta', 'Milo j', 'Big One', 'Duki', 'Carlos Siles', 'Standly', 'Dimitri Vegas & Like Mike', 'Héctor \"El Father\"', 'BLANKO', 'Maria Becerra', 'LUANA', 'Emilia', 'Ponte Perro', 'BIGGI', 'Igna', 'Young Miko', 'Meri Deal', 'Svarez', 'Bauti Mascia', 'WOS', 'KHEA']\n"
     ]
    }
   ],
   "source": [
    "\n",
    "recommendation_id = []\n",
    "recommendation_title = []\n",
    "recommendation_artist = []\n",
    "\n",
    "for item in playlist['items']:\n",
    "    track = item['track']\n",
    "    track_id = track['id']\n",
    "    \n",
    "    recommendations_url = f\"{base_url}/recommendations?seed_tracks={track_id}\"\n",
    "    recommendations_response = requests.get(recommendations_url, headers=headers)\n",
    "    recommendations = recommendations_response.json()\n",
    "\n",
    "    if recommendations['tracks']:\n",
    "        recommended_track = recommendations['tracks'][0]\n",
    "        recommendation_id.append(recommended_track['id'])\n",
    "        recommendation_title.append(recommended_track['name'])\n",
    "        recommendation_artist.append(recommended_track['artists'][0]['name'])\n",
    "    else:\n",
    "        recommendation_id.append(None)\n",
    "        recommendation_title.append(None)\n",
    "        recommendation_artist.append(None)\n",
    "\n",
    "print(\"Recommendation IDs:\", recommendation_id)\n",
    "print(\"Recommendation Titles:\", recommendation_title)\n",
    "print(\"Recommendation Artists:\", recommendation_artist)"
   ]
  },
  {
   "cell_type": "markdown",
   "metadata": {
    "deletable": false,
    "editable": false,
    "nbgrader": {
     "cell_type": "markdown",
     "checksum": "c9649d0d6eb59b0c86ec4ad28945be00",
     "grade": false,
     "grade_id": "cell-18f63b901cde101a",
     "locked": true,
     "schema_version": 3,
     "solution": false,
     "task": false
    }
   },
   "source": [
    "## Bonus exercise\n",
    "\n",
    "You can complete the exercises below to obtain extra points. These points will be added to your score directly. The maximum score in this assignment is a 10.\n",
    "\n",
    "<div class=\"alert alert-danger\"><b>Bonus 1 </b>Write the code to find the most popular song in your playlist. If several songs have the same popularity, choose the one for which the artist has the most followers. Save the name of the song to a new variable called <i>most_popular</i>. This variable should <b>only</b> contain the name of the most popular song in string form.</div>"
   ]
  },
  {
   "cell_type": "code",
   "execution_count": 23,
   "metadata": {
    "deletable": false,
    "nbgrader": {
     "cell_type": "code",
     "checksum": "71daf634a8103fa0c75e52f8216f9f04",
     "grade": false,
     "grade_id": "b1",
     "locked": false,
     "schema_version": 3,
     "solution": true,
     "task": false
    }
   },
   "outputs": [
    {
     "name": "stdout",
     "output_type": "stream",
     "text": [
      " The most popular song is: Perdonarte, ¿Para Qué?\n"
     ]
    }
   ],
   "source": [
    "\n",
    "most_popular = None\n",
    "highest_popularity = -1\n",
    "most_followers = -1\n",
    "\n",
    "for item in playlist['items']:\n",
    "    track = item['track']\n",
    "    track_name = track['name']\n",
    "    track_popularity = track['popularity']\n",
    "    artist_id = track['artists'][0]['id']\n",
    "\n",
    "    artist_url = f\"{base_url}/artists/{artist_id}\"\n",
    "    artist_response = requests.get(artist_url, headers=headers)\n",
    "    artist = artist_response.json()\n",
    "    artist_followers = artist['followers']['total']\n",
    "\n",
    "    if track_popularity > highest_popularity or (track_popularity == highest_popularity and artist_followers > most_followers):\n",
    "        highest_popularity = track_popularity\n",
    "        most_followers = artist_followers\n",
    "        most_popular = track_name\n",
    "\n",
    "print(f\" The most popular song is: {most_popular}\")"
   ]
  },
  {
   "cell_type": "markdown",
   "metadata": {
    "deletable": false,
    "editable": false,
    "nbgrader": {
     "cell_type": "markdown",
     "checksum": "04075ef2db7f903e21e67acf3eb9212f",
     "grade": false,
     "grade_id": "cell-9ce6fe0f415cb12b",
     "locked": true,
     "schema_version": 3,
     "solution": false,
     "task": false
    }
   },
   "source": [
    "You might have noticed that there exist slight incosistencies in the way in which the track title are included in the playlist, versus the top 10 artist tracks. For example, the fourht song in the provided playlist appears as <i>High And Dry</i> within the title of the playlist songs but as <i>High and Dry</i> (with a small \"a\" for the word \"and\") in the Radiohead's top tracks. This results in the fact that the song of the playlist will not be included as one of the artist's top tracks in the is_top list.\n",
    "\n",
    "<div class=\"alert alert-danger\"><b>Bonus 2 </b>Write the code to create a new list called <i>is_top_2</i>. This time make sure that you look for partial matches of title names too.</div>"
   ]
  },
  {
   "cell_type": "code",
   "execution_count": 49,
   "metadata": {
    "deletable": false,
    "nbgrader": {
     "cell_type": "code",
     "checksum": "9a0c89e02effb8580c44c29b67676568",
     "grade": false,
     "grade_id": "b2",
     "locked": false,
     "schema_version": 3,
     "solution": true,
     "task": false
    }
   },
   "outputs": [],
   "source": [
    "import re\n",
    "\n",
    "is_top_2 = []\n",
    "\n",
    "def clean_track_name(name): \n",
    "    cleaned_name = re.sub(r'\\(.*?\\)', '', name).strip().lower()\n",
    "    return cleaned_name\n",
    "\n",
    "for item in track:\n",
    "    track_name = track['name']\n",
    "    artist_id = track['artists'][0]['id']\n",
    "    top_tracks_for_artist = top_tracks.get(artist_id, [])\n",
    "    \n",
    "    if track_name in top_tracks_for_artist:\n",
    "        is_top_2.append(True)\n",
    "    else:\n",
    "        cleaned_track_name = clean_track_name(track_name)\n",
    "        cleaned_top_tracks = [clean_track_name(tt) for tt in top_tracks_for_artist]\n",
    "        \n",
    "        is_top_partial = cleaned_track_name in cleaned_top_tracks\n",
    "        is_top_2.append(is_top_partial)"
   ]
  },
  {
   "cell_type": "code",
   "execution_count": 51,
   "metadata": {},
   "outputs": [
    {
     "name": "stdout",
     "output_type": "stream",
     "text": [
      "[False, False, False, False, False, False, False, False, False, False, False, False, False, False, False, False, False, False, False]\n"
     ]
    }
   ],
   "source": [
    "print(is_top_2)"
   ]
  },
  {
   "cell_type": "code",
   "execution_count": 53,
   "metadata": {},
   "outputs": [
    {
     "name": "stdout",
     "output_type": "stream",
     "text": [
      "<class 'str'> preview_url\n",
      "Unexpected item format: preview_url\n",
      "<class 'str'> available_markets\n",
      "Unexpected item format: available_markets\n",
      "<class 'str'> explicit\n",
      "Unexpected item format: explicit\n",
      "<class 'str'> type\n",
      "Unexpected item format: type\n",
      "<class 'str'> episode\n",
      "Unexpected item format: episode\n",
      "<class 'str'> track\n",
      "Unexpected item format: track\n",
      "<class 'str'> album\n",
      "Unexpected item format: album\n",
      "<class 'str'> artists\n",
      "Unexpected item format: artists\n",
      "<class 'str'> disc_number\n",
      "Unexpected item format: disc_number\n",
      "<class 'str'> track_number\n",
      "Unexpected item format: track_number\n",
      "<class 'str'> duration_ms\n",
      "Unexpected item format: duration_ms\n",
      "<class 'str'> external_ids\n",
      "Unexpected item format: external_ids\n",
      "<class 'str'> external_urls\n",
      "Unexpected item format: external_urls\n",
      "<class 'str'> href\n",
      "Unexpected item format: href\n",
      "<class 'str'> id\n",
      "Unexpected item format: id\n",
      "<class 'str'> name\n",
      "Unexpected item format: name\n",
      "<class 'str'> popularity\n",
      "Unexpected item format: popularity\n",
      "<class 'str'> uri\n",
      "Unexpected item format: uri\n",
      "<class 'str'> is_local\n",
      "Unexpected item format: is_local\n"
     ]
    }
   ],
   "source": [
    "import re\n",
    "from difflib import SequenceMatcher\n",
    "\n",
    "is_top_2 = []\n",
    "\n",
    "def clean_track_name(name):\n",
    "    cleaned_name = re.sub(r'\\(.*?\\)', '', name).strip().lower()\n",
    "    return cleaned_name\n",
    "\n",
    "def is_partial_match(name1, name2, threshold=0.7):\n",
    "    \"\"\"Returns True if the similarity ratio between name1 and name2 is above the threshold.\"\"\"\n",
    "    return SequenceMatcher(None, name1, name2).ratio() > threshold\n",
    "\n",
    "for item in track:\n",
    "    print(type(item), item)  # Check the type and content of 'item'\n",
    "\n",
    "    # Assuming 'item' is a dictionary, try to access the values safely\n",
    "    if isinstance(item, dict):\n",
    "        track_name = item['track']['name']\n",
    "        artist_id = item['track']['artists'][0]['id']\n",
    "        top_tracks_for_artist = top_tracks.get(artist_id, [])\n",
    "        \n",
    "        cleaned_track_name = clean_track_name(track_name)\n",
    "        cleaned_top_tracks = [clean_track_name(tt) for tt in top_tracks_for_artist]\n",
    "        \n",
    "        is_exact_match = cleaned_track_name in cleaned_top_tracks\n",
    "        is_partial_match_found = any(is_partial_match(cleaned_track_name, tt) for tt in cleaned_top_tracks)\n",
    "        \n",
    "        is_top_2.append(is_exact_match or is_partial_match_found)\n",
    "    else:\n",
    "        print(\"Unexpected item format:\", item)\n",
    "\n"
   ]
  }
 ],
 "metadata": {
  "kernelspec": {
   "display_name": "Python 3 (ipykernel)",
   "language": "python",
   "name": "python3"
  },
  "language_info": {
   "codemirror_mode": {
    "name": "ipython",
    "version": 3
   },
   "file_extension": ".py",
   "mimetype": "text/x-python",
   "name": "python",
   "nbconvert_exporter": "python",
   "pygments_lexer": "ipython3",
   "version": "3.12.4"
  }
 },
 "nbformat": 4,
 "nbformat_minor": 4
}
