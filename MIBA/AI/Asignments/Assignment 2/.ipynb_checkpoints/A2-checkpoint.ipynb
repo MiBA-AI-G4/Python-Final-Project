{
 "cells": [
  {
   "cell_type": "markdown",
   "metadata": {
    "deletable": false,
    "editable": false,
    "nbgrader": {
     "cell_type": "markdown",
     "checksum": "4633d6aeabeaece0ecad267d4b0f138d",
     "grade": false,
     "grade_id": "cell-182750c4c8e60917",
     "locked": true,
     "schema_version": 3,
     "solution": false,
     "task": false
    }
   },
   "source": [
    "# Assignment 2: Model Creation with SciKit-learn\n",
    "\n",
    "In this notebook, you will work through a series of exercises designed to deepen your understanding of model creation using SciKit-learn. The assignment requires code-based solutions—**manually computed or hard-coded results will not be accepted**. \n",
    "\n",
    "### Instructions:\n",
    "- Write your solutions in the provided cells without altering or removing the test cells.\n",
    "- Upon completion, submit the notebook in **.ipynb** format through Moodle.\n",
    "\n",
    "In addition to the coding exercises, there are several open-ended questions that require thoughtful responses. Your answers should be thoroughly **justified** using: (a) Python code, (b) performance metrics, and (c) visualizations. Unsubstantiated responses will receive lower evaluations, so ensure your answers are supported with clear evidence."
   ]
  },
  {
   "cell_type": "code",
   "execution_count": null,
   "metadata": {
    "ExecuteTime": {
     "end_time": "2024-10-17T19:40:31.810156Z",
     "start_time": "2024-10-17T19:40:31.381922Z"
    },
    "deletable": false,
    "editable": false,
    "nbgrader": {
     "cell_type": "code",
     "checksum": "0bd8f01f1d6094784d28686935c49625",
     "grade": true,
     "grade_id": "patcher",
     "locked": true,
     "points": 0,
     "schema_version": 3,
     "solution": false,
     "task": false
    }
   },
   "outputs": [],
   "source": [
    "# IMPORTANT: DO NOT MODIFY OR DELETE THIS CELL.\n",
    "# Do not add any cells before this one.\n",
    "# This cell must remain as the first cell in your notebook for proper functionality.\n"
   ]
  },
  {
   "cell_type": "markdown",
   "metadata": {
    "deletable": false,
    "editable": false,
    "nbgrader": {
     "cell_type": "markdown",
     "checksum": "82a8e25556157973be23618aa3c052bd",
     "grade": false,
     "grade_id": "cell-e6b7e15bc4d07153",
     "locked": true,
     "schema_version": 3,
     "solution": false,
     "task": false
    }
   },
   "source": [
    "<div class=\"alert alert-warning\">\n",
    "\n",
    "The following cell contains two functions for result visualization. **DO NOT MODIFY** them.\n",
    "\n",
    "You are allowed to reuse parts of this code for the open-ended questions,  but ensure both functions remain unchanged in their original form.\n",
    "\n",
    "- The `plot_decision_surface` function generates a scatter plot of the training data (as circles) and test data (as diamonds), along with the model's decision boundary.\n",
    "  \n",
    "- The `plot_parallel_coordinates` function visualizes the accuracy, precision, recall, and F1-score in relation to the gamma parameter of a Support Vector Machine classifier.\n",
    "</div>"
   ]
  },
  {
   "cell_type": "code",
   "execution_count": null,
   "metadata": {
    "ExecuteTime": {
     "end_time": "2024-10-17T20:23:48.014425Z",
     "start_time": "2024-10-17T20:23:48.003967Z"
    },
    "deletable": false,
    "editable": false,
    "nbgrader": {
     "cell_type": "code",
     "checksum": "eb483d6852d80ebe9d7d5bd63ea7385b",
     "grade": false,
     "grade_id": "cell-c7212e59215db10e",
     "locked": true,
     "schema_version": 3,
     "solution": false,
     "task": false
    }
   },
   "outputs": [],
   "source": [
    "# IMPORTANT: DO NOT MODIFY OR DELETE THIS CELL.\n",
    "import numpy as np\n",
    "from matplotlib import pyplot as plt\n",
    "from matplotlib.colors import ListedColormap\n",
    "from mpl_toolkits.axes_grid1 import make_axes_locatable\n",
    "from sklearn import set_config\n",
    "import plotly.graph_objects as go\n",
    "\n",
    "set_config(transform_output=\"pandas\")\n",
    "\n",
    "def plot_decision_surface(X_train, y_train, X_test=None, y_test=None, model=None, show_points=True, title=None):\n",
    "    if X_train.shape[1] != 2:\n",
    "        raise ValueError(f'Incorrect shape {X.shape}, can only plot 2D datasets')\n",
    "\n",
    "    # just plot the dataset first\n",
    "    cm = 'coolwarm'\n",
    "    cm_bright = ListedColormap(['#0000FF', '#FF0000', ])\n",
    "\n",
    "    fig, ax = plt.subplots()\n",
    "\n",
    "    if model is not None:\n",
    "        x_min, x_max = X_train[:, 0].min() - .5, X_train[:, 0].max() + .5\n",
    "        y_min, y_max = X_train[:, 1].min() - .5, X_train[:, 1].max() + .5\n",
    "        xx, yy = np.meshgrid(np.arange(x_min, x_max, 0.01),\n",
    "                             np.arange(y_min, y_max, 0.01))\n",
    "        # Plot the decision boundary. For that, we will assign a color to each\n",
    "        # point in the mesh [x_min, x_max]x[y_min, y_max].\n",
    "        X_mesh = np.c_[xx.ravel(), yy.ravel()]\n",
    "        try:\n",
    "            Z = model.decision_function(X_mesh)\n",
    "        except AttributeError:\n",
    "            try:\n",
    "                Z = model.predict_proba(X_mesh)[:, 1]\n",
    "                if Z.min() >= 0:\n",
    "                    Z = Z * 2 - 1\n",
    "            except AttributeError:\n",
    "                Z = model.predict(X_mesh)\n",
    "        # Put the result into a color plot\n",
    "        Z = Z.reshape(xx.shape)\n",
    "        Z_max = np.abs(Z).max()\n",
    "        cs_contourf = ax.contourf(xx, yy, Z, levels=10, cmap=cm, alpha=.8, vmin=-Z_max, vmax=Z_max, )\n",
    "        cs_contour = ax.contour(xx, yy, Z, [-1, 0, 1], linewidths=[1, 2, 1], alpha=0.5,\n",
    "                                colors=('#0000FF', 'gray', '#FF0000'))\n",
    "\n",
    "        # Make a colorbar for the ContourSet returned by the contourf call.\n",
    "        divider = make_axes_locatable(ax)\n",
    "        cax = divider.append_axes(\"right\", size=\"5%\", pad=0.05)\n",
    "\n",
    "        cbar = ax.figure.colorbar(cs_contourf, cax=cax)\n",
    "        # Add the contour line levels to the colorbar\n",
    "        try:\n",
    "            cbar.add_lines(cs_contour)\n",
    "        except Exception:\n",
    "            pass\n",
    "        ax.set_xlim(xx.min(), xx.max())\n",
    "        ax.set_ylim(yy.min(), yy.max())\n",
    "\n",
    "    if show_points:\n",
    "        # # Plot the training points\n",
    "        ax.scatter(X_train[:, 0], X_train[:, 1], c=y_train, cmap=cm_bright,\n",
    "                   #edgecolors='k', \n",
    "                   alpha=0.25)\n",
    "        # ax.scatter(X_train[:, 0], X_train[:, 1], c=y_train, cmap=cm_bright,\n",
    "        #                edgecolors='k', alpha=0.6, s=140)\n",
    "        if X_test is not None:\n",
    "            # and testing points\n",
    "            ax.scatter(X_test[:, 0], X_test[:, 1], c=y_test, cmap=cm_bright,\n",
    "                       #edgecolors='k',\n",
    "                       # s=100,\n",
    "                       marker='D')\n",
    "\n",
    "    ax.set_xticks(())\n",
    "    ax.set_yticks(())\n",
    "\n",
    "    ax.set_aspect('equal', 'box')\n",
    "    if title is not None:\n",
    "        ax.set_title(title)\n",
    "    plt.show()\n",
    "\n",
    "\n",
    "def plot_parallel_coordinates(df, svm_models, title):\n",
    "    df = df.copy()\n",
    "    with pd.option_context('future.no_silent_downcasting', True):\n",
    "        df = df.replace({'gamma': {'scale': svm_models['scale']._gamma}})\n",
    "    dimensions = [\n",
    "        dict(range=[0, 1],\n",
    "             label='Accuracy', values=df['accuracy']),\n",
    "        dict(range=[0, df['gamma'].max()],\n",
    "             label='Gamma', values=df['gamma']),\n",
    "        dict(range=[0, 1],\n",
    "             label='Precision 0', values=df['precision_class_0']),\n",
    "        dict(range=[0, 1],\n",
    "             label='Precision 1', values=df['precision_class_1']),\n",
    "        dict(range=[0, 1],\n",
    "             label='Recall 0', values=df['recall_class_0']),\n",
    "        dict(range=[0, 1],\n",
    "             label='Recall 1', values=df['recall_class_1']),\n",
    "        dict(range=[0, 1],\n",
    "             label='F1 0', values=df['f1_class_0']),\n",
    "        dict(range=[0, 1],\n",
    "             label='F1 1', values=df['f1_class_1'])\n",
    "    ]\n",
    "    if 'dataset_size' in df.columns:\n",
    "        dimensions.insert(1, dict(range=[0, 2500],\n",
    "                                   label='Dataset size', values=df['dataset_size'],\n",
    "                                   tickvals=[250, 2500],\n",
    "                                   ticktext=['250', '2500']))\n",
    "\n",
    "    \n",
    "    fig = go.Figure(\n",
    "        go.Parcoords(\n",
    "            line=dict(color=df.index.to_list(), colorscale='Plasma_r', showscale=False),\n",
    "            dimensions=dimensions\n",
    "        ))\n",
    "    fig.update_layout(\n",
    "        title=title,\n",
    "        font_size=10\n",
    "    )\n",
    "    fig.show()\n"
   ]
  },
  {
   "cell_type": "markdown",
   "metadata": {
    "deletable": false,
    "editable": false,
    "nbgrader": {
     "cell_type": "markdown",
     "checksum": "a2da348d5161dc6f61e51221af55f6f8",
     "grade": false,
     "grade_id": "cell-c879e87b1dbb5619",
     "locked": true,
     "schema_version": 3,
     "solution": false,
     "task": false
    }
   },
   "source": [
    "<div class=\"alert alert-info\"><b>Exercise 1: Synthetic dataset generation</b>\n",
    "\n",
    "Write code to generate the feature matrix `X` and the target array `y` using the `make_moons` function from the `sklearn.datasets` module with the parameters: `n_samples=250`, `noise=0.1`, and `random_state=42`. After creating the dataset, call `plot_decision_surface(X, y)` to visualize the data distribution.\n",
    "\n",
    "<br><i>[0.5 points]</i>\n",
    "</div>\n",
    "<div class=\"alert alert-warning\">\n",
    "\n",
    "Python is case-sensitive, so ensure your code matches the required capitalization.\n",
    "\n",
    "</div>"
   ]
  },
  {
   "cell_type": "code",
   "execution_count": null,
   "metadata": {
    "ExecuteTime": {
     "end_time": "2024-10-17T19:40:32.169379Z",
     "start_time": "2024-10-17T19:40:32.105832Z"
    },
    "deletable": false,
    "nbgrader": {
     "cell_type": "code",
     "checksum": "ad22bdeae2ae9ec125f402b4664df8da",
     "grade": false,
     "grade_id": "ex0",
     "locked": false,
     "schema_version": 3,
     "solution": true,
     "task": false
    }
   },
   "outputs": [],
   "source": [
    "# YOUR CODE HERE"
   ]
  },
  {
   "cell_type": "code",
   "execution_count": null,
   "metadata": {
    "ExecuteTime": {
     "end_time": "2024-10-17T19:40:32.182715Z",
     "start_time": "2024-10-17T19:40:32.180078Z"
    },
    "deletable": false,
    "editable": false,
    "nbgrader": {
     "cell_type": "code",
     "checksum": "c4fad8acf34e1105d857cc7ac3be33d9",
     "grade": true,
     "grade_id": "test0_1",
     "locked": true,
     "points": 0,
     "schema_version": 3,
     "solution": false,
     "task": false
    }
   },
   "outputs": [],
   "source": [
    "# LEAVE BLANK"
   ]
  },
  {
   "cell_type": "markdown",
   "metadata": {
    "deletable": false,
    "editable": false,
    "nbgrader": {
     "cell_type": "markdown",
     "checksum": "1ef0d5e7871f5a9ca9a81f6279444ff4",
     "grade": false,
     "grade_id": "cell-01d750c33d29037f",
     "locked": true,
     "schema_version": 3,
     "solution": false,
     "task": false
    }
   },
   "source": [
    "<div class=\"alert alert-info\"><b>Exercise 1: Train-test split </b>\n",
    "\n",
    "Write code to split the generated dataset into training and testing sets, allocating 80% of the data for training and 20% for testing. Use `random_state=42` to ensure reproducibility. Store the resulting arrays in `X_train`, `X_test`, `y_train`, and `y_test`. After creating the dataset, call again `plot_decision_surface(X_train, y_train, X_test, y_test)` to visualize the train and test data distribution.\n",
    "<br><i>[0.25 points]</i>\n",
    "</div>"
   ]
  },
  {
   "cell_type": "code",
   "execution_count": null,
   "metadata": {
    "ExecuteTime": {
     "end_time": "2024-10-17T19:40:32.230020Z",
     "start_time": "2024-10-17T19:40:32.225846Z"
    },
    "deletable": false,
    "nbgrader": {
     "cell_type": "code",
     "checksum": "3416f03882927817c5373de161fb4a59",
     "grade": false,
     "grade_id": "ex1",
     "locked": false,
     "schema_version": 3,
     "solution": true,
     "task": false
    }
   },
   "outputs": [],
   "source": [
    "# YOUR CODE HERE"
   ]
  },
  {
   "cell_type": "code",
   "execution_count": null,
   "metadata": {
    "ExecuteTime": {
     "end_time": "2024-10-17T19:40:32.354811Z",
     "start_time": "2024-10-17T19:40:32.352259Z"
    },
    "deletable": false,
    "editable": false,
    "nbgrader": {
     "cell_type": "code",
     "checksum": "f1e8a3495dc29e897b8e82182812409d",
     "grade": true,
     "grade_id": "test1_1",
     "locked": true,
     "points": 0.1,
     "schema_version": 3,
     "solution": false,
     "task": false
    }
   },
   "outputs": [],
   "source": [
    "# LEAVE BLANK"
   ]
  },
  {
   "cell_type": "code",
   "execution_count": null,
   "metadata": {
    "ExecuteTime": {
     "end_time": "2024-10-17T19:40:32.435368Z",
     "start_time": "2024-10-17T19:40:32.432867Z"
    },
    "deletable": false,
    "editable": false,
    "nbgrader": {
     "cell_type": "code",
     "checksum": "082639bdf62fcecbba83f3f066f4d32d",
     "grade": true,
     "grade_id": "test1_2",
     "locked": true,
     "points": 0.15,
     "schema_version": 3,
     "solution": false,
     "task": false
    }
   },
   "outputs": [],
   "source": [
    "# LEAVE BLANK"
   ]
  },
  {
   "cell_type": "markdown",
   "metadata": {
    "deletable": false,
    "editable": false,
    "nbgrader": {
     "cell_type": "markdown",
     "checksum": "bb568aeb8b190e44f5d8a82550dd54d2",
     "grade": false,
     "grade_id": "cell-1f115fe41b7b5611",
     "locked": true,
     "schema_version": 3,
     "solution": false,
     "task": false
    }
   },
   "source": [
    "<div class=\"alert alert-info\"><b>Exercise 2: Logistic regression model creation</b>\n",
    "\n",
    "Write code to fit a logistic regression model to the training data and store the model in a variable called `logistic`. Then, calculate the accuracy for both the training and testing sets, and store the results in `train_accuracy` and `test_accuracy`, respectively.\n",
    "\n",
    "<br><i>[0.5 points]</i>\n",
    "</div>\n"
   ]
  },
  {
   "cell_type": "code",
   "execution_count": null,
   "metadata": {
    "ExecuteTime": {
     "end_time": "2024-10-17T19:40:32.498584Z",
     "start_time": "2024-10-17T19:40:32.482259Z"
    },
    "deletable": false,
    "nbgrader": {
     "cell_type": "code",
     "checksum": "e312a6da82f8c4bc37df98d9182e9662",
     "grade": false,
     "grade_id": "ex2",
     "locked": false,
     "schema_version": 3,
     "solution": true,
     "task": false
    }
   },
   "outputs": [],
   "source": [
    "# YOUR CODE HERE"
   ]
  },
  {
   "cell_type": "code",
   "execution_count": null,
   "metadata": {
    "ExecuteTime": {
     "end_time": "2024-10-17T19:40:32.564363Z",
     "start_time": "2024-10-17T19:40:32.559040Z"
    },
    "deletable": false,
    "editable": false,
    "nbgrader": {
     "cell_type": "code",
     "checksum": "60cdee33db21744de46c2f7178fd479f",
     "grade": true,
     "grade_id": "test2_1",
     "locked": true,
     "points": 0.1,
     "schema_version": 3,
     "solution": false,
     "task": false
    }
   },
   "outputs": [],
   "source": [
    "# LEAVE BLANK"
   ]
  },
  {
   "cell_type": "code",
   "execution_count": null,
   "metadata": {
    "ExecuteTime": {
     "end_time": "2024-10-17T19:40:32.722050Z",
     "start_time": "2024-10-17T19:40:32.613908Z"
    },
    "deletable": false,
    "editable": false,
    "nbgrader": {
     "cell_type": "code",
     "checksum": "c84ce79ab8438b4989df0a97587050ea",
     "grade": true,
     "grade_id": "test2_2",
     "locked": true,
     "points": 0.1,
     "schema_version": 3,
     "solution": false,
     "task": false
    }
   },
   "outputs": [],
   "source": [
    "# LEAVE BLANK"
   ]
  },
  {
   "cell_type": "code",
   "execution_count": null,
   "metadata": {
    "ExecuteTime": {
     "end_time": "2024-10-17T19:40:32.738256Z",
     "start_time": "2024-10-17T19:40:32.736164Z"
    },
    "deletable": false,
    "editable": false,
    "nbgrader": {
     "cell_type": "code",
     "checksum": "817a219788f2cc58ad35e85268db2b67",
     "grade": true,
     "grade_id": "test2_3",
     "locked": true,
     "points": 0.15,
     "schema_version": 3,
     "solution": false,
     "task": false
    }
   },
   "outputs": [],
   "source": [
    "# LEAVE BLANK"
   ]
  },
  {
   "cell_type": "code",
   "execution_count": null,
   "metadata": {
    "ExecuteTime": {
     "end_time": "2024-10-17T19:40:32.782964Z",
     "start_time": "2024-10-17T19:40:32.780694Z"
    },
    "deletable": false,
    "editable": false,
    "nbgrader": {
     "cell_type": "code",
     "checksum": "81faf726503fe2b4fbd0fdd9fa87014f",
     "grade": true,
     "grade_id": "test2_4",
     "locked": true,
     "points": 0.15,
     "schema_version": 3,
     "solution": false,
     "task": false
    }
   },
   "outputs": [],
   "source": [
    "# LEAVE BLANK"
   ]
  },
  {
   "cell_type": "markdown",
   "metadata": {
    "deletable": false,
    "editable": false,
    "nbgrader": {
     "cell_type": "markdown",
     "checksum": "ab745dda8b335e54595664819438eba5",
     "grade": false,
     "grade_id": "cell-b1156768baf06731",
     "locked": true,
     "schema_version": 3,
     "solution": false,
     "task": false
    }
   },
   "source": [
    "<div class=\"alert alert-info\"><b>Exercise 3: Explain logistic regression decision boundary</b>\n",
    "\n",
    "Provide substantiated answers to the following questions:\n",
    "\n",
    "- What issues, if any, do you observe in the model’s performance or behavior? Is the decision boundary well-suited to the underlying structure of the data?\n",
    "- Are there specific areas where the model underperforms? If so, do you believe accuracy alone is an adequate metric to evaluate the model’s performance?\n",
    "- Do you think logistic regression is an appropriate model for this dataset? Why or why not?\n",
    "- Does the model appear to overfit or underfit the data? What evidence supports your conclusion?\n",
    "\n",
    "<br><i>[0.5 points]</i>\n",
    "</div>"
   ]
  },
  {
   "cell_type": "code",
   "execution_count": null,
   "metadata": {
    "ExecuteTime": {
     "end_time": "2024-10-17T19:40:32.983410Z",
     "start_time": "2024-10-17T19:40:32.827809Z"
    },
    "deletable": false,
    "editable": false,
    "nbgrader": {
     "cell_type": "code",
     "checksum": "fce827b5ea6c3012c7826b798feff745",
     "grade": false,
     "grade_id": "cell-cb61cf82ff46d66f",
     "locked": true,
     "schema_version": 3,
     "solution": false,
     "task": false
    }
   },
   "outputs": [],
   "source": [
    "# DO NOT MODIFY THIS CELL. Simply execute it.\n",
    "plot_decision_surface(X_train, y_train, X_test, y_test, logistic)"
   ]
  },
  {
   "cell_type": "markdown",
   "metadata": {
    "deletable": false,
    "nbgrader": {
     "cell_type": "markdown",
     "checksum": "13eb22403d406f8cac3862e5afc2942d",
     "grade": true,
     "grade_id": "ex3",
     "locked": false,
     "points": 0.5,
     "schema_version": 3,
     "solution": true,
     "task": false
    }
   },
   "source": [
    "DOUBLE-CLICK AND WRITE YOUR ANSWER HERE"
   ]
  },
  {
   "cell_type": "markdown",
   "metadata": {
    "deletable": false,
    "editable": false,
    "nbgrader": {
     "cell_type": "markdown",
     "checksum": "1e1b97f33144d97f63770fdccc9405bc",
     "grade": false,
     "grade_id": "cell-4779961718bc994a",
     "locked": true,
     "schema_version": 3,
     "solution": false,
     "task": false
    }
   },
   "source": [
    "<div class=\"alert alert-info\"><b>Exercise 4: Decision tree model creation</b>\n",
    "\n",
    "Write code to fit a decision tree classifier to the training data and store the model in a variable named `dt`. Next, compute the accuracy, precision, and recall for both the training and testing sets, and store the results in the following variables: `train_accuracy`, `train_precision`, `train_recall`, `test_accuracy`, `test_precision`, and `test_recall`.\n",
    "\n",
    "<br><i>[0.5 points]</i>\n",
    "</div>"
   ]
  },
  {
   "cell_type": "code",
   "execution_count": null,
   "metadata": {
    "ExecuteTime": {
     "end_time": "2024-10-17T19:40:33.030977Z",
     "start_time": "2024-10-17T19:40:33.020865Z"
    },
    "deletable": false,
    "nbgrader": {
     "cell_type": "code",
     "checksum": "00ef2091bcd0c6ccc4ed66e901f1fff9",
     "grade": false,
     "grade_id": "ex4",
     "locked": false,
     "schema_version": 3,
     "solution": true,
     "task": false
    }
   },
   "outputs": [],
   "source": [
    "# YOUR CODE HERE"
   ]
  },
  {
   "cell_type": "code",
   "execution_count": null,
   "metadata": {
    "ExecuteTime": {
     "end_time": "2024-10-17T19:40:33.109460Z",
     "start_time": "2024-10-17T19:40:33.105501Z"
    },
    "deletable": false,
    "editable": false,
    "nbgrader": {
     "cell_type": "code",
     "checksum": "fbd548b1d9a4117bdb8813370885c86c",
     "grade": true,
     "grade_id": "test4_1",
     "locked": true,
     "points": 0.1,
     "schema_version": 3,
     "solution": false,
     "task": false
    }
   },
   "outputs": [],
   "source": [
    "# LEAVE BLANK"
   ]
  },
  {
   "cell_type": "code",
   "execution_count": null,
   "metadata": {
    "ExecuteTime": {
     "end_time": "2024-10-17T19:40:33.178940Z",
     "start_time": "2024-10-17T19:40:33.175773Z"
    },
    "deletable": false,
    "editable": false,
    "nbgrader": {
     "cell_type": "code",
     "checksum": "8b418fd3c251f16f53c303ba638d285c",
     "grade": true,
     "grade_id": "test4_2",
     "locked": true,
     "points": 0.1,
     "schema_version": 3,
     "solution": false,
     "task": false
    }
   },
   "outputs": [],
   "source": [
    "# LEAVE BLANK"
   ]
  },
  {
   "cell_type": "code",
   "execution_count": null,
   "metadata": {
    "ExecuteTime": {
     "end_time": "2024-10-17T19:40:33.227320Z",
     "start_time": "2024-10-17T19:40:33.224583Z"
    },
    "deletable": false,
    "editable": false,
    "nbgrader": {
     "cell_type": "code",
     "checksum": "14f6c812423acc2d92cc33fd4adde7a3",
     "grade": true,
     "grade_id": "test_4_3",
     "locked": true,
     "points": 0.15,
     "schema_version": 3,
     "solution": false,
     "task": false
    }
   },
   "outputs": [],
   "source": [
    "# LEAVE BLANK"
   ]
  },
  {
   "cell_type": "code",
   "execution_count": null,
   "metadata": {
    "ExecuteTime": {
     "end_time": "2024-10-17T19:40:33.279538Z",
     "start_time": "2024-10-17T19:40:33.272878Z"
    },
    "deletable": false,
    "editable": false,
    "nbgrader": {
     "cell_type": "code",
     "checksum": "29dfec5465af78f394cfbac6586dab90",
     "grade": true,
     "grade_id": "test4_4",
     "locked": true,
     "points": 0.15,
     "schema_version": 3,
     "solution": false,
     "task": false
    }
   },
   "outputs": [],
   "source": [
    "# LEAVE BLANK"
   ]
  },
  {
   "cell_type": "markdown",
   "metadata": {
    "deletable": false,
    "editable": false,
    "nbgrader": {
     "cell_type": "markdown",
     "checksum": "571ad800228020349f0ed487f0a510b1",
     "grade": false,
     "grade_id": "cell-b9c053c7e9e93e8f",
     "locked": true,
     "schema_version": 3,
     "solution": false,
     "task": false
    }
   },
   "source": [
    "<div class=\"alert alert-info\"><b>Exercise 5: Explain the decision tree classifier decision boundary</b>\n",
    "\n",
    "Provide well-supported answers to the following questions:\n",
    "\n",
    "- Why is the decision tree model a good fit for this dataset?\n",
    "- Why is the decision boundary of the decision tree seems a heavyside step function? Does this structure contribute to overfitting or underfitting, and can you observe these issues in specific regions of the data?\n",
    "- How do the decision boundaries produced by decision trees differ from those of logistic regression, particularly when dealing with nonlinear patterns?\n",
    "- What are the strengths and weaknesses of decision trees compared to logistic regression?\n",
    "\n",
    "<br><i>[0.75 points]</i>\n",
    "</div>"
   ]
  },
  {
   "cell_type": "code",
   "execution_count": null,
   "metadata": {
    "ExecuteTime": {
     "end_time": "2024-10-17T19:40:33.444016Z",
     "start_time": "2024-10-17T19:40:33.330056Z"
    },
    "deletable": false,
    "editable": false,
    "nbgrader": {
     "cell_type": "code",
     "checksum": "ef47a155b7deb427570d7de27a209e2b",
     "grade": false,
     "grade_id": "cell-fa9cf4390b52290b",
     "locked": true,
     "schema_version": 3,
     "solution": false,
     "task": false
    }
   },
   "outputs": [],
   "source": [
    "# DO NOT MODIFY THIS CELL. Simply execute it.\n",
    "plot_decision_surface(X_train, y_train, X_test, y_test, dt)"
   ]
  },
  {
   "cell_type": "markdown",
   "metadata": {
    "deletable": false,
    "nbgrader": {
     "cell_type": "markdown",
     "checksum": "9e3a1377fc5aaf4ca853ec06b33458e0",
     "grade": true,
     "grade_id": "ex5",
     "locked": false,
     "points": 0.75,
     "schema_version": 3,
     "solution": true,
     "task": false
    }
   },
   "source": [
    "DOUBLE-CLICK AND WRITE YOUR ANSWER HERE"
   ]
  },
  {
   "cell_type": "markdown",
   "metadata": {
    "deletable": false,
    "editable": false,
    "nbgrader": {
     "cell_type": "markdown",
     "checksum": "027ea7ba4bee87435a4a60f1f8a07ac7",
     "grade": false,
     "grade_id": "cell-53b44ebff7bb07ee",
     "locked": true,
     "schema_version": 3,
     "solution": false,
     "task": false
    }
   },
   "source": [
    "<div class=\"alert alert-info\"><b>Exercise 6: Support vector machine model creation </b>\n",
    "\n",
    "Write code to fit a Support Vector Machine (SVM) classifier with an RBF kernel to the training data and store the model in a variable named `svm`. Then, calculate the accuracy, precision, recall, and F1-score for both the training and testing sets, storing the results in the following variables: `train_accuracy`, `train_precision`, `train_recall`, `test_accuracy`, `test_precision`, `test_recall`, and `test_f1`.\n",
    "\n",
    "<br><i>[0.5 points]</i>\n",
    "</div>\n"
   ]
  },
  {
   "cell_type": "code",
   "execution_count": null,
   "metadata": {
    "ExecuteTime": {
     "end_time": "2024-10-17T19:40:33.502894Z",
     "start_time": "2024-10-17T19:40:33.482654Z"
    },
    "deletable": false,
    "nbgrader": {
     "cell_type": "code",
     "checksum": "a5d70d0859a7e9513d16031567e1eb90",
     "grade": false,
     "grade_id": "ex6",
     "locked": false,
     "schema_version": 3,
     "solution": true,
     "task": false
    }
   },
   "outputs": [],
   "source": [
    "# YOUR CODE HERE"
   ]
  },
  {
   "cell_type": "code",
   "execution_count": null,
   "metadata": {
    "ExecuteTime": {
     "end_time": "2024-10-17T19:40:33.584697Z",
     "start_time": "2024-10-17T19:40:33.581061Z"
    },
    "deletable": false,
    "editable": false,
    "nbgrader": {
     "cell_type": "code",
     "checksum": "a96fff73668b63305c183beb18165e34",
     "grade": true,
     "grade_id": "test6_1",
     "locked": true,
     "points": 0.1,
     "schema_version": 3,
     "solution": false,
     "task": false
    }
   },
   "outputs": [],
   "source": [
    "# LEAVE BLANK"
   ]
  },
  {
   "cell_type": "code",
   "execution_count": null,
   "metadata": {
    "ExecuteTime": {
     "end_time": "2024-10-17T19:40:33.639900Z",
     "start_time": "2024-10-17T19:40:33.637025Z"
    },
    "deletable": false,
    "editable": false,
    "nbgrader": {
     "cell_type": "code",
     "checksum": "fc59a5c458d6f71cb44ad05cccffb9bf",
     "grade": true,
     "grade_id": "test6_2",
     "locked": true,
     "points": 0.1,
     "schema_version": 3,
     "solution": false,
     "task": false
    }
   },
   "outputs": [],
   "source": [
    "# LEAVE BLANK"
   ]
  },
  {
   "cell_type": "code",
   "execution_count": null,
   "metadata": {
    "ExecuteTime": {
     "end_time": "2024-10-17T19:40:33.686216Z",
     "start_time": "2024-10-17T19:40:33.683783Z"
    },
    "deletable": false,
    "editable": false,
    "nbgrader": {
     "cell_type": "code",
     "checksum": "2b0d469747d6ee9f1d6210b476fee1fe",
     "grade": true,
     "grade_id": "test6_3",
     "locked": true,
     "points": 0.15,
     "schema_version": 3,
     "solution": false,
     "task": false
    }
   },
   "outputs": [],
   "source": [
    "# LEAVE BLANK"
   ]
  },
  {
   "cell_type": "code",
   "execution_count": null,
   "metadata": {
    "ExecuteTime": {
     "end_time": "2024-10-17T19:40:33.737654Z",
     "start_time": "2024-10-17T19:40:33.732258Z"
    },
    "deletable": false,
    "editable": false,
    "nbgrader": {
     "cell_type": "code",
     "checksum": "9d61a8b309d0e0832fa4b833d8518613",
     "grade": true,
     "grade_id": "test6_4",
     "locked": true,
     "points": 0.15,
     "schema_version": 3,
     "solution": false,
     "task": false
    }
   },
   "outputs": [],
   "source": [
    "# LEAVE BLANK"
   ]
  },
  {
   "cell_type": "markdown",
   "metadata": {
    "deletable": false,
    "editable": false,
    "nbgrader": {
     "cell_type": "markdown",
     "checksum": "5fb63e9177f1e0cd9d1a9bbf7f035a0a",
     "grade": false,
     "grade_id": "cell-c0018f863abb6f74",
     "locked": true,
     "schema_version": 3,
     "solution": false,
     "task": false
    }
   },
   "source": [
    "<div class=\"alert alert-info\"><b>Exercise 7: Explain the  support vector machine model decision boundary</b>\n",
    "\n",
    "Provide well-reasoned answers to the following questions:\n",
    "\n",
    "- Why is the SVM a good fit for this dataset?\n",
    "- How do support vectors determine the decision boundary, and what impact does this have on the model's effectiveness?\n",
    "- Why does the SVM produce a smooth, continuous decision boundary, unlike the 'blocky' boundaries seen in decision trees?\n",
    "- How do the decision boundaries of SVM differ from the linear boundaries of logistic regression?\n",
    "- What are the strengths and weaknesses of SVM compared to logistic regression and decision trees?\n",
    "- In what scenarios might logistic regression be more suitable, and when would SVM be a better choice?\n",
    "- How do support vectors shape the SVM's decision boundary, and how does this differ from the recursive partitioning method used by decision trees?\n",
    "\n",
    "<br><i>[1 points]</i>\n",
    "</div>"
   ]
  },
  {
   "cell_type": "code",
   "execution_count": null,
   "metadata": {
    "ExecuteTime": {
     "end_time": "2024-10-17T19:40:34.042457Z",
     "start_time": "2024-10-17T19:40:33.790003Z"
    },
    "deletable": false,
    "editable": false,
    "nbgrader": {
     "cell_type": "code",
     "checksum": "f4510fa1fd9c360f4ce37c6fa1a38b22",
     "grade": false,
     "grade_id": "cell-ea6519ff8baef008",
     "locked": true,
     "schema_version": 3,
     "solution": false,
     "task": false
    }
   },
   "outputs": [],
   "source": [
    "# DO NOT MODIFY THIS CELL. Simply execute it.\n",
    "plot_decision_surface(X_train, y_train, X_test, y_test, svm)"
   ]
  },
  {
   "cell_type": "markdown",
   "metadata": {
    "deletable": false,
    "nbgrader": {
     "cell_type": "markdown",
     "checksum": "1b182428639732b50a7eeb300019e3dd",
     "grade": true,
     "grade_id": "ex7",
     "locked": false,
     "points": 1,
     "schema_version": 3,
     "solution": true,
     "task": false
    }
   },
   "source": [
    "DOUBLE-CLICK AND WRITE YOUR ANSWER HERE"
   ]
  },
  {
   "cell_type": "markdown",
   "metadata": {
    "deletable": false,
    "editable": false,
    "id": "evERSqB9MPid",
    "nbgrader": {
     "cell_type": "markdown",
     "checksum": "39cae4ef76ffc03d2a2dbed7f66336a7",
     "grade": false,
     "grade_id": "cell-c7c37aaa2f33b36",
     "locked": true,
     "schema_version": 3,
     "solution": false,
     "task": false
    }
   },
   "source": [
    "<div class=\"alert alert-info\"><b>Exercise 8: Generating a Noisy Dataset</b>\n",
    "\n",
    "The dataset used in the previous exercies had an easy and well-defined decision boundary. However, real business datasets contains noise and errors, making the classification task more complex and intrincate. To generate a more realistic dataset, write code to generate a new feature matrix `X` and a target array `y` using the `make_moons` function with the parameters: `n_samples=250`, `noise=0.4`, and `random_state=42`. Then, split the generated dataset into training and testing sets, allocating 80% of the data for training and 20% for testing. Use `random_state=42` to ensure reproducibility. Store the resulting arrays in `X_train`, `X_test`, `y_train`, and `y_test`. Finally, call again `plot_decision_surface(X_train, y_train, X_test, y_test)` to visualize the new train and test data distribution.\n",
    "\n",
    "<br><i>[0.25 points]</i>\n",
    "</div>"
   ]
  },
  {
   "cell_type": "code",
   "execution_count": null,
   "metadata": {
    "ExecuteTime": {
     "end_time": "2024-10-17T19:40:34.058751Z",
     "start_time": "2024-10-17T19:40:34.055259Z"
    },
    "deletable": false,
    "nbgrader": {
     "cell_type": "code",
     "checksum": "c74d955df7802975bc8cebc0eda973ff",
     "grade": false,
     "grade_id": "ex8",
     "locked": false,
     "schema_version": 3,
     "solution": true,
     "task": false
    }
   },
   "outputs": [],
   "source": [
    "# YOUR CODE HERE"
   ]
  },
  {
   "cell_type": "code",
   "execution_count": null,
   "metadata": {
    "ExecuteTime": {
     "end_time": "2024-10-17T19:40:34.103900Z",
     "start_time": "2024-10-17T19:40:34.100220Z"
    },
    "deletable": false,
    "editable": false,
    "nbgrader": {
     "cell_type": "code",
     "checksum": "31b93dc706d2fb2b4b910af001f3fe4c",
     "grade": true,
     "grade_id": "test8_1",
     "locked": true,
     "points": 0.25,
     "schema_version": 3,
     "solution": false,
     "task": false
    }
   },
   "outputs": [],
   "source": [
    "# LEAVE BLANK"
   ]
  },
  {
   "cell_type": "markdown",
   "metadata": {
    "deletable": false,
    "editable": false,
    "nbgrader": {
     "cell_type": "markdown",
     "checksum": "261b37231314d5e4e4b1f2777f54545c",
     "grade": false,
     "grade_id": "cell-31df29f61cfcc6c9",
     "locked": true,
     "schema_version": 3,
     "solution": false,
     "task": false
    }
   },
   "source": [
    "<div class=\"alert alert-info\"><b>Exercise 9: Analyzing the potential negative impact of noisy datasets</b>\n",
    "\n",
    "Provide well-supported answers to the following questions:\n",
    "\n",
    "- How do you think increased noise in the dataset will impact model performance? Which model do you expect to handle noise best, and why?\n",
    "- How might the logistic regression model be affected by noisy data?\n",
    "- How do you think noise will influence the decision tree model? Will the step-like characteristic of the boundaries of decision trees become more irregular or over-complicated due to noise? How might this affect performance, especially on unseen data?\n",
    "- How will the SVM's decision boundary be influenced by noisy data? Do you expect SVM to become more sensitive to noisy data points near the boundary? How might this impact the margin, support vectors, and lead to overfitting or a reduction in margin width?\n",
    "- What strategies can be used to mitigate the effects of noise on these models?\n",
    "\n",
    "<br><i>[0.75 points]</i>\n",
    "</div>"
   ]
  },
  {
   "cell_type": "markdown",
   "metadata": {
    "deletable": false,
    "nbgrader": {
     "cell_type": "markdown",
     "checksum": "48aee7572cfabcc481d7391906e0962f",
     "grade": true,
     "grade_id": "ex9",
     "locked": false,
     "points": 0.75,
     "schema_version": 3,
     "solution": true,
     "task": false
    }
   },
   "source": [
    "DOUBLE-CLICK AND WRITE YOUR ANSWER HERE"
   ]
  },
  {
   "cell_type": "markdown",
   "metadata": {
    "deletable": false,
    "editable": false,
    "nbgrader": {
     "cell_type": "markdown",
     "checksum": "1ad03f22cd38ef3878c7d461c68ef8c1",
     "grade": false,
     "grade_id": "cell-cc6534e03e8a2c90",
     "locked": true,
     "schema_version": 3,
     "solution": false,
     "task": false
    }
   },
   "source": [
    "<div class=\"alert alert-info\"><b>Exercise 10: Adding a regularization term</b>\n",
    "\n",
    "Now, it's time to explore the impact of hyperparameters on model performance. To understand the role of the `gamma` hyperparameter in SVM models, refer to [this resource](https://amagash.github.io/pages/exploration/supervised-learning/svm.html). Additionally, for a general understanding of regularization in supervised learning and SVMs in particular, check out these links: [Simplilearn's guide on regularization](https://www.simplilearn.com/tutorials/machine-learning-tutorial/regularization-in-machine-learning) and [Wikipedia's overview](https://en.wikipedia.org/wiki/Regularization_perspectives_on_support_vector_machines).\n",
    "\n",
    "Your task is to write a function called `get_metrics(model, X, y)`, where the first parameter is a pre-trained model, `X` is the feature matrix, and `y` is the target array. This function should return a dictionary containing key-value pairs for the following metrics: accuracy, precision for class 0 and class 1, recall for class 0 and class 1, and F1-score for class 0 and class 1. The dictionary should be structured as follows:\n",
    "\n",
    "```python\n",
    "{\n",
    "   'accuracy': accuracy, \n",
    "   'precision_class_0': precision_class_0, \n",
    "   'precision_class_1': precision_class_1, \n",
    "   'recall_class_0': recall_class_0, \n",
    "   'recall_class_1': recall_class_1, \n",
    "   'f1_class_0': f1_class_0, \n",
    "   'f1_class_1': f1_class_1\n",
    "}\n",
    "```\n",
    "\n",
    "Next, train three SVM models using the following values for the `gamma` parameter: `0.01`, `'scale'`, and `100`, while keeping the other hyperparameters at their default values. Store these models in a dictionary called `svm_models`, where each key is the corresponding `gamma` value and the value is the trained model. Use the function `get_metrics(model, X, y)` to generate two DataFrames `train_metrics`, and `test_metrics` to store performance metrics and its corresponding `gamma` value. Finally, find the model with the highest accuracy and store it in a variable called `best_svm`.\n",
    "\n",
    "<br><i>[1 points]</i>\n",
    "</div>"
   ]
  },
  {
   "cell_type": "code",
   "execution_count": null,
   "metadata": {
    "ExecuteTime": {
     "end_time": "2024-10-17T19:49:27.078698Z",
     "start_time": "2024-10-17T19:49:25.361602Z"
    },
    "deletable": false,
    "nbgrader": {
     "cell_type": "code",
     "checksum": "61a7d17ae23db4b20e268512e705c64e",
     "grade": false,
     "grade_id": "ex10",
     "locked": false,
     "schema_version": 3,
     "solution": true,
     "task": false
    }
   },
   "outputs": [],
   "source": [
    "# YOUR CODE HERE"
   ]
  },
  {
   "cell_type": "code",
   "execution_count": null,
   "metadata": {
    "ExecuteTime": {
     "end_time": "2024-10-17T19:40:34.464410Z",
     "start_time": "2024-10-17T19:40:34.462541Z"
    },
    "deletable": false,
    "editable": false,
    "nbgrader": {
     "cell_type": "code",
     "checksum": "50364c38465d0d239bab6b07a463627e",
     "grade": true,
     "grade_id": "test10_1",
     "locked": true,
     "points": 0.25,
     "schema_version": 3,
     "solution": false,
     "task": false
    }
   },
   "outputs": [],
   "source": [
    "# LEAVE BLANK"
   ]
  },
  {
   "cell_type": "code",
   "execution_count": null,
   "metadata": {
    "ExecuteTime": {
     "end_time": "2024-10-17T19:40:34.517963Z",
     "start_time": "2024-10-17T19:40:34.509128Z"
    },
    "deletable": false,
    "editable": false,
    "nbgrader": {
     "cell_type": "code",
     "checksum": "f0abbf9ce55136bd3b350c701dc7f16e",
     "grade": true,
     "grade_id": "test10_2",
     "locked": true,
     "points": 0.25,
     "schema_version": 3,
     "solution": false,
     "task": false
    }
   },
   "outputs": [],
   "source": [
    "# LEAVE BLANK"
   ]
  },
  {
   "cell_type": "code",
   "execution_count": null,
   "metadata": {
    "ExecuteTime": {
     "end_time": "2024-10-17T19:40:34.573925Z",
     "start_time": "2024-10-17T19:40:34.570153Z"
    },
    "deletable": false,
    "editable": false,
    "nbgrader": {
     "cell_type": "code",
     "checksum": "4f706cd6d56626b138d50cc9477ca92f",
     "grade": true,
     "grade_id": "test10_3",
     "locked": true,
     "points": 0.25,
     "schema_version": 3,
     "solution": false,
     "task": false
    }
   },
   "outputs": [],
   "source": [
    "# LEAVE BLANK"
   ]
  },
  {
   "cell_type": "code",
   "execution_count": null,
   "metadata": {
    "ExecuteTime": {
     "end_time": "2024-10-17T19:40:34.624933Z",
     "start_time": "2024-10-17T19:40:34.619060Z"
    },
    "deletable": false,
    "editable": false,
    "nbgrader": {
     "cell_type": "code",
     "checksum": "164c91e3d919ec6369a9707a5c7be3ae",
     "grade": true,
     "grade_id": "test10_4",
     "locked": true,
     "points": 0.25,
     "schema_version": 3,
     "solution": false,
     "task": false
    }
   },
   "outputs": [],
   "source": [
    "# LEAVE BLANK"
   ]
  },
  {
   "cell_type": "markdown",
   "metadata": {
    "deletable": false,
    "editable": false,
    "nbgrader": {
     "cell_type": "markdown",
     "checksum": "fe4a2d99a4bc9c053499b22b3d553831",
     "grade": false,
     "grade_id": "cell-01a388592b47c3bb",
     "locked": true,
     "schema_version": 3,
     "solution": false,
     "task": false
    }
   },
   "source": [
    "<div class=\"alert alert-info\"><b>Exercise 11: Explain SVM regularization effect</b>\n",
    "\n",
    "Provide well-reasoned answers to the following questions:\n",
    "\n",
    "- How does adjusting the `gamma` parameter impact the model’s complexity? Which values of `gamma` produce a smoother, more generalized decision boundary, and how does this affect the model's ability to handle noise? Conversely, which values result in a more complex decision boundary that may overfit the data, including noise?\n",
    "- Can you pinpoint regions where overfitting or underfitting occurs based on the different `gamma` values?\n",
    "- How do precision and recall vary as you change the `gamma` parameter? Does a higher `gamma` lead to better precision at the expense of recall, or the opposite?\n",
    "- How do the test set metrics compare to the training set metrics for different `gamma` values? \n",
    "- Based on these observations, which model would you select, and why?\n",
    "- What modifications could be made to improve the chosen model's performance on the noisy dataset?\n",
    "\n",
    "<br><i>[1 points]</i>\n",
    "</div>"
   ]
  },
  {
   "cell_type": "code",
   "execution_count": null,
   "metadata": {
    "ExecuteTime": {
     "end_time": "2024-10-17T19:40:38.215182Z",
     "start_time": "2024-10-17T19:40:34.671980Z"
    },
    "deletable": false,
    "editable": false,
    "nbgrader": {
     "cell_type": "code",
     "checksum": "99c0322211612a0fb18710216cc4f443",
     "grade": false,
     "grade_id": "cell-2e0f6ed9f726541b",
     "locked": true,
     "schema_version": 3,
     "solution": false,
     "task": false
    }
   },
   "outputs": [],
   "source": [
    "# DO NOT MODIFY THIS CELL. Simply execute it.\n",
    "for svm in svm_models.values():\n",
    "    plot_decision_surface(X_train, y_train, X_test, y_test, svm, title=f'Gamma: {svm.gamma}')"
   ]
  },
  {
   "cell_type": "code",
   "execution_count": null,
   "metadata": {
    "ExecuteTime": {
     "end_time": "2024-10-17T19:47:32.226191Z",
     "start_time": "2024-10-17T19:47:32.209837Z"
    },
    "deletable": false,
    "editable": false,
    "nbgrader": {
     "cell_type": "code",
     "checksum": "33f0609e6a17cd41bae4a497172c8352",
     "grade": false,
     "grade_id": "cell-a2e369a106020691",
     "locked": true,
     "schema_version": 3,
     "solution": false,
     "task": false
    }
   },
   "outputs": [],
   "source": [
    "# DO NOT MODIFY THIS CELL. Simply execute it.\n",
    "plot_parallel_coordinates(train_metrics, svm_models, 'Train metrics')\n",
    "plot_parallel_coordinates(test_metrics, svm_models, 'Test metrics')\n"
   ]
  },
  {
   "cell_type": "markdown",
   "metadata": {
    "deletable": false,
    "nbgrader": {
     "cell_type": "markdown",
     "checksum": "f5bfd7cc40e8761e48f0c39f641a7a0d",
     "grade": true,
     "grade_id": "ex11",
     "locked": false,
     "points": 1,
     "schema_version": 3,
     "solution": true,
     "task": false
    }
   },
   "source": [
    "DOUBLE-CLICK AND WRITE YOUR ANSWER HERE"
   ]
  },
  {
   "cell_type": "markdown",
   "metadata": {
    "deletable": false,
    "editable": false,
    "nbgrader": {
     "cell_type": "markdown",
     "checksum": "9830e1e09acbd2bd9094055e3924ba7c",
     "grade": false,
     "grade_id": "cell-130cc988480da06b",
     "locked": true,
     "schema_version": 3,
     "solution": false,
     "task": false
    }
   },
   "source": [
    "<div class=\"alert alert-info\"><b>Exercise 12: Increase size of dataset</b>\n",
    "\n",
    "Now, let's retrain the least regularized SVM model with `gamma` set to 100, but this time using a larger dataset. Generate the dataset using the `make_moons` function with the parameters: `n_samples=2500`, `noise=0.4`, and `random_state=42`. Next, split the dataset into training and testing sets, with 80% of the data for training and 20% for testing, ensuring reproducibility by using `random_state=42`. Store the resulting arrays as `X_train`, `X_test`, `y_train`, and `y_test`.\n",
    "\n",
    "Fit the SVM model using the training data and store it in a variable called `non_regularized_svm`. Then, use the `get_metrics` function to compute the performance metrics, as done in the previous exercise, and append the results to the `train_metrics` and `test_metrics` dataframes.\n",
    "\n",
    "Finally, add a new column named `dataset_size` to the metrics dataframes, assigning a value of `2500` for the new `non_regularized_svm` model and `250` for the previous models.\n",
    "\n",
    "<br><i>[1 points]</i>\n",
    "</div>"
   ]
  },
  {
   "cell_type": "code",
   "execution_count": null,
   "metadata": {
    "ExecuteTime": {
     "end_time": "2024-10-17T19:50:17.886140Z",
     "start_time": "2024-10-17T19:50:16.982646Z"
    },
    "deletable": false,
    "nbgrader": {
     "cell_type": "code",
     "checksum": "d893940982a4d2de7da6101e37e6446e",
     "grade": true,
     "grade_id": "ex12",
     "locked": false,
     "points": 1,
     "schema_version": 3,
     "solution": true,
     "task": false
    }
   },
   "outputs": [],
   "source": [
    "# YOUR CODE HERE"
   ]
  },
  {
   "cell_type": "code",
   "execution_count": null,
   "metadata": {
    "ExecuteTime": {
     "end_time": "2024-10-17T19:50:27.371053Z",
     "start_time": "2024-10-17T19:50:27.368253Z"
    },
    "deletable": false,
    "editable": false,
    "nbgrader": {
     "cell_type": "code",
     "checksum": "e40e3816e84c1b875811eb6d6d424f57",
     "grade": true,
     "grade_id": "test12_1",
     "locked": true,
     "points": 0.25,
     "schema_version": 3,
     "solution": false,
     "task": false
    }
   },
   "outputs": [],
   "source": [
    "# LEAVE BLANK"
   ]
  },
  {
   "cell_type": "code",
   "execution_count": null,
   "metadata": {
    "ExecuteTime": {
     "end_time": "2024-10-17T19:51:56.387963Z",
     "start_time": "2024-10-17T19:51:56.382591Z"
    },
    "deletable": false,
    "editable": false,
    "nbgrader": {
     "cell_type": "code",
     "checksum": "d6cf148d0e141cd83cce7bec5d243c24",
     "grade": true,
     "grade_id": "test12_2",
     "locked": true,
     "points": 0.25,
     "schema_version": 3,
     "solution": false,
     "task": false
    }
   },
   "outputs": [],
   "source": [
    "# LEAVE BLANK\n"
   ]
  },
  {
   "cell_type": "code",
   "execution_count": null,
   "metadata": {
    "ExecuteTime": {
     "end_time": "2024-10-17T19:50:32.320326Z",
     "start_time": "2024-10-17T19:50:32.317266Z"
    },
    "deletable": false,
    "editable": false,
    "nbgrader": {
     "cell_type": "code",
     "checksum": "a582c0181e3963e3db43d677275cc92a",
     "grade": true,
     "grade_id": "test12_3",
     "locked": true,
     "points": 0.5,
     "schema_version": 3,
     "solution": false,
     "task": false
    }
   },
   "outputs": [],
   "source": [
    "# LEAVE BLANK"
   ]
  },
  {
   "cell_type": "markdown",
   "metadata": {
    "deletable": false,
    "editable": false,
    "nbgrader": {
     "cell_type": "markdown",
     "checksum": "951b5fd69060ae75726e18c07e52f068",
     "grade": false,
     "grade_id": "cell-2d9713fef9881b4b",
     "locked": true,
     "schema_version": 3,
     "solution": false,
     "task": false
    }
   },
   "source": [
    "<div class=\"alert alert-info\"><b>Exercise 13: Explain size of dataset</b>\n",
    "\n",
    "Provide well-reasoned answers to the following questions:\n",
    "\n",
    "- How does increasing the dataset size help to reduce overfitting and improve the model’s test performance?\n",
    "- As more data is added, how does the SVM's decision boundary become smoother, allowing the model to generalize better and avoid fitting to noise?\n",
    "- How do the test metrics (such as accuracy, precision, and recall) improve in relation to the training metrics as the dataset size grows?\n",
    "- Is there a point where adding more data stops providing significant improvements in performance?\n",
    "- Why does increasing the dataset size help counterbalance the high `gamma` value, thereby reducing overfitting?\n",
    "- How does the increase in data help the model create a smoother decision boundary?\n",
    "- Would you still consider lowering the `gamma` value, or is increasing the dataset size sufficient to address overfitting in this case?\n",
    "- In which situations might increasing the dataset size alone not be enough to mitigate overfitting, and how could adjusting the `gamma` parameter help in such cases?\n",
    "- After evaluating the effect of dataset size on overfitting, which model would you choose? Do you believe that increasing the dataset size sufficiently improves the performance of the high-`gamma` model, or would a lower-`gamma` model perform better for this dataset?\"\n",
    "\n",
    "  \n",
    "\n",
    "<br><i>[1 points]</i>\n",
    "</div>\n",
    "<div class=\"alert alert-warning\">\n",
    "\n",
    "The `plot_decision_surface` function may take up to 30 seconds to complete. Please be patient, this is expected behavior.\n",
    "\n",
    "</div>\n"
   ]
  },
  {
   "cell_type": "code",
   "execution_count": null,
   "metadata": {
    "ExecuteTime": {
     "end_time": "2024-10-17T19:52:51.498872Z",
     "start_time": "2024-10-17T19:52:37.832912Z"
    },
    "deletable": false,
    "editable": false,
    "nbgrader": {
     "cell_type": "code",
     "checksum": "19c3bd07d8f344b800bf4868077e169a",
     "grade": false,
     "grade_id": "cell-80355fd60a199722",
     "locked": true,
     "schema_version": 3,
     "solution": false,
     "task": false
    }
   },
   "outputs": [],
   "source": [
    "# DO NOT MODIFY THIS CELL. Simply execute it.\n",
    "plot_decision_surface(X_train, y_train, X_test, y_test, non_regularized_svm, show_points=False)"
   ]
  },
  {
   "cell_type": "code",
   "execution_count": null,
   "metadata": {
    "ExecuteTime": {
     "end_time": "2024-10-17T20:23:53.857826Z",
     "start_time": "2024-10-17T20:23:53.837877Z"
    },
    "deletable": false,
    "editable": false,
    "nbgrader": {
     "cell_type": "code",
     "checksum": "92036698c4f9dce3bd2bd0e238962907",
     "grade": false,
     "grade_id": "cell-ce063797aed82647",
     "locked": true,
     "schema_version": 3,
     "solution": false,
     "task": false
    }
   },
   "outputs": [],
   "source": [
    "# DO NOT MODIFY THIS CELL. Simply execute it.\n",
    "plot_parallel_coordinates(train_metrics, svm_models, 'Train metrics')\n",
    "plot_parallel_coordinates(test_metrics, svm_models, 'Test metrics')"
   ]
  },
  {
   "cell_type": "markdown",
   "metadata": {
    "deletable": false,
    "nbgrader": {
     "cell_type": "markdown",
     "checksum": "c8371d375172341bae48396445dae04d",
     "grade": true,
     "grade_id": "ex13",
     "locked": false,
     "points": 1,
     "schema_version": 3,
     "solution": true,
     "task": false
    }
   },
   "source": [
    "DOUBLE-CLICK AND WRITE YOUR ANSWER HERE"
   ]
  }
 ],
 "metadata": {
  "colab": {
   "collapsed_sections": [],
   "name": "Session I.ipynb",
   "provenance": []
  },
  "kernelspec": {
   "display_name": "Python 3 (ipykernel)",
   "language": "python",
   "name": "python3"
  },
  "language_info": {
   "codemirror_mode": {
    "name": "ipython",
    "version": 3
   },
   "file_extension": ".py",
   "mimetype": "text/x-python",
   "name": "python",
   "nbconvert_exporter": "python",
   "pygments_lexer": "ipython3",
   "version": "3.11.8"
  }
 },
 "nbformat": 4,
 "nbformat_minor": 4
}
